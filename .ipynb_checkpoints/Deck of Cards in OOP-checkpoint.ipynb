{
 "cells": [
  {
   "cell_type": "markdown",
   "metadata": {},
   "source": [
    "# OOP Cards"
   ]
  },
  {
   "cell_type": "markdown",
   "metadata": {},
   "source": [
    "## Examples"
   ]
  },
  {
   "cell_type": "code",
   "execution_count": null,
   "metadata": {},
   "outputs": [],
   "source": [
    "class Card:\n",
    "    def __init__(self, suit, number):\n",
    "        self._suit = suit # underscore means you cant access directly\n",
    "        self._number = number\n",
    "\n",
    "# How you want the card represented        \n",
    "    def __repr__(self):\n",
    "        return self._number + \" of \" + self._suit\n",
    "\n",
    "#Suit\n",
    "#Create a getter for suit\n",
    "    @property\n",
    "    def suit(self):\n",
    "        return self._suit\n",
    "#Create a setter for suit\n",
    "    @suit.setter\n",
    "    def suit(self, suit):\n",
    "        if suit in [\"Hearts\", \"Clubs\" , \"Spades\", \"Diamonds\"]:\n",
    "            self._suit = suit\n",
    "        else:\n",
    "            print(\"This is not a suit!\")\n",
    "#Number\n",
    "#Create a getter for number\n",
    "    @property\n",
    "    def number(self):\n",
    "        return self._number\n",
    "#Create a setter number \n",
    "    @suit.setter\n",
    "    def number(self, number):\n",
    "        if number in [ \"2\" , \"3\", \"4\",\"5\",\"6\",\"7\",\"8\",\"9\",\"10\", \"J\", \"Q\", \"K\", \"A\"]:\n",
    "            self._number = number\n",
    "        else:\n",
    "            print(\"This is not a card!\")\n"
   ]
  },
  {
   "cell_type": "code",
   "execution_count": null,
   "metadata": {},
   "outputs": [],
   "source": [
    "my_card = Card(\"Diamonds\", \"4\")\n",
    "print(my_card)"
   ]
  },
  {
   "cell_type": "code",
   "execution_count": null,
   "metadata": {},
   "outputs": [],
   "source": [
    "###### Define A Deck Class #####3\n",
    "class Deck:\n",
    "    def __init__(self):\n",
    "        self._cards =[]\n",
    "        self.populate()\n",
    "       \n",
    "    # Methods\n",
    "    def populate(self):\n",
    "        suits = [\"Hearts\", \"Clubs\" , \"Spades\", \"Diamonds\"]\n",
    "        numbers = [str(n) for n in range(2,11)] + [\"J\", \"Q\", \"K\", \"A\"]\n",
    "        self._cards = [ Card(s, n) for s in suits for n in numbers ]"
   ]
  },
  {
   "cell_type": "code",
   "execution_count": null,
   "metadata": {},
   "outputs": [],
   "source": [
    "my_deck = Deck()"
   ]
  },
  {
   "cell_type": "code",
   "execution_count": null,
   "metadata": {},
   "outputs": [],
   "source": [
    " print(my_deck._cards)"
   ]
  },
  {
   "cell_type": "code",
   "execution_count": null,
   "metadata": {},
   "outputs": [],
   "source": [
    "import random\n",
    "random.shuffle(my_deck._cards)\n",
    "print(my_deck._cards)"
   ]
  },
  {
   "cell_type": "markdown",
   "metadata": {},
   "source": [
    "## Full Code"
   ]
  },
  {
   "cell_type": "code",
   "execution_count": null,
   "metadata": {},
   "outputs": [],
   "source": [
    "import random\n",
    "\n",
    "class Card(object):\n",
    "    def __init__(self, suit, val):\n",
    "        self.suit = suit\n",
    "        self.value = val\n",
    "\n",
    "    # Implementing build in methods so that you can print a card object\n",
    "    def __unicode__(self):\n",
    "        return self.show()\n",
    "    def __str__(self):\n",
    "        return self.show()\n",
    "    def __repr__(self):\n",
    "        return self.show()\n",
    "        \n",
    "    def show(self):\n",
    "        if self.value == 1:\n",
    "            val = \"Ace\"\n",
    "        elif self.value == 11:\n",
    "            val = \"Jack\"\n",
    "        elif self.value == 12:\n",
    "            val = \"Queen\"\n",
    "        elif self.value == 13:\n",
    "            val = \"King\"\n",
    "        else:\n",
    "            val = self.value\n",
    "\n",
    "        return \"{} of {}\".format(val, self.suit)\n",
    "\n",
    "\n",
    "class Deck(object):\n",
    "    def __init__(self):\n",
    "        self.cards = []\n",
    "        self.build()\n",
    "\n",
    "    # Display all cards in the deck\n",
    "    def show(self):\n",
    "        for card in self.cards:\n",
    "            print card.show()\n",
    "\n",
    "    # Generate 52 cards\n",
    "    def build(self):\n",
    "        self.cards = []\n",
    "        for suit in ['Hearts', 'Clubs', 'Diamonds', 'Spades']:\n",
    "            for val in range(1,14):\n",
    "                self.cards.append(Card(suit, val))\n",
    "\n",
    "    # Shuffle the deck\n",
    "    def shuffle(self, num=1):\n",
    "        length = len(self.cards)\n",
    "        for _ in range(num):\n",
    "            # This is the fisher yates shuffle algorithm\n",
    "            for i in range(length-1, 0, -1):\n",
    "                randi = random.randint(0, i)\n",
    "                if i == randi:\n",
    "                    continue\n",
    "                self.cards[i], self.cards[randi] = self.cards[randi], self.cards[i]\n",
    "            # You can also use the build in shuffle method\n",
    "            # random.shuffle(self.cards)\n",
    "\n",
    "    # Return the top card\n",
    "    def deal(self):\n",
    "        return self.cards.pop()\n",
    "\n",
    "\n",
    "class Player(object):\n",
    "    def __init__(self, name):\n",
    "        self.name = name\n",
    "        self.hand = []\n",
    "\n",
    "    def sayHello(self):\n",
    "        print \"Hi! My name is {}\".format(self.name)\n",
    "        return self\n",
    "\n",
    "    # Draw n number of cards from a deck\n",
    "    # Returns true in n cards are drawn, false if less then that\n",
    "    def draw(self, deck, num=1):\n",
    "        for _ in range(num):\n",
    "            card = deck.deal()\n",
    "            if card:\n",
    "                self.hand.append(card)\n",
    "            else: \n",
    "                return False\n",
    "        return True\n",
    "\n",
    "    # Display all the cards in the players hand\n",
    "    def showHand(self):\n",
    "        print \"{}'s hand: {}\".format(self.name, self.hand)\n",
    "        return self\n",
    "\n",
    "    def discard(self):\n",
    "        return self.hand.pop()\n",
    "\n",
    "# Test making a Card\n",
    "# card = Card('Spades', 6)\n",
    "# print card\n",
    "\n",
    "# Test making a Deck\n",
    "myDeck = Deck()\n",
    "myDeck.shuffle()\n",
    "# deck.show()\n",
    "\n",
    "bob = Player(\"Bob\")\n",
    "bob.sayHello()\n",
    "bob.draw(myDeck, 5)\n",
    "bob.showHand()"
   ]
  }
 ],
 "metadata": {
  "hide_input": false,
  "kernelspec": {
   "display_name": "Python 3",
   "language": "python",
   "name": "python3"
  },
  "language_info": {
   "codemirror_mode": {
    "name": "ipython",
    "version": 3
   },
   "file_extension": ".py",
   "mimetype": "text/x-python",
   "name": "python",
   "nbconvert_exporter": "python",
   "pygments_lexer": "ipython3",
   "version": "3.7.6"
  },
  "toc": {
   "base_numbering": 1,
   "nav_menu": {},
   "number_sections": true,
   "sideBar": true,
   "skip_h1_title": false,
   "title_cell": "Table of Contents",
   "title_sidebar": "Contents",
   "toc_cell": false,
   "toc_position": {},
   "toc_section_display": true,
   "toc_window_display": true
  }
 },
 "nbformat": 4,
 "nbformat_minor": 4
}
