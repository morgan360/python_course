{
 "cells": [
  {
   "cell_type": "markdown",
   "metadata": {},
   "source": [
    "# Collections\n",
    "\n",
    "In this section we will be looking at collections of elements(things). Elements are stored in arrays as either **lists**, **dictionaries** or **tuples**.<br>\n",
    "A **list** is defined using square brackets and each element in a list is enclosed in quotes and separated with a comma (Except the last item)\n",
    "\n",
    "```Python\n",
    "\n",
    "borrowedBooks = ['The Road', 'The Grapes of Wrath', 'The Shark', 'War of the worlds']\n",
    "\n",
    "```\n",
    "A **dictionary** is a list of elements organized in key value pairs.  Just like in a word dictionary, you look for a specific term. In programming, it is called a **key**. The definition is its **value**. This is called a **KEY <> VALUE** pair.\n",
    "\n",
    "```python\n",
    "myDict = {\"Jenny\": 34, \"Livia\": 28, \"Paul\": 31}\n",
    "print(myDict[\"Jenny\"]) # -> 34\n",
    "\n",
    "```\n",
    "In Python, a **tuple** is similar to **List** except that the objects in tuple are immutable which means we cannot change the elements of a tuple once assigned. On the other hand, we can change the elements of a list. A **tuple** is defined using round brackets.\n",
    "\n",
    "```python\n",
    "    my_data = (\"hi\", \"hello\", \"bye\")\n",
    "    print(my_data)\n",
    "```\n"
   ]
  },
  {
   "cell_type": "markdown",
   "metadata": {},
   "source": [
    "## Lists"
   ]
  },
  {
   "cell_type": "code",
   "execution_count": null,
   "metadata": {},
   "outputs": [],
   "source": []
  }
 ],
 "metadata": {
  "kernelspec": {
   "display_name": "Python 3",
   "language": "python",
   "name": "python3"
  },
  "language_info": {
   "codemirror_mode": {
    "name": "ipython",
    "version": 3
   },
   "file_extension": ".py",
   "mimetype": "text/x-python",
   "name": "python",
   "nbconvert_exporter": "python",
   "pygments_lexer": "ipython3",
   "version": "3.7.6"
  },
  "toc": {
   "base_numbering": 1,
   "nav_menu": {},
   "number_sections": true,
   "sideBar": true,
   "skip_h1_title": false,
   "title_cell": "Table of Contents",
   "title_sidebar": "Contents",
   "toc_cell": false,
   "toc_position": {},
   "toc_section_display": true,
   "toc_window_display": true
  }
 },
 "nbformat": 4,
 "nbformat_minor": 4
}
