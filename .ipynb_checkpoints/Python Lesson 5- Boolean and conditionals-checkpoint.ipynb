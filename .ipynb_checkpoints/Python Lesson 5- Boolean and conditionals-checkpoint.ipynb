{
 "cells": [
  {
   "cell_type": "markdown",
   "metadata": {},
   "source": [
    "version 1.0"
   ]
  },
  {
   "cell_type": "markdown",
   "metadata": {},
   "source": [
    "# Booleans and Conditionals\n",
    "The Python comparison operators are:\n",
    "\n",
    "<table style=\"border:1px solid black\" align =\"left\">\n",
    "    <thead>\n",
    "            <th>Operator</th>\n",
    "            <th>Description</th>\n",
    "    </thead>\n",
    "    <tbody>\n",
    "        <tr>\n",
    "            <td>==</td>\n",
    "            <td>equal to</td>\n",
    "        </tr>\n",
    "        <tr>\n",
    "            <td>!= </td>\n",
    "            <td>not equal</td>\n",
    "        </tr>\n",
    "        <tr>\n",
    "            <td> > </td>\n",
    "            <td>greater than</td>\n",
    "        </tr>\n",
    "        <tr>\n",
    "            <td> < </td>\n",
    "            <td>less than</td>\n",
    "        </tr>\n",
    "        <tr>\n",
    "            <td>>=</td>\n",
    "            <td>greater than or equal to</td>\n",
    "        </tr>\n",
    "        <tr>\n",
    "            <td><= </td>\n",
    "            <td>less than or equal to</td>\n",
    "        </tr>\n",
    "    </tbody>\n",
    "</table>\n",
    "<br CLEAR=left>"
   ]
  },
  {
   "cell_type": "markdown",
   "metadata": {},
   "source": [
    "## If Statment"
   ]
  },
  {
   "cell_type": "code",
   "execution_count": null,
   "metadata": {},
   "outputs": [],
   "source": [
    "if True:\n",
    "    print(\"Tis true. Tis true, ’tis pity, And pity ’tis ’tis true\")"
   ]
  },
  {
   "cell_type": "code",
   "execution_count": null,
   "metadata": {},
   "outputs": [],
   "source": [
    "if False:\n",
    "    print(\"Tis true. Tis true, ’tis pity, And pity ’tis ’tis true\")"
   ]
  },
  {
   "cell_type": "code",
   "execution_count": null,
   "metadata": {},
   "outputs": [],
   "source": [
    "colour = 'red'\n",
    "if colour == 'red':\n",
    "    print('Red')"
   ]
  },
  {
   "cell_type": "code",
   "execution_count": null,
   "metadata": {},
   "outputs": [],
   "source": [
    "# if else ststment\n",
    "colour = 'red'\n",
    "if colour == 'red':\n",
    "    print('Red')\n",
    "else:\n",
    "     print('Not Red')"
   ]
  },
  {
   "cell_type": "code",
   "execution_count": null,
   "metadata": {},
   "outputs": [],
   "source": [
    "# if, elif, else ststments\n",
    "colour = 'black'\n",
    "if colour == 'red':\n",
    "    print('Red')\n",
    "elif colour == 'blue':\n",
    "    print('blue') \n",
    "elif colour == 'yellow':\n",
    "    print('yellow')   \n",
    "else:          # if all else failed\n",
    "     print('I am colour blind')"
   ]
  },
  {
   "cell_type": "markdown",
   "metadata": {},
   "source": [
    "## Range\n",
    "Used when you want to go through a loop a certain number of times"
   ]
  },
  {
   "cell_type": "code",
   "execution_count": null,
   "metadata": {
    "scrolled": true
   },
   "outputs": [],
   "source": [
    "for i in range(10):\n",
    "    print(i)"
   ]
  },
  {
   "cell_type": "code",
   "execution_count": 6,
   "metadata": {},
   "outputs": [
    {
     "name": "stdout",
     "output_type": "stream",
     "text": [
      "1, 2, 3, 4, 5, "
     ]
    }
   ],
   "source": [
    "# Printing inclusive range\n",
    "start = 1\n",
    "stop  = 5 \n",
    "step  = 1\n",
    "stop +=step #now stop is 6\n",
    "\n",
    "for i in range(start, stop, step):\n",
    "    print(i, end=', ')"
   ]
  },
  {
   "cell_type": "code",
   "execution_count": 5,
   "metadata": {},
   "outputs": [
    {
     "name": "stdout",
     "output_type": "stream",
     "text": [
      "2, 4, 6, 8, 10, "
     ]
    }
   ],
   "source": [
    "# Printing inclusive range\n",
    "start = 2\n",
    "stop  = 10 \n",
    "step  = 2\n",
    "stop +=step #now stop is 12\n",
    "\n",
    "for i in range(start, stop, step):\n",
    "    print(i, end=', ')"
   ]
  },
  {
   "cell_type": "code",
   "execution_count": 7,
   "metadata": {},
   "outputs": [
    {
     "name": "stdout",
     "output_type": "stream",
     "text": [
      "Negative number range\n",
      "-2, -4, -6, -8, "
     ]
    }
   ],
   "source": [
    "start = -2\n",
    "stop = -10\n",
    "step = -2\n",
    "print(\"Negative number range\")\n",
    "for number in range(start, stop, step):\n",
    "    print(number, end=', ')"
   ]
  },
  {
   "cell_type": "code",
   "execution_count": 8,
   "metadata": {},
   "outputs": [
    {
     "name": "stdout",
     "output_type": "stream",
     "text": [
      "-2, -1, 0, 1, 2, 3, 4, "
     ]
    }
   ],
   "source": [
    "# printing range from negative to positive\n",
    "for num in range(-2, 5, 1):\n",
    "    print(num, end=\", \")"
   ]
  },
  {
   "cell_type": "code",
   "execution_count": null,
   "metadata": {},
   "outputs": [],
   "source": [
    "print(\"Converting python range() to list\")\n",
    "even_list = list( range(2, 10, 2))\n",
    "print(\"printing list\", even_list)"
   ]
  },
  {
   "cell_type": "markdown",
   "metadata": {},
   "source": [
    "## SAQ 1 - Good and Bad Days\n",
    "Create a list of Days of the week, and two empty lists weekday = [] and weekend = []. Pop and allocate each element in the **Days of the week** list and add it to the appropriate list:  weekday or on the weekend.\n",
    "Arrange the days in natural order.\n",
    "```Python\n",
    "['Mon', 'Tue', 'Wed', 'Thu', 'Fri']\n",
    "['Sat', 'Sun ']\n",
    "\n",
    "```\n",
    "**Hint:** use range () function"
   ]
  },
  {
   "cell_type": "markdown",
   "metadata": {},
   "source": [
    "## Using Logical Operators in your if statement\n",
    "\n",
    "The Python logical operators are:\n",
    "\n",
    "<table style=\"border:1px solid black\" align =\"left\">\n",
    "    <thead>\n",
    "            <th>Operator</th>\n",
    "            <th>Description</th>\n",
    "    </thead>\n",
    "    <tbody>\n",
    "        <tr>\n",
    "            <td>and</td>\n",
    "            <td>Returns True if both statements are True</td>\n",
    "        </tr>\n",
    "        <tr>\n",
    "            <td>or</td>\n",
    "            <td>Returns True if one of the statements is True</td>\n",
    "        </tr>\n",
    "        <tr>\n",
    "            <td> not </td>\n",
    "            <td>Reverse the result, returns False if the result is True</td>\n",
    "        </tr>\n",
    "    </tbody>\n",
    "</table>\n",
    "<br CLEAR=left>\n"
   ]
  },
  {
   "cell_type": "code",
   "execution_count": null,
   "metadata": {},
   "outputs": [],
   "source": [
    "# Checking for two conditions\n",
    "today = 'Friday'\n",
    "weather = 'raining'\n",
    "\n",
    "if today == 'Friday' and weather == 'sunny':\n",
    "    print('Take the day off!')"
   ]
  },
  {
   "cell_type": "code",
   "execution_count": null,
   "metadata": {},
   "outputs": [],
   "source": [
    "# Checking for two conditions with more options\n",
    "today = 'Friday'\n",
    "weather = 'raining'\n",
    "\n",
    "if today == 'Friday' and weather == 'sunny':\n",
    "    print('Take the day off!')\n",
    "elif today == 'Friday' and weather == 'raining':\n",
    "     print('Work until 6pm!')\n",
    "else:\n",
    "    print('Keep up the good work')"
   ]
  },
  {
   "cell_type": "code",
   "execution_count": null,
   "metadata": {},
   "outputs": [],
   "source": []
  },
  {
   "cell_type": "markdown",
   "metadata": {},
   "source": [
    "## SAQ 2 - Acording to my Calculations\n",
    "Create a simple calculator that that takes in two values x and y and an operator (Multiplication '*\" or \"+\")\n",
    "and carries out the relevant calculation and prints the results.\n",
    "\n",
    "For example if the user puts in the values 3, 4 and the * sign the result will be  12."
   ]
  },
  {
   "cell_type": "code",
   "execution_count": null,
   "metadata": {},
   "outputs": [],
   "source": [
    "# Simple Calculator Code\n"
   ]
  },
  {
   "cell_type": "markdown",
   "metadata": {},
   "source": [
    "### What evaluates to False and what evaluates to True\n",
    "<ol>\n",
    "    <li>False</li>\n",
    "    <li>None</li>\n",
    "    <li>Zero of any numeric type</li>\n",
    "    <li>Any empty sequence [], ()</li>\n",
    "    <li>Any empty mapping(dictionary) {}</li>\n",
    "</ol>\n",
    "The **None** keyword is used to define a null value, or no value at all. **None** is not the same as 0, False, or an empty string. None is a datatype of its own (NoneType) and only **None** can be **None**."
   ]
  },
  {
   "cell_type": "code",
   "execution_count": 14,
   "metadata": {},
   "outputs": [
    {
     "name": "stdout",
     "output_type": "stream",
     "text": [
      "False\n"
     ]
    }
   ],
   "source": [
    "condition = False\n",
    "if condition:\n",
    "    print('True')\n",
    "else:\n",
    "    print('False')"
   ]
  },
  {
   "cell_type": "code",
   "execution_count": null,
   "metadata": {},
   "outputs": [],
   "source": [
    "condition = None\n",
    "if condition:\n",
    "    print('True')\n",
    "else:\n",
    "    print('False')"
   ]
  },
  {
   "cell_type": "code",
   "execution_count": null,
   "metadata": {},
   "outputs": [],
   "source": [
    "condition = ()\n",
    "if condition:\n",
    "    print('True')\n",
    "else:\n",
    "    print('False')"
   ]
  },
  {
   "cell_type": "markdown",
   "metadata": {},
   "source": [
    "These conditions are useful to check if there are any values in your data. For example a function may be supposed to return a list of objects. You should check to see if the objects are there."
   ]
  },
  {
   "cell_type": "code",
   "execution_count": null,
   "metadata": {},
   "outputs": [],
   "source": [
    "# Everything else is true\n",
    "condition = 'Something'\n",
    "if condition:\n",
    "    print('True')\n",
    "else:\n",
    "    print('False')"
   ]
  },
  {
   "cell_type": "markdown",
   "metadata": {},
   "source": [
    "# Loops and Iterations"
   ]
  },
  {
   "cell_type": "markdown",
   "metadata": {},
   "source": [
    "## Simple For Loop"
   ]
  },
  {
   "cell_type": "code",
   "execution_count": null,
   "metadata": {},
   "outputs": [],
   "source": [
    "nums =[1,2,3,4,5,6]"
   ]
  },
  {
   "cell_type": "code",
   "execution_count": null,
   "metadata": {},
   "outputs": [],
   "source": [
    "# Simple For statment\n",
    "for num in nums:\n",
    "    print(num)"
   ]
  },
  {
   "cell_type": "markdown",
   "metadata": {},
   "source": [
    "## Break and Continue"
   ]
  },
  {
   "cell_type": "code",
   "execution_count": null,
   "metadata": {},
   "outputs": [],
   "source": [
    "# Simple For statment\n",
    "for num in nums:\n",
    "    if(num==4):\n",
    "        break\n",
    "    print(num)"
   ]
  },
  {
   "cell_type": "code",
   "execution_count": null,
   "metadata": {},
   "outputs": [],
   "source": [
    "# Simple For statment\n",
    "for num in nums:\n",
    "    if(num==4):\n",
    "        print('found')\n",
    "        continue\n",
    "    print(num)"
   ]
  },
  {
   "cell_type": "markdown",
   "metadata": {},
   "source": [
    "## Inner loops"
   ]
  },
  {
   "cell_type": "code",
   "execution_count": null,
   "metadata": {},
   "outputs": [],
   "source": [
    "#\n",
    "nums =[1,2,3,4,5,6]\n",
    "string = 'abc'\n",
    "for num in nums:\n",
    "    for letter in string:\n",
    "        print (num,letter)"
   ]
  },
  {
   "cell_type": "code",
   "execution_count": null,
   "metadata": {},
   "outputs": [],
   "source": [
    "for i in range(10):\n",
    "    print(i)"
   ]
  },
  {
   "cell_type": "code",
   "execution_count": null,
   "metadata": {},
   "outputs": [],
   "source": [
    "# Range between indices\n",
    "for i in range(1, 10):\n",
    "    print(i)"
   ]
  },
  {
   "cell_type": "markdown",
   "metadata": {},
   "source": [
    "## While Loops\n",
    "While loops keep running until a condition is met or it meets a break statment."
   ]
  },
  {
   "cell_type": "code",
   "execution_count": null,
   "metadata": {},
   "outputs": [],
   "source": [
    "x= 0\n",
    "while x <= 10:\n",
    "    print(x)\n",
    "    x += 1"
   ]
  },
  {
   "cell_type": "code",
   "execution_count": null,
   "metadata": {},
   "outputs": [],
   "source": [
    "x= 0\n",
    "while x <= 10:\n",
    "    if x==5:\n",
    "        break\n",
    "    print(x)\n",
    "    x += 1"
   ]
  },
  {
   "cell_type": "markdown",
   "metadata": {},
   "source": [
    "## SAQ 3 - Not so Fast\n",
    "Write a loop that omits the letter s from the word \"fast\".\n"
   ]
  },
  {
   "cell_type": "code",
   "execution_count": 19,
   "metadata": {
    "scrolled": true
   },
   "outputs": [
    {
     "name": "stdout",
     "output_type": "stream",
     "text": [
      "f\n",
      "a\n",
      "t\n"
     ]
    }
   ],
   "source": [
    "# SAQ 3 not so fast\n",
    "for letter in 'fast':\n",
    "    if letter == 's':\n",
    "        continue\n",
    "    print(letter)\n"
   ]
  },
  {
   "attachments": {
    "image.png": {
     "image/png": "[encoded data removed]"
    }
   },
   "cell_type": "markdown",
   "metadata": {},
   "source": [
    "## SAQ 4 Loop the Loop\n",
    "Using a loop within a loop print the following:\n",
    "\n",
    "![image.png](attachment:image.png)\n",
    "\n",
    "**Note** Use the following print statment\n",
    "```python\n",
    "print('* ', end=\"\")\n",
    "```\n",
    "\n"
   ]
  },
  {
   "cell_type": "code",
   "execution_count": 20,
   "metadata": {},
   "outputs": [
    {
     "name": "stdout",
     "output_type": "stream",
     "text": [
      "\n",
      "* \n",
      "* * \n",
      "* * * \n",
      "* * * * \n",
      "* * * * * \n",
      "* * * * \n",
      "* * * \n",
      "* * \n",
      "* \n"
     ]
    }
   ],
   "source": [
    "# SAQ 4 Loop the Loop\n",
    "n=5;\n",
    "for i in range(n):\n",
    "    for j in range(i):\n",
    "        print ('* ', end=\"\")\n",
    "    print('')\n",
    "for i in range(n,0,-1):\n",
    "    for j in range(i):\n",
    "        print('* ', end=\"\")\n",
    "    print('')\n"
   ]
  },
  {
   "cell_type": "code",
   "execution_count": null,
   "metadata": {},
   "outputs": [],
   "source": []
  }
 ],
 "metadata": {
  "hide_input": false,
  "kernelspec": {
   "display_name": "Python 3",
   "language": "python",
   "name": "python3"
  },
  "language_info": {
   "codemirror_mode": {
    "name": "ipython",
    "version": 3
   },
   "file_extension": ".py",
   "mimetype": "text/x-python",
   "name": "python",
   "nbconvert_exporter": "python",
   "pygments_lexer": "ipython3",
   "version": "3.7.6"
  },
  "toc": {
   "base_numbering": 1,
   "nav_menu": {},
   "number_sections": true,
   "sideBar": true,
   "skip_h1_title": false,
   "title_cell": "Table of Contents",
   "title_sidebar": "Contents",
   "toc_cell": false,
   "toc_position": {
    "height": "calc(100% - 180px)",
    "left": "10px",
    "top": "150px",
    "width": "288px"
   },
   "toc_section_display": true,
   "toc_window_display": true
  }
 },
 "nbformat": 4,
 "nbformat_minor": 4
}
