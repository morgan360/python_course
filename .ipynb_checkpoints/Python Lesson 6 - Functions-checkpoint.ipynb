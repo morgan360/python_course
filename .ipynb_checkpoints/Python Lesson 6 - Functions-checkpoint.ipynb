{
 "cells": [
  {
   "cell_type": "markdown",
   "metadata": {},
   "source": [
    "version: 1.0"
   ]
  },
  {
   "cell_type": "markdown",
   "metadata": {},
   "source": [
    "# Functions\n",
    "In this lesson we will be learning about functions. Functions are basically some instructions packaged together that perform a specific task. Use the def keyword to define a function. The brackets in the function are used to add parameters to your function call. (see below)"
   ]
  },
  {
   "cell_type": "code",
   "execution_count": null,
   "metadata": {},
   "outputs": [],
   "source": [
    "def hello_func():\n",
    "    pass # The pass function is a placeholder and does nothing"
   ]
  },
  {
   "cell_type": "code",
   "execution_count": null,
   "metadata": {},
   "outputs": [],
   "source": [
    "def hello_func():\n",
    "   print(\"This is a function\")"
   ]
  },
  {
   "cell_type": "code",
   "execution_count": null,
   "metadata": {},
   "outputs": [],
   "source": [
    "# To run a function just type the name followed by the brackets\n",
    "\n",
    "hello_func()"
   ]
  },
  {
   "cell_type": "markdown",
   "metadata": {},
   "source": [
    "One of the benefits of functions is that they allow us to reuse code without repeating ourselves so let's say for example that we had to print out some text at several locations throughout our program"
   ]
  },
  {
   "cell_type": "code",
   "execution_count": null,
   "metadata": {},
   "outputs": [],
   "source": [
    "# You can run the same function as often as you wish anywhere in your program.\n",
    "hello_func()\n",
    "hello_func()\n",
    "hello_func()\n",
    "hello_func()\n",
    "hello_func()\n",
    "#  To change the function you only need to change it in the definitiion"
   ]
  },
  {
   "cell_type": "markdown",
   "metadata": {},
   "source": [
    "## DRY\n",
    "One of the great advantages of functions is that once you change the function the changes are seen everywhere that the function is called. This is called keeping your code **DRY** which stands for Don't Repeat Yourself. It's a common mistake for people new to programming to repeat the same things throughout their code when really they could either put their code into certain variables or functions so that it's in a single location."
   ]
  },
  {
   "cell_type": "markdown",
   "metadata": {},
   "source": [
    "## Return Statement\n",
    "You can think of a function  like a black box you don't need to know exactly how it's doing what it's doing you're mainly concerned about the input and the return value. A return statement is used to end the execution of the function call and “returns” the result (value of the expression following the return keyword) to the caller. The statements after the return statements are not executed. If the return statement is without any expression, then the special value None is returned."
   ]
  },
  {
   "cell_type": "code",
   "execution_count": null,
   "metadata": {},
   "outputs": [],
   "source": [
    "# You must return the function if you want the result.\n",
    "def add(x, y):\n",
    "    total = x + y\n",
    "    #return total\n",
    "\n",
    "x = add(2,3)\n",
    "print(x)"
   ]
  },
  {
   "cell_type": "code",
   "execution_count": null,
   "metadata": {},
   "outputs": [],
   "source": [
    "# A shortned version\n",
    "def add(x, y):\n",
    "    return x + y\n",
    "# print(add(3,7))"
   ]
  },
  {
   "cell_type": "code",
   "execution_count": null,
   "metadata": {},
   "outputs": [],
   "source": [
    "def hello_func():\n",
    "    return \"This what I am returning\""
   ]
  },
  {
   "cell_type": "code",
   "execution_count": null,
   "metadata": {
    "scrolled": false
   },
   "outputs": [],
   "source": [
    "hello_func()"
   ]
  },
  {
   "cell_type": "code",
   "execution_count": null,
   "metadata": {
    "scrolled": true
   },
   "outputs": [],
   "source": [
    "print(hello_func())"
   ]
  },
  {
   "cell_type": "code",
   "execution_count": null,
   "metadata": {},
   "outputs": [],
   "source": [
    "# Function Methods\n",
    "print(len(hello_func()))\n",
    "      \n",
    "print(hello_func().upper())"
   ]
  },
  {
   "cell_type": "code",
   "execution_count": null,
   "metadata": {},
   "outputs": [],
   "source": [
    "# Multiple return statments\n",
    "def type_of_int(i):\n",
    "    if i % 2 == 0:\n",
    "        return 'even'\n",
    "    else:\n",
    "        return 'odd'"
   ]
  },
  {
   "cell_type": "code",
   "execution_count": null,
   "metadata": {},
   "outputs": [],
   "source": [
    "print(type_of_int(3))"
   ]
  },
  {
   "cell_type": "code",
   "execution_count": null,
   "metadata": {},
   "outputs": [],
   "source": [
    "# returning multiple values\n",
    "def return_multiple_values():\n",
    "    return 1, 2, 3\n",
    " \n",
    " \n",
    "print(return_multiple_values())\n",
    "print(type(return_multiple_values()))"
   ]
  },
  {
   "cell_type": "markdown",
   "metadata": {},
   "source": [
    "## Chaining Functions\n",
    "Don't get caught up on understanding every detail of what every function does just focus on the input and what is returned. For example when we call the **len()** function on a string. If we print out len() of a string. When we run this, it just returns an integer that is the number of characters in our string. We have no idea what the code that produces that result looks like but we do know that we passed in a string and that it returned an integer. Looking at functions in this way we'll help you become better when working with Python, because we can treat the return value just like the data type that it is. Understanding this will allow us to chain together some functionality."
   ]
  },
  {
   "cell_type": "code",
   "execution_count": null,
   "metadata": {},
   "outputs": [],
   "source": [
    "print(len (\"morgan\"))"
   ]
  },
  {
   "cell_type": "markdown",
   "metadata": {},
   "source": [
    "## Sending Arguments to Functions\n"
   ]
  },
  {
   "cell_type": "code",
   "execution_count": null,
   "metadata": {},
   "outputs": [],
   "source": [
    "def hello_pal(greeting):\n",
    "    print('Hello ' + greeting)\n"
   ]
  },
  {
   "cell_type": "code",
   "execution_count": null,
   "metadata": {},
   "outputs": [],
   "source": [
    "name = 'Morgan'\n",
    "hello_pal(name)"
   ]
  },
  {
   "cell_type": "code",
   "execution_count": null,
   "metadata": {},
   "outputs": [],
   "source": [
    "def hello_pal(greeting, name):\n",
    "    print(greeting + ' ' + name)"
   ]
  },
  {
   "cell_type": "code",
   "execution_count": null,
   "metadata": {},
   "outputs": [],
   "source": [
    "name = 'Morgan'\n",
    "greeting = 'Hi'\n",
    "hello_pal(greeting, name)"
   ]
  },
  {
   "cell_type": "markdown",
   "metadata": {},
   "source": [
    "## SAQ1 How many letters make up a word?\n",
    "\n",
    "Create a function that receives a word, from an input, and returns the number of letters in the word.\n",
    "\n"
   ]
  },
  {
   "cell_type": "code",
   "execution_count": null,
   "metadata": {},
   "outputs": [],
   "source": [
    "# How any letters make up a word? Code"
   ]
  },
  {
   "cell_type": "markdown",
   "metadata": {
    "heading_collapsed": true
   },
   "source": [
    "## SAQ 2 : Eyes of a blue dog\n",
    "Using an Input statement **imput( )**, and ask someone for the name and eye colour of their pet. Then using a function you have created, greet them with their pet's name and eye colour."
   ]
  },
  {
   "cell_type": "markdown",
   "metadata": {},
   "source": [
    "## Default Arguments"
   ]
  },
  {
   "cell_type": "code",
   "execution_count": null,
   "metadata": {},
   "outputs": [],
   "source": [
    "def hello_pal(greeting, name = 'A. N. Other'): # Default name for this attribute\n",
    "    print(greeting + ' ' + name)"
   ]
  },
  {
   "cell_type": "code",
   "execution_count": null,
   "metadata": {},
   "outputs": [],
   "source": [
    "greeting = 'Hi' \n",
    "# name = 'Morgan'\n",
    "hello_pal(greeting, name)\n",
    "hello_pal(greeting)"
   ]
  },
  {
   "cell_type": "markdown",
   "metadata": {},
   "source": [
    "## Args and Kwargs (Advanced Topic)\n",
    "\n",
    "In Python, we can pass a variable number of arguments to a function using special symbols. There are two special symbols:\n",
    "<ol>\n",
    "    <li>**args** (Non Keyword Arguments)</li>\n",
    "    <li>**kwargs** (Keyword Arguments)</li>\n",
    "</ol>\n",
    "<blockquote>We use *args and *kwargs* as an argument when we are unsure about the number of arguments to pass to the functions.</blockquote>\n",
    "Use args and kwargs (key word arguments) to pass lists and dictionaries to a function."
   ]
  },
  {
   "cell_type": "code",
   "execution_count": null,
   "metadata": {},
   "outputs": [],
   "source": [
    "# The problem with argument definitiions\n",
    "def summer(x,y):\n",
    "    z= x+y\n",
    "    print(z)\n",
    "    \n",
    "summer(5,6)\n",
    "# summer(2,3,4)\n"
   ]
  },
  {
   "cell_type": "code",
   "execution_count": null,
   "metadata": {},
   "outputs": [],
   "source": [
    "# Using Args note the * on the variable\n",
    "def adder(*num):\n",
    "    sum = 0\n",
    "    \n",
    "    for n in num:\n",
    "        sum = sum + n\n",
    "\n",
    "    print(\"Sum:\",sum)\n",
    "\n",
    "adder(3,5)\n",
    "adder(4,5,6,7)\n",
    "adder(1,2,3,5,6)"
   ]
  },
  {
   "cell_type": "code",
   "execution_count": null,
   "metadata": {},
   "outputs": [],
   "source": [
    "# Using kwargs. Note the double **\n",
    "def intro(**data): \n",
    "    print(\"\\nData type of argument:\",type(data))\n",
    "\n",
    "    for key, value in data.items():\n",
    "        print(\"{} is {}\".format(key,value))\n",
    "\n",
    "#call the function\n",
    "\n",
    "intro(Firstname=\"Sita\", Lastname=\"Sharma\", Age=22, Phone=1234567890)\n",
    "intro(Firstname=\"John\", Lastname=\"Wood\", Email=\"johnwood@nomail.com\", Country=\"Wakanda\", Age=25, Phone=9876543210)\n",
    "\n"
   ]
  },
  {
   "cell_type": "code",
   "execution_count": null,
   "metadata": {},
   "outputs": [],
   "source": [
    "def student_information(*args,**kwargs):\n",
    "    print(args)\n",
    "    print(kwargs)"
   ]
  },
  {
   "cell_type": "code",
   "execution_count": null,
   "metadata": {},
   "outputs": [],
   "source": [
    "student_information(\"History\", \"Maths\", \"Irish\", name= \"Morgan\", Age = 22)"
   ]
  },
  {
   "cell_type": "code",
   "execution_count": null,
   "metadata": {},
   "outputs": [],
   "source": [
    "# Without the stars the information is not stored as a tuple \n",
    "courses = [\"Irish\",\"Geography\",\"History\"]\n",
    "info ={'name': 'john', 'age': 22}\n",
    "student_information(courses,info)"
   ]
  },
  {
   "cell_type": "markdown",
   "metadata": {},
   "source": [
    "## Doctrings\n",
    "In addition to commenting on your code, you should also use Docstrings to explain functions, methods  and classes. This will enable you or anyone else to understand what is the purpose of a particular function etc. Use a dunder to retrieve the information. (Double underscore)"
   ]
  },
  {
   "cell_type": "code",
   "execution_count": null,
   "metadata": {},
   "outputs": [],
   "source": [
    "def square(a):\n",
    "    '''Returnes the argument to the power of itself. for example when a = 3 the answer is 3 to the power of 3 i.e. 27 '''\n",
    "    return a**a"
   ]
  },
  {
   "cell_type": "code",
   "execution_count": null,
   "metadata": {},
   "outputs": [],
   "source": [
    "print(square.__doc__)"
   ]
  },
  {
   "cell_type": "code",
   "execution_count": null,
   "metadata": {},
   "outputs": [],
   "source": [
    "x = 3\n",
    "print(square(x))"
   ]
  },
  {
   "cell_type": "code",
   "execution_count": null,
   "metadata": {},
   "outputs": [],
   "source": [
    "import random\n",
    "print(random.__doc__)"
   ]
  },
  {
   "cell_type": "code",
   "execution_count": null,
   "metadata": {},
   "outputs": [],
   "source": [
    "print(random.random())"
   ]
  },
  {
   "cell_type": "code",
   "execution_count": null,
   "metadata": {},
   "outputs": [],
   "source": [
    "# Think of a number between 0 and 9\n",
    "print(\"Random integer is\", random.randint(0, 9))"
   ]
  },
  {
   "cell_type": "code",
   "execution_count": null,
   "metadata": {},
   "outputs": [],
   "source": [
    "suits = [\"spade\", \"club\", \"heart\", \"diamond\"]\n",
    "faces = [\"2\", \"3\", \"4\", \"5\", \"6\", \"7\", \"8\", \"9\", \"10\", \"J\", \"Q\", \"K\", \"A\"]"
   ]
  },
  {
   "cell_type": "code",
   "execution_count": null,
   "metadata": {},
   "outputs": [],
   "source": [
    "# using an inner loop to create a deck of cards\n",
    "cards = []\n",
    "for suit in suits:\n",
    "    for face in faces:\n",
    "        cards.append((face, suit ))\n",
    "#print(*cards, sep=\"\\n\")"
   ]
  },
  {
   "cell_type": "code",
   "execution_count": null,
   "metadata": {
    "scrolled": false
   },
   "outputs": [],
   "source": [
    "print(\"Pick 5 Random element from list:\", random.sample(cards, 5))"
   ]
  },
  {
   "cell_type": "markdown",
   "metadata": {},
   "source": [
    "## SAQ3 - How to make money from programming.\n",
    "##### Part (a)\n",
    "Shuffle the deck of cards and print the output.\n",
    "```python\n",
    "random.shuffle() \n",
    "``` \n",
    "\n",
    "The best way to print is use the following:\n",
    "\n",
    "```\n",
    "print(*cards, sep=\"\\n\")\n",
    "```\n",
    "\n",
    "##### Part (b)\n",
    "Modify the above game so that two people are dealt cards, BUT the second person cannot get any of the same cards as the first. Hint fo r removing cards:\n",
    "```python\n",
    "# animals list\n",
    "animals = [ ('cat'), ('dog'), ('rabbit'), ('guinea pig')]\n",
    "\n",
    "# 'rabbit' is removed\n",
    "animals.remove('dog')\n",
    "\n",
    "# Updated animals List\n",
    "print('Updated animals list: ', animals)\n",
    "```\n",
    "\n"
   ]
  },
  {
   "cell_type": "code",
   "execution_count": null,
   "metadata": {},
   "outputs": [],
   "source": [
    "# Put your answer here"
   ]
  },
  {
   "cell_type": "markdown",
   "metadata": {},
   "source": [
    "## Bring it all together\n",
    "\n",
    "A doc string e.g. : <blockquote> \"\"\"Return true for a leap year, falls for non-leap years\"\"\"</blockquote> Documents for the function is supposed to do. It is good practice to do this for every function."
   ]
  },
  {
   "cell_type": "code",
   "execution_count": null,
   "metadata": {},
   "outputs": [],
   "source": [
    "# Number of days per month. First value a placeholder for indexing purposes.\n",
    "month_days = [0,31,28,31,30,31,30,31,31,30,31,30,31]\n",
    "\n",
    "def is_leap(year):\n",
    "    \"\"\"Return true for a leap year, false for non-leap years\"\"\"\n",
    "    return year%4 == 0 and (year%100 != 0 or year %400 ==0)\n",
    "def days_in_month (year, month):\n",
    "    \"\"\"Return the number of days in that month in that year.\"\"\"\n",
    "    if not 1 <= month <= 12:\n",
    "        return \"Invalid Month\"\n",
    "    if month == 2 and is_leap(year):\n",
    "        return 29\n",
    "    return month_days[month]\n"
   ]
  },
  {
   "cell_type": "code",
   "execution_count": null,
   "metadata": {},
   "outputs": [],
   "source": [
    "print(is_leap.__doc__)\n",
    "print(days_in_month(2020,2))"
   ]
  },
  {
   "cell_type": "markdown",
   "metadata": {},
   "source": [
    "## SAQ 4 : How to keep positive\n",
    "Create a program that accepts a positive integer **\"n\"** as its input parameter.\n",
    "and returns the list of all positive divisors of **\"n\"**.\n",
    "For Example: The output on calling the function with a parameter of 100, would be\n",
    "[1, 2, 4, 5, 10, 20, 25, 50, 100]\n"
   ]
  },
  {
   "cell_type": "code",
   "execution_count": null,
   "metadata": {},
   "outputs": [],
   "source": []
  }
 ],
 "metadata": {
  "hide_input": false,
  "kernelspec": {
   "display_name": "Python 3",
   "language": "python",
   "name": "python3"
  },
  "language_info": {
   "codemirror_mode": {
    "name": "ipython",
    "version": 3
   },
   "file_extension": ".py",
   "mimetype": "text/x-python",
   "name": "python",
   "nbconvert_exporter": "python",
   "pygments_lexer": "ipython3",
   "version": "3.7.6"
  },
  "toc": {
   "base_numbering": 1,
   "nav_menu": {},
   "number_sections": true,
   "sideBar": true,
   "skip_h1_title": false,
   "title_cell": "Table of Contents",
   "title_sidebar": "Contents",
   "toc_cell": false,
   "toc_position": {},
   "toc_section_display": true,
   "toc_window_display": true
  }
 },
 "nbformat": 4,
 "nbformat_minor": 4
}
