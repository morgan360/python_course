{
 "cells": [
  {
   "cell_type": "markdown",
   "metadata": {},
   "source": [
    "# Turtle Playground"
   ]
  },
  {
   "cell_type": "markdown",
   "metadata": {},
   "source": [
    "Turtle is library that you can import into Juypter Notebooks. You use Python commands to play with your turtle. On this course we will be using Turtle to illustrate a number of programming concepts. On week four we will have a small competition to see(by vote)the nicest turtle drawing.\n",
    "\n",
    "Turtle should work straight off on Anacinda 3. However if it does not work, then we may have to use the extension.  The extension is installed useing the following commands in the Anaconda run cmd prompt.<br>\n",
    "<code>$ pip install ipyturtle <br>\n",
    "$ jupyter nbextension enable --py --sys-prefix ipyturtle</code>\n",
    "\n",
    "Turtle Docummentation is available at [Turtle Docs](https://docs.python.org/3.3/library/turtle.html?highlight=turtle)."
   ]
  },
  {
   "cell_type": "markdown",
   "metadata": {},
   "source": [
    "## Turtle's first steps:\n",
    "The first thing you have to do is import an already prebuilt program **(library)** called turtle using import turtle"
   ]
  },
  {
   "cell_type": "code",
   "execution_count": null,
   "metadata": {},
   "outputs": [],
   "source": [
    "import turtle # import the library\n",
    "import time # Library for time functions\n",
    "m = turtle.Turtle() #Create a new turtle called m\n",
    "#turtle.clearscreen() # Clears the screen after turtle is fininshe\n",
    "m.color(\"red\") # Make turtle red in colour\n",
    "m.pensize(5) #Set the tickness of the pen\n",
    "#m.shape(\"turtle\")\n",
    "m.forward(100)\n",
    "m.left(90)\n",
    "m.forward(100)\n",
    "m.left(90)\n",
    "m.forward(200)\n",
    "m.left(90)\n",
    "m.forward(200)\n",
    "m.color(\"blue\")\n",
    "m.left(90)\n",
    "m.forward(200)\n",
    "time.sleep(5) \n",
    "turtle.done\n",
    "turtle.clearscreen() # Clears the screen after turtle is fininshe"
   ]
  },
  {
   "cell_type": "markdown",
   "metadata": {},
   "source": [
    "## Using variables "
   ]
  },
  {
   "cell_type": "code",
   "execution_count": null,
   "metadata": {},
   "outputs": [],
   "source": [
    "import turtle\n",
    "m = turtle.Turtle()\n",
    "m2 = turtle.Turtle()\n",
    "m.color(\"red\")\n",
    "m2.color(\"black\")\n",
    "m.pensize(5)\n",
    "#m.shape(\"turtle\")\n",
    "f= 50 # Define a variable f for forward\n",
    "t= 45  # Define a variable t for turn\n",
    "m.forward(f)\n",
    "m2.backward(f)\n",
    "m.left(t)\n",
    "m.forward(f)\n",
    "m2.backward(f)\n",
    "m.left(t)\n",
    "m.forward(f)\n",
    "m.left(t)\n",
    "m.forward(f)\n",
    "m.color(\"green\")\n",
    "m.left(t)\n",
    "m.forward(f)\n",
    "time.sleep(5)\n",
    "m.clear()"
   ]
  },
  {
   "cell_type": "code",
   "execution_count": null,
   "metadata": {},
   "outputs": [],
   "source": [
    "n = 10\n",
    "for i in range(0, n):\n",
    "    print(i)\n",
    "    print(\"mat\")\n",
    "print(\"end\")"
   ]
  },
  {
   "cell_type": "markdown",
   "metadata": {},
   "source": [
    "## Using the While Loop"
   ]
  },
  {
   "cell_type": "code",
   "execution_count": null,
   "metadata": {},
   "outputs": [],
   "source": [
    "import turtle\n",
    "import time\n",
    "m = turtle.Turtle()\n",
    "m.color(\"red\")\n",
    "m.pensize(5)\n",
    "m.shape(\"turtle\")\n",
    "f= 100\n",
    "t= 90\n",
    "\n",
    "# Python program to illustrate \n",
    "# while loop \n",
    "m.color(\"red\")\n",
    "count = 0\n",
    "while (count < 10):     \n",
    "    count = count + 1\n",
    "    m.forward(f)\n",
    "    m.left(t)\n",
    "    f= f+5\n",
    "time.sleep(5)    \n",
    "turtle.clearscreen()"
   ]
  },
  {
   "cell_type": "code",
   "execution_count": null,
   "metadata": {},
   "outputs": [],
   "source": [
    "import turtle\n",
    "import time\n",
    "m = turtle.Turtle()\n",
    "m.pencolor(\"red\")\n",
    "m.pensize(5)\n",
    "m.shape(\"turtle\")\n",
    "f= 100\n",
    "t= 90\n",
    "\n",
    "# Python program to illustrate \n",
    "# while loop \n",
    "count = 0\n",
    "while (count < 100):     \n",
    "    count = count + 1\n",
    "    m.forward(f)\n",
    "    m.left(t)\n",
    "    f= f+5\n",
    "time.sleep(3)    \n",
    "turtle.clearscreen()"
   ]
  },
  {
   "cell_type": "code",
   "execution_count": null,
   "metadata": {},
   "outputs": [],
   "source": [
    "if(count==5):\n",
    "    m.color(\"blue\")\n",
    "    "
   ]
  },
  {
   "cell_type": "code",
   "execution_count": null,
   "metadata": {},
   "outputs": [],
   "source": [
    "# Prints all letters except 'e' and 's' \n",
    "for letter in 'geeksforgeeks':  \n",
    "    if letter == 'e' or letter == 's': \n",
    "         continue\n",
    "    print ('Current Letter :', letter )\n",
    "    var = 10"
   ]
  },
  {
   "cell_type": "markdown",
   "metadata": {},
   "source": [
    "## Using the Range Function"
   ]
  },
  {
   "cell_type": "markdown",
   "metadata": {},
   "source": [
    "### Time library"
   ]
  },
  {
   "cell_type": "code",
   "execution_count": null,
   "metadata": {},
   "outputs": [],
   "source": [
    "import time\n",
    "time.sleep(5)\n",
    "print(\"morgan\")"
   ]
  },
  {
   "cell_type": "markdown",
   "metadata": {},
   "source": [
    "### Range function"
   ]
  },
  {
   "cell_type": "code",
   "execution_count": null,
   "metadata": {},
   "outputs": [],
   "source": [
    "# Range Function!\n",
    "# runs fro, 0 to 3\n",
    "n = 4\n",
    "for i in range(0, n):\n",
    "  print(i)"
   ]
  },
  {
   "cell_type": "code",
   "execution_count": null,
   "metadata": {},
   "outputs": [],
   "source": [
    "import turtle\n",
    "import time\n",
    "m = turtle.Turtle()\n",
    "m.color(\"blue\")\n",
    "m.pensize(5)\n",
    "m.shape(\"turtle\")\n",
    "f= 100\n",
    "t= 90\n",
    "# screen.bgcolor(\"orange\")\n",
    "# Python program to illustrate \n",
    "# Range Function \n",
    "\n",
    "# Range Function!\n",
    "n = 20\n",
    "for i in range(0, n):\n",
    "    m.forward(f)\n",
    "    m.left(t)\n",
    "    f= f+5\n",
    "time.sleep(3)   \n",
    "   \n",
    "turtle.clearscreen()"
   ]
  },
  {
   "cell_type": "markdown",
   "metadata": {},
   "source": [
    "## Creating your own function"
   ]
  },
  {
   "cell_type": "code",
   "execution_count": null,
   "metadata": {},
   "outputs": [],
   "source": [
    "import turtle\n",
    "import time\n",
    "m = turtle.Turtle()\n",
    "m.color(\"red\")\n",
    "m.pensize(5)\n",
    "m.shape(\"turtle\")\n",
    "f= 100\n",
    "t= 90\n",
    "turtle.clearscreen()\n",
    "# Define your own function called \"main\"\n",
    "def main():\n",
    " m.forward(200)\n",
    " m.right(120)\n",
    " m.forward(200)\n",
    "\n",
    "# Define a range\n",
    "x = range(6)\n",
    "\n",
    "for n in x:\n",
    "    main() #Run the main functiion 6 times\n",
    "    time.sleep(2)   \n",
    "    m.clear()"
   ]
  },
  {
   "cell_type": "markdown",
   "metadata": {},
   "source": [
    "## A function that accepts parameters"
   ]
  },
  {
   "cell_type": "code",
   "execution_count": null,
   "metadata": {},
   "outputs": [],
   "source": [
    "import turtle\n",
    "import time\n",
    "m = turtle.Turtle()\n",
    "m.color(\"red\")\n",
    "m.pensize(5)\n",
    "m.shape(\"turtle\")\n",
    "f= 100\n",
    "t= 120\n",
    "\n",
    "\n",
    "def main(f,t): #f and t values are passed to the function each time it is called\n",
    " m.forward(f)\n",
    " m.right(t)\n",
    " m.forward(f)\n",
    "\n",
    "x = range(6) #Calling the function 6 times\n",
    "for n in x:\n",
    "  main(f,t)"
   ]
  },
  {
   "cell_type": "markdown",
   "metadata": {},
   "source": [
    "## Turtle Sunshine"
   ]
  },
  {
   "cell_type": "code",
   "execution_count": null,
   "metadata": {},
   "outputs": [],
   "source": [
    "from turtle import *\n",
    "color('red', 'yellow')\n",
    "begin_fill()\n",
    "while True:\n",
    "    forward(200)\n",
    "    left(170)\n",
    "    if abs(pos()) < 1:\n",
    "        break\n",
    "end_fill()\n",
    "done()"
   ]
  },
  {
   "cell_type": "code",
   "execution_count": null,
   "metadata": {},
   "outputs": [],
   "source": [
    "# Range Function!\n",
    "# runs fro, 0 to 3\n",
    "n = 4\n",
    "for i in range(0, n):\n",
    "  print(i)"
   ]
  },
  {
   "cell_type": "markdown",
   "metadata": {},
   "source": [
    "## Turtle Events\n",
    "Turtle can listen out for events and call a function when the event occurs. Examples of events are key press or mouse clicks."
   ]
  },
  {
   "cell_type": "code",
   "execution_count": null,
   "metadata": {},
   "outputs": [],
   "source": [
    "# The following is an example of controling your  turtle using keys and a mouse\n",
    "\n",
    "import turtle\n",
    "import random\n",
    "from turtle import *\n",
    "import time\n",
    "turtle.clearscreen()\n",
    "\n",
    "colours =[\"red\", \"orange\",\"yellow\", \"green\", \"blue\", \"black\", \"grey\"] # a list of colours\n",
    "m = turtle.Turtle()\n",
    "m.color(\"black\")\n",
    "m.speed(0)\n",
    "m.pensize(5)\n",
    "m.shape(\"turtle\")\n",
    "\n",
    "# define your functions for keys\n",
    "def up():\n",
    "    m.setheading(90)\n",
    "    m.forward(100)\n",
    "def down():\n",
    "    m.setheading(270)\n",
    "    m.forward(100)\n",
    "def left():\n",
    "    m.setheading(180)\n",
    "    m.forward(100)\n",
    "def right():\n",
    "    m.setheading(0)\n",
    "    m.forward(100)\n",
    "\n",
    "# Define your mouse clicks\n",
    "def clickleft(x,y):\n",
    "    m.color(random.choice(colours))\n",
    "\n",
    "def clickright(x,y):\n",
    "    m.stamp()\n",
    "       \n",
    "    \n",
    "# listen for events\n",
    "turtle.onscreenclick(clickleft, 1)\n",
    "turtle.onscreenclick(clickright, 2)\n",
    "\n",
    "turtle.listen()  \n",
    "turtle.onkey(up,'Up')    \n",
    "turtle.onkey(down,'Down')\n",
    "turtle.onkey(left,'Left')\n",
    "turtle.onkey(right,'Right')\n",
    "\n",
    "turtle.mainloop()"
   ]
  },
  {
   "cell_type": "code",
   "execution_count": null,
   "metadata": {},
   "outputs": [],
   "source": [
    "# Turtle Write\n",
    "\n",
    "import turtle\n",
    "import time\n",
    "m = turtle.Turtle()\n",
    "\n",
    "turtle.color('deep pink')\n",
    "style = ('Courier', 30, 'italic')\n",
    "turtle.write('Hello!', font=style, align='center')\n",
    "turtle.hideturtle()"
   ]
  },
  {
   "cell_type": "code",
   "execution_count": null,
   "metadata": {},
   "outputs": [],
   "source": []
  }
 ],
 "metadata": {
  "hide_input": false,
  "kernelspec": {
   "display_name": "Python 3",
   "language": "python",
   "name": "python3"
  },
  "language_info": {
   "codemirror_mode": {
    "name": "ipython",
    "version": 3
   },
   "file_extension": ".py",
   "mimetype": "text/x-python",
   "name": "python",
   "nbconvert_exporter": "python",
   "pygments_lexer": "ipython3",
   "version": "3.7.6"
  },
  "toc": {
   "base_numbering": 1,
   "nav_menu": {},
   "number_sections": true,
   "sideBar": true,
   "skip_h1_title": false,
   "title_cell": "Table of Contents",
   "title_sidebar": "Contents",
   "toc_cell": false,
   "toc_position": {
    "height": "calc(100% - 180px)",
    "left": "10px",
    "top": "150px",
    "width": "197px"
   },
   "toc_section_display": true,
   "toc_window_display": false
  }
 },
 "nbformat": 4,
 "nbformat_minor": 4
}
