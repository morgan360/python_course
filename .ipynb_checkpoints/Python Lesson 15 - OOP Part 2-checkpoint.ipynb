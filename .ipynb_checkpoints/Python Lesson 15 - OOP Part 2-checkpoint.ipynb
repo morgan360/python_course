{
 "cells": [
  {
   "cell_type": "markdown",
   "metadata": {},
   "source": [
    "version 1.0"
   ]
  },
  {
   "cell_type": "markdown",
   "metadata": {},
   "source": [
    "# Class methods and Static methods"
   ]
  },
  {
   "cell_type": "markdown",
   "metadata": {},
   "source": [
    "## Class methods \n",
    "These are methods(functions) that apply to the Class rather than the instance. To define a class method we use the decorator **@classmethod** and the first argument **cls**(by convention)"
   ]
  },
  {
   "cell_type": "code",
   "execution_count": null,
   "metadata": {},
   "outputs": [],
   "source": [
    "# Adding the raise method(2)\n",
    "class Employee:\n",
    "    num_of_emp = 0\n",
    "    raise_amount = 1.04\n",
    "    def __init__(self, first, last, pay):\n",
    "        self.first = first\n",
    "        self.last = last\n",
    "        self.email = first + '.' + last + '@acme.ie'\n",
    "        self.pay = pay\n",
    "        #Every time you create an instance increase the  no_of_emp by 1.\n",
    "        Employee.num_of_emp += 1\n",
    "    # fullname method   \n",
    "    def fullname(self): # Definition of method. Self refers to the instance that calls the method\n",
    "        return '{} {}'.format(self.first, self.last) # {} placeholders\n",
    "    # Raise method\n",
    "    def apply_raise(self):\n",
    "        self.pay = int(self.pay*self.raise_amount)  #You can also use self.raise amount\n",
    "        \n",
    "    @classmethod\n",
    "    def set_raise_amount(cls,amount):\n",
    "        cls.raise_amount = amount"
   ]
  },
  {
   "cell_type": "code",
   "execution_count": null,
   "metadata": {},
   "outputs": [],
   "source": [
    "#Create the employees\n",
    "emp_1 = Employee('Colm','Ward',40000)\n",
    "emp_2 = Employee('Fidelma','Grady',60000)"
   ]
  },
  {
   "cell_type": "code",
   "execution_count": null,
   "metadata": {},
   "outputs": [],
   "source": [
    "# print the raise amounts\n",
    "print(Employee.raise_amount)\n",
    "print(emp_1.raise_amount)\n",
    "print(emp_1.raise_amount)"
   ]
  },
  {
   "cell_type": "code",
   "execution_count": null,
   "metadata": {},
   "outputs": [],
   "source": [
    "# call the class method\n",
    "Employee.set_raise_amount(1.05)"
   ]
  },
  {
   "cell_type": "code",
   "execution_count": null,
   "metadata": {},
   "outputs": [],
   "source": [
    "# print the raise amounts\n",
    "print(Employee.raise_amount)\n",
    "print(emp_1.raise_amount)\n",
    "print(emp_1.raise_amount)"
   ]
  },
  {
   "cell_type": "markdown",
   "metadata": {},
   "source": [
    "## Alternative Constructors\n",
    "Using class methods as alternative constructors. Alternative Constructors are used to modify how the class behaves when creating an instance.\n",
    "Let's start with a problem!"
   ]
  },
  {
   "cell_type": "markdown",
   "metadata": {},
   "source": [
    "### The Problem\n",
    "Let us say our data looks like this`:<br>\n",
    "emp_str_1 = 'Fred-Flinstone-50000'<br>\n",
    "emp_str_2 = 'Steve-Romley-20000'<br>\n",
    "emp_str_3 = 'Mary-Creighton-9000'<br>"
   ]
  },
  {
   "cell_type": "code",
   "execution_count": null,
   "metadata": {
    "scrolled": true
   },
   "outputs": [],
   "source": [
    "# Without an alteernative constructor we would have to use an external function to parse the text\n",
    "emp_str_1 = 'Fred-Flinstone-50000'\n",
    "emp_str_2 = 'Steve-Romley-20000'\n",
    "emp_str_3 = 'Mary-Creighton-9000'\n",
    "\n",
    "first, last, pay = emp_str_1.split('-')\n",
    "new_emp_1 = Employee(first, last, pay)\n",
    "#new_emp_1 = Employee.from_string(emp_str_1)\n",
    "\n",
    "print(new_emp_1.email)\n",
    "print(new_emp_1.pay)\n"
   ]
  },
  {
   "cell_type": "markdown",
   "metadata": {},
   "source": [
    "##### Add a Alternative Constructot"
   ]
  },
  {
   "cell_type": "code",
   "execution_count": null,
   "metadata": {},
   "outputs": [],
   "source": [
    "# Adding the Alternative Constructor\n",
    "class Employee:\n",
    "    num_of_emp = 0\n",
    "    raise_amount = 1.04\n",
    "    def __init__(self, first, last, pay):\n",
    "        self.first = first\n",
    "        self.last = last\n",
    "        self.email = first + '.' + last + '@acme.ie'\n",
    "        self.pay = pay\n",
    "        #Every time you create an instance increase the  no_of_emp by 1.\n",
    "        Employee.num_of_emp += 1\n",
    "    # fullname method   \n",
    "    def fullname(self): # Definition of method. Self refers to the instance that calls the method\n",
    "        return '{} {}'.format(self.first, self.last) # {} placeholders\n",
    "    # Raise method\n",
    "    def apply_raise(self):\n",
    "        self.pay = int(self.pay*self.raise_amount)  #You can also use self.raise amount\n",
    "        \n",
    "    @classmethod\n",
    "    def set_raise_amount(cls,amount):\n",
    "        cls.raise_amount = amount\n",
    "    \n",
    "    # Add an Alternative Constructor to handle different type of input\n",
    "    @classmethod\n",
    "    def from_string(cls, emp_str):\n",
    "        first, last, pay = emp_str.split('-')\n",
    "        return cls(first, last, pay)"
   ]
  },
  {
   "cell_type": "code",
   "execution_count": null,
   "metadata": {},
   "outputs": [],
   "source": [
    "# Apply the Alternative Constructor\n",
    "new_emp_2 = Employee.from_string(emp_str_2)\n",
    "print(new_emp_2.email)\n",
    "print(new_emp_2.pay)"
   ]
  },
  {
   "cell_type": "markdown",
   "metadata": {},
   "source": [
    "## Static Method\n",
    "Static methods do not refer to instance or classes. They are more like stand alone functions. For example, say we need a function that takes in a date and work out whether it's a weekday or not. This is related to the Employee class but it's not Associated with a class or instance. A static method distinguishes it self by not having an initial argument of self or CLS."
   ]
  },
  {
   "cell_type": "code",
   "execution_count": 1,
   "metadata": {},
   "outputs": [],
   "source": [
    "# Adding a Static Method\n",
    "class Employee:\n",
    "    num_of_emp = 0\n",
    "    raise_amount = 1.04\n",
    "    def __init__(self, first, last, pay):\n",
    "        self.first = first\n",
    "        self.last = last\n",
    "        self.email = first + '.' + last + '@acme.ie'\n",
    "        self.pay = pay\n",
    "        #Every time you create an instance increase the  no_of_emp by 1.\n",
    "        Employee.num_of_emp += 1\n",
    "    # fullname method   \n",
    "    def fullname(self): # Definition of method. Self refers to the instance that calls the method\n",
    "        return '{} {}'.format(self.first, self.last) # {} placeholders\n",
    "    # Raise method\n",
    "    def apply_raise(self):\n",
    "        self.pay = int(self.pay*self.raise_amount)  #You can also use self.raise amount\n",
    "        \n",
    "    @classmethod\n",
    "    def set_raise_amount(cls,amount):\n",
    "        cls.raise_amount = amount\n",
    "    \n",
    "    # Add an Alternative Constructor to handle different type of input\n",
    "    @classmethod\n",
    "    def from_string(cls, emp_str):\n",
    "        first, last, pay = emp_str.split('-')\n",
    "        return cls(first, last, pay)\n",
    "     \n",
    "    # Add an Static method as a function\n",
    "    @staticmethod\n",
    "    def is_workday(day):\n",
    "        if day.weekday() == 5 or day.weekday() == 6:\n",
    "            return False\n",
    "        return True"
   ]
  },
  {
   "cell_type": "code",
   "execution_count": null,
   "metadata": {},
   "outputs": [],
   "source": [
    "import datetime\n",
    "my_date = datetime.date(2020,8,15)\n",
    "\n",
    "print(Employee.is_workday(my_date))"
   ]
  },
  {
   "cell_type": "markdown",
   "metadata": {},
   "source": [
    "## Class Inheritance\n",
    "This is used to create classes that inherit the attributes and methods from another class. These are sometimes referred to as sub-classes. Sub-classes can create their own functionality without affecting the parent class."
   ]
  },
  {
   "cell_type": "markdown",
   "metadata": {},
   "source": [
    "### A Problem\n",
    "We wish to create different types of employees: Managers and Developers."
   ]
  },
  {
   "cell_type": "code",
   "execution_count": null,
   "metadata": {},
   "outputs": [],
   "source": [
    "# Create a new class called Developer add paranthis to specify what class you wish to inherite from\n",
    "class Developer(Employee):\n",
    "    pass\n",
    "    "
   ]
  },
  {
   "cell_type": "code",
   "execution_count": null,
   "metadata": {},
   "outputs": [],
   "source": [
    "emp_1 = Employee('Colm','Ward',40000)\n",
    "emp_2 = Employee('Fidelma','Grady',60000)"
   ]
  },
  {
   "cell_type": "code",
   "execution_count": null,
   "metadata": {},
   "outputs": [],
   "source": [
    "#Use the Developer class to create employees\n",
    "dev_1 = Developer('Martin','Hayes',40000)\n",
    "dev_2 = Developer('Laurance','Mallow',89000)"
   ]
  },
  {
   "cell_type": "code",
   "execution_count": null,
   "metadata": {},
   "outputs": [],
   "source": [
    "print(emp_2.email)\n",
    "print(emp_2.pay)"
   ]
  },
  {
   "cell_type": "code",
   "execution_count": null,
   "metadata": {},
   "outputs": [],
   "source": [
    "# Print Developer\n",
    "print(dev_1.email)\n",
    "print(dev_2.pay)"
   ]
  },
  {
   "cell_type": "markdown",
   "metadata": {},
   "source": [
    "## Method resolution order"
   ]
  },
  {
   "cell_type": "markdown",
   "metadata": {},
   "source": [
    "**Method resolution order.** Is the order which the methods are employed. In the developer class, the first check was to the developer class and as it did not find an init method there it went to the Employee class, because the Developer class inherits from the Employee class."
   ]
  },
  {
   "cell_type": "code",
   "execution_count": null,
   "metadata": {},
   "outputs": [],
   "source": [
    "print(help(Developer))"
   ]
  },
  {
   "cell_type": "code",
   "execution_count": null,
   "metadata": {
    "scrolled": true
   },
   "outputs": [],
   "source": [
    "# Use the parent class apply_raise method.\n",
    "print(dev_1.pay)\n",
    "dev_1.apply_raise()\n",
    "print(dev_1.pay)"
   ]
  },
  {
   "cell_type": "code",
   "execution_count": null,
   "metadata": {},
   "outputs": [],
   "source": [
    "# Give a different raise amount to Developers\n",
    "class Developer(Employee):\n",
    "    raise_amount = 1.10"
   ]
  },
  {
   "cell_type": "code",
   "execution_count": null,
   "metadata": {},
   "outputs": [],
   "source": [
    "#  apply_raise method again\n",
    "print(dev_1.pay)\n",
    "dev_1.apply_raise()\n",
    "print(dev_1.pay)"
   ]
  },
  {
   "cell_type": "code",
   "execution_count": null,
   "metadata": {},
   "outputs": [],
   "source": [
    "# Our employee raise amount stays the same.\n",
    "print(emp_1.pay)\n",
    "emp_1.apply_raise()\n",
    "print(emp_1.pay)"
   ]
  },
  {
   "cell_type": "markdown",
   "metadata": {},
   "source": [
    "So the point is that we can make changes to the sub classes without worrying about breaking anything in the parent class."
   ]
  },
  {
   "cell_type": "markdown",
   "metadata": {},
   "source": [
    "Sometimes you might wish to store different information for different employees. So for example when you create a developer you might like to store the programming language they specialise in."
   ]
  },
  {
   "cell_type": "code",
   "execution_count": 7,
   "metadata": {},
   "outputs": [],
   "source": [
    "# Add an init method to Developer\n",
    "class Developer(Employee):\n",
    "    raise_amount = 1.10\n",
    "    # creating our own init method  \n",
    "    def __init__(self, first, last, pay, prog_lang):\n",
    "        super().__init__(first, last, pay) # initialise these parameters in the parent class\n",
    "        self.prog_lang = prog_lang"
   ]
  },
  {
   "cell_type": "code",
   "execution_count": 3,
   "metadata": {
    "collapsed": true
   },
   "outputs": [
    {
     "name": "stdout",
     "output_type": "stream",
     "text": [
      "Help on class Developer in module __main__:\n",
      "\n",
      "class Developer(Employee)\n",
      " |  Developer(first, last, pay)\n",
      " |  \n",
      " |  Method resolution order:\n",
      " |      Developer\n",
      " |      Employee\n",
      " |      builtins.object\n",
      " |  \n",
      " |  Data and other attributes defined here:\n",
      " |  \n",
      " |  raise_amount = 1.1\n",
      " |  \n",
      " |  ----------------------------------------------------------------------\n",
      " |  Methods inherited from Employee:\n",
      " |  \n",
      " |  __init__(self, first, last, pay)\n",
      " |      Initialize self.  See help(type(self)) for accurate signature.\n",
      " |  \n",
      " |  apply_raise(self)\n",
      " |      # Raise method\n",
      " |  \n",
      " |  fullname(self)\n",
      " |      # fullname method\n",
      " |  \n",
      " |  ----------------------------------------------------------------------\n",
      " |  Class methods inherited from Employee:\n",
      " |  \n",
      " |  from_string(emp_str) from builtins.type\n",
      " |      # Add an Alternative Constructor to handle different type of input\n",
      " |  \n",
      " |  set_raise_amount(amount) from builtins.type\n",
      " |  \n",
      " |  ----------------------------------------------------------------------\n",
      " |  Static methods inherited from Employee:\n",
      " |  \n",
      " |  is_workday(day)\n",
      " |      # Add an Static method as a function\n",
      " |  \n",
      " |  ----------------------------------------------------------------------\n",
      " |  Data descriptors inherited from Employee:\n",
      " |  \n",
      " |  __dict__\n",
      " |      dictionary for instance variables (if defined)\n",
      " |  \n",
      " |  __weakref__\n",
      " |      list of weak references to the object (if defined)\n",
      " |  \n",
      " |  ----------------------------------------------------------------------\n",
      " |  Data and other attributes inherited from Employee:\n",
      " |  \n",
      " |  num_of_emp = 0\n",
      "\n",
      "None\n"
     ]
    }
   ],
   "source": [
    "print(help(Developer))"
   ]
  },
  {
   "cell_type": "markdown",
   "metadata": {},
   "source": [
    "**Note:** There is another way of calling the parent init method using.\n",
    "```python\n",
    "Employee.__init__(self, first, last, pay)\n",
    "```\n",
    "This version is used for multiple inheritance."
   ]
  },
  {
   "cell_type": "code",
   "execution_count": 8,
   "metadata": {},
   "outputs": [],
   "source": [
    "#Use the Developer class to create employees\n",
    "dev_1 = Developer('Martin','Hayes',40000, 'python')\n",
    "dev_2 = Developer('Laurance','Mallow',89000, 'PHP')"
   ]
  },
  {
   "cell_type": "code",
   "execution_count": 9,
   "metadata": {},
   "outputs": [
    {
     "name": "stdout",
     "output_type": "stream",
     "text": [
      "Martin.Hayes@acme.ie\n",
      "PHP\n"
     ]
    }
   ],
   "source": [
    "# Print Developer\n",
    "print(dev_1.email)\n",
    "print(dev_2.prog_lang)"
   ]
  },
  {
   "cell_type": "markdown",
   "metadata": {},
   "source": [
    "## Another Subclass : Manager\n",
    "Our Manager class will be created with a number of employees that report to them, passed in the form of a list. We will have to create an init method to cater for this."
   ]
  },
  {
   "cell_type": "code",
   "execution_count": 23,
   "metadata": {},
   "outputs": [],
   "source": [
    "''' Create a new class for managers. \n",
    "    With argument for employees that report to the manager \n",
    "    set initially to none.\n",
    "'''\n",
    "\n",
    "class Manager(Employee):\n",
    "    raise_amount = 1.10\n",
    "    # creating our own init method  \n",
    "    def __init__(self, first, last, pay, employees= None):\n",
    "        super().__init__(first, last, pay) # initialise these parameters in the parent class\n",
    "        if employees is None:\n",
    "            self.employees = []\n",
    "        else:\n",
    "            self.employees = employees\n",
    "    # Add a method to add an employee to the manager        \n",
    "    def add_emp(self, emp):\n",
    "        if emp not in self.employees:\n",
    "            self.employees.append(emp)\n",
    "    # Add a method to remove an employee to the manager        \n",
    "    def remove_emp(self, emp):\n",
    "        if emp in self.employees:\n",
    "            self.employees.remove(emp)\n",
    "    # Add a method to print employeed reporting to a manager        \n",
    "    def print_emps(self):\n",
    "        for emp in self.employees:\n",
    "            print('==>', emp.fullname())\n",
    "    "
   ]
  },
  {
   "cell_type": "code",
   "execution_count": 24,
   "metadata": {},
   "outputs": [],
   "source": [
    "# Create our company employess using the three classes\n",
    "# Employees\n",
    "emp_1 = Employee('Colm','Ward',40000)\n",
    "emp_2 = Employee('Fidelma','Grady',60000)\n",
    "# Developers\n",
    "dev_1 = Developer('Martin','Hayes',40000, 'Python')\n",
    "dev_2 = Developer('Laurance','Mallow',89000, 'Java')\n",
    "# Managers\n",
    "mgr_1 = Manager('Brian','McBryan',140000, [dev_1])\n",
    "mgr_2 = Manager('Timothy','McTimmons',189000, [emp_1,emp_2])"
   ]
  },
  {
   "cell_type": "code",
   "execution_count": 25,
   "metadata": {},
   "outputs": [
    {
     "name": "stdout",
     "output_type": "stream",
     "text": [
      "Brian McBryan\n"
     ]
    }
   ],
   "source": [
    "# note we have inherated the methods from employees\n",
    "print(mgr_1.fullname())"
   ]
  },
  {
   "cell_type": "code",
   "execution_count": 26,
   "metadata": {},
   "outputs": [
    {
     "name": "stdout",
     "output_type": "stream",
     "text": [
      "==> Colm Ward\n",
      "==> Fidelma Grady\n"
     ]
    }
   ],
   "source": [
    "# Using the print_emps method within the Manager Class\n",
    "mgr_2.print_emps()"
   ]
  },
  {
   "cell_type": "code",
   "execution_count": 27,
   "metadata": {},
   "outputs": [
    {
     "name": "stdout",
     "output_type": "stream",
     "text": [
      "==> Martin Hayes\n"
     ]
    }
   ],
   "source": [
    "mgr_1.print_emps()"
   ]
  },
  {
   "cell_type": "code",
   "execution_count": 28,
   "metadata": {},
   "outputs": [],
   "source": [
    "# Use the add method to add a new developer\n",
    "mgr_1.add_emp(dev_2)"
   ]
  },
  {
   "cell_type": "code",
   "execution_count": 29,
   "metadata": {},
   "outputs": [
    {
     "name": "stdout",
     "output_type": "stream",
     "text": [
      "==> Martin Hayes\n",
      "==> Laurance Mallow\n"
     ]
    }
   ],
   "source": [
    "mgr_1.print_emps()"
   ]
  },
  {
   "cell_type": "code",
   "execution_count": 32,
   "metadata": {},
   "outputs": [],
   "source": [
    "# Change dev_1 to report to mgr_2 first developer \n",
    "mgr_1.remove_emp(dev_1)\n",
    "mgr_2.add_emp(dev_1)"
   ]
  },
  {
   "cell_type": "code",
   "execution_count": 33,
   "metadata": {},
   "outputs": [
    {
     "name": "stdout",
     "output_type": "stream",
     "text": [
      "==> Laurance Mallow\n"
     ]
    }
   ],
   "source": [
    "#  \n",
    "mgr_1.print_emps()"
   ]
  },
  {
   "cell_type": "code",
   "execution_count": 34,
   "metadata": {},
   "outputs": [
    {
     "name": "stdout",
     "output_type": "stream",
     "text": [
      "==> Colm Ward\n",
      "==> Fidelma Grady\n",
      "==> Martin Hayes\n"
     ]
    }
   ],
   "source": [
    "#  \n",
    "mgr_2.print_emps()"
   ]
  },
  {
   "cell_type": "markdown",
   "metadata": {},
   "source": [
    "## Special(Magic Dundar) Methods "
   ]
  },
  {
   "cell_type": "code",
   "execution_count": 2,
   "metadata": {},
   "outputs": [
    {
     "name": "stdout",
     "output_type": "stream",
     "text": [
      "4\n",
      "ab\n"
     ]
    }
   ],
   "source": [
    "# Look at an example\n",
    "print (2+2)\n",
    "print ('a'+'b')"
   ]
  },
  {
   "cell_type": "markdown",
   "metadata": {},
   "source": [
    "**Note** The add method behaves differently with different objects."
   ]
  },
  {
   "cell_type": "code",
   "execution_count": 3,
   "metadata": {},
   "outputs": [],
   "source": [
    "# Take the example from before\n",
    "class Employee:\n",
    "\n",
    "   # Instance variables\n",
    "    def __init__(self, first, last, pay):\n",
    "        self.first = first\n",
    "        self.last = last\n",
    "        self.email = first + '.' + last + '@acme.ie'\n",
    "        self.pay = pay\n",
    "    \n",
    "    # fullname method \n",
    "    def fullname(self): # Definition of method. Self refers to the instance that calls the method\n",
    "        return '{} {}'.format(self.first, self.last) # {} placeholders"
   ]
  },
  {
   "cell_type": "code",
   "execution_count": 4,
   "metadata": {},
   "outputs": [],
   "source": [
    "#Create the employees\n",
    "emp_1 = Employee('Colm','Ward',40000)\n",
    "emp_2 = Employee('Fidelma','Grady',60000)"
   ]
  },
  {
   "cell_type": "code",
   "execution_count": 5,
   "metadata": {},
   "outputs": [
    {
     "name": "stdout",
     "output_type": "stream",
     "text": [
      "<__main__.Employee object at 0x7fceff098690>\n"
     ]
    }
   ],
   "source": [
    "# We cannot print out the object directly\n",
    "print(emp_1)"
   ]
  },
  {
   "cell_type": "markdown",
   "metadata": {},
   "source": [
    "We use special methods to overcome these problems. Special methods begin with a dunder __. <br>\n",
    "```python \n",
    "__init__  \n",
    "``` \n",
    "is an example of a special method. The \n",
    "```python \n",
    "__init__\n",
    "```\n",
    "method is implicitly called when you create a class object. There are two other dunder methods we should almost always use: \n",
    "```python\n",
    "__repr__\n",
    "\n",
    "__str__\n",
    "\n",
    "``` \n",
    "(Represent and String)"
   ]
  },
  {
   "cell_type": "markdown",
   "metadata": {},
   "source": [
    "<hr>\n",
    "\n",
    "```python\n",
    "\n",
    "__repr__\n",
    "\n",
    "``` \n",
    "is an unambigious representation of the object, and should be used for debugging or logging values. To be seen by other developers.\n",
    "```python\n",
    "\n",
    "__str__\n",
    "\n",
    "``` \n",
    "Is meant to be used to display information to the end user.\n",
    "<hr>"
   ]
  },
  {
   "cell_type": "code",
   "execution_count": 20,
   "metadata": {},
   "outputs": [],
   "source": [
    "# Take the example from before\n",
    "class Employee:\n",
    "\n",
    "   # Instance variables\n",
    "    def __init__(self, first, last, pay):\n",
    "        self.first = first\n",
    "        self.last = last\n",
    "        self.email = first + '.' + last + '@acme.ie'\n",
    "        self.pay = pay\n",
    "    # format it as if you were creating the object\n",
    "    def __repr__(self):\n",
    "        return \"Employee({}, {}, {})\".format(self.first,self.last,self.pay)\n",
    "    \n",
    "    # fullname method \n",
    "    def fullname(self): # Definition of method. Self refers to the instance that calls the method\n",
    "        return '{} {}'.format(self.first, self.last) # {} placeholders"
   ]
  },
  {
   "cell_type": "code",
   "execution_count": 21,
   "metadata": {},
   "outputs": [],
   "source": [
    "#Create the employees\n",
    "emp_1 = Employee('Colm','Ward',40000)\n",
    "emp_2 = Employee('Fidelma','Grady',60000)"
   ]
  },
  {
   "cell_type": "code",
   "execution_count": 22,
   "metadata": {},
   "outputs": [
    {
     "name": "stdout",
     "output_type": "stream",
     "text": [
      "Employee(Colm, Ward, 40000)\n"
     ]
    }
   ],
   "source": [
    "print(emp_1)"
   ]
  },
  {
   "cell_type": "code",
   "execution_count": 42,
   "metadata": {},
   "outputs": [],
   "source": [
    "# Take the example from before\n",
    "class Employee:\n",
    "\n",
    "   # Instance variables\n",
    "    def __init__(self, first, last, pay):\n",
    "        self.first = first\n",
    "        self.last = last\n",
    "        self.email = first + '.' + last + '@acme.ie'\n",
    "        self.pay = pay\n",
    "   \n",
    "    # fullname method \n",
    "    def fullname(self): # Definition of method. Self refers to the instance that calls the method\n",
    "        return '{} {}'.format(self.first, self.last) # {} placeholders\n",
    "    \n",
    "     # format it as if you were creating the object\n",
    "    def __repr__(self):\n",
    "        return \"Employee({}, {}, {})\".format(self.first,self.last,self.pay)\n",
    "    \n",
    "    def __str__(self):\n",
    "        return '{} - {}'.format(self.fullname()emp_1., self.email)\n",
    "    "
   ]
  },
  {
   "cell_type": "code",
   "execution_count": 43,
   "metadata": {},
   "outputs": [],
   "source": [
    "#Create the employees\n",
    "emp_1 = Employee('Colm','Ward',40000)\n",
    "emp_2 = Employee('Fidelma','Grady',60000)"
   ]
  },
  {
   "cell_type": "code",
   "execution_count": 44,
   "metadata": {},
   "outputs": [
    {
     "name": "stdout",
     "output_type": "stream",
     "text": [
      "Colm Ward - Colm.Ward@acme.ie\n"
     ]
    }
   ],
   "source": [
    "print(emp_1)"
   ]
  },
  {
   "cell_type": "code",
   "execution_count": 38,
   "metadata": {},
   "outputs": [
    {
     "name": "stdout",
     "output_type": "stream",
     "text": [
      "<bound method Employee.fullname of Employee(Colm, Ward, 40000)> - Colm.Ward@acme.ie\n"
     ]
    }
   ],
   "source": [
    "print(str(emp_1))"
   ]
  },
  {
   "cell_type": "code",
   "execution_count": 41,
   "metadata": {},
   "outputs": [
    {
     "name": "stdout",
     "output_type": "stream",
     "text": [
      "Colm Ward\n"
     ]
    }
   ],
   "source": [
    "print(emp_1.fullname())"
   ]
  },
  {
   "cell_type": "markdown",
   "metadata": {},
   "source": [
    "## SAQ 1 \n",
    "For the class Players create two subclasses Tennis Players and Swimmers. For Tennis Players you want to record if they play on hard court or grass. For the Swimmers you want to record there prefered stroke and their personal best times for their preferred stroke.\n",
    "\n",
    "For each player sport can you create a method to count the number of players in each sport. "
   ]
  }
 ],
 "metadata": {
  "hide_input": false,
  "kernelspec": {
   "display_name": "Python 3",
   "language": "python",
   "name": "python3"
  },
  "language_info": {
   "codemirror_mode": {
    "name": "ipython",
    "version": 3
   },
   "file_extension": ".py",
   "mimetype": "text/x-python",
   "name": "python",
   "nbconvert_exporter": "python",
   "pygments_lexer": "ipython3",
   "version": "3.7.6"
  },
  "toc": {
   "base_numbering": 1,
   "nav_menu": {},
   "number_sections": true,
   "sideBar": true,
   "skip_h1_title": false,
   "title_cell": "Table of Contents",
   "title_sidebar": "Contents",
   "toc_cell": false,
   "toc_position": {
    "height": "calc(100% - 180px)",
    "left": "10px",
    "top": "150px",
    "width": "246.1875px"
   },
   "toc_section_display": false,
   "toc_window_display": true
  }
 },
 "nbformat": 4,
 "nbformat_minor": 4
}
