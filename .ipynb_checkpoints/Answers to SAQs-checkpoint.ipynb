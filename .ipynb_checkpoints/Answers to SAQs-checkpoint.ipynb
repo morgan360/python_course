{
 "cells": [
  {
   "cell_type": "markdown",
   "metadata": {},
   "source": [
    "# Lesson 5"
   ]
  },
  {
   "cell_type": "markdown",
   "metadata": {},
   "source": [
    "## SAQ1"
   ]
  },
  {
   "cell_type": "code",
   "execution_count": null,
   "metadata": {},
   "outputs": [],
   "source": [
    "# SAQ 1 Lesson 5\n",
    "\n",
    "days = ['Mon', 'Tue', 'Wed', 'Thu', 'Fri', 'Sat', 'Sun '] \n",
    "weekdays = [] \n",
    "weekend = []\n",
    "\n",
    "for i in range(7):\n",
    "    day = days.pop()\n",
    "    if day == 'Mon':\n",
    "        weekdays.append(day)\n",
    "    elif day == 'Tue':\n",
    "        weekdays.append(day)\n",
    "    elif day == 'Wed':\n",
    "        weekdays.append(day)\n",
    "    elif day == 'Thu':\n",
    "        weekdays.append(day) \n",
    "    elif day == 'Fri':\n",
    "        weekdays.append(day)     \n",
    "    else:          # if all else failed\n",
    "         weekend.append(day)\n",
    "weekdays.reverse()\n",
    "print( weekdays)\n",
    "\n",
    "weekend.reverse()\n",
    "\n",
    "print(weekend)"
   ]
  },
  {
   "cell_type": "markdown",
   "metadata": {},
   "source": [
    "## SAQ 2"
   ]
  },
  {
   "cell_type": "code",
   "execution_count": null,
   "metadata": {},
   "outputs": [],
   "source": [
    "# Simple Calculator\n",
    "x = input('enter x value')\n",
    "y = input('enter y value')\n",
    "operator = input('operator :+,*')\n",
    "if operator == '*':\n",
    "    result = int(x)*int(y)\n",
    "elif operator == '+':\n",
    "    result = int(x)+ int(y)\n",
    "print(result)"
   ]
  },
  {
   "cell_type": "markdown",
   "metadata": {},
   "source": [
    "## SAQ 3"
   ]
  },
  {
   "cell_type": "code",
   "execution_count": null,
   "metadata": {},
   "outputs": [],
   "source": [
    "# SAQ 3 not so fast\n",
    "for letter in 'fast':\n",
    "    if letter == 's':\n",
    "        continue\n",
    "    print(letter)"
   ]
  },
  {
   "cell_type": "markdown",
   "metadata": {},
   "source": [
    "## SAQ 4"
   ]
  },
  {
   "cell_type": "code",
   "execution_count": null,
   "metadata": {},
   "outputs": [],
   "source": [
    "# SAQ 4 Loop the Loop\n",
    "n=5;\n",
    "for i in range(n):\n",
    "    for j in range(i): \n",
    "        print ('* ', end=\"\")\n",
    "    print('')\n",
    "for i in range(n,0,-1):\n",
    "    for j in range(i):\n",
    "        print('* ', end=\"\")\n",
    "    print('')\n"
   ]
  },
  {
   "cell_type": "markdown",
   "metadata": {},
   "source": [
    "# Lesson 6"
   ]
  },
  {
   "cell_type": "markdown",
   "metadata": {},
   "source": [
    "## SAQ 1"
   ]
  },
  {
   "cell_type": "code",
   "execution_count": null,
   "metadata": {},
   "outputs": [],
   "source": [
    "def num_letters(word):\n",
    "    return len(word)\n",
    "num_letters('Kevin')   "
   ]
  },
  {
   "cell_type": "code",
   "execution_count": null,
   "metadata": {},
   "outputs": [],
   "source": [
    "# SAQ 4 Loop the Loop\n",
    "n = 5\n",
    "for i in range(n):    # outer loop 5 *\n",
    "    for j in range(i):\n",
    "        print('* ', end=\"\")\n",
    "    print(' ')"
   ]
  },
  {
   "cell_type": "markdown",
   "metadata": {},
   "source": [
    "## SAQ 3: How to make money at programming"
   ]
  },
  {
   "cell_type": "code",
   "execution_count": null,
   "metadata": {},
   "outputs": [],
   "source": [
    "suits = [\"spade\", \"club\", \"heart\", \"diamond\"]\n",
    "faces = [\"2\", \"3\", \"4\", \"5\", \"6\", \"7\", \"8\", \"9\", \"10\", \"J\", \"Q\", \"K\", \"A\"]"
   ]
  },
  {
   "cell_type": "code",
   "execution_count": null,
   "metadata": {},
   "outputs": [],
   "source": [
    "# using an inner loop to create a deck of cards\n",
    "cards = []\n",
    "for suit in suits:\n",
    "    for face in faces:\n",
    "        cards.append((suit, face))\n",
    "# random.shuffle(cards)        \n",
    "print(*cards, sep=\"\\n\")         "
   ]
  },
  {
   "cell_type": "code",
   "execution_count": null,
   "metadata": {
    "scrolled": true
   },
   "outputs": [],
   "source": [
    "import random\n",
    "hand1= random.sample(cards, 5)\n",
    "print(hand1)\n",
    "for card in hand1:\n",
    "    print(card)\n",
    "    cards.remove(card)\n",
    "   \n",
    "    \n",
    "# print(\"Pick 5 Random element from list:\", random.sample(cards, 5))\n",
    "# del cards[1:48]\n",
    "\n"
   ]
  },
  {
   "cell_type": "code",
   "execution_count": null,
   "metadata": {},
   "outputs": [],
   "source": [
    "print (len(cards))\n",
    "print(*cards, sep=\"\\n\")"
   ]
  },
  {
   "cell_type": "markdown",
   "metadata": {},
   "source": [
    "# Lesson 7"
   ]
  },
  {
   "cell_type": "markdown",
   "metadata": {},
   "source": [
    "## SAQ 3: How to make money at programming"
   ]
  },
  {
   "cell_type": "code",
   "execution_count": null,
   "metadata": {},
   "outputs": [],
   "source": [
    "def string_reverse(str1):\n",
    "\n",
    "    rstr1 = ''\n",
    "    index = len(str1)\n",
    "    while index > 0:\n",
    "        rstr1 += str1[ index - 1 ]\n",
    "        index = index - 1\n",
    "    return rstr1\n",
    "print(string_reverse('1234abcd'))"
   ]
  },
  {
   "cell_type": "code",
   "execution_count": null,
   "metadata": {},
   "outputs": [],
   "source": []
  },
  {
   "cell_type": "markdown",
   "metadata": {},
   "source": [
    "# Lesson 9: Matplotlib"
   ]
  },
  {
   "cell_type": "markdown",
   "metadata": {},
   "source": [
    "## SAQ 1: Waxing Warm and Cold"
   ]
  },
  {
   "cell_type": "code",
   "execution_count": null,
   "metadata": {},
   "outputs": [],
   "source": [
    "import numpy as np\n",
    "from matplotlib import pyplot as plt\n",
    "plt.rcParams['figure.figsize'] = [10, 6]\n",
    "month =  [\"Jan\", \"Feb\", \"Mar\", \"Apr\", \"May\", \"June\", \"July\", \n",
    "          \"Aug\", \"Sept\", \"Oct\", \"Nov\", \"Dec\"]\n",
    "mean_temp  = [5.7,7.7,7.9,8.7,11.4,13.3,16.8,16.2,13.7,9.8,6.6,6.3]\n",
    "max_temp  = [11.5,16.6,17.7,22.1,21.7,24.1,26.6,23.4,22.1,17.1,14,14.2]\n",
    "min_temp = [-3.9,-3,1.2,0.2,0.5,3.8,6.9,7.8,5.1,-1.1,1.7,-1.9]\n",
    "\n",
    "x_indices = np.arange(len(month))\n",
    "width = 0.25"
   ]
  },
  {
   "cell_type": "code",
   "execution_count": null,
   "metadata": {},
   "outputs": [],
   "source": []
  },
  {
   "cell_type": "code",
   "execution_count": null,
   "metadata": {
    "scrolled": true
   },
   "outputs": [],
   "source": [
    "plt.style.use('Solarize_Light2')\n",
    "\n",
    "plt.bar(x_indices- width, max_temp, width = width, label = 'Maximum Temp')\n",
    "plt.bar(x_indices ,  mean_temp, width = width, color = 'k', label = 'Mean Temp')\n",
    "plt.bar(x_indices + width, min_temp, width = width, label = 'Minimum Temp')\n",
    "\n",
    "\n",
    "plt.title('Temp Phonex Park 2019')\n",
    "plt.xlabel('Month')\n",
    "plt.ylabel('Tempreture')\n",
    "plt.grid(True)\n",
    "plt.legend()"
   ]
  },
  {
   "cell_type": "code",
   "execution_count": null,
   "metadata": {},
   "outputs": [],
   "source": [
    "print(plt.style.available)"
   ]
  },
  {
   "cell_type": "markdown",
   "metadata": {},
   "source": [
    "plt.style.use('Solarize_Light2')"
   ]
  },
  {
   "cell_type": "markdown",
   "metadata": {},
   "source": [
    "## SAQ 1"
   ]
  },
  {
   "cell_type": "code",
   "execution_count": null,
   "metadata": {},
   "outputs": [],
   "source": [
    "result_staff_df = pd.merge(result_df,\n",
    "                 staff_df[['Staff', 'FullName']],\n",
    "                  on='Staff')"
   ]
  },
  {
   "cell_type": "code",
   "execution_count": null,
   "metadata": {},
   "outputs": [],
   "source": [
    "result_staff_df.head()"
   ]
  },
  {
   "cell_type": "markdown",
   "metadata": {},
   "source": [
    "## SAQ2 OOP1"
   ]
  },
  {
   "cell_type": "code",
   "execution_count": 5,
   "metadata": {},
   "outputs": [],
   "source": [
    "import datetime\n",
    "class Players:\n",
    "    avg_height = 0\n",
    "    total_players = 0\n",
    "    total_height = 0\n",
    "    def __init__(self, first, last, sport, height, dob):\n",
    "        self.first = first\n",
    "        self.last = last\n",
    "        self.email = first + '.' + last + '@acme.ie'\n",
    "        self.sport = sport\n",
    "        self.height = height\n",
    "        self.dob = dob\n",
    "        Players.total_players += 1\n",
    "        Players.total_height += self.height\n",
    "        Players.avg_height = Players.total_height/Players.total_players\n",
    "    \n",
    "    # fullname method   \n",
    "    def fullname(self): # Definition of method. Self refers to the instance that calls the method\n",
    "        return '{} {}'.format(self.first, self.last) # {} placeholders\n",
    "    # fullname method   \n",
    "    def calculateAge(self):\n",
    "        days_in_year = 365.2425\n",
    "        age = int(((datetime.date.today() - self.dob).days)/days_in_year)\n",
    "        return age "
   ]
  },
  {
   "cell_type": "code",
   "execution_count": 6,
   "metadata": {},
   "outputs": [],
   "source": [
    "d1 = datetime.date(1980, 11, 4)\n",
    "ply_1 = Players('Morgan','Freeman', 'Rugby',117, d1 )\n",
    "d2 = datetime.date(2000, 11, 4)\n",
    "ply_2 = Players('Morgan','Freeman', 'Rugby',127, d2 )"
   ]
  },
  {
   "cell_type": "code",
   "execution_count": 7,
   "metadata": {},
   "outputs": [
    {
     "name": "stdout",
     "output_type": "stream",
     "text": [
      "1980-11-04\n",
      "Rugby\n",
      "244\n",
      "2\n",
      "122.0\n"
     ]
    }
   ],
   "source": [
    "print(ply_1.dob)\n",
    "print(ply_1.sport)\n",
    "print(Players.total_height)\n",
    "print(Players.total_players)\n",
    "print(Players.avg_height)"
   ]
  },
  {
   "cell_type": "code",
   "execution_count": null,
   "metadata": {},
   "outputs": [],
   "source": []
  },
  {
   "cell_type": "markdown",
   "metadata": {},
   "source": [
    "## SAQ 1 OOP 1\n",
    "Create class Rectangle which has attributes length and width. Create 2 methods for calculating area of rectangle and perimeter of rectangle. Area is calculated by multiplying length by width. Perimeter is 2 times of (length + width). Solve and post your solution in the comment box.\n"
   ]
  },
  {
   "cell_type": "code",
   "execution_count": 9,
   "metadata": {},
   "outputs": [],
   "source": [
    "class Rectangle:\n",
    "    def __init__(self,lenght, width):\n",
    "        self.lenght = lenght\n",
    "        self.width = width\n",
    "        \n",
    "    def area(self):\n",
    "        return self.lenght*self.width\n",
    "    def perimeter(self):\n",
    "        return (self.lenght+ self.width)*2"
   ]
  },
  {
   "cell_type": "code",
   "execution_count": 10,
   "metadata": {},
   "outputs": [],
   "source": [
    "rect_1 = Rectangle (2,2)"
   ]
  },
  {
   "cell_type": "code",
   "execution_count": 11,
   "metadata": {},
   "outputs": [],
   "source": [
    "area_rect_1 = rect_1.area()"
   ]
  },
  {
   "cell_type": "code",
   "execution_count": 12,
   "metadata": {},
   "outputs": [
    {
     "name": "stdout",
     "output_type": "stream",
     "text": [
      "4\n"
     ]
    }
   ],
   "source": [
    "print (area_rect_1)"
   ]
  },
  {
   "cell_type": "code",
   "execution_count": 13,
   "metadata": {},
   "outputs": [],
   "source": [
    "pem_rect_1 = rect_1.perimeter()"
   ]
  },
  {
   "cell_type": "code",
   "execution_count": 14,
   "metadata": {},
   "outputs": [
    {
     "name": "stdout",
     "output_type": "stream",
     "text": [
      "8\n"
     ]
    }
   ],
   "source": [
    "print (pem_rect_1)"
   ]
  },
  {
   "cell_type": "code",
   "execution_count": null,
   "metadata": {},
   "outputs": [],
   "source": []
  }
 ],
 "metadata": {
  "hide_input": false,
  "kernelspec": {
   "display_name": "Python 3",
   "language": "python",
   "name": "python3"
  },
  "language_info": {
   "codemirror_mode": {
    "name": "ipython",
    "version": 3
   },
   "file_extension": ".py",
   "mimetype": "text/x-python",
   "name": "python",
   "nbconvert_exporter": "python",
   "pygments_lexer": "ipython3",
   "version": "3.7.6"
  },
  "toc": {
   "base_numbering": 1,
   "nav_menu": {},
   "number_sections": true,
   "sideBar": true,
   "skip_h1_title": false,
   "title_cell": "Table of Contents",
   "title_sidebar": "Contents",
   "toc_cell": false,
   "toc_position": {},
   "toc_section_display": true,
   "toc_window_display": true
  }
 },
 "nbformat": 4,
 "nbformat_minor": 4
}
