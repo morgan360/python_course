{
 "cells": [
  {
   "cell_type": "markdown",
   "metadata": {},
   "source": [
    "# Lesson 5"
   ]
  },
  {
   "cell_type": "markdown",
   "metadata": {},
   "source": [
    "## SAQ1"
   ]
  },
  {
   "cell_type": "code",
   "execution_count": null,
   "metadata": {},
   "outputs": [],
   "source": [
    "# SAQ 1 Lesson 5\n",
    "\n",
    "days = ['Mon', 'Tue', 'Wed', 'Thu', 'Fri', 'Sat', 'Sun '] \n",
    "weekdays = [] \n",
    "weekend = []\n",
    "\n",
    "for i in range(7):\n",
    "    day = days.pop()\n",
    "    if day == 'Mon':\n",
    "        weekdays.append(day)\n",
    "    elif day == 'Tue':\n",
    "        weekdays.append(day)\n",
    "    elif day == 'Wed':\n",
    "        weekdays.append(day)\n",
    "    elif day == 'Thu':\n",
    "        weekdays.append(day) \n",
    "    elif day == 'Fri':\n",
    "        weekdays.append(day)     \n",
    "    else:          # if all else failed\n",
    "         weekend.append(day)\n",
    "weekdays.reverse()\n",
    "print( weekdays)\n",
    "\n",
    "weekend.reverse()\n",
    "\n",
    "print(weekend)"
   ]
  },
  {
   "cell_type": "markdown",
   "metadata": {},
   "source": [
    "## SAQ 2"
   ]
  },
  {
   "cell_type": "code",
   "execution_count": null,
   "metadata": {},
   "outputs": [],
   "source": [
    "# Simple Calculator\n",
    "x = input('enter x value')\n",
    "y = input('enter y value')\n",
    "operator = input('operator :+,*')\n",
    "if operator == '*':\n",
    "    result = int(x)*int(y)\n",
    "elif operator == '+':\n",
    "    result = int(x)+ int(y)\n",
    "print(result)"
   ]
  },
  {
   "cell_type": "markdown",
   "metadata": {},
   "source": [
    "## SAQ 3"
   ]
  },
  {
   "cell_type": "code",
   "execution_count": null,
   "metadata": {},
   "outputs": [],
   "source": [
    "# SAQ 3 not so fast\n",
    "for letter in 'fast':\n",
    "    if letter == 's':\n",
    "        continue\n",
    "    print(letter)"
   ]
  },
  {
   "cell_type": "markdown",
   "metadata": {},
   "source": [
    "## SAQ 4"
   ]
  },
  {
   "cell_type": "code",
   "execution_count": null,
   "metadata": {},
   "outputs": [],
   "source": [
    "# SAQ 4 Loop the Loop\n",
    "n=5;\n",
    "for i in range(n):\n",
    "    for j in range(i): \n",
    "        print ('* ', end=\"\")\n",
    "    print('')\n",
    "for i in range(n,0,-1):\n",
    "    for j in range(i):\n",
    "        print('* ', end=\"\")\n",
    "    print('')\n"
   ]
  },
  {
   "cell_type": "markdown",
   "metadata": {},
   "source": [
    "# Lesson 6"
   ]
  },
  {
   "cell_type": "markdown",
   "metadata": {},
   "source": [
    "## SAQ 1"
   ]
  },
  {
   "cell_type": "code",
   "execution_count": null,
   "metadata": {},
   "outputs": [],
   "source": [
    "def num_letters(word):\n",
    "    return len(word)\n",
    "num_letters('Kevin')   "
   ]
  },
  {
   "cell_type": "code",
   "execution_count": null,
   "metadata": {},
   "outputs": [],
   "source": [
    "# SAQ 4 Loop the Loop\n",
    "n = 5\n",
    "for i in range(n):    # outer loop 5 *\n",
    "    for j in range(i):\n",
    "        print('* ', end=\"\")\n",
    "    print(' ')"
   ]
  },
  {
   "cell_type": "markdown",
   "metadata": {},
   "source": [
    "## SAQ 3: How to make money at programming"
   ]
  },
  {
   "cell_type": "code",
   "execution_count": null,
   "metadata": {},
   "outputs": [],
   "source": [
    "suits = [\"spade\", \"club\", \"heart\", \"diamond\"]\n",
    "faces = [\"2\", \"3\", \"4\", \"5\", \"6\", \"7\", \"8\", \"9\", \"10\", \"J\", \"Q\", \"K\", \"A\"]"
   ]
  },
  {
   "cell_type": "code",
   "execution_count": 56,
   "metadata": {},
   "outputs": [
    {
     "name": "stdout",
     "output_type": "stream",
     "text": [
      "('spade', '2')\n",
      "('club', '3')\n",
      "('heart', '8')\n",
      "('spade', '8')\n",
      "('heart', '4')\n",
      "('club', 'Q')\n",
      "('heart', '5')\n",
      "('heart', '9')\n",
      "('spade', '9')\n",
      "('diamond', '6')\n",
      "('diamond', '10')\n",
      "('heart', 'J')\n",
      "('club', 'J')\n",
      "('diamond', '3')\n",
      "('diamond', 'J')\n",
      "('heart', 'K')\n",
      "('diamond', 'A')\n",
      "('diamond', 'Q')\n",
      "('spade', '3')\n",
      "('heart', '10')\n",
      "('club', '10')\n",
      "('spade', 'J')\n",
      "('heart', '7')\n",
      "('club', '4')\n",
      "('heart', '3')\n",
      "('spade', 'Q')\n",
      "('club', '7')\n",
      "('heart', '2')\n",
      "('club', 'K')\n",
      "('club', '9')\n",
      "('spade', '7')\n",
      "('diamond', '5')\n",
      "('spade', '5')\n",
      "('club', '2')\n",
      "('diamond', 'K')\n",
      "('spade', '10')\n",
      "('diamond', '4')\n",
      "('diamond', '9')\n",
      "('heart', '6')\n",
      "('spade', '6')\n",
      "('diamond', '7')\n",
      "('heart', 'Q')\n",
      "('club', '8')\n",
      "('club', '5')\n",
      "('diamond', '8')\n",
      "('heart', 'A')\n",
      "('spade', 'K')\n",
      "('diamond', '2')\n",
      "('spade', '4')\n",
      "('club', '6')\n",
      "('club', 'A')\n",
      "('spade', 'A')\n"
     ]
    }
   ],
   "source": [
    "# using an inner loop to create a deck of cards\n",
    "cards = []\n",
    "for suit in suits:\n",
    "    for face in faces:\n",
    "        cards.append((suit, face))\n",
    "# random.shuffle(cards)        \n",
    "print(*cards, sep=\"\\n\")         "
   ]
  },
  {
   "cell_type": "code",
   "execution_count": 54,
   "metadata": {
    "scrolled": true
   },
   "outputs": [
    {
     "name": "stdout",
     "output_type": "stream",
     "text": [
      "[('club', '9'), ('club', '7'), ('heart', '2'), ('club', 'J'), ('diamond', '8')]\n",
      "('club', '9')\n",
      "('club', '7')\n",
      "('heart', '2')\n",
      "('club', 'J')\n",
      "('diamond', '8')\n",
      "('spade', '2')\n",
      "('spade', '3')\n",
      "('spade', '4')\n",
      "('spade', '5')\n",
      "('spade', '7')\n",
      "('spade', '8')\n",
      "('spade', '9')\n",
      "('spade', '10')\n",
      "('spade', 'J')\n",
      "('spade', 'Q')\n",
      "('spade', 'K')\n",
      "('club', '2')\n",
      "('club', '3')\n",
      "('club', '4')\n",
      "('club', '6')\n",
      "('club', '10')\n",
      "('club', 'Q')\n",
      "('club', 'K')\n",
      "('club', 'A')\n",
      "('heart', '5')\n",
      "('heart', '6')\n",
      "('heart', '7')\n",
      "('heart', '8')\n",
      "('heart', '9')\n",
      "('heart', '10')\n",
      "('heart', 'J')\n",
      "('heart', 'Q')\n",
      "('heart', 'K')\n",
      "('heart', 'A')\n",
      "('diamond', '2')\n",
      "('diamond', '3')\n",
      "('diamond', '6')\n",
      "('diamond', '7')\n",
      "('diamond', '9')\n",
      "('diamond', '10')\n",
      "('diamond', 'J')\n",
      "('diamond', 'K')\n"
     ]
    }
   ],
   "source": [
    "import random\n",
    "hand1= random.sample(cards, 5)\n",
    "print(hand1)\n",
    "for card in hand1:\n",
    "    print(card)\n",
    "    cards.remove(card)\n",
    "   \n",
    "    \n",
    "# print(\"Pick 5 Random element from list:\", random.sample(cards, 5))\n",
    "# del cards[1:48]\n",
    "\n"
   ]
  },
  {
   "cell_type": "code",
   "execution_count": null,
   "metadata": {},
   "outputs": [],
   "source": [
    "print (len(cards))\n",
    "print(*cards, sep=\"\\n\")"
   ]
  },
  {
   "cell_type": "markdown",
   "metadata": {},
   "source": [
    "# Lesson 7"
   ]
  },
  {
   "cell_type": "markdown",
   "metadata": {},
   "source": [
    "## SAQ 3: How to make money at programming"
   ]
  },
  {
   "cell_type": "code",
   "execution_count": 1,
   "metadata": {},
   "outputs": [
    {
     "name": "stdout",
     "output_type": "stream",
     "text": [
      "dcba4321\n"
     ]
    }
   ],
   "source": [
    "def string_reverse(str1):\n",
    "\n",
    "    rstr1 = ''\n",
    "    index = len(str1)\n",
    "    while index > 0:\n",
    "        rstr1 += str1[ index - 1 ]\n",
    "        index = index - 1\n",
    "    return rstr1\n",
    "print(string_reverse('1234abcd'))"
   ]
  },
  {
   "cell_type": "code",
   "execution_count": null,
   "metadata": {},
   "outputs": [],
   "source": []
  },
  {
   "cell_type": "markdown",
   "metadata": {},
   "source": [
    "# Lesson 9: Matplotlib"
   ]
  },
  {
   "cell_type": "markdown",
   "metadata": {},
   "source": [
    "## SAQ 1: Waxing Warm and Cold"
   ]
  },
  {
   "cell_type": "code",
   "execution_count": 23,
   "metadata": {},
   "outputs": [],
   "source": [
    "import numpy as np\n",
    "from matplotlib import pyplot as plt\n",
    "plt.rcParams['figure.figsize'] = [10, 6]\n",
    "month =  [\"Jan\", \"Feb\", \"Mar\", \"Apr\", \"May\", \"June\", \"July\", \n",
    "          \"Aug\", \"Sept\", \"Oct\", \"Nov\", \"Dec\"]\n",
    "mean_temp  = [5.7,7.7,7.9,8.7,11.4,13.3,16.8,16.2,13.7,9.8,6.6,6.3]\n",
    "max_temp  = [11.5,16.6,17.7,22.1,21.7,24.1,26.6,23.4,22.1,17.1,14,14.2]\n",
    "min_temp = [-3.9,-3,1.2,0.2,0.5,3.8,6.9,7.8,5.1,-1.1,1.7,-1.9]\n",
    "\n",
    "x_indices = np.arange(len(month))\n",
    "width = 0.25"
   ]
  },
  {
   "cell_type": "code",
   "execution_count": null,
   "metadata": {},
   "outputs": [],
   "source": []
  },
  {
   "cell_type": "code",
   "execution_count": 24,
   "metadata": {
    "scrolled": true
   },
   "outputs": [
    {
     "data": {
      "text/plain": [
       "<matplotlib.legend.Legend at 0x7f8b93db0d90>"
      ]
     },
     "execution_count": 24,
     "metadata": {},
     "output_type": "execute_result"
    },
    {
     "data": {
      "image/png": "[encoded data removed]",
      "text/plain": [
       "<Figure size 720x432 with 1 Axes>"
      ]
     },
     "metadata": {},
     "output_type": "display_data"
    }
   ],
   "source": [
    "plt.style.use('Solarize_Light2')\n",
    "plt.bar(x_indices - width,  mean_temp,width = width, color = 'k', label = 'Mean Temp')\n",
    "plt.bar(x_indices, max_temp,width = width, label = 'Maximum Temp')\n",
    "plt.bar(x_indices + width, min_temp,width = width, label = 'Minimum Temp')\n",
    "plt.title('Temp Phonex Park 2019')\n",
    "plt.xlabel('Month')\n",
    "plt.ylabel('Tempreture')\n",
    "plt.grid(True)\n",
    "plt.legend()"
   ]
  },
  {
   "cell_type": "code",
   "execution_count": 9,
   "metadata": {},
   "outputs": [
    {
     "name": "stdout",
     "output_type": "stream",
     "text": [
      "['seaborn-dark', 'seaborn-darkgrid', 'seaborn-ticks', 'fivethirtyeight', 'seaborn-whitegrid', 'classic', '_classic_test', 'fast', 'seaborn-talk', 'seaborn-dark-palette', 'seaborn-bright', 'seaborn-pastel', 'grayscale', 'seaborn-notebook', 'ggplot', 'seaborn-colorblind', 'seaborn-muted', 'seaborn', 'Solarize_Light2', 'seaborn-paper', 'bmh', 'tableau-colorblind10', 'seaborn-white', 'dark_background', 'seaborn-poster', 'seaborn-deep']\n"
     ]
    }
   ],
   "source": [
    "print(plt.style.available)"
   ]
  },
  {
   "cell_type": "code",
   "execution_count": null,
   "metadata": {},
   "outputs": [],
   "source": [
    "plt.style.use('Solarize_Light2')"
   ]
  }
 ],
 "metadata": {
  "hide_input": false,
  "kernelspec": {
   "display_name": "Python 3",
   "language": "python",
   "name": "python3"
  },
  "language_info": {
   "codemirror_mode": {
    "name": "ipython",
    "version": 3
   },
   "file_extension": ".py",
   "mimetype": "text/x-python",
   "name": "python",
   "nbconvert_exporter": "python",
   "pygments_lexer": "ipython3",
   "version": "3.7.6"
  },
  "toc": {
   "base_numbering": 1,
   "nav_menu": {},
   "number_sections": true,
   "sideBar": true,
   "skip_h1_title": false,
   "title_cell": "Table of Contents",
   "title_sidebar": "Contents",
   "toc_cell": false,
   "toc_position": {},
   "toc_section_display": true,
   "toc_window_display": true
  }
 },
 "nbformat": 4,
 "nbformat_minor": 4
}
