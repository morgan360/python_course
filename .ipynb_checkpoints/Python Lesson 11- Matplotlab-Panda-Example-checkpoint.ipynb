{
 "cells": [
  {
   "cell_type": "markdown",
   "metadata": {},
   "source": [
    "version 1.0"
   ]
  },
  {
   "cell_type": "markdown",
   "metadata": {},
   "source": [
    "# Data Analysis using Pandas and Matplotlib\n",
    "\n",
    "A good source of data sets https://data.gov.ie/datase <br>\n",
    "Met Eireann Historical data available:<br>\n",
    "\n",
    "https://www.met.ie/climate/available-data/long-term-data-sets\n",
    "\n",
    "In this lesson we are going to import historical data from Met eireann and analyise it using Panda's and plot the results using Matplotlib.\n",
    "\n"
   ]
  },
  {
   "cell_type": "code",
   "execution_count": null,
   "metadata": {},
   "outputs": [],
   "source": [
    "# import the list of stations\n",
    "import pandas as pd\n",
    "# Plot Library\n",
    "from matplotlib import pyplot as plt\n",
    "import numpy as np"
   ]
  },
  {
   "cell_type": "markdown",
   "metadata": {},
   "source": [
    "## Import the CSV and Print Dataframe"
   ]
  },
  {
   "cell_type": "code",
   "execution_count": null,
   "metadata": {},
   "outputs": [],
   "source": [
    "# No need for a directory path if in the same directory\n",
    "df = pd.read_csv(\"/Users/morgan/Documents/Courses/Python/MyModules/DublinAirportClean.csv\")"
   ]
  },
  {
   "cell_type": "code",
   "execution_count": null,
   "metadata": {},
   "outputs": [],
   "source": [
    "print(df)"
   ]
  },
  {
   "cell_type": "markdown",
   "metadata": {},
   "source": [
    "## Changing the Index"
   ]
  },
  {
   "cell_type": "code",
   "execution_count": null,
   "metadata": {},
   "outputs": [],
   "source": [
    "# Make the Year the index value permanently\n",
    "df.set_index('Year', inplace = True)"
   ]
  },
  {
   "cell_type": "code",
   "execution_count": null,
   "metadata": {},
   "outputs": [],
   "source": [
    "df"
   ]
  },
  {
   "cell_type": "code",
   "execution_count": null,
   "metadata": {
    "scrolled": false
   },
   "outputs": [],
   "source": [
    "# Output the year values\n",
    "df['Year']"
   ]
  },
  {
   "cell_type": "code",
   "execution_count": null,
   "metadata": {
    "scrolled": true
   },
   "outputs": [],
   "source": [
    "df.index\n",
    "df['Year']\n",
    "#rain_y = df.loc['Aug']"
   ]
  },
  {
   "cell_type": "code",
   "execution_count": null,
   "metadata": {
    "scrolled": true
   },
   "outputs": [],
   "source": [
    "#Simple Plot\n",
    "plt.rcParams['figure.figsize'] = [10, 6]\n",
    "plt.style.use('Solarize_Light2')\n",
    "plt.plot(df['Year'],df.Jan)\n",
    "plt.plot(df['Year'],df.Aug)"
   ]
  },
  {
   "cell_type": "markdown",
   "metadata": {},
   "source": [
    "## Create a filter\n",
    "Our objective is to print out a bar chart that prints out the rain values for January, August and November at five or ten year intervals."
   ]
  },
  {
   "cell_type": "code",
   "execution_count": null,
   "metadata": {},
   "outputs": [],
   "source": [
    "# Create a list with a fewer number of years\n",
    "nums = range(1850,2010,5)\n",
    "my_list = []\n",
    "for n in nums:\n",
    "    my_list.append(n)\n",
    "print(my_list)"
   ]
  },
  {
   "cell_type": "code",
   "execution_count": null,
   "metadata": {},
   "outputs": [],
   "source": [
    "# Filter out the data for those years\n",
    "filt = df['Year'].isin(my_list)\n",
    "print(filt.head(30))"
   ]
  },
  {
   "cell_type": "code",
   "execution_count": null,
   "metadata": {
    "scrolled": false
   },
   "outputs": [],
   "source": [
    "x_values = df.loc[filt, ['Year']]\n",
    "print(x_values)"
   ]
  },
  {
   "cell_type": "markdown",
   "metadata": {},
   "source": [
    "## Create a new dataframe with the information that we want\n"
   ]
  },
  {
   "cell_type": "code",
   "execution_count": null,
   "metadata": {},
   "outputs": [],
   "source": [
    "# Create a new DataFrame with the data we want\n",
    "newDF = df.loc[filt, ['Year','Jan', 'Aug', 'Nov']]\n",
    "print(newDF)"
   ]
  },
  {
   "cell_type": "code",
   "execution_count": null,
   "metadata": {},
   "outputs": [],
   "source": [
    "# Print our new plot\n",
    "plt.plot(newDF['Year'],newDF.Jan)\n",
    "plt.plot(newDF['Year'],newDF.Aug)\n",
    "plt.plot(newDF['Year'],newDF.Nov)"
   ]
  },
  {
   "cell_type": "code",
   "execution_count": null,
   "metadata": {
    "scrolled": true
   },
   "outputs": [],
   "source": [
    "# Change to a bar plot\n",
    "plt.bar(newDF['Year'],newDF.Jan)\n",
    "plt.bar(newDF['Year'],newDF.Aug)\n",
    "plt.bar(newDF['Year'],newDF.Nov)\n",
    "\n",
    "\n",
    "\n"
   ]
  },
  {
   "cell_type": "markdown",
   "metadata": {},
   "source": [
    "## Hmmm...\n",
    "Let us try to sort out this mess..."
   ]
  },
  {
   "cell_type": "code",
   "execution_count": null,
   "metadata": {},
   "outputs": [],
   "source": [
    "plt.style.use('Solarize_Light2')\n",
    "plt.rcParams['figure.figsize'] = [14, 6]\n",
    "width = 0.85\n",
    "plt.bar(newDF['Year'] - width, newDF.Jan, width = width, label = 'January Rain')\n",
    "plt.bar(newDF['Year'] ,  newDF.Aug, width = width, color = 'k', label = 'August Rain')\n",
    "plt.bar(newDF['Year'] + width, newDF.Nov, width = width, label = 'November Rain')\n",
    "\n",
    "\n",
    "plt.title('Rain- Dublin Airport(1860-2010)')\n",
    "plt.xlabel('Year')\n",
    "plt.ylabel('Rain mm')\n",
    "plt.grid(True)\n",
    "plt.legend()"
   ]
  },
  {
   "cell_type": "markdown",
   "metadata": {},
   "source": [
    "# Statistical Analysis"
   ]
  },
  {
   "cell_type": "markdown",
   "metadata": {},
   "source": [
    "## Simple Stats"
   ]
  },
  {
   "cell_type": "code",
   "execution_count": null,
   "metadata": {},
   "outputs": [],
   "source": [
    "# Mean and Median\n",
    "print(df['Jan'].mean())\n",
    "\n",
    "df['Jan'].median()"
   ]
  },
  {
   "cell_type": "code",
   "execution_count": null,
   "metadata": {
    "scrolled": true
   },
   "outputs": [],
   "source": [
    "# Statistic on all of the dataframe\n",
    "df.mean()"
   ]
  },
  {
   "cell_type": "code",
   "execution_count": null,
   "metadata": {
    "scrolled": true
   },
   "outputs": [],
   "source": [
    "# General Statistics\n",
    "df.describe()"
   ]
  },
  {
   "cell_type": "markdown",
   "metadata": {},
   "source": [
    "## Grouping Data\n",
    "When grouping data it is a three phase process. Split, apply a function, recombine."
   ]
  },
  {
   "cell_type": "code",
   "execution_count": null,
   "metadata": {
    "scrolled": true
   },
   "outputs": [],
   "source": [
    "# load a new set of data for Killarney\n",
    "kill_df = pd.read_csv(\"/Users/morgan/Documents/Courses/Python/MyModules/Killarney_1881-1933.csv\")\n",
    "kill_df"
   ]
  },
  {
   "cell_type": "code",
   "execution_count": null,
   "metadata": {},
   "outputs": [],
   "source": [
    "kill_df.shape"
   ]
  },
  {
   "cell_type": "code",
   "execution_count": null,
   "metadata": {},
   "outputs": [],
   "source": [
    "year_group = kill_df.groupby(['Year'])"
   ]
  },
  {
   "cell_type": "code",
   "execution_count": null,
   "metadata": {},
   "outputs": [],
   "source": [
    "year_group.get_group(1933)"
   ]
  },
  {
   "cell_type": "code",
   "execution_count": null,
   "metadata": {},
   "outputs": [],
   "source": [
    "# Same as filter \n",
    "filt = kill_df['Year']== 1933\n",
    "kill_df.loc[filt]"
   ]
  },
  {
   "cell_type": "code",
   "execution_count": null,
   "metadata": {},
   "outputs": [],
   "source": [
    "kill_df.loc[filt,['Min (C)']].min()"
   ]
  },
  {
   "cell_type": "code",
   "execution_count": null,
   "metadata": {},
   "outputs": [],
   "source": [
    "#Get the lowest temp for each year from 1881\n",
    "year_group['Min (C)'].min()"
   ]
  },
  {
   "cell_type": "markdown",
   "metadata": {},
   "source": [
    "# SAQ 1\n",
    "Go to Met Eireann and download a set of data which is suitable for grouping. Import the csv file and group the data."
   ]
  },
  {
   "cell_type": "markdown",
   "metadata": {},
   "source": [
    "# Appendix"
   ]
  },
  {
   "cell_type": "markdown",
   "metadata": {},
   "source": [
    "## Clunky Graph Solution"
   ]
  },
  {
   "cell_type": "code",
   "execution_count": null,
   "metadata": {},
   "outputs": [],
   "source": [
    "jan_rain = df.loc[filt, ['Jan']]\n",
    "aug_rain = df.loc[filt, ['Aug']]\n",
    "nov_rain = df.loc[filt, ['Nov']]"
   ]
  },
  {
   "cell_type": "code",
   "execution_count": null,
   "metadata": {},
   "outputs": [],
   "source": [
    "year = df.loc[filt, ['Year']]"
   ]
  },
  {
   "cell_type": "code",
   "execution_count": null,
   "metadata": {},
   "outputs": [],
   "source": [
    "list_jan = jan_rain['Jan'].to_list()\n",
    "list_aug = aug_rain['Aug'].to_list()\n",
    "list_nov = nov_rain['Nov'].to_list()\n",
    "\n",
    "data= {'Year': my_list,\n",
    "      'Jan_rain': list_jan,\n",
    "      'Aug_rain': list_aug,\n",
    "      'Nov_rain': list_nov\n",
    "      }\n",
    "df_new = pd.DataFrame(data)\n",
    "df_new\n",
    "#print(jan_rain['Jan'].to_list())\n",
    "# print(jan_rain)"
   ]
  },
  {
   "cell_type": "code",
   "execution_count": null,
   "metadata": {
    "scrolled": true
   },
   "outputs": [],
   "source": [
    "print(nov_rain)"
   ]
  },
  {
   "cell_type": "code",
   "execution_count": null,
   "metadata": {},
   "outputs": [],
   "source": [
    "# Set the size of the plot\n",
    "plt.rcParams['figure.figsize'] = [10, 6]\n",
    "\n",
    "plt.bar(df_new['Year'],df_new.Jan_rain)\n",
    "plt.bar(df_new['Year'],df_new.Aug_rain)\n",
    "\n",
    "\n"
   ]
  },
  {
   "cell_type": "code",
   "execution_count": null,
   "metadata": {
    "scrolled": true
   },
   "outputs": [],
   "source": [
    "# Set the size of the plot\n",
    "plt.rcParams['figure.figsize'] = [14, 6]\n",
    "\n",
    "#Get a list of the years that we want\n",
    "nums = range(1860,2010,10)\n",
    "years = []\n",
    "for n in nums:\n",
    "    years.append(n)   \n",
    "\n",
    "    # Use the values in years to filter our datframe    \n",
    "filt = df['Year'].isin(years)\n",
    "\n",
    "year = df.loc[filt, ['Year']]\n",
    "# Get the values for the relevant months as a series\n",
    "jan_rain = df.loc[filt, ['Jan']]\n",
    "aug_rain = df.loc[filt, ['Aug']]\n",
    "nov_rain = df.loc[filt, ['Nov']]\n",
    "\n",
    "#Convert series to a list\n",
    "list_jan = jan_rain['Jan'].to_list()\n",
    "list_aug = aug_rain['Aug'].to_list()\n",
    "list_nov = nov_rain['Nov'].to_list()\n",
    "\n",
    "data= {'Year': years,\n",
    "      'Jan_rain': list_jan,\n",
    "      'Aug_rain': list_aug,\n",
    "      'Nov_rain': list_nov\n",
    "      }\n",
    "df_new = pd.DataFrame(data)\n",
    "print(df_new)\n",
    "\n",
    "# x_indices = np.arange(len(month))\n",
    "width = 1.85"
   ]
  },
  {
   "cell_type": "code",
   "execution_count": null,
   "metadata": {},
   "outputs": [],
   "source": [
    "plt.style.use('Solarize_Light2')\n",
    "\n",
    "plt.bar(df_new['Year'] - width, df_new.Jan_rain, width = width, label = 'January Rain')\n",
    "plt.bar(df_new['Year'] ,  df_new.Aug_rain, width = width, color = 'k', label = 'August Rain')\n",
    "plt.bar(df_new['Year'] + width, df_new.Nov_rain, width = width, label = 'November Rain')\n",
    "\n",
    "\n",
    "plt.title('Rain- Dublin Airport(1860-2010)')\n",
    "plt.xlabel('Year')\n",
    "plt.ylabel('Rain mm')\n",
    "plt.grid(True)\n",
    "plt.legend()"
   ]
  }
 ],
 "metadata": {
  "hide_input": false,
  "kernelspec": {
   "display_name": "Python 3",
   "language": "python",
   "name": "python3"
  },
  "language_info": {
   "codemirror_mode": {
    "name": "ipython",
    "version": 3
   },
   "file_extension": ".py",
   "mimetype": "text/x-python",
   "name": "python",
   "nbconvert_exporter": "python",
   "pygments_lexer": "ipython3",
   "version": "3.7.6"
  },
  "toc": {
   "base_numbering": 1,
   "nav_menu": {},
   "number_sections": true,
   "sideBar": true,
   "skip_h1_title": false,
   "title_cell": "Table of Contents",
   "title_sidebar": "Contents",
   "toc_cell": false,
   "toc_position": {},
   "toc_section_display": true,
   "toc_window_display": true
  }
 },
 "nbformat": 4,
 "nbformat_minor": 4
}
