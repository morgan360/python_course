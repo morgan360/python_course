{
 "cells": [
  {
   "cell_type": "markdown",
   "metadata": {},
   "source": [
    "# Lesson 7 - Libraries and Modules\n",
    "\n",
    "When we import a module it creates all  the functions and variables and runs any statements such as print. You must save it as a py file and for our purposes we will story it in the same directory."
   ]
  },
  {
   "cell_type": "code",
   "execution_count": 3,
   "metadata": {
    "scrolled": true
   },
   "outputs": [],
   "source": [
    "import sys\n",
    "# sys.path.append('/Users/morgan/Documents/Courses/Python/MyModules')\n",
    "# import morgans_module as mm\n",
    "import morgans_module2 \n",
    "import random"
   ]
  },
  {
   "cell_type": "code",
   "execution_count": 2,
   "metadata": {},
   "outputs": [],
   "source": [
    "courses = ['History','Math', 'Physics', 'Irish']"
   ]
  },
  {
   "cell_type": "code",
   "execution_count": null,
   "metadata": {},
   "outputs": [],
   "source": [
    "index = morgans_module.find_index(courses, 'Irish')\n",
    "print(index)"
   ]
  },
  {
   "cell_type": "code",
   "execution_count": null,
   "metadata": {},
   "outputs": [],
   "source": [
    "index = mm.find_index(courses, 'Irish')\n",
    "print(index)"
   ]
  },
  {
   "cell_type": "code",
   "execution_count": null,
   "metadata": {
    "scrolled": true
   },
   "outputs": [],
   "source": [
    "print(mm.test)"
   ]
  },
  {
   "cell_type": "markdown",
   "metadata": {},
   "source": [
    "## Direct Imports\n",
    "Functions and variables can also be imported directly."
   ]
  },
  {
   "cell_type": "code",
   "execution_count": null,
   "metadata": {},
   "outputs": [],
   "source": [
    "from morgans_module import find_index\n",
    "index = find_index(courses, 'Irish')\n",
    "print(index)"
   ]
  },
  {
   "cell_type": "code",
   "execution_count": null,
   "metadata": {},
   "outputs": [],
   "source": [
    "from morgans_module import find_index, test\n",
    "index = find_index(courses, 'Irish')\n",
    "print(index)\n",
    "print(test)"
   ]
  },
  {
   "cell_type": "code",
   "execution_count": 5,
   "metadata": {},
   "outputs": [
    {
     "name": "stdout",
     "output_type": "stream",
     "text": [
      "Test String\n"
     ]
    }
   ],
   "source": [
    "from morgans_module import find_index as fi, test\n",
    "#index = fi(courses, 'Irish')\n",
    "#print(index)\n",
    "print(test)"
   ]
  },
  {
   "cell_type": "markdown",
   "metadata": {},
   "source": [
    "### Warning\n",
    "It quickly becomes unreadable, so avoid this like the Corona virus. Import * is also frowned upon, because it is hard to trace back where the function comes from."
   ]
  },
  {
   "cell_type": "markdown",
   "metadata": {},
   "source": [
    "## SYS Path\n",
    "How does Python know where to find the module."
   ]
  },
  {
   "cell_type": "code",
   "execution_count": 13,
   "metadata": {},
   "outputs": [
    {
     "name": "stdout",
     "output_type": "stream",
     "text": [
      "['/Users/morgan/Documents/Courses/Python/MyPrograms', '/Users/morgan/opt/anaconda3/lib/python37.zip', '/Users/morgan/opt/anaconda3/lib/python3.7', '/Users/morgan/opt/anaconda3/lib/python3.7/lib-dynload', '', '/Users/morgan/opt/anaconda3/lib/python3.7/site-packages', '/Users/morgan/opt/anaconda3/lib/python3.7/site-packages/aeosa', '/Users/morgan/opt/anaconda3/lib/python3.7/site-packages/IPython/extensions', '/Users/morgan/.ipython', '/Users/morgan/Documents/Courses/Python/MyModules', '/Users/morgan/Documents/Courses/Python/MyModules', '/Users/morgan/Documents/Courses/Python/MyModules']\n"
     ]
    }
   ],
   "source": [
    "print(sys.path)"
   ]
  },
  {
   "cell_type": "markdown",
   "metadata": {},
   "source": [
    "First path is where you run your file from. Python path enviornment variable. Standard Library Directories. Third party packages. Module not in same directory."
   ]
  },
  {
   "cell_type": "markdown",
   "metadata": {},
   "source": [
    "### Modifying sys.path\n",
    "To use another diectory for your modules you need to append the path on to the sys.path list. In my case it is as follows:\n",
    "\n",
    "```Python\n",
    "sys.path.append('/Users/morgan/Documents/Courses/Python/MyModules')/Users/morgan/Documents/Courses/Python/MyModules')\n",
    "```\n",
    "\n",
    "To permentaly change the location you need to change the enviornment variables. This varies between apple and windows you should reference this on internet. on make change the  ~/.zshrc file using nano or other text editor.\n",
    "\n",
    "Ad the folllowing: \n",
    "```\n",
    "export PYTHONPATH=\"/Users/morgan/Documents/Courses/Python/MyModules\"\n",
    "```\n",
    "\n"
   ]
  },
  {
   "cell_type": "markdown",
   "metadata": {},
   "source": [
    "## Standard Library Directories\n",
    "Written by the best programmers in the world and optimised. For example Random Module from standard library."
   ]
  },
  {
   "cell_type": "code",
   "execution_count": 6,
   "metadata": {},
   "outputs": [
    {
     "name": "stdout",
     "output_type": "stream",
     "text": [
      "Physics\n"
     ]
    }
   ],
   "source": [
    "courses = ['History','Math', 'Physics', 'Irish']\n",
    "random_course = random.choice(courses)\n",
    "print(random_course)"
   ]
  },
  {
   "cell_type": "code",
   "execution_count": 9,
   "metadata": {},
   "outputs": [
    {
     "name": "stdout",
     "output_type": "stream",
     "text": [
      "1.5707963267948966\n"
     ]
    }
   ],
   "source": [
    "import math\n",
    "rads = math.radians(90)\n",
    "print(rads)"
   ]
  },
  {
   "cell_type": "code",
   "execution_count": 12,
   "metadata": {},
   "outputs": [
    {
     "name": "stdout",
     "output_type": "stream",
     "text": [
      "1.0\n"
     ]
    }
   ],
   "source": [
    "print(math.sin(rads))"
   ]
  },
  {
   "cell_type": "code",
   "execution_count": 24,
   "metadata": {},
   "outputs": [],
   "source": [
    "import datetime\n",
    "import calendar"
   ]
  },
  {
   "cell_type": "code",
   "execution_count": 15,
   "metadata": {},
   "outputs": [
    {
     "name": "stdout",
     "output_type": "stream",
     "text": [
      "2020-07-09\n"
     ]
    }
   ],
   "source": [
    "today = datetime.date.today()\n",
    "print(today)"
   ]
  },
  {
   "cell_type": "code",
   "execution_count": 19,
   "metadata": {},
   "outputs": [
    {
     "name": "stdout",
     "output_type": "stream",
     "text": [
      "Current Time = 2020:11:47:31\n"
     ]
    }
   ],
   "source": [
    "from datetime import datetime\n",
    "\n",
    "now = datetime.now()\n",
    "\n",
    "current_time = now.strftime(\"%Y:%H:%M:%S\")\n",
    "print(\"Current Time =\", current_time)"
   ]
  },
  {
   "cell_type": "code",
   "execution_count": 26,
   "metadata": {
    "scrolled": true
   },
   "outputs": [
    {
     "name": "stdout",
     "output_type": "stream",
     "text": [
      "True\n"
     ]
    }
   ],
   "source": [
    "print(calendar.isleap(2020))"
   ]
  },
  {
   "cell_type": "code",
   "execution_count": 27,
   "metadata": {},
   "outputs": [
    {
     "name": "stdout",
     "output_type": "stream",
     "text": [
      "/Users/morgan/Documents/Courses/Python/MyPrograms\n"
     ]
    }
   ],
   "source": [
    "# Can be used to create and delete files as well.\n",
    "import os\n",
    "print (os.getcwd())"
   ]
  },
  {
   "cell_type": "markdown",
   "metadata": {},
   "source": [
    "## Dunder\n",
    "All modules are written in Python code and you can use the dunder (double underscore) attribute to find where the are."
   ]
  },
  {
   "cell_type": "code",
   "execution_count": 30,
   "metadata": {},
   "outputs": [
    {
     "name": "stdout",
     "output_type": "stream",
     "text": [
      "/Users/morgan/opt/anaconda3/lib/python3.7/random.py\n"
     ]
    }
   ],
   "source": [
    "print (random.__file__)"
   ]
  },
  {
   "cell_type": "code",
   "execution_count": 31,
   "metadata": {},
   "outputs": [],
   "source": [
    "import antigravity"
   ]
  },
  {
   "cell_type": "code",
   "execution_count": null,
   "metadata": {},
   "outputs": [],
   "source": []
  }
 ],
 "metadata": {
  "hide_input": false,
  "kernelspec": {
   "display_name": "Python 3",
   "language": "python",
   "name": "python3"
  },
  "language_info": {
   "codemirror_mode": {
    "name": "ipython",
    "version": 3
   },
   "file_extension": ".py",
   "mimetype": "text/x-python",
   "name": "python",
   "nbconvert_exporter": "python",
   "pygments_lexer": "ipython3",
   "version": "3.7.6"
  },
  "toc": {
   "base_numbering": 1,
   "nav_menu": {},
   "number_sections": true,
   "sideBar": true,
   "skip_h1_title": false,
   "title_cell": "Table of Contents",
   "title_sidebar": "Contents",
   "toc_cell": false,
   "toc_position": {},
   "toc_section_display": true,
   "toc_window_display": true
  }
 },
 "nbformat": 4,
 "nbformat_minor": 4
}
