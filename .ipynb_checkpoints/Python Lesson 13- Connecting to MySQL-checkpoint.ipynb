{
 "cells": [
  {
   "cell_type": "code",
   "execution_count": 16,
   "metadata": {},
   "outputs": [],
   "source": [
    "#Variable Arguments in dictionary\n",
    "import mysql.connector\n",
    "\n",
    "\n",
    "connection_config_dict = { 'host' :\"cabin-fever.ie\",  'user': \"c580241\",  'password': \"9)58wRK5st:kAS\",\n",
    "'database' :' c580241_wp98'}\n",
    "\n",
    "ouzel_conect = mysql.connector.connect(**connection_config_dict)"
   ]
  },
  {
   "cell_type": "code",
   "execution_count": 17,
   "metadata": {},
   "outputs": [
    {
     "name": "stdout",
     "output_type": "stream",
     "text": [
      "('mor_rounds',)\n",
      "('mor_scores',)\n",
      "('mor_teams',)\n",
      "('ouzel_actionscheduler_actions',)\n",
      "('ouzel_actionscheduler_claims',)\n",
      "('ouzel_actionscheduler_groups',)\n",
      "('ouzel_actionscheduler_logs',)\n",
      "('ouzel_commentmeta',)\n",
      "('ouzel_comments',)\n",
      "('ouzel_evf_entries',)\n",
      "('ouzel_evf_entrymeta',)\n",
      "('ouzel_evf_sessions',)\n",
      "('ouzel_links',)\n",
      "('ouzel_options',)\n",
      "('ouzel_postmeta',)\n",
      "('ouzel_posts',)\n",
      "('ouzel_term_relationships',)\n",
      "('ouzel_term_taxonomy',)\n",
      "('ouzel_termmeta',)\n",
      "('ouzel_terms',)\n",
      "('ouzel_usermeta',)\n",
      "('ouzel_users',)\n",
      "('ouzel_wc_admin_note_actions',)\n",
      "('ouzel_wc_admin_notes',)\n",
      "('ouzel_wc_category_lookup',)\n",
      "('ouzel_wc_customer_lookup',)\n",
      "('ouzel_wc_download_log',)\n",
      "('ouzel_wc_order_coupon_lookup',)\n",
      "('ouzel_wc_order_product_lookup',)\n",
      "('ouzel_wc_order_stats',)\n",
      "('ouzel_wc_order_tax_lookup',)\n",
      "('ouzel_wc_product_meta_lookup',)\n",
      "('ouzel_wc_reserved_stock',)\n",
      "('ouzel_wc_tax_rate_classes',)\n",
      "('ouzel_wc_webhooks',)\n",
      "('ouzel_woocommerce_api_keys',)\n",
      "('ouzel_woocommerce_attribute_taxonomies',)\n",
      "('ouzel_woocommerce_downloadable_product_permissions',)\n",
      "('ouzel_woocommerce_log',)\n",
      "('ouzel_woocommerce_order_itemmeta',)\n",
      "('ouzel_woocommerce_order_items',)\n",
      "('ouzel_woocommerce_payment_tokenmeta',)\n",
      "('ouzel_woocommerce_payment_tokens',)\n",
      "('ouzel_woocommerce_sessions',)\n",
      "('ouzel_woocommerce_shipping_zone_locations',)\n",
      "('ouzel_woocommerce_shipping_zone_methods',)\n",
      "('ouzel_woocommerce_shipping_zones',)\n",
      "('ouzel_woocommerce_tax_rate_locations',)\n",
      "('ouzel_woocommerce_tax_rates',)\n",
      "('ouzel_wpforms_tasks_meta',)\n"
     ]
    }
   ],
   "source": [
    "mycursor = ouzel_conect.cursor()\n",
    "\n",
    "mycursor.execute(\"SHOW TABLES\")\n",
    "\n",
    "for x in mycursor:\n",
    "  print(x)"
   ]
  },
  {
   "cell_type": "code",
   "execution_count": 26,
   "metadata": {
    "scrolled": true
   },
   "outputs": [
    {
     "name": "stdout",
     "output_type": "stream",
     "text": [
      "Displaying column name from table \n",
      "('id',)\n",
      "('round',)\n",
      "('description',)\n"
     ]
    }
   ],
   "source": [
    "#Variable Arguments in dictionary\n",
    "import mysql.connector\n",
    "\n",
    "\n",
    "connection_config_dict = { 'host' :\"cabin-fever.ie\",  'user': \"c580241\",  'password': \"9)58wRK5st:kAS\",\n",
    "'database' :' c580241_wp98'}\n",
    "\n",
    "ouzel_conect = mysql.connector.connect(**connection_config_dict)\n",
    "# Find table colulmns\n",
    "PostgreSQL_select_Query = \"\"\"select column_name from information_schema.columns where table_name = 'mor_rounds' \"\"\"\n",
    "   \n",
    "cursor = ouzel_conect.cursor()\n",
    "cursor.execute(PostgreSQL_select_Query)\n",
    "records = cursor.fetchall()\n",
    "print (\"Displaying column name from table \")\n",
    "for column in records:\n",
    "       print (column)"
   ]
  },
  {
   "cell_type": "code",
   "execution_count": 27,
   "metadata": {},
   "outputs": [],
   "source": [
    "sql = \"INSERT INTO mor_rounds (round, description) VALUES (%s, %s)\"\n",
    "val = (\"Round 1\", \"Weigh Anchor\")\n",
    "cursor.execute(sql, val)"
   ]
  },
  {
   "cell_type": "code",
   "execution_count": 28,
   "metadata": {},
   "outputs": [
    {
     "name": "stdout",
     "output_type": "stream",
     "text": [
      "(3, 'Round 1', 'Weigh Anchor')\n"
     ]
    }
   ],
   "source": [
    "sql = \"SELECT * FROM mor_rounds\"\n",
    "cursor.execute(sql)\n",
    "result = cursor.fetchall()\n",
    "for x in result:\n",
    "  print(x)"
   ]
  },
  {
   "cell_type": "code",
   "execution_count": null,
   "metadata": {},
   "outputs": [],
   "source": []
  }
 ],
 "metadata": {
  "hide_input": false,
  "kernelspec": {
   "display_name": "Python 3",
   "language": "python",
   "name": "python3"
  },
  "language_info": {
   "codemirror_mode": {
    "name": "ipython",
    "version": 3
   },
   "file_extension": ".py",
   "mimetype": "text/x-python",
   "name": "python",
   "nbconvert_exporter": "python",
   "pygments_lexer": "ipython3",
   "version": "3.7.6"
  },
  "toc": {
   "base_numbering": 1,
   "nav_menu": {},
   "number_sections": true,
   "sideBar": true,
   "skip_h1_title": false,
   "title_cell": "Table of Contents",
   "title_sidebar": "Contents",
   "toc_cell": false,
   "toc_position": {},
   "toc_section_display": true,
   "toc_window_display": true
  }
 },
 "nbformat": 4,
 "nbformat_minor": 4
}
