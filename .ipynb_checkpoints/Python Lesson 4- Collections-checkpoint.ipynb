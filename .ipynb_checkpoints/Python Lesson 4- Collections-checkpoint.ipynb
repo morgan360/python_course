{
 "cells": [
  {
   "cell_type": "markdown",
   "metadata": {},
   "source": [
    "Notes: version 1.1"
   ]
  },
  {
   "cell_type": "markdown",
   "metadata": {},
   "source": [
    "# Collections\n",
    "\n",
    "In this section we will be looking at collections of elements(things). Elements are stored in arrays as either **lists**, **tuples**, **sets**, or **dictionaries**.<br>\n",
    "\n",
    "**Lists and Tuples** allow us to work with sequential data, and **sets** are unordered collections of values with no duplicates. \n",
    "\n",
    "A **dictionary** is a list of elements organized in key value pairs.  Just like in a word dictionary, you look for a specific term. In programming, it is called a **key**. The definition is its **value**. This is called a **KEY <> VALUE** pair.\n",
    "\n",
    "```python\n",
    "myDict = {\"Jenny\": 34, \"Livia\": 28, \"Paul\": 31}\n",
    "print(myDict[\"Jenny\"]) # -> 34\n",
    "\n",
    "```\n",
    "In Python, a **tuple** is similar to **List** except that the objects in tuple are immutable which means we cannot change the elements of a tuple once assigned. On the other hand, we can change the elements of a list. A **tuple** is defined using round brackets.\n",
    "\n",
    "```python\n",
    "    my_data = (\"hi\", \"hello\", \"bye\")\n",
    "    print(my_data)\n",
    "```\n"
   ]
  },
  {
   "cell_type": "markdown",
   "metadata": {},
   "source": [
    "## Lists\n",
    "A **list** is defined using square brackets and each element in a list is enclosed in quotes and separated with a comma (Except the last item)\n",
    "\n",
    "```Python\n",
    "\n",
    "borrowedBooks = ['The Road', 'The Grapes of Wrath', 'The Shark', 'War of the worlds']\n",
    "\n",
    "```"
   ]
  },
  {
   "cell_type": "code",
   "execution_count": null,
   "metadata": {},
   "outputs": [],
   "source": [
    "courses = ['History','Math', 'Physics', 'Irish','French', 'Geography']\n",
    "print(courses)"
   ]
  },
  {
   "cell_type": "code",
   "execution_count": null,
   "metadata": {},
   "outputs": [],
   "source": [
    "print(len(courses))"
   ]
  },
  {
   "cell_type": "code",
   "execution_count": null,
   "metadata": {},
   "outputs": [],
   "source": [
    "print(courses[5])"
   ]
  },
  {
   "cell_type": "code",
   "execution_count": null,
   "metadata": {},
   "outputs": [],
   "source": [
    "print(courses[-6]) # dont need to know lenght"
   ]
  },
  {
   "cell_type": "markdown",
   "metadata": {},
   "source": [
    "### Slicing"
   ]
  },
  {
   "cell_type": "code",
   "execution_count": null,
   "metadata": {},
   "outputs": [],
   "source": [
    "print(courses[3:5]) # 2 not included (stop)"
   ]
  },
  {
   "cell_type": "code",
   "execution_count": null,
   "metadata": {},
   "outputs": [],
   "source": [
    "print(courses[:2]) # assumes start from 0\n",
    "\n",
    "print(courses[2:]) # assumes stop at last item"
   ]
  },
  {
   "cell_type": "markdown",
   "metadata": {},
   "source": [
    "## Methods"
   ]
  },
  {
   "cell_type": "code",
   "execution_count": null,
   "metadata": {},
   "outputs": [],
   "source": [
    "# Add item to our list\n",
    "courses = ['History','Math', 'Physics', 'Irish','French', 'Geography']\n",
    "print(courses)\n",
    "courses.append('Art') # appends to end\n",
    "print(courses)"
   ]
  },
  {
   "cell_type": "code",
   "execution_count": null,
   "metadata": {},
   "outputs": [],
   "source": [
    "# Inser Method\n",
    "courses.insert(5, 'Social Science')\n",
    "print(courses)"
   ]
  },
  {
   "cell_type": "code",
   "execution_count": null,
   "metadata": {},
   "outputs": [],
   "source": [
    "# Insert a List into a list\n",
    "courses = ['History','Math', 'Physics', 'Irish']\n",
    "courses_2 = ['Geography', 'Spanish']\n",
    "courses.insert(2, courses_2) # A list within a list\n",
    "print(courses)\n",
    "\n"
   ]
  },
  {
   "cell_type": "code",
   "execution_count": null,
   "metadata": {},
   "outputs": [],
   "source": [
    "print(courses[2][1])"
   ]
  },
  {
   "cell_type": "markdown",
   "metadata": {},
   "source": [
    "### extend method"
   ]
  },
  {
   "cell_type": "code",
   "execution_count": 51,
   "metadata": {},
   "outputs": [
    {
     "name": "stdout",
     "output_type": "stream",
     "text": [
      "['History', 'Math', 'Physics', 'Irish']\n",
      "['History', 'Math', 'Physics', 'Irish', 'Geography', 'Spanish']\n"
     ]
    }
   ],
   "source": [
    "# used to add the items to the end\n",
    "courses = ['History','Math', 'Physics', 'Irish']\n",
    "print(courses)\n",
    "courses_2 = ['Geography', 'Spanish']\n",
    "courses.extend(courses_2)\n",
    "print(courses)"
   ]
  },
  {
   "cell_type": "markdown",
   "metadata": {},
   "source": [
    "### remove method\n",
    "Used to remove items from a list\n"
   ]
  },
  {
   "cell_type": "code",
   "execution_count": 53,
   "metadata": {},
   "outputs": [
    {
     "name": "stdout",
     "output_type": "stream",
     "text": [
      "['History', 'Math', 'Physics', 'Irish']\n",
      "['History', 'Math', 'Physics']\n"
     ]
    }
   ],
   "source": [
    "# remove() function\n",
    "courses = ['History','Math', 'Physics', 'Irish']\n",
    "print(courses)\n",
    "courses.remove('Irish')\n",
    "print(courses)"
   ]
  },
  {
   "cell_type": "code",
   "execution_count": 54,
   "metadata": {},
   "outputs": [
    {
     "name": "stdout",
     "output_type": "stream",
     "text": [
      "['History', 'Math', 'Physics']\n",
      "Physics\n",
      "['History', 'Math']\n"
     ]
    }
   ],
   "source": [
    "#pop()\n",
    "courses = ['History','Math', 'Physics', 'Irish']\n",
    "courses.pop() # removes the last value from a list and stores the values\n",
    "print(courses)\n",
    "removed = courses.pop()\n",
    "print(removed)\n",
    "print(courses)"
   ]
  },
  {
   "cell_type": "markdown",
   "metadata": {},
   "source": [
    "### Ordering Lists"
   ]
  },
  {
   "cell_type": "code",
   "execution_count": 55,
   "metadata": {},
   "outputs": [
    {
     "name": "stdout",
     "output_type": "stream",
     "text": [
      "['History', 'Math', 'Physics', 'Irish']\n",
      "['Irish', 'Physics', 'Math', 'History']\n"
     ]
    }
   ],
   "source": [
    "# Reversing the order reverse()\n",
    "courses = ['History','Math', 'Physics', 'Irish']\n",
    "nums = [1,2,5,3,4]\n",
    "\n",
    "print(courses)\n",
    "courses.reverse()\n",
    "print(courses)"
   ]
  },
  {
   "cell_type": "code",
   "execution_count": 56,
   "metadata": {},
   "outputs": [
    {
     "name": "stdout",
     "output_type": "stream",
     "text": [
      "['History', 'Irish', 'Math', 'Physics']\n"
     ]
    }
   ],
   "source": [
    "courses.sort()\n",
    "print(courses)"
   ]
  },
  {
   "cell_type": "code",
   "execution_count": 57,
   "metadata": {},
   "outputs": [
    {
     "name": "stdout",
     "output_type": "stream",
     "text": [
      "['History', 'Irish', 'Math', 'Physics']\n",
      "[1, 2, 3, 4, 5]\n"
     ]
    }
   ],
   "source": [
    "courses.sort()\n",
    "print(courses)\n",
    "nums.sort()\n",
    "print(nums)"
   ]
  },
  {
   "cell_type": "code",
   "execution_count": 58,
   "metadata": {},
   "outputs": [
    {
     "name": "stdout",
     "output_type": "stream",
     "text": [
      "[5, 4, 3, 2, 1]\n"
     ]
    }
   ],
   "source": [
    "#reverse sort\n",
    "nums = [1,2,5,3,4]\n",
    "nums.sort(reverse = True)\n",
    "print(nums)"
   ]
  },
  {
   "cell_type": "markdown",
   "metadata": {},
   "source": [
    "### Sorting Lists\n",
    "Sorting list without changing the origonal list. Use a sorted function."
   ]
  },
  {
   "cell_type": "code",
   "execution_count": 59,
   "metadata": {},
   "outputs": [
    {
     "name": "stdout",
     "output_type": "stream",
     "text": [
      "[1, 2, 5, 3, 4]\n",
      "[1, 2, 3, 4, 5]\n"
     ]
    }
   ],
   "source": [
    "# sorted() Does not change list\n",
    "nums = [1,2,5,3,4]\n",
    "sorted_nums = sorted(nums)\n",
    "print(nums)\n",
    "print(sorted_nums)"
   ]
  },
  {
   "cell_type": "markdown",
   "metadata": {},
   "source": [
    "## SAQ 1 min, max, sum\n",
    "Test out the three functions min, max and sum"
   ]
  },
  {
   "cell_type": "code",
   "execution_count": null,
   "metadata": {},
   "outputs": [],
   "source": [
    "nums = [1,2,5,3,4]\n",
    "\n"
   ]
  },
  {
   "cell_type": "markdown",
   "metadata": {},
   "source": [
    "### index and in method\n",
    "Find value in list"
   ]
  },
  {
   "cell_type": "code",
   "execution_count": null,
   "metadata": {},
   "outputs": [],
   "source": [
    "courses = ['History','Math', 'Physics', 'Irish']\n",
    "print(courses.index('Irish')) "
   ]
  },
  {
   "cell_type": "code",
   "execution_count": null,
   "metadata": {},
   "outputs": [],
   "source": [
    "print('Art' in courses)# Asking if it is in the set"
   ]
  },
  {
   "cell_type": "code",
   "execution_count": null,
   "metadata": {},
   "outputs": [],
   "source": [
    "print('History' in courses)"
   ]
  },
  {
   "cell_type": "code",
   "execution_count": null,
   "metadata": {},
   "outputs": [],
   "source": [
    "for item in courses: # loop item can be anything\n",
    "    print(item)"
   ]
  },
  {
   "cell_type": "code",
   "execution_count": null,
   "metadata": {},
   "outputs": [],
   "source": [
    "for index, course in enumerate(courses): # loop item can be anything\n",
    "    print(index, course)"
   ]
  },
  {
   "cell_type": "markdown",
   "metadata": {},
   "source": [
    "### Join/Split Methods\n",
    "Print out a list as a string and visa versa"
   ]
  },
  {
   "cell_type": "code",
   "execution_count": null,
   "metadata": {},
   "outputs": [],
   "source": [
    "courses = ['History','Math', 'Physics', 'Irish']\n",
    "course_str = '-'.join(courses)"
   ]
  },
  {
   "cell_type": "code",
   "execution_count": null,
   "metadata": {},
   "outputs": [],
   "source": [
    "print(course_str)"
   ]
  },
  {
   "cell_type": "code",
   "execution_count": null,
   "metadata": {},
   "outputs": [],
   "source": [
    "course_str =' History@Math@Physics@Irish'\n",
    "courses= course_str.split('@')\n",
    "print(courses)"
   ]
  },
  {
   "cell_type": "markdown",
   "metadata": {},
   "source": [
    "## Tuples\n",
    "**Tuples** are similar to lists except they cannot be modified. These are referred to as immutable as opposed to a list which is mutable. If you want to list that cannot be changed for example Constance, **pi** **e**, **Monday** then you should use a Tuple. You use round brackets to define a tuple. The same methods do not apply to Tuples as they cannot be changed. However we can loop through **Tuples** and access values et cetera."
   ]
  },
  {
   "cell_type": "code",
   "execution_count": null,
   "metadata": {},
   "outputs": [],
   "source": [
    "courses = ('History','Math', 'Physics', 'Irish')\n",
    "courses.append('Art')"
   ]
  },
  {
   "cell_type": "raw",
   "metadata": {},
   "source": []
  },
  {
   "cell_type": "markdown",
   "metadata": {},
   "source": [
    "## Sets\n",
    "Sets are unordered and have no duplicates. You use curly braces to define a set. Sets are often used to get rid of duplicate values and they are offten used to compare values."
   ]
  },
  {
   "cell_type": "code",
   "execution_count": null,
   "metadata": {},
   "outputs": [],
   "source": [
    "courses_set  = {'History','Math', 'Physics', 'Irish'}\n",
    "print(courses_set) #not in order can be any order\n"
   ]
  },
  {
   "cell_type": "code",
   "execution_count": null,
   "metadata": {},
   "outputs": [],
   "source": [
    "courses_set  = {'History','Math', 'Physics', 'Irish','Math'}\n",
    "print(courses_set) #not in order"
   ]
  },
  {
   "cell_type": "code",
   "execution_count": null,
   "metadata": {},
   "outputs": [],
   "source": [
    "# Sets can easily determine what values they share or do not share with another set.\n",
    "courses_set1  = {'History','Math', 'Physics', 'Irish'}\n",
    "courses_set2  = {'History','Geography', 'Physics', 'French'}\n",
    "\n",
    "print(courses_set1.intersection(courses_set2))"
   ]
  },
  {
   "cell_type": "code",
   "execution_count": null,
   "metadata": {
    "scrolled": true
   },
   "outputs": [],
   "source": [
    "print(courses_set1.difference(courses_set2))"
   ]
  },
  {
   "cell_type": "code",
   "execution_count": null,
   "metadata": {},
   "outputs": [],
   "source": [
    "print(courses_set1.union(courses_set2))"
   ]
  },
  {
   "cell_type": "markdown",
   "metadata": {},
   "source": [
    "## Creating Empty Lists, tuples and sets\n",
    "\n",
    "```python\n",
    "\n",
    "empty_list = []\n",
    "empty_list = list()\n",
    "\n",
    "empty_tuple =()\n",
    "empty_tuple = tuple()\n",
    "\n",
    "empty_set ={} # no it thinks it is a dictiionary\n",
    "empty_set = set() # yes\n",
    "\n",
    "```\n",
    "\n",
    "\n"
   ]
  },
  {
   "cell_type": "markdown",
   "metadata": {},
   "source": [
    "## SAQ 2\n",
    "Write a program that accepts an input from a user, an animal, and prints a list of all the inputs. run the program a few times so that you have a list of five animals."
   ]
  },
  {
   "cell_type": "code",
   "execution_count": null,
   "metadata": {},
   "outputs": [],
   "source": [
    "animals = []\n",
    "animal = input(\"Add an Animal\")\n",
    "animals.append(animal) # appends to end\n",
    "print(animals)"
   ]
  },
  {
   "cell_type": "code",
   "execution_count": null,
   "metadata": {},
   "outputs": [],
   "source": [
    "animal = input(\"Add an Animal\")\n",
    "animals.append(animal) # appends to end\n",
    "print(animals)"
   ]
  },
  {
   "cell_type": "code",
   "execution_count": null,
   "metadata": {},
   "outputs": [],
   "source": []
  },
  {
   "cell_type": "markdown",
   "metadata": {},
   "source": [
    "## Dictionaries\n",
    "Dictionaries allow us to work with key value pairs and if you're coming\n",
    "from another programming language then you may have heard these called hash\n",
    "maps or associative arrays. With key value pairs these are two linked values where\n",
    "the key is a unique identifier of where we can find our data and the value is the\n",
    "data.We can think of them as like a real physical dictionary where we look up for definitions. For example  example each word that we look up would be the key and the definition of that word would be the value."
   ]
  },
  {
   "cell_type": "markdown",
   "metadata": {},
   "source": [
    "### Dictionary Examples"
   ]
  },
  {
   "cell_type": "code",
   "execution_count": null,
   "metadata": {},
   "outputs": [],
   "source": [
    "# Example\n",
    "student = {'name':'John', 'age': 24, 'subjects': ['Irish','English']}\n",
    "print(student)"
   ]
  },
  {
   "cell_type": "code",
   "execution_count": null,
   "metadata": {},
   "outputs": [],
   "source": [
    "# Index ids your key\n",
    "print(student['name'])\n",
    "print(student['subjects'])"
   ]
  },
  {
   "cell_type": "code",
   "execution_count": null,
   "metadata": {},
   "outputs": [],
   "source": [
    "# Keys can be any value\n",
    "student = {1:'John', 'age': 24, 'subjects': ['Irish','English']}\n",
    "print(student[1])"
   ]
  },
  {
   "cell_type": "code",
   "execution_count": null,
   "metadata": {
    "scrolled": true
   },
   "outputs": [],
   "source": [
    "# Search for non-eistent key\n",
    "student = {'name':'John', 'age': 24, 'subjects': ['Irish','English']}\n",
    "print(student['name'])\n",
    "print(student['phone'])\n"
   ]
  },
  {
   "cell_type": "markdown",
   "metadata": {},
   "source": [
    "### Get Method\n",
    "The get method is another way to access a dictionary value."
   ]
  },
  {
   "cell_type": "code",
   "execution_count": null,
   "metadata": {},
   "outputs": [],
   "source": [
    "# get method does not produce an error\n",
    "student = {'name':'John', 'age': 24, 'subjects': ['Irish','English']}\n",
    "print(student.get('name'))\n",
    "print(student.get('phone'))\n",
    "print(student.get('phone','Not to be seen')) # Your own message"
   ]
  },
  {
   "cell_type": "markdown",
   "metadata": {},
   "source": [
    "### Add/update values to/in an dictionary"
   ]
  },
  {
   "cell_type": "code",
   "execution_count": null,
   "metadata": {},
   "outputs": [],
   "source": [
    "# get method does not produce an error\n",
    "student = {'name':'John', 'age': 24, 'subjects': ['Irish','English']}\n",
    "print(student)\n",
    "student['phone'] ='01-456789'#add a value to dictionary\n",
    "print(student)\n",
    "student['phone'] ='01-9999999'#update a value in a dictionary\n",
    "print(student)"
   ]
  },
  {
   "cell_type": "markdown",
   "metadata": {},
   "source": [
    "### Dictionary Update Method\n",
    "Ideal if you want to change multiple things at once. You can add and update."
   ]
  },
  {
   "cell_type": "code",
   "execution_count": null,
   "metadata": {},
   "outputs": [],
   "source": [
    "student.update({'name': 'Mary', 'phone': '333333333', 'grade': 44})\n",
    "print(student)"
   ]
  },
  {
   "cell_type": "markdown",
   "metadata": {},
   "source": [
    "### Del and Pop methods\n",
    "Del deletes a key/value; Pop remove sbut also return and that value "
   ]
  },
  {
   "cell_type": "code",
   "execution_count": null,
   "metadata": {},
   "outputs": [],
   "source": [
    "# Delete\n",
    "del student['name']\n",
    "age = student.pop('age')\n",
    "print(student)\n",
    "print(age)"
   ]
  },
  {
   "cell_type": "markdown",
   "metadata": {},
   "source": [
    "### Looping Through a Dictionary"
   ]
  },
  {
   "cell_type": "code",
   "execution_count": null,
   "metadata": {},
   "outputs": [],
   "source": [
    "student.update({'name': 'Mary', 'phone': '333333333', 'grade': 44})\n",
    "print(len(student)) # Number of elements in the dictionary"
   ]
  },
  {
   "cell_type": "code",
   "execution_count": null,
   "metadata": {},
   "outputs": [],
   "source": [
    "print(student.keys())\n",
    "print(student.values())\n",
    "print(student.items())"
   ]
  },
  {
   "cell_type": "code",
   "execution_count": null,
   "metadata": {},
   "outputs": [],
   "source": [
    "for key in student:\n",
    "    print(key)\n",
    "for value in student: # prints keys as well\n",
    "    print(value)"
   ]
  },
  {
   "cell_type": "code",
   "execution_count": null,
   "metadata": {},
   "outputs": [],
   "source": [
    "# Iterate through key value pairs.\n",
    "for key,value in student.items():\n",
    "    print(key,value)"
   ]
  },
  {
   "cell_type": "markdown",
   "metadata": {},
   "source": [
    "## SAQ 3\n",
    "Create a dictionary of Animal names their ages and genre. eg Rover, 4, dog. Allow a user through an Input Statement to add new animals.  Print out the result each time."
   ]
  },
  {
   "cell_type": "code",
   "execution_count": null,
   "metadata": {},
   "outputs": [],
   "source": []
  }
 ],
 "metadata": {
  "hide_input": false,
  "kernelspec": {
   "display_name": "Python 3",
   "language": "python",
   "name": "python3"
  },
  "language_info": {
   "codemirror_mode": {
    "name": "ipython",
    "version": 3
   },
   "file_extension": ".py",
   "mimetype": "text/x-python",
   "name": "python",
   "nbconvert_exporter": "python",
   "pygments_lexer": "ipython3",
   "version": "3.7.6"
  },
  "toc": {
   "base_numbering": 1,
   "nav_menu": {},
   "number_sections": true,
   "sideBar": true,
   "skip_h1_title": false,
   "title_cell": "Table of Contents",
   "title_sidebar": "Contents",
   "toc_cell": false,
   "toc_position": {},
   "toc_section_display": true,
   "toc_window_display": true
  }
 },
 "nbformat": 4,
 "nbformat_minor": 4
}
