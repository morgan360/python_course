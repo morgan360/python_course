{
 "cells": [
  {
   "cell_type": "code",
   "execution_count": 70,
   "metadata": {},
   "outputs": [],
   "source": [
    "import random\n",
    "suits = [\"spades\", \"clubs\", \"hearts\", \"diamonds\"]\n",
    "faces = [\"2\", \"3\", \"4\", \"5\", \"6\", \"7\", \"8\", \"9\", \"10\", \"J\", \"Q\", \"K\", \"A\"]"
   ]
  },
  {
   "cell_type": "code",
   "execution_count": 87,
   "metadata": {
    "scrolled": false
   },
   "outputs": [
    {
     "name": "stdout",
     "output_type": "stream",
     "text": [
      "52\n",
      "('2', 'spades')\n",
      "('3', 'spades')\n",
      "('4', 'spades')\n",
      "('5', 'spades')\n",
      "('6', 'spades')\n",
      "('7', 'spades')\n",
      "('8', 'spades')\n",
      "('9', 'spades')\n",
      "('10', 'spades')\n",
      "('J', 'spades')\n",
      "('Q', 'spades')\n",
      "('K', 'spades')\n",
      "('A', 'spades')\n",
      "('2', 'clubs')\n",
      "('3', 'clubs')\n",
      "('4', 'clubs')\n",
      "('5', 'clubs')\n",
      "('6', 'clubs')\n",
      "('7', 'clubs')\n",
      "('8', 'clubs')\n",
      "('9', 'clubs')\n",
      "('10', 'clubs')\n",
      "('J', 'clubs')\n",
      "('Q', 'clubs')\n",
      "('K', 'clubs')\n",
      "('A', 'clubs')\n",
      "('2', 'hearts')\n",
      "('3', 'hearts')\n",
      "('4', 'hearts')\n",
      "('5', 'hearts')\n",
      "('6', 'hearts')\n",
      "('7', 'hearts')\n",
      "('8', 'hearts')\n",
      "('9', 'hearts')\n",
      "('10', 'hearts')\n",
      "('J', 'hearts')\n",
      "('Q', 'hearts')\n",
      "('K', 'hearts')\n",
      "('A', 'hearts')\n",
      "('2', 'diamonds')\n",
      "('3', 'diamonds')\n",
      "('4', 'diamonds')\n",
      "('5', 'diamonds')\n",
      "('6', 'diamonds')\n",
      "('7', 'diamonds')\n",
      "('8', 'diamonds')\n",
      "('9', 'diamonds')\n",
      "('10', 'diamonds')\n",
      "('J', 'diamonds')\n",
      "('Q', 'diamonds')\n",
      "('K', 'diamonds')\n",
      "('A', 'diamonds')\n"
     ]
    }
   ],
   "source": [
    "# using an inner loop to create a deck of cards\n",
    "cards = []\n",
    "for suit in suits:\n",
    "    for face in faces:\n",
    "        cards.append((face, suit ))\n",
    "print(len(cards))\n",
    "print(*cards, sep=\"\\n\")"
   ]
  },
  {
   "cell_type": "code",
   "execution_count": 88,
   "metadata": {},
   "outputs": [],
   "source": [
    "def foo():\n",
    "    hand1 = random.sample(cards,5)\n",
    "    for card in hand1:\n",
    "        cards.remove(card)\n",
    "    print(hand1)\n",
    "    return(hand1)\n",
    "def keep_going(hand1):\n",
    "    print(hand1)\n",
    "    response = input('would you like to continue? Y/N :')    \n",
    "    if response == 'y':\n",
    "        for card in hand1:\n",
    "            cards.append(card)\n",
    "        else:\n",
    "            return hand1\n",
    "        exit() "
   ]
  },
  {
   "cell_type": "code",
   "execution_count": 89,
   "metadata": {},
   "outputs": [
    {
     "name": "stdout",
     "output_type": "stream",
     "text": [
      "[('6', 'diamonds'), ('Q', 'hearts'), ('5', 'diamonds'), ('7', 'spades'), ('K', 'hearts')]\n"
     ]
    }
   ],
   "source": [
    "hand1 = foo()\n"
   ]
  },
  {
   "cell_type": "code",
   "execution_count": 81,
   "metadata": {},
   "outputs": [
    {
     "name": "stdout",
     "output_type": "stream",
     "text": [
      "47\n",
      "('2', 'spades')\n",
      "('3', 'spades')\n",
      "('4', 'spades')\n",
      "('5', 'spades')\n",
      "('6', 'spades')\n",
      "('7', 'spades')\n",
      "('8', 'spades')\n",
      "('9', 'spades')\n",
      "('10', 'spades')\n",
      "('J', 'spades')\n",
      "('Q', 'spades')\n",
      "('K', 'spades')\n",
      "('A', 'spades')\n",
      "('2', 'clubs')\n",
      "('3', 'clubs')\n",
      "('4', 'clubs')\n",
      "('5', 'clubs')\n",
      "('6', 'clubs')\n",
      "('7', 'clubs')\n",
      "('8', 'clubs')\n",
      "('9', 'clubs')\n",
      "('10', 'clubs')\n",
      "('J', 'clubs')\n",
      "('K', 'clubs')\n",
      "('A', 'clubs')\n",
      "('3', 'hearts')\n",
      "('4', 'hearts')\n",
      "('5', 'hearts')\n",
      "('6', 'hearts')\n",
      "('7', 'hearts')\n",
      "('8', 'hearts')\n",
      "('9', 'hearts')\n",
      "('J', 'hearts')\n",
      "('Q', 'hearts')\n",
      "('A', 'hearts')\n",
      "('2', 'diamonds')\n",
      "('3', 'diamonds')\n",
      "('4', 'diamonds')\n",
      "('5', 'diamonds')\n",
      "('7', 'diamonds')\n",
      "('8', 'diamonds')\n",
      "('9', 'diamonds')\n",
      "('10', 'diamonds')\n",
      "('J', 'diamonds')\n",
      "('Q', 'diamonds')\n",
      "('K', 'diamonds')\n",
      "('A', 'diamonds')\n"
     ]
    }
   ],
   "source": [
    "print(len(cards))\n",
    "print(*cards, sep=\"\\n\")"
   ]
  },
  {
   "cell_type": "code",
   "execution_count": 90,
   "metadata": {},
   "outputs": [
    {
     "name": "stdout",
     "output_type": "stream",
     "text": [
      "[('6', 'diamonds'), ('Q', 'hearts'), ('5', 'diamonds'), ('7', 'spades'), ('K', 'hearts')]\n",
      "would you like to continue? Y/N :y\n"
     ]
    },
    {
     "data": {
      "text/plain": [
       "[('6', 'diamonds'),\n",
       " ('Q', 'hearts'),\n",
       " ('5', 'diamonds'),\n",
       " ('7', 'spades'),\n",
       " ('K', 'hearts')]"
      ]
     },
     "execution_count": 90,
     "metadata": {},
     "output_type": "execute_result"
    }
   ],
   "source": [
    "keep_going(hand1)"
   ]
  },
  {
   "cell_type": "code",
   "execution_count": 91,
   "metadata": {
    "scrolled": true
   },
   "outputs": [
    {
     "name": "stdout",
     "output_type": "stream",
     "text": [
      "52\n",
      "('2', 'spades')\n",
      "('3', 'spades')\n",
      "('4', 'spades')\n",
      "('5', 'spades')\n",
      "('6', 'spades')\n",
      "('8', 'spades')\n",
      "('9', 'spades')\n",
      "('10', 'spades')\n",
      "('J', 'spades')\n",
      "('Q', 'spades')\n",
      "('K', 'spades')\n",
      "('A', 'spades')\n",
      "('2', 'clubs')\n",
      "('3', 'clubs')\n",
      "('4', 'clubs')\n",
      "('5', 'clubs')\n",
      "('6', 'clubs')\n",
      "('7', 'clubs')\n",
      "('8', 'clubs')\n",
      "('9', 'clubs')\n",
      "('10', 'clubs')\n",
      "('J', 'clubs')\n",
      "('Q', 'clubs')\n",
      "('K', 'clubs')\n",
      "('A', 'clubs')\n",
      "('2', 'hearts')\n",
      "('3', 'hearts')\n",
      "('4', 'hearts')\n",
      "('5', 'hearts')\n",
      "('6', 'hearts')\n",
      "('7', 'hearts')\n",
      "('8', 'hearts')\n",
      "('9', 'hearts')\n",
      "('10', 'hearts')\n",
      "('J', 'hearts')\n",
      "('A', 'hearts')\n",
      "('2', 'diamonds')\n",
      "('3', 'diamonds')\n",
      "('4', 'diamonds')\n",
      "('7', 'diamonds')\n",
      "('8', 'diamonds')\n",
      "('9', 'diamonds')\n",
      "('10', 'diamonds')\n",
      "('J', 'diamonds')\n",
      "('Q', 'diamonds')\n",
      "('K', 'diamonds')\n",
      "('A', 'diamonds')\n",
      "('6', 'diamonds')\n",
      "('Q', 'hearts')\n",
      "('5', 'diamonds')\n",
      "('7', 'spades')\n",
      "('K', 'hearts')\n"
     ]
    }
   ],
   "source": [
    "print(len(cards))\n",
    "print(*cards, sep=\"\\n\")"
   ]
  },
  {
   "cell_type": "code",
   "execution_count": null,
   "metadata": {},
   "outputs": [],
   "source": []
  }
 ],
 "metadata": {
  "hide_input": false,
  "kernelspec": {
   "display_name": "Python 3",
   "language": "python",
   "name": "python3"
  },
  "language_info": {
   "codemirror_mode": {
    "name": "ipython",
    "version": 3
   },
   "file_extension": ".py",
   "mimetype": "text/x-python",
   "name": "python",
   "nbconvert_exporter": "python",
   "pygments_lexer": "ipython3",
   "version": "3.7.6"
  },
  "toc": {
   "base_numbering": 1,
   "nav_menu": {},
   "number_sections": true,
   "sideBar": true,
   "skip_h1_title": false,
   "title_cell": "Table of Contents",
   "title_sidebar": "Contents",
   "toc_cell": false,
   "toc_position": {},
   "toc_section_display": true,
   "toc_window_display": true
  }
 },
 "nbformat": 4,
 "nbformat_minor": 4
}
