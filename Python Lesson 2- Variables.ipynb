{
 "cells": [
  {
   "cell_type": "markdown",
   "metadata": {},
   "source": [
    "<center style=\"font-size:30px\" > Lesson 2 - Data Types</center><br>"
   ]
  },
  {
   "cell_type": "markdown",
   "metadata": {},
   "source": [
    "# Data Types\n",
    "\n",
    "**Primitive data types** are those that exist on their own - like atoms. They are the simplest types and are the foundation for all computer operations. You can combine them to construct more complex types, as you will see in the next chapter. You'll use **numeric** types and **strings** most often.\n",
    "\n",
    "## Numeric types\n",
    "These are:\n",
    "**Integers**, which are whole numbers, like the numbers you use to count (1, 2, 3).\n",
    "\n",
    "**Decimals**, like those you may use to store money values (2.50 or 5.99).\n",
    "\n",
    "Integers are declared like any other variable, with the name then the value: \n",
    "```\n",
    "count = 10\n",
    "```\n",
    "As you can see, your variable's value is 10, which is, of course, an integer: therefore, your variable **count** is an **integer** type. 😉  \n",
    "\n",
    "For decimals, Python uses **float type**. You can define it in the same way as integers:\n",
    "```\n",
    "length = 1876.79\n",
    "width = 1876.79797657\n",
    "```\n",
    "As long as the value is a decimal number, Python will automatically store it as a float variable.\n",
    "\n",
    "### Mixing numeric types\n",
    "An important thing to keep in mind is how the types mix together and what consequences it may have. If you mix together different types, the higher will always apply to the result. For example, an integer can be a float, but the opposite is not necessarily true. A float is the higher type: if you mix a float with an integer, the result will always be a float no matter the operation or the result.\n",
    "\n",
    "\n",
    "\n",
    "\n",
    "\n"
   ]
  },
  {
   "cell_type": "markdown",
   "metadata": {},
   "source": [
    "## VARIABLES\n",
    "In Python, a variable is created when you first assign a value to it. \n",
    "Rules for Python variables:\n",
    "* A variable can have a short name (e.g. x) or a more descriptive name (e.g. age, price).\n",
    "* A variable name must start with a letter or the underscore character.\n",
    "* A variable name cannot start with a number.\n",
    "* A variable name can only contain alpha-numeric characters and underscores (A-z, 0-9, and _ ).\n",
    "* Variable names are case-sensitive (age, Age and AGE are three different variables).\n",
    "Variables do not need to be declared with any particular type and can even change type after they have been set."
   ]
  },
  {
   "cell_type": "markdown",
   "metadata": {},
   "source": [
    "## String Variables\n",
    "\n",
    "The Python print statement is often used to output variables.\n",
    "To combine both text and a variable, Python uses the + character.\n",
    "Note you are also using a variable to store a string.\n"
   ]
  },
  {
   "cell_type": "code",
   "execution_count": null,
   "metadata": {},
   "outputs": [],
   "source": [
    "days_of_week = \"monday\""
   ]
  },
  {
   "cell_type": "code",
   "execution_count": 1,
   "metadata": {},
   "outputs": [
    {
     "name": "stdout",
     "output_type": "stream",
     "text": [
      "Hello and welcome\n"
     ]
    }
   ],
   "source": [
    "\n",
    "greeting = \"welcome\"\n",
    "print(\"Hello and \" + greeting)"
   ]
  },
  {
   "cell_type": "markdown",
   "metadata": {},
   "source": [
    "### Single or Double Qoutes\n",
    "\n",
    "You can use either single or double quotes around a string. Which you use is dependent on what is in the string e.g. if there is a single quote in the string then use double quotes and visa versa."
   ]
  },
  {
   "cell_type": "code",
   "execution_count": 7,
   "metadata": {},
   "outputs": [],
   "source": [
    "message = \"Morgan's Apple\""
   ]
  },
  {
   "cell_type": "code",
   "execution_count": 8,
   "metadata": {},
   "outputs": [
    {
     "name": "stdout",
     "output_type": "stream",
     "text": [
      "Morgan's Apple\n"
     ]
    }
   ],
   "source": [
    "print(message)"
   ]
  },
  {
   "cell_type": "markdown",
   "metadata": {},
   "source": [
    "### Functions on Strings\n",
    "\n",
    "**len(foo)** gives the number of letters in the string.\n"
   ]
  },
  {
   "cell_type": "code",
   "execution_count": 9,
   "metadata": {},
   "outputs": [
    {
     "name": "stdout",
     "output_type": "stream",
     "text": [
      "6\n"
     ]
    }
   ],
   "source": [
    "print(len('Morgan'))"
   ]
  },
  {
   "cell_type": "markdown",
   "metadata": {},
   "source": [
    "You can print individual characters in your string, by indexing the letter i.e. the index is the position of the \n",
    "letter in the string. **Note** indices begin at 0 not 1. You use square brackets [ ] to identify the letter."
   ]
  },
  {
   "cell_type": "code",
   "execution_count": 12,
   "metadata": {},
   "outputs": [
    {
     "name": "stdout",
     "output_type": "stream",
     "text": [
      "z\n"
     ]
    }
   ],
   "source": [
    "#example\n",
    "alphabet = \"abcdefghijklmnopqrstuvwxyz\"\n",
    "\n",
    "print(alphabet[25])"
   ]
  },
  {
   "cell_type": "code",
   "execution_count": 13,
   "metadata": {},
   "outputs": [
    {
     "name": "stdout",
     "output_type": "stream",
     "text": [
      "abcdefghijklmnopqrstuvwxy\n"
     ]
    }
   ],
   "source": [
    "# Print a range\n",
    "print(alphabet[0:25])"
   ]
  },
  {
   "cell_type": "markdown",
   "metadata": {},
   "source": [
    "### Methods and Functions\n",
    "These names are often used interchangeably and are very similar in what they do. However, functions are stand alone whereas a method belongs to an object. This will be explained better in the object oriented lesson. For now they will be used interchangeably. There are a number of methods available for strings."
   ]
  },
  {
   "cell_type": "code",
   "execution_count": 15,
   "metadata": {},
   "outputs": [
    {
     "name": "stdout",
     "output_type": "stream",
     "text": [
      "Hello World\n",
      "hello world\n",
      "HELLO WORLD\n"
     ]
    }
   ],
   "source": [
    "message = 'Hello World'\n",
    "print(message)\n",
    "print(message.lower()) # note brackets on the method\n",
    "print(message.upper())"
   ]
  },
  {
   "cell_type": "code",
   "execution_count": 14,
   "metadata": {},
   "outputs": [
    {
     "name": "stdout",
     "output_type": "stream",
     "text": [
      "Hello Universe\n",
      "Hello World\n"
     ]
    }
   ],
   "source": [
    "#replace\n",
    "message = 'Hello World'\n",
    "print(message.replace('World','Universe'))\n",
    "print(message)"
   ]
  },
  {
   "cell_type": "markdown",
   "metadata": {},
   "source": [
    "## SAQ - 1\n",
    "Print your name using the albhabet string, and the + to concatenate strings. Bonus: Capitalise your name"
   ]
  },
  {
   "cell_type": "code",
   "execution_count": 20,
   "metadata": {},
   "outputs": [],
   "source": [
    "#Add your answer here\n",
    "alphabet = \"abcdefghijklmnopqrstuvwxyz\"\n",
    "\n",
    "\n"
   ]
  },
  {
   "cell_type": "markdown",
   "metadata": {},
   "source": [
    "## SAQ - 2"
   ]
  },
  {
   "cell_type": "code",
   "execution_count": 21,
   "metadata": {},
   "outputs": [
    {
     "data": {
      "text/plain": [
       "'Create two paramaters x= First Name and  y = Age and print the statment x is y years old\\n    Note to change an integer to a string use the str() function.'"
      ]
     },
     "execution_count": 21,
     "metadata": {},
     "output_type": "execute_result"
    }
   ],
   "source": [
    "#Part (a)\n",
    "\"\"\"Create two paramaters x= First Name and  y = Age and print the statment x is y years old\n",
    "    Note to change an integer to a string use the str() function.\"\"\""
   ]
  },
  {
   "cell_type": "markdown",
   "metadata": {},
   "source": [
    "### Print Message Formatting"
   ]
  },
  {
   "cell_type": "code",
   "execution_count": 18,
   "metadata": {},
   "outputs": [
    {
     "name": "stdout",
     "output_type": "stream",
     "text": [
      "Hello, Morgan\n",
      "Hello,Morgan. Welcome!\n"
     ]
    }
   ],
   "source": [
    "greeting = 'Hello'\n",
    "name = 'Morgan'\n",
    "print(greeting+', '+ name)\n",
    "message = '{},{}. Welcome!'.format(greeting,name)\n",
    "\n",
    "print(message)"
   ]
  },
  {
   "cell_type": "markdown",
   "metadata": {},
   "source": [
    "### f strings\n",
    "New to Python are f strings they replace the format method above."
   ]
  },
  {
   "cell_type": "code",
   "execution_count": 34,
   "metadata": {},
   "outputs": [
    {
     "name": "stdout",
     "output_type": "stream",
     "text": [
      "Hello,Morgan. Welcome!\n"
     ]
    }
   ],
   "source": [
    "message = f'{greeting},{name}. Welcome!'\n",
    "\n",
    "print(message)"
   ]
  },
  {
   "cell_type": "markdown",
   "metadata": {},
   "source": [
    "## Variable Operators"
   ]
  },
  {
   "cell_type": "markdown",
   "metadata": {},
   "source": [
    "## OPERATORS\n",
    "\n",
    "Operators are used to perform operations on variables and values. Operators can be grouped as follows:\n",
    "\n",
    "- Arithmetic operators\n",
    "- Assignment operators\n",
    "- Comparison operators\n",
    "- Logical operators\n",
    "- Identity operators\n",
    "- Membership operators\n",
    "- Bitwise operators"
   ]
  },
  {
   "cell_type": "code",
   "execution_count": 28,
   "metadata": {},
   "outputs": [
    {
     "name": "stdout",
     "output_type": "stream",
     "text": [
      "0.9000000000000004\n"
     ]
    }
   ],
   "source": [
    "print(3.2%2.3)"
   ]
  },
  {
   "cell_type": "markdown",
   "metadata": {},
   "source": [
    "### Arithmetic Operators\n",
    "\n",
    "The Python assignment operators are:\n",
    "\n",
    "<table style=\"border:1px solid black\" align =\"left\" >\n",
    "    <tr>\n",
    "        <th>\n",
    "            operator\n",
    "        </th>\n",
    "        <th>\n",
    "            Name\n",
    "        </th>\n",
    "        <th>\n",
    "            Example\n",
    "        </th>\n",
    "        <th>\n",
    "            Description\n",
    "        </th>\n",
    "   </tr>\n",
    "   <tr>\n",
    "            <td>\n",
    "                +\n",
    "            </td>\n",
    "            <td>\n",
    "                Addition\n",
    "            </td>\n",
    "            <td>\n",
    "                x+y\n",
    "            </td>\n",
    "            <td>\n",
    "                Adds the values on either side of the operator\n",
    "            </td>\n",
    "        </tr>\n",
    "        <tr>\n",
    "            <td>\n",
    "                -\n",
    "            </td>\n",
    "            <td>\n",
    "                Subtraction\n",
    "            </td>\n",
    "            <td>\n",
    "                x-y\n",
    "            </td>\n",
    "            <td>\n",
    "                Subtracts the value on the right from the one on the left\n",
    "            </td>\n",
    "        </tr>\n",
    "        <tr>\n",
    "            <td>\n",
    "                *\n",
    "            </td>\n",
    "            <td>\n",
    "                Multiplication\n",
    "            </td>\n",
    "            <td>\n",
    "                x\\y\n",
    "            </td>\n",
    "            <td>\n",
    "                Multiplies the values on either side of the operator\n",
    "            </td>\n",
    "        </tr>\n",
    "        <tr>\n",
    "            <td>\n",
    "                /\n",
    "            </td>\n",
    "            <td>\n",
    "                Division\n",
    "            </td>\n",
    "            <td>\n",
    "                x/y\n",
    "            </td>\n",
    "            <td>\n",
    "                Divides the value on the left by the one on the right Division results in a floating-point value\n",
    "            </td>\n",
    "        </tr>\n",
    "        <tr>\n",
    "            <td>\n",
    "                %\n",
    "            </td>\n",
    "            <td>\n",
    "                Modulus\n",
    "            </td>\n",
    "            <td>\n",
    "                x%y\n",
    "            </td>\n",
    "            <td>\n",
    "                Divides and returns the value of the remainder\n",
    "            </td>\n",
    "        </tr>\n",
    "        <tr>\n",
    "        <td>\n",
    "            **\n",
    "        </td>\n",
    "        <td>\n",
    "            Exponentiation\n",
    "        </td>\n",
    "        <td>\n",
    "            x**y\n",
    "        </td>\n",
    "        <td>\n",
    "            Raises the first number to the power of the second\n",
    "        </td>\n",
    "    </tr>\n",
    "    <tr>\n",
    "        <td>\n",
    "        //\n",
    "        </td>\n",
    "        <td>\n",
    "        Floor division\n",
    "        </td>\n",
    "        <td>\n",
    "        x//y\n",
    "        </td>\n",
    "        <td>\n",
    "        Divides and returns the integer value of the quotient. It dumps the digits after the decimal\n",
    "        </td>\n",
    "    </tr>\n",
    "</table>"
   ]
  },
  {
   "cell_type": "code",
   "execution_count": 29,
   "metadata": {},
   "outputs": [
    {
     "name": "stdout",
     "output_type": "stream",
     "text": [
      "1\n",
      "0\n",
      "1\n",
      "1\n",
      "0\n"
     ]
    }
   ],
   "source": [
    "# Modulus Operator\n",
    "print( 3%2 )\n",
    "print( 4%2 )\n",
    "print( 5%2 )\n",
    "print( 35%2 )\n",
    "print( 52%2 )"
   ]
  },
  {
   "cell_type": "markdown",
   "metadata": {},
   "source": [
    "### Assignment Operators\n",
    "\n",
    "The Python arithmetic operators are:\n",
    "\n",
    "<table style=\"border:1px solid black\" align =\"left\">\n",
    "    <tr>\n",
    "        <th>\n",
    "            operator\n",
    "        </th>\n",
    "        <th>\n",
    "            Name\n",
    "        </th>\n",
    "        <th>\n",
    "            Description\n",
    "        </th>\n",
    "   </tr>\n",
    "        <tr>\n",
    "            <td>\n",
    "                =\n",
    "            </td>\n",
    "            <td>\n",
    "                Assign\n",
    "            </td>\n",
    "            <td>\n",
    "               Assigns a value to the expression on the left\n",
    "            </td>\n",
    "        </tr>\n",
    "        <tr>\n",
    "            <td>\n",
    "               +=\n",
    "            </td>\n",
    "            <td>\n",
    "                Add and Assign\n",
    "            </td>\n",
    "            <td>\n",
    "                Adds the values on either side and assigns it to the \n",
    "                expression on the left. a+=10 is the same as a=a+10.\n",
    "            </td>\n",
    "        </tr>\n",
    "        <tr>\n",
    "            <td>\n",
    "               -=\n",
    "            </td>\n",
    "            <td>\n",
    "                Subtract and Assign\n",
    "            </td>\n",
    "            <td>\n",
    "                Subtracts the value on the right from the value on the left\n",
    "                Then it assigns it to the expression on the left\n",
    "            </td>\n",
    "        </tr>\n",
    "        <tr>\n",
    "            <td>\n",
    "               *=\n",
    "            </td>\n",
    "            <td>\n",
    "                Multiply and Assign\n",
    "            </td>\n",
    "            <td>Multiplies the values on either sides. Then it assigns it to \n",
    "                the expression on the left.\n",
    "            </td>\n",
    "        </tr>\n",
    "        <tr>\n",
    "            <td>\n",
    "               /=\n",
    "            </td>\n",
    "            <td>\n",
    "                Divide and Assign\n",
    "            </td>\n",
    "            <td>\n",
    "                Divides the value on the left by the one on the right Division results in a floating-point value\n",
    "            </td>\n",
    "        </tr>\n",
    "     <tr>\n",
    "        <td>\n",
    "            %=\n",
    "        </td>\n",
    "        <td>\n",
    "            Modulus and Assign\n",
    "        </td>\n",
    "        <td>\n",
    "           Performs modulus on the values on either side. Then it \n",
    "           assigns it to the expression on the left\n",
    "        </td>\n",
    "    </tr>\n",
    "<tr>\n",
    "    <td>\n",
    "        //=\n",
    "    </td>\n",
    "    <td>\n",
    "        Floor-Divide and Assign \n",
    "    </td>\n",
    "    <td>\n",
    "        Performs floor-division on the values on either side. Then \n",
    "        assigns it to the expression on the left\n",
    "    </td>\n",
    "</tr>\n",
    "<tr>\n",
    "    <td>\n",
    "        **=\n",
    "    </td>\n",
    "    <td>\n",
    "        Exponent and Assign\n",
    "    </td>\n",
    "    <td>\n",
    "        Performs exponentiation on the values on either side. Then \n",
    "        assigns it to the expression on the left.\n",
    "    </td>\n",
    "</tr>\n",
    "<tr>\n",
    "    <td>\n",
    "        abs (function)\n",
    "    </td>\n",
    "    <td>\n",
    "        Absolute Value\n",
    "    </td>\n",
    "    <td>\n",
    "        Changes negative to positive abs(-3) = 3\n",
    "    </td>\n",
    "</tr> \n",
    "<tr>\n",
    "    <td>\n",
    "        rnd (function)\n",
    "    </td>\n",
    "    <td>\n",
    "        Rounds the number\n",
    "    </td>\n",
    "    <td>\n",
    "       rounds up a number e.g. round(3.886) =4\n",
    "    </td>\n",
    "</tr>    \n",
    "</table>\n",
    "<br CLEAR=left>\n"
   ]
  },
  {
   "cell_type": "code",
   "execution_count": 31,
   "metadata": {},
   "outputs": [
    {
     "name": "stdout",
     "output_type": "stream",
     "text": [
      "11\n",
      "21\n"
     ]
    }
   ],
   "source": [
    "a=1\n",
    "a += 10\n",
    "print(a)\n",
    "a+=10\n",
    "print(a)"
   ]
  },
  {
   "cell_type": "code",
   "execution_count": 26,
   "metadata": {},
   "outputs": [
    {
     "name": "stdout",
     "output_type": "stream",
     "text": [
      "2\n"
     ]
    }
   ],
   "source": [
    "# incrementing a variable\n",
    "n = 1\n",
    "n= n + 1\n",
    "print(n)"
   ]
  },
  {
   "cell_type": "code",
   "execution_count": 27,
   "metadata": {},
   "outputs": [
    {
     "name": "stdout",
     "output_type": "stream",
     "text": [
      "1\n",
      "2\n",
      "7\n"
     ]
    }
   ],
   "source": [
    "# Short Cuts\n",
    "n = 1\n",
    "print(n)\n",
    "n += 1\n",
    "print(n)\n",
    "n += 5\n",
    "print(n)\n"
   ]
  },
  {
   "cell_type": "code",
   "execution_count": 33,
   "metadata": {},
   "outputs": [
    {
     "name": "stdout",
     "output_type": "stream",
     "text": [
      "1\n",
      "5\n",
      "230\n"
     ]
    }
   ],
   "source": [
    "# Short Cuts for anny arithetmic function\n",
    "n = 1\n",
    "print(n)\n",
    "n *= 5\n",
    "print(n)\n",
    "n *= 46\n",
    "print(n)\n"
   ]
  },
  {
   "cell_type": "code",
   "execution_count": 29,
   "metadata": {
    "scrolled": true
   },
   "outputs": [
    {
     "name": "stdout",
     "output_type": "stream",
     "text": [
      "4\n",
      "3.9\n"
     ]
    }
   ],
   "source": [
    "# round function\n",
    "x= round(3.885)\n",
    "print(x)\n",
    "x= round(3.885,1)\n",
    "print(x)"
   ]
  },
  {
   "cell_type": "markdown",
   "metadata": {},
   "source": [
    "## SAQ 3\n",
    "\n",
    "A fish weighs 7.3kg + half his own weight. What is the fishes full weight? (give your answer to 1 decimal place)\n"
   ]
  },
  {
   "cell_type": "code",
   "execution_count": 61,
   "metadata": {},
   "outputs": [
    {
     "name": "stdout",
     "output_type": "stream",
     "text": [
      "14.7kg"
     ]
    }
   ],
   "source": [
    "# let x be the actual weight of the fish.\n",
    "# x = 7.34kg + x/2\n",
    "#7.34 = x-x/2\n",
    "#7.34 = x/2\n",
    "x= 2*7.34\n",
    "x = round(x,1)\n",
    "print(x, end ='kg')"
   ]
  },
  {
   "cell_type": "markdown",
   "metadata": {},
   "source": [
    "### Comparison Operators\n",
    "Comparison operators are used to see if variables are equal, less than or greater than each other. The results of comparisons always return a Boolean value i.e. True or False or O or 1.\n",
    "\n",
    "The Python comparison operators are:\n",
    "\n",
    "<table style=\"border:1px solid black\" align =\"left\">\n",
    "    <thead>\n",
    "            <th>Operator</th>\n",
    "            <th>Description</th>\n",
    "    </thead>\n",
    "    <tbody>\n",
    "        <tr>\n",
    "            <td>==</td>\n",
    "            <td>equal to</td>\n",
    "        </tr>\n",
    "        <tr>\n",
    "            <td>!= </td>\n",
    "            <td>not equal</td>\n",
    "        </tr>\n",
    "        <tr>\n",
    "            <td> > </td>\n",
    "            <td>greater than</td>\n",
    "        </tr>\n",
    "        <tr>\n",
    "            <td> < </td>\n",
    "            <td>less than</td>\n",
    "        </tr>\n",
    "        <tr>\n",
    "            <td>>=</td>\n",
    "            <td>greater than or equal to</td>\n",
    "        </tr>\n",
    "        <tr>\n",
    "            <td><= </td>\n",
    "            <td>less than or equal to</td>\n",
    "        </tr>\n",
    "    </tbody>\n",
    "</table>\n",
    "<br CLEAR=left>\n",
    "\n"
   ]
  },
  {
   "cell_type": "code",
   "execution_count": 42,
   "metadata": {},
   "outputs": [],
   "source": [
    "# Example of a comparison operator\n",
    "num_1 = 3\n",
    "num_2 = 2"
   ]
  },
  {
   "cell_type": "code",
   "execution_count": 44,
   "metadata": {},
   "outputs": [
    {
     "name": "stdout",
     "output_type": "stream",
     "text": [
      "True\n"
     ]
    }
   ],
   "source": [
    "print(num_1 > num_2)"
   ]
  },
  {
   "cell_type": "markdown",
   "metadata": {},
   "source": [
    "### Logical Operators\n",
    "\n",
    "The Python logical operators are:\n",
    "\n",
    "<table style=\"border:1px solid black\" align =\"left\">\n",
    "    <thead>\n",
    "            <th>Operator</th>\n",
    "            <th>Description</th>\n",
    "    </thead>\n",
    "    <tbody>\n",
    "        <tr>\n",
    "            <td>and</td>\n",
    "            <td>Returns True if both statements are True</td>\n",
    "        </tr>\n",
    "        <tr>\n",
    "            <td>or</td>\n",
    "            <td>Returns True if one of the statements is True</td>\n",
    "        </tr>\n",
    "        <tr>\n",
    "            <td> not </td>\n",
    "            <td>Reverse the result, returns False if the result is True</td>\n",
    "        </tr>\n",
    "    </tbody>\n",
    "</table>\n",
    "<br CLEAR=left>\n",
    "\n",
    "Examples of logical expressions in Python:"
   ]
  },
  {
   "cell_type": "code",
   "execution_count": 50,
   "metadata": {},
   "outputs": [
    {
     "name": "stdout",
     "output_type": "stream",
     "text": [
      "False\n"
     ]
    }
   ],
   "source": [
    "x=3\n",
    "y=3\n",
    "z=6\n",
    "print(x==z or y==z)"
   ]
  },
  {
   "cell_type": "markdown",
   "metadata": {},
   "source": [
    "## SAQ 4\n",
    "\n",
    "Test if any number x is even. Print True if it is even and False if odd."
   ]
  },
  {
   "cell_type": "code",
   "execution_count": 55,
   "metadata": {},
   "outputs": [
    {
     "name": "stdout",
     "output_type": "stream",
     "text": [
      "False\n"
     ]
    }
   ],
   "source": [
    "# Code your answer here:\n",
    "x = 65\n",
    "y = x%2 \n",
    "\n",
    "#Is x even\n",
    "print(y == 0)"
   ]
  },
  {
   "cell_type": "markdown",
   "metadata": {},
   "source": [
    "# Getting Help\n",
    "Whenever you need help with a function use the help function with the name of the functiion inside e.g. \n",
    "```python\n",
    "help(print)\n",
    "\n",
    "```"
   ]
  },
  {
   "cell_type": "code",
   "execution_count": 56,
   "metadata": {
    "scrolled": true
   },
   "outputs": [
    {
     "name": "stdout",
     "output_type": "stream",
     "text": [
      "Help on built-in function print in module builtins:\n",
      "\n",
      "print(...)\n",
      "    print(value, ..., sep=' ', end='\\n', file=sys.stdout, flush=False)\n",
      "    \n",
      "    Prints the values to a stream, or to sys.stdout by default.\n",
      "    Optional keyword arguments:\n",
      "    file:  a file-like object (stream); defaults to the current sys.stdout.\n",
      "    sep:   string inserted between values, default a space.\n",
      "    end:   string appended after the last value, default a newline.\n",
      "    flush: whether to forcibly flush the stream.\n",
      "\n"
     ]
    }
   ],
   "source": [
    "#print(dir(greeting))\n",
    "\n",
    "\n",
    "help(print)"
   ]
  },
  {
   "cell_type": "code",
   "execution_count": 57,
   "metadata": {
    "scrolled": true
   },
   "outputs": [
    {
     "name": "stdout",
     "output_type": "stream",
     "text": [
      "0*1*2*3*4*5*"
     ]
    }
   ],
   "source": [
    "x = range(6)\n",
    "\n",
    "for n in x:\n",
    "  print(n, sep ='-', end = '*')"
   ]
  },
  {
   "cell_type": "code",
   "execution_count": 59,
   "metadata": {},
   "outputs": [
    {
     "name": "stdout",
     "output_type": "stream",
     "text": [
      "G F G\n",
      "09-12-2016\n",
      "pratik@geeksforgeeks\n"
     ]
    }
   ],
   "source": [
    "print('G','F','G', sep=' ') \n",
    "\n",
    "#for formatting a date \n",
    "print('09','12','2016', sep='-') \n",
    "\n",
    "#another example \n",
    "print('pratik','geeksforgeeks', sep='@') \n"
   ]
  },
  {
   "cell_type": "markdown",
   "metadata": {},
   "source": [
    "<center style=\"font-size:30px\" >End of Lesson 2</center><br>"
   ]
  }
 ],
 "metadata": {
  "hide_input": false,
  "kernelspec": {
   "display_name": "Python 3",
   "language": "python",
   "name": "python3"
  },
  "language_info": {
   "codemirror_mode": {
    "name": "ipython",
    "version": 3
   },
   "file_extension": ".py",
   "mimetype": "text/x-python",
   "name": "python",
   "nbconvert_exporter": "python",
   "pygments_lexer": "ipython3",
   "version": "3.7.6"
  },
  "toc": {
   "base_numbering": 1,
   "nav_menu": {},
   "number_sections": true,
   "sideBar": true,
   "skip_h1_title": false,
   "title_cell": "Table of Contents",
   "title_sidebar": "Contents",
   "toc_cell": false,
   "toc_position": {},
   "toc_section_display": true,
   "toc_window_display": true
  }
 },
 "nbformat": 4,
 "nbformat_minor": 4
}
