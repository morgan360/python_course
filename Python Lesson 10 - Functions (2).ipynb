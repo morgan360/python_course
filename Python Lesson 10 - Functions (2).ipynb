{
 "cells": [
  {
   "cell_type": "markdown",
   "metadata": {},
   "source": [
    " version 2.1 (Author: Morgan McKnight)"
   ]
  },
  {
   "cell_type": "markdown",
   "metadata": {},
   "source": [
    "# Functions Part 2\n",
    "<img src=\"images/functions.png\" alt=\"Drawing\" style=\"height: 400px;\"/>\n",
    "<br>\n",
    "<b>Learning Outcomes</b><br>\n",
    "At the end of this lesson you will be comfortable with using the following Python function Types:\n",
    "<ul>\n",
    "    <li>Recursive Functions</li>\n",
    "<li>lambda functions</li>\n",
    "<li>The map() Function</li>\n",
    "<li>The filter() Function</li>\n",
    "<li>List Comprehensions</li>\n",
    "</ul>\n"
   ]
  },
  {
   "cell_type": "code",
   "execution_count": null,
   "metadata": {},
   "outputs": [],
   "source": [
    "from IPython.display import YouTubeVideo\n",
    "# a talk about IPython at Sage Days at U. Washington, Seattle.\n",
    "# Video credit: William Stein.https://youtu.be/9Os0o3wzS_I\n",
    "YouTubeVideo('9Os0o3wzS_I')"
   ]
  },
  {
   "cell_type": "markdown",
   "metadata": {},
   "source": [
    "## Revision"
   ]
  },
  {
   "cell_type": "markdown",
   "metadata": {},
   "source": [
    "### Function with No arguments\n"
   ]
  },
  {
   "cell_type": "code",
   "execution_count": 1,
   "metadata": {},
   "outputs": [],
   "source": [
    "# Function with No arguments\n",
    "def what_time_is_it():\n",
    "    from datetime import datetime\n",
    "    now = datetime.now()\n",
    "    current_time = now.strftime(\"%H:%M:%S\")\n",
    "    print(\"Current Time =\", current_time)"
   ]
  },
  {
   "cell_type": "code",
   "execution_count": 3,
   "metadata": {
    "scrolled": true
   },
   "outputs": [
    {
     "name": "stdout",
     "output_type": "stream",
     "text": [
      "Current Time = 18:39:33\n"
     ]
    }
   ],
   "source": [
    "# call it when ever you need it\n",
    "what_time_is_it()"
   ]
  },
  {
   "cell_type": "markdown",
   "metadata": {},
   "source": [
    "### Function with multiple arguments"
   ]
  },
  {
   "cell_type": "code",
   "execution_count": 5,
   "metadata": {},
   "outputs": [],
   "source": [
    "# Function with multiple arguments\n",
    "def average(a , b, c):\n",
    "    ''' Function To calculate the average of 3 numbers '''\n",
    "    return (a+b+c)/3"
   ]
  },
  {
   "cell_type": "code",
   "execution_count": 7,
   "metadata": {},
   "outputs": [
    {
     "name": "stdout",
     "output_type": "stream",
     "text": [
      "40.0\n"
     ]
    }
   ],
   "source": [
    "# Problem Function\n",
    "result = average(40 , 50, 30)\n",
    "print(result)"
   ]
  },
  {
   "cell_type": "markdown",
   "metadata": {},
   "source": [
    "### Functions with a variable number of arguments"
   ]
  },
  {
   "cell_type": "code",
   "execution_count": 8,
   "metadata": {},
   "outputs": [],
   "source": [
    "# Functions with a variable number of arguments\n",
    "\n",
    "def calculateAverage(*args):\n",
    "    ''' Calculates the average of n numbers | Accepts variable length arguments '''\n",
    "    # get the number of total arguments passed \n",
    "    argCount = len(args)\n",
    "    if argCount > 0 :\n",
    "        sumOfNums = 0\n",
    "        # Iterate over all the arguments and calculate average\n",
    "        for elem in args :\n",
    "            sumOfNums += elem\n",
    "        return (sumOfNums / argCount)\n",
    "    else:\n",
    "        return 0"
   ]
  },
  {
   "cell_type": "code",
   "execution_count": 9,
   "metadata": {},
   "outputs": [
    {
     "name": "stdout",
     "output_type": "stream",
     "text": [
      "3.0\n"
     ]
    }
   ],
   "source": [
    "result = calculateAverage(1,3,3,3,3,3,3,5)\n",
    "\n",
    "print(result)"
   ]
  },
  {
   "cell_type": "markdown",
   "metadata": {},
   "source": [
    "### Function with Default arguments"
   ]
  },
  {
   "cell_type": "code",
   "execution_count": 10,
   "metadata": {},
   "outputs": [],
   "source": [
    "# Functions with default arguments\n",
    "def my_function(fname, lname=\"an Other\"): \n",
    "  print(\"Hello \"+fname+' '+lname)"
   ]
  },
  {
   "cell_type": "code",
   "execution_count": 12,
   "metadata": {},
   "outputs": [
    {
     "name": "stdout",
     "output_type": "stream",
     "text": [
      "Hello Mary an Other\n"
     ]
    }
   ],
   "source": [
    "my_function(\"Mary\")\n",
    "#my_function(\"Mary\",\"James\")"
   ]
  },
  {
   "cell_type": "markdown",
   "metadata": {},
   "source": [
    "### Function passing a list/dictionary as an argument"
   ]
  },
  {
   "cell_type": "code",
   "execution_count": 14,
   "metadata": {},
   "outputs": [
    {
     "name": "stdout",
     "output_type": "stream",
     "text": [
      "4\n",
      "6\n",
      "34\n"
     ]
    }
   ],
   "source": [
    "def my_function(fruits):\n",
    "  for x in fruits:\n",
    "    print(x)\n",
    "\n",
    "fruits = [4, 6, 34]\n",
    "\n",
    "my_function(fruits)"
   ]
  },
  {
   "cell_type": "code",
   "execution_count": 15,
   "metadata": {},
   "outputs": [
    {
     "name": "stdout",
     "output_type": "stream",
     "text": [
      "My favorite book is for Apeirogon\n",
      "My favorite book is for Apeirogon\n"
     ]
    }
   ],
   "source": [
    "# specifying arguments in order\n",
    "def my_function(book1, book2, book3):\n",
    "  print(\"My favorite book is \" + book3)\n",
    "\n",
    "my_function(\"The New Wilderness\", \"The Shadow King\",  \"for Apeirogon\")# call function\n",
    "\n",
    "\n",
    "def my_function(book2, book3, book1):\n",
    "  print(\"My favorite book is \" + book3)\n",
    "\n",
    "my_function(book1 = \"The New Wilderness\", book2 = \"The Shadow King\", book3 = \"for Apeirogon\")"
   ]
  },
  {
   "cell_type": "markdown",
   "metadata": {},
   "source": [
    "### Arbitrary Keyword Arguments, **kwargs"
   ]
  },
  {
   "cell_type": "code",
   "execution_count": 16,
   "metadata": {
    "scrolled": true
   },
   "outputs": [
    {
     "name": "stdout",
     "output_type": "stream",
     "text": [
      "name = yasoob\n",
      "name2 = plinny\n",
      "name3 = McKnight\n"
     ]
    }
   ],
   "source": [
    "# Variable number of 'Key Value `Pairs' arguments\n",
    "\n",
    "def greet_me(**kwargs):\n",
    "    for key, value in kwargs.items():\n",
    "        print(\"{0} = {1}\".format(key, value))\n",
    "\n",
    "greet_me(name =\"yasoob\", name2 = 'plinny', name3 = 'McKnight')\n"
   ]
  },
  {
   "cell_type": "markdown",
   "metadata": {},
   "source": [
    "## Multiple Return Statments"
   ]
  },
  {
   "cell_type": "code",
   "execution_count": 18,
   "metadata": {},
   "outputs": [],
   "source": [
    "# Multiple return statments\n",
    "def type_of_int(i):\n",
    "    if i % 2 == 0:\n",
    "        return 'even'\n",
    "    else:\n",
    "        return 'odd'"
   ]
  },
  {
   "cell_type": "code",
   "execution_count": 20,
   "metadata": {},
   "outputs": [
    {
     "data": {
      "text/plain": [
       "'even'"
      ]
     },
     "execution_count": 20,
     "metadata": {},
     "output_type": "execute_result"
    }
   ],
   "source": [
    "type_of_int(20)"
   ]
  },
  {
   "cell_type": "markdown",
   "metadata": {},
   "source": [
    "## Returning a function"
   ]
  },
  {
   "cell_type": "code",
   "execution_count": null,
   "metadata": {},
   "outputs": [],
   "source": [
    "def fred(a,b):\n",
    "    print(a+b)"
   ]
  },
  {
   "cell_type": "code",
   "execution_count": null,
   "metadata": {},
   "outputs": [],
   "source": [
    "fred(4,5)"
   ]
  },
  {
   "cell_type": "code",
   "execution_count": null,
   "metadata": {},
   "outputs": [],
   "source": [
    "mary = fred"
   ]
  },
  {
   "cell_type": "code",
   "execution_count": null,
   "metadata": {},
   "outputs": [],
   "source": [
    "mary(6,9)"
   ]
  },
  {
   "cell_type": "code",
   "execution_count": null,
   "metadata": {},
   "outputs": [],
   "source": [
    "# Define a function that returns another function\n",
    "\n",
    "def get_cuboid_volume(h):\n",
    "    def volume(l, b):       # l= lenght,b=breath, h= height\n",
    "        return l * b * h\n",
    "    return volume # This second function is returned and the parameters are passed in."
   ]
  },
  {
   "cell_type": "code",
   "execution_count": null,
   "metadata": {},
   "outputs": [],
   "source": [
    "# create a \n",
    "volume_height_10 = get_cuboid_volume(10)"
   ]
  },
  {
   "cell_type": "code",
   "execution_count": null,
   "metadata": {},
   "outputs": [],
   "source": [
    "print(volume_height_10)"
   ]
  },
  {
   "cell_type": "code",
   "execution_count": null,
   "metadata": {},
   "outputs": [],
   "source": [
    "cuboid_volume = volume_height_10(5, 4)"
   ]
  },
  {
   "cell_type": "code",
   "execution_count": null,
   "metadata": {},
   "outputs": [],
   "source": [
    "print(f'Cuboid(5, 4, 10) volume is {cuboid_volume}')"
   ]
  },
  {
   "cell_type": "code",
   "execution_count": null,
   "metadata": {},
   "outputs": [],
   "source": [
    "cuboid_volume = volume_height_10(2, 4)"
   ]
  },
  {
   "cell_type": "code",
   "execution_count": null,
   "metadata": {},
   "outputs": [],
   "source": [
    "print(f'Cuboid(2, 4, 10) volume is {cuboid_volume}')"
   ]
  },
  {
   "cell_type": "code",
   "execution_count": null,
   "metadata": {},
   "outputs": [],
   "source": [
    "volume_height_15 = get_cuboid_volume(15)"
   ]
  },
  {
   "cell_type": "code",
   "execution_count": null,
   "metadata": {},
   "outputs": [],
   "source": [
    "volume_height_15(2,3)"
   ]
  },
  {
   "cell_type": "markdown",
   "metadata": {},
   "source": [
    "## SAQ 1\n",
    "Create a function that returns and displays the current day of the week when you call it. import datetime library.\n",
    "Write another function that takes in a sring variable as an argument and returns the lenght of the string. e.g cat = 3"
   ]
  },
  {
   "cell_type": "code",
   "execution_count": null,
   "metadata": {},
   "outputs": [],
   "source": [
    "# Put your Answer 1 here\n"
   ]
  },
  {
   "cell_type": "code",
   "execution_count": null,
   "metadata": {},
   "outputs": [],
   "source": [
    "# Put your Answer 2 here\n",
    "\n"
   ]
  },
  {
   "cell_type": "markdown",
   "metadata": {},
   "source": [
    "## SAQ 2\n",
    "Create a function that takes in your birthday as an argument and returns the number of days to your next birthday. <br> **Hint:** Use the calendar module/library."
   ]
  },
  {
   "cell_type": "code",
   "execution_count": null,
   "metadata": {},
   "outputs": [],
   "source": [
    "# Add your answer here\n",
    "def birthday_countdown(YYYY, MM, DD):\n",
    "    import time\n",
    "    from datetime import datetime, date\n",
    "\n",
    "    today = date.today()\n",
    "    today == date.fromtimestamp(time.time())\n",
    "    my_b = date(YYYY, MM, DD)\n",
    "    my_b_thisyear = my_b.replace(year=today.year +1)\n",
    "    time_2_b = abs(my_b_thisyear - today)\n",
    "    print(time_2_b.days)"
   ]
  },
  {
   "cell_type": "code",
   "execution_count": null,
   "metadata": {},
   "outputs": [],
   "source": [
    "birthday_countdown(2021,11, 4)"
   ]
  },
  {
   "cell_type": "markdown",
   "metadata": {},
   "source": [
    "## SAQ 3\n",
    "Create a single function that will return the area or volume of an object. i.e. if you call the function with the values (10,8) it will return 80, and if you cal the same function using values (10,2,3) it will return 60."
   ]
  },
  {
   "cell_type": "code",
   "execution_count": null,
   "metadata": {},
   "outputs": [],
   "source": [
    "# for each of the arguments passed multiply it\n",
    "def area_volume(*args ):\n",
    "    product = 1\n",
    "    for n in args:\n",
    "         product *= product\n",
    "    print(product)\n"
   ]
  },
  {
   "cell_type": "code",
   "execution_count": null,
   "metadata": {},
   "outputs": [],
   "source": [
    "area_volume(2,3,4,4)"
   ]
  },
  {
   "cell_type": "markdown",
   "metadata": {},
   "source": [
    "## Recursive Functions\n",
    "Recursive functions are functions that call on themselves. A simple example of a recursive function is.  Factorial n (written n!) is the product (multiplication) of all the whole numbers from n to 1.  e.g. Four factorial( written 4!) is equal to 4*3*2*1.If we have 3 items: A,B,C then there are 3! = 3 * 2 * 1 = 6 different permuations\n",
    "Here they are:\n",
    "ABC, ACB, BAC, BCA, CAB, CBA\n"
   ]
  },
  {
   "cell_type": "code",
   "execution_count": null,
   "metadata": {},
   "outputs": [],
   "source": [
    "# Example of a recursive function\n",
    "def factorial(x):\n",
    "    \"\"\"This is a recursive functon\n",
    "    to find the factorial of an integer\"\"\"\n",
    "\n",
    "    if x == 1:\n",
    "        return 1\n",
    "    else:\n",
    "        return (x * factorial(x-1))\n",
    "\n",
    "\n",
    "num = 5\n",
    "print(\"The factorial of\", num, \"is\", factorial(num))"
   ]
  },
  {
   "cell_type": "markdown",
   "metadata": {},
   "source": [
    "## lambda functions\n",
    "Are Anoyomious functions meant to be short and quick and disposable. Lambdas differ from normal Python methods because they can have only one expression, can't contain any statements and their return type is a function object. So the line of code below doesn't exactly return the value x*2 but the function that calculates x * 2.\n",
    "<img src=\"images/lambda1.png\" alt=\"Drawing\" style=\"height: 200px;\"/>\n",
    "<br>"
   ]
  },
  {
   "cell_type": "code",
   "execution_count": 21,
   "metadata": {},
   "outputs": [],
   "source": [
    "# traditional function definition\n",
    "\n",
    "def power_of(x ,y=2):\n",
    "    return x**y\n",
    "    "
   ]
  },
  {
   "cell_type": "code",
   "execution_count": 24,
   "metadata": {},
   "outputs": [
    {
     "name": "stdout",
     "output_type": "stream",
     "text": [
      "4\n"
     ]
    }
   ],
   "source": [
    "print(power_of(2))"
   ]
  },
  {
   "cell_type": "code",
   "execution_count": null,
   "metadata": {},
   "outputs": [],
   "source": [
    "print(power_of(2,10))"
   ]
  },
  {
   "cell_type": "code",
   "execution_count": null,
   "metadata": {},
   "outputs": [],
   "source": [
    "lambda x,y: x**y"
   ]
  },
  {
   "cell_type": "code",
   "execution_count": 25,
   "metadata": {},
   "outputs": [],
   "source": [
    "power_of = lambda x,y: x**y"
   ]
  },
  {
   "cell_type": "code",
   "execution_count": 27,
   "metadata": {},
   "outputs": [
    {
     "name": "stdout",
     "output_type": "stream",
     "text": [
      "1024\n"
     ]
    }
   ],
   "source": [
    "print(power_of(2,10))"
   ]
  },
  {
   "cell_type": "code",
   "execution_count": null,
   "metadata": {},
   "outputs": [],
   "source": [
    "x=3\n",
    "y=4\n",
    "funct = lambda x,y: x+y\n",
    "\n",
    "print(funct(x,y))"
   ]
  },
  {
   "cell_type": "markdown",
   "metadata": {},
   "source": [
    "<img src=\"images/lambda2.png\" alt=\"lambda2\" style=\"height: 300px;\"/>\n",
    "<br>"
   ]
  },
  {
   "cell_type": "code",
   "execution_count": null,
   "metadata": {},
   "outputs": [],
   "source": [
    "# Example 3\n",
    "squares = list(map(lambda x: x**2, range(64)))\n",
    "print(squares)"
   ]
  },
  {
   "cell_type": "code",
   "execution_count": null,
   "metadata": {},
   "outputs": [],
   "source": [
    "# print a list of squares\n",
    "\n",
    "def square(list1):\n",
    "    list2 =[]\n",
    "    for num in list1:\n",
    "        list2.append(num**2)\n",
    "    return list2"
   ]
  },
  {
   "cell_type": "code",
   "execution_count": null,
   "metadata": {},
   "outputs": [],
   "source": [
    "list1 = [1,2,3,4]\n",
    "print(square(list1))"
   ]
  },
  {
   "cell_type": "code",
   "execution_count": 28,
   "metadata": {
    "scrolled": true
   },
   "outputs": [
    {
     "name": "stdout",
     "output_type": "stream",
     "text": [
      "[1, 8, 27, 64]\n"
     ]
    }
   ],
   "source": [
    "list1 = [1,2,3,4]\n",
    "print(list(map(lambda x: x**3,list1)))"
   ]
  },
  {
   "cell_type": "code",
   "execution_count": null,
   "metadata": {},
   "outputs": [],
   "source": [
    "# Another example using range\n",
    "squares = list(map(lambda x: x**2, range(10)))\n",
    "print(squares)"
   ]
  },
  {
   "cell_type": "markdown",
   "metadata": {},
   "source": [
    "## The map() Function\n",
    "The map() function iterates through all items in the given iterable and executes the function passed as an argument on each of them. The syntax is:\n",
    "\n",
    "```python\n",
    "map(function, iterable(s))\n",
    "\n",
    "```\n",
    "<img src=\"images/map1.png\" alt=\"Drawing\" style=\"height: 150px;\"/>\n",
    "<br>\n",
    "\n"
   ]
  },
  {
   "cell_type": "code",
   "execution_count": 29,
   "metadata": {},
   "outputs": [
    {
     "name": "stdout",
     "output_type": "stream",
     "text": [
      "[True, False, False, True, False]\n"
     ]
    }
   ],
   "source": [
    "# using map with a traditional function (without using lambdas)\n",
    "def starts_with_A(string):\n",
    "    return string[0] == \"A\"\n",
    "\n",
    "fruit = [\"Apple\", \"Banana\", \"Pear\", \"Apricot\", \"Orange\"]\n",
    "\n",
    "map_object = map(starts_with_A, fruit) \n",
    "\n",
    "print(list(map_object))"
   ]
  },
  {
   "cell_type": "code",
   "execution_count": 31,
   "metadata": {
    "scrolled": true
   },
   "outputs": [
    {
     "name": "stdout",
     "output_type": "stream",
     "text": [
      "[True, False, False, True, True]\n"
     ]
    }
   ],
   "source": [
    "# map with lambda function. What elements begin with the letter A?\n",
    "fruit = [\"Apple\", \"Banana\", \"Pear\", \"Apricot\", \"Anorange\"]\n",
    "map_object = map(lambda s: s[0] == \"A\", fruit)\n",
    "\n",
    "print(list(map_object))"
   ]
  },
  {
   "cell_type": "markdown",
   "metadata": {},
   "source": [
    "## Map with Lambda Function\n",
    "Functions can be chained in order to create complex algorithms with fairly simple code.<br>\n",
    "<img src=\"images/map2.png\" alt=\"Drawing\" style=\"height: 300px;\"/>\n",
    "<br>"
   ]
  },
  {
   "cell_type": "code",
   "execution_count": 32,
   "metadata": {},
   "outputs": [
    {
     "name": "stdout",
     "output_type": "stream",
     "text": [
      "[1, 8, 27, 64, 125]\n"
     ]
    }
   ],
   "source": [
    "#Create a list of cubes form a list of numbers\n",
    "nums = [1, 2 ,3, 4, 5]\n",
    "print(list(map(lambda x: x**3,nums)))"
   ]
  },
  {
   "cell_type": "markdown",
   "metadata": {},
   "source": [
    "## SAQ 4\n",
    "Take the values in this list and subtract 3 from each element.\n",
    "\n",
    "```Python\n",
    "nums= [4,8,10,12]\n",
    "```\n",
    "\n"
   ]
  },
  {
   "cell_type": "code",
   "execution_count": null,
   "metadata": {},
   "outputs": [],
   "source": [
    "# Put your answer here\n",
    "import random\n",
    "nums= [4,8,10,12]\n",
    "print(list(map(lambda x :x-3,nums)))\n"
   ]
  },
  {
   "cell_type": "code",
   "execution_count": null,
   "metadata": {},
   "outputs": [],
   "source": [
    "# A more complex example. Here we create two functions that we we use in a map function. (note you could also use a Lambda function)\n",
    "# A tuple of temperatures are converted to a list.\n",
    "def fahrenheit(T):\n",
    "    return ((float(9)/5)*T + 32)\n",
    " \n",
    "def celsius(T):\n",
    "    return (float(5)/9)*(T-32)\n",
    " \n",
    "temperatures = (36.5, 37, 37.5, 38, 39)\n",
    "\n",
    "#F = map(fahrenheit, temperatures)\n",
    "\n",
    "#C = map(celsius,temperatures_in_Fahrenheit)\n",
    "\n",
    "\n",
    "temperatures_in_Fahrenheit = list(map(fahrenheit, temperatures))\n",
    "\n",
    "temperatures_in_Celsius = list(map(celsius, temperatures_in_Fahrenheit))\n",
    "\n",
    "print(temperatures_in_Fahrenheit)\n",
    "print(temperatures_in_Celsius)"
   ]
  },
  {
   "cell_type": "code",
   "execution_count": null,
   "metadata": {},
   "outputs": [],
   "source": [
    "fahrenheit(37)"
   ]
  },
  {
   "cell_type": "code",
   "execution_count": null,
   "metadata": {},
   "outputs": [],
   "source": [
    "celsius(98.6)"
   ]
  },
  {
   "cell_type": "markdown",
   "metadata": {},
   "source": [
    "## The filter() Function\n",
    "Similar to map(), filter() takes a function object and an iterable and creates a new list."
   ]
  },
  {
   "cell_type": "code",
   "execution_count": 34,
   "metadata": {},
   "outputs": [
    {
     "name": "stdout",
     "output_type": "stream",
     "text": [
      "<filter object at 0x7fda53108e50>\n",
      "24\n",
      "32\n"
     ]
    }
   ],
   "source": [
    "# filter example 1\n",
    "ages = [5, 12, 17, 18, 24, 32]\n",
    "\n",
    "def myFunc(x):\n",
    "  if x <= 18:\n",
    "    return False\n",
    "  else:\n",
    "    return True\n",
    "\n",
    "adults = filter(myFunc, ages)\n",
    "\n",
    "print(adults)\n",
    "\n",
    "for x in adults:\n",
    "  print(x)"
   ]
  },
  {
   "cell_type": "markdown",
   "metadata": {},
   "source": [
    "## SAQ 5\n",
    "Create a lambda function for the above example (filter example 1). "
   ]
  },
  {
   "cell_type": "code",
   "execution_count": null,
   "metadata": {},
   "outputs": [],
   "source": [
    "# Add your answer here\n",
    "ages = [5, 12, 17, 18, 24, 32]\n",
    "\n",
    "print(list(filter(lambda x: x <= 18,ages)))"
   ]
  },
  {
   "cell_type": "markdown",
   "metadata": {},
   "source": [
    "##  SAQ 5\n",
    "using a map() function to change the following list of letters into upper case.\n",
    "chars = ['g', 'b', 'e', 'b', 'g']\n",
    "\n"
   ]
  },
  {
   "cell_type": "code",
   "execution_count": null,
   "metadata": {},
   "outputs": [],
   "source": [
    "# Add your answer here"
   ]
  },
  {
   "cell_type": "markdown",
   "metadata": {},
   "source": [
    "# List  Comprehensions\n",
    "\n",
    "List comprehension offers a shorter syntax when you want to create a new list based on the values of an existing list.\n"
   ]
  },
  {
   "cell_type": "code",
   "execution_count": 35,
   "metadata": {
    "scrolled": true
   },
   "outputs": [
    {
     "name": "stdout",
     "output_type": "stream",
     "text": [
      "[3, 6, 9, 12, 15, 18, 21, 24, 27, 30]\n"
     ]
    }
   ],
   "source": [
    "# Simple example 1\n",
    "nums = [1,2,3,4,5,6,7,8,9,10]\n",
    "\n",
    "# I want 'n' for each 'n' in nums\n",
    "my_list = []\n",
    "for n in nums:\n",
    "    my_list.append(n*3)\n",
    "print(my_list)\n"
   ]
  },
  {
   "cell_type": "code",
   "execution_count": 39,
   "metadata": {},
   "outputs": [
    {
     "name": "stdout",
     "output_type": "stream",
     "text": [
      "[1, 8, 27, 64, 125, 216, 343, 512, 729, 1000]\n"
     ]
    }
   ],
   "source": [
    "#The same thing for list comprehensions\n",
    "print([n**3 for n in nums])"
   ]
  },
  {
   "cell_type": "code",
   "execution_count": null,
   "metadata": {},
   "outputs": [],
   "source": [
    "# Example 2\n",
    "# I want 'n*n' for each 'n' in nums\n",
    "my_list = []\n",
    "for n in nums:\n",
    "    my_list.append(n*n)\n",
    "print(my_list)\n"
   ]
  },
  {
   "cell_type": "code",
   "execution_count": null,
   "metadata": {},
   "outputs": [],
   "source": [
    "# Using a map + lambda\n",
    "nums = [1,2,3,4,5,6,7,8,9,10]\n",
    "my_list = map(lambda n: n*n, nums)\n",
    "print(list(my_list))\n"
   ]
  },
  {
   "cell_type": "code",
   "execution_count": null,
   "metadata": {},
   "outputs": [],
   "source": [
    "# using comprehensions\n",
    "nums = [1,2,3,4,5,6,7,8,9,10]\n",
    "print([n*n for n in nums])"
   ]
  },
  {
   "cell_type": "code",
   "execution_count": null,
   "metadata": {},
   "outputs": [],
   "source": [
    "# Example 3\n",
    "# I want 'n' for each 'n' in nums if 'n' is even\n",
    "nums = [1,2,3,4,5,6,7,8,9,10]\n",
    "my_list = []\n",
    "for n in nums:\n",
    "     if n%2 == 0:\n",
    "        my_list.append(n)\n",
    "print (my_list)\n"
   ]
  },
  {
   "cell_type": "code",
   "execution_count": null,
   "metadata": {},
   "outputs": [],
   "source": [
    "# Using a filter + lambda\n",
    "nums = [1,2,3,4,5,6,7,8,9,10]\n",
    "my_list = list(filter(lambda n: n%2 == 0, nums))\n",
    "print(my_list)\n",
    "#print(list(my_list))"
   ]
  },
  {
   "cell_type": "code",
   "execution_count": 40,
   "metadata": {},
   "outputs": [
    {
     "name": "stdout",
     "output_type": "stream",
     "text": [
      "[2, 4, 6, 8, 10]\n"
     ]
    }
   ],
   "source": [
    "# Using List Comprehnisons\n",
    "\n",
    "nums = [1,2,3,4,5,6,7,8,9,10]\n",
    "my_list_object = [n for n in nums if n%2 == 0]\n",
    "print(my_list_object)"
   ]
  },
  {
   "cell_type": "markdown",
   "metadata": {},
   "source": [
    "## SAQ 6\n",
    "listOfWords = [\"this\",\"is\",\"a\",\"list\",\"of\",\"words\"]\n",
    "Using List Comprehensions,  take the first letter of each word and make a list out of it, and print it off.\n"
   ]
  },
  {
   "cell_type": "code",
   "execution_count": null,
   "metadata": {},
   "outputs": [],
   "source": [
    "# Add your answer here"
   ]
  },
  {
   "cell_type": "markdown",
   "metadata": {},
   "source": [
    "# Weather Data from Met Eireann\n",
    "https://data.gov.ie/organization/met-eireann?tags=+Today&_tags_limit=0 <br> <br>\n",
    "https://www.met.ie//climate/available-data/historical-data"
   ]
  },
  {
   "cell_type": "code",
   "execution_count": null,
   "metadata": {},
   "outputs": [],
   "source": []
  }
 ],
 "metadata": {
  "hide_input": false,
  "kernelspec": {
   "display_name": "Python 3",
   "language": "python",
   "name": "python3"
  },
  "language_info": {
   "codemirror_mode": {
    "name": "ipython",
    "version": 3
   },
   "file_extension": ".py",
   "mimetype": "text/x-python",
   "name": "python",
   "nbconvert_exporter": "python",
   "pygments_lexer": "ipython3",
   "version": "3.7.6"
  },
  "toc": {
   "base_numbering": 1,
   "nav_menu": {},
   "number_sections": true,
   "sideBar": true,
   "skip_h1_title": false,
   "title_cell": "Table of Contents",
   "title_sidebar": "Contents",
   "toc_cell": false,
   "toc_position": {
    "height": "calc(100% - 180px)",
    "left": "10px",
    "top": "150px",
    "width": "325px"
   },
   "toc_section_display": true,
   "toc_window_display": false
  }
 },
 "nbformat": 4,
 "nbformat_minor": 4
}
