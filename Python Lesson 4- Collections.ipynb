{
 "cells": [
  {
   "cell_type": "markdown",
   "metadata": {},
   "source": [
    "Lesson 4 ~ Notes: version 1.3"
   ]
  },
  {
   "cell_type": "markdown",
   "metadata": {},
   "source": [
    "# Collections\n",
    "\n",
    "In this section we will be looking at collections of elements(things). Elements are stored in arrays as either **lists**, **tuples**, **sets**, or **dictionaries**.<br>\n",
    "\n",
    "**Lists and Tuples** allow us to work with sequential data, and **sets** are unordered collections of values with no duplicates. \n",
    "\n",
    "A **dictionary** is a list of elements organized in key value pairs.  Just like in a word dictionary, you look for a specific term. In programming, it is called a **key**. The definition is its **value**. This is called a **KEY <> VALUE** pair.\n",
    "\n",
    "```python\n",
    "myDict = {\"Jenny\": 34, \"Livia\": 28, \"Paul\": 31}\n",
    "print(myDict[\"Jenny\"]) # -> 34\n",
    "\n",
    "```\n",
    "In Python, a **tuple** is similar to **List** except that the objects in tuple are immutable which means we cannot change the elements of a tuple once assigned. On the other hand, we can change the elements of a list. A **tuple** is defined using round brackets.\n",
    "\n",
    "```python\n",
    "    my_data = (\"hi\", \"hello\", \"bye\")\n",
    "    print(my_data)\n",
    "```\n"
   ]
  },
  {
   "cell_type": "markdown",
   "metadata": {},
   "source": [
    "## Lists\n",
    "A **list** is defined using square brackets and each element in a list is enclosed in quotes and separated with a comma (Except the last item)\n",
    "\n",
    "```Python\n",
    "\n",
    "borrowedBooks = ['The Road', 'The Grapes of Wrath', 'The Shark', 'War of the worlds']\n",
    "\n",
    "```"
   ]
  },
  {
   "cell_type": "code",
   "execution_count": null,
   "metadata": {},
   "outputs": [],
   "source": [
    "courses = ['History','Math', 'Physics', 'Irish','French', 'Geography']\n",
    "print(courses)"
   ]
  },
  {
   "cell_type": "code",
   "execution_count": null,
   "metadata": {},
   "outputs": [],
   "source": [
    "print(len(courses))"
   ]
  },
  {
   "cell_type": "code",
   "execution_count": null,
   "metadata": {},
   "outputs": [],
   "source": [
    "print(courses[5])"
   ]
  },
  {
   "cell_type": "code",
   "execution_count": null,
   "metadata": {},
   "outputs": [],
   "source": [
    "print(courses[-1]) # dont need to know lenght"
   ]
  },
  {
   "cell_type": "markdown",
   "metadata": {},
   "source": [
    "### Slicing"
   ]
  },
  {
   "cell_type": "code",
   "execution_count": null,
   "metadata": {},
   "outputs": [],
   "source": [
    "print(courses[3:6]) # 5 not included (stop)"
   ]
  },
  {
   "cell_type": "code",
   "execution_count": null,
   "metadata": {},
   "outputs": [],
   "source": [
    "print(courses[:2]) # assumes start from 0\n",
    "\n",
    "print(courses[2:]) # assumes stop at last item"
   ]
  },
  {
   "cell_type": "markdown",
   "metadata": {},
   "source": [
    "## Methods"
   ]
  },
  {
   "cell_type": "code",
   "execution_count": null,
   "metadata": {},
   "outputs": [],
   "source": [
    "# Add item to our list\n",
    "courses = ['History','Math', 'Physics', 'Irish','French', 'Geography']\n",
    "print(courses)\n",
    "courses.append('Art') # appends to end\n",
    "print(courses)"
   ]
  },
  {
   "cell_type": "code",
   "execution_count": null,
   "metadata": {},
   "outputs": [],
   "source": [
    "# Insert Method\n",
    "courses.insert(5, 'Social Science')\n",
    "print(courses)"
   ]
  },
  {
   "cell_type": "code",
   "execution_count": null,
   "metadata": {},
   "outputs": [],
   "source": [
    "# Insert a List into a list\n",
    "courses = ['History','Math', 'Physics', 'Irish']\n",
    "courses_2 = ['Geography', 'Spanish']\n",
    "courses.insert(2, courses_2) # A list within a list\n",
    "print(courses)\n",
    "\n"
   ]
  },
  {
   "cell_type": "code",
   "execution_count": null,
   "metadata": {},
   "outputs": [],
   "source": [
    "print(courses[2])"
   ]
  },
  {
   "cell_type": "markdown",
   "metadata": {},
   "source": [
    "### extend method"
   ]
  },
  {
   "cell_type": "code",
   "execution_count": null,
   "metadata": {},
   "outputs": [],
   "source": [
    "# used to add the items to the end\n",
    "courses = ['History','Math', 'Physics', 'Irish']\n",
    "print(courses)\n",
    "courses_2 = ['Geography', 'Spanish']\n",
    "courses.extend(courses_2)\n",
    "print(courses)"
   ]
  },
  {
   "cell_type": "markdown",
   "metadata": {},
   "source": [
    "### remove method\n",
    "Used to remove items from a list\n"
   ]
  },
  {
   "cell_type": "code",
   "execution_count": null,
   "metadata": {},
   "outputs": [],
   "source": [
    "# remove() function\n",
    "courses = ['History','Math', 'Physics', 'Irish']\n",
    "print(courses)\n",
    "courses.remove('Irish')\n",
    "print(courses)"
   ]
  },
  {
   "cell_type": "code",
   "execution_count": null,
   "metadata": {},
   "outputs": [],
   "source": [
    "#pop()\n",
    "courses = ['History','Math', 'Physics', 'Irish']\n",
    "x=courses.pop() # removes the last value from a list and stores the values\n",
    "print(x)\n",
    "print(courses)\n",
    "rem = courses.pop()\n",
    "print(rem)\n",
    "print(courses)"
   ]
  },
  {
   "cell_type": "markdown",
   "metadata": {},
   "source": [
    "### Ordering Lists"
   ]
  },
  {
   "cell_type": "code",
   "execution_count": null,
   "metadata": {},
   "outputs": [],
   "source": [
    "# Reversing the order reverse()\n",
    "courses = ['History','Math', 'Physics', 'Irish']\n",
    "nums = [1,5,6,3,4]\n",
    "\n",
    "print(courses)\n",
    "courses.reverse()\n",
    "print(courses)"
   ]
  },
  {
   "cell_type": "code",
   "execution_count": null,
   "metadata": {},
   "outputs": [],
   "source": [
    "courses.sort()\n",
    "print(courses)"
   ]
  },
  {
   "cell_type": "code",
   "execution_count": null,
   "metadata": {},
   "outputs": [],
   "source": [
    "courses.sort()\n",
    "print(courses)\n",
    "nums.sort()\n",
    "print(nums)"
   ]
  },
  {
   "cell_type": "code",
   "execution_count": null,
   "metadata": {},
   "outputs": [],
   "source": [
    "#reverse sort\n",
    "nums = [1,2,5,3,4]\n",
    "nums.sort(reverse = True)\n",
    "print(nums)"
   ]
  },
  {
   "cell_type": "markdown",
   "metadata": {},
   "source": [
    "### Sorting Lists\n",
    "Sorting list without changing the origonal list. Use a sorted function."
   ]
  },
  {
   "cell_type": "code",
   "execution_count": null,
   "metadata": {},
   "outputs": [],
   "source": [
    "# sorted() Does not change list\n",
    "nums = [1,2,5,3,4]\n",
    "sorted_nums = sorted(nums)\n",
    "print(nums)\n",
    "print(sorted_nums)\n",
    "print(nums)"
   ]
  },
  {
   "cell_type": "markdown",
   "metadata": {},
   "source": [
    "## SAQ 1 min, max, sum\n",
    "Test out the three functions min, max and sum"
   ]
  },
  {
   "cell_type": "code",
   "execution_count": null,
   "metadata": {},
   "outputs": [],
   "source": [
    "nums = [1,2,5,63,4]\n",
    "# Answers here\n",
    "print(sum(nums))"
   ]
  },
  {
   "cell_type": "markdown",
   "metadata": {},
   "source": [
    "### index and 'in' method\n",
    "Find value in list"
   ]
  },
  {
   "cell_type": "code",
   "execution_count": null,
   "metadata": {},
   "outputs": [],
   "source": [
    "courses = ['History','Math', 'Physics', 'Irish']\n",
    "print(courses.index('Irish')) "
   ]
  },
  {
   "cell_type": "code",
   "execution_count": null,
   "metadata": {},
   "outputs": [],
   "source": [
    "print('Art' in courses)# Asking if Art is in the list of courses"
   ]
  },
  {
   "cell_type": "code",
   "execution_count": null,
   "metadata": {},
   "outputs": [],
   "source": [
    "print('History' in courses)"
   ]
  },
  {
   "cell_type": "code",
   "execution_count": 30,
   "metadata": {},
   "outputs": [
    {
     "name": "stdout",
     "output_type": "stream",
     "text": [
      "History\n",
      "Math\n",
      "Physics\n",
      "Irish\n"
     ]
    }
   ],
   "source": [
    "for n in courses: # loop item can be anything\n",
    "    print(n)"
   ]
  },
  {
   "cell_type": "code",
   "execution_count": 31,
   "metadata": {},
   "outputs": [
    {
     "name": "stdout",
     "output_type": "stream",
     "text": [
      "History\n",
      "Math\n",
      "Physics\n",
      "Irish\n"
     ]
    }
   ],
   "source": [
    "for subject in courses:\n",
    "    print(subject)"
   ]
  },
  {
   "cell_type": "code",
   "execution_count": 32,
   "metadata": {},
   "outputs": [
    {
     "name": "stdout",
     "output_type": "stream",
     "text": [
      "0 History\n",
      "1 Math\n",
      "2 Physics\n",
      "3 Irish\n"
     ]
    }
   ],
   "source": [
    "for index, course in enumerate(courses): # loop item can be anything\n",
    "    print(index, course)"
   ]
  },
  {
   "cell_type": "markdown",
   "metadata": {},
   "source": [
    "### Join/Split Methods\n",
    "Print out a list as a string and visa versa"
   ]
  },
  {
   "cell_type": "code",
   "execution_count": 33,
   "metadata": {},
   "outputs": [],
   "source": [
    "courses = ['History','Math', 'Physics', 'Irish']\n",
    "course_str = '@'.join(courses)"
   ]
  },
  {
   "cell_type": "code",
   "execution_count": 34,
   "metadata": {},
   "outputs": [
    {
     "name": "stdout",
     "output_type": "stream",
     "text": [
      "History@Math@Physics@Irish\n"
     ]
    }
   ],
   "source": [
    "print(course_str)"
   ]
  },
  {
   "cell_type": "code",
   "execution_count": 35,
   "metadata": {},
   "outputs": [
    {
     "name": "stdout",
     "output_type": "stream",
     "text": [
      "['Morgan', 'McKnight']\n",
      "Morgan\n",
      "McKnight\n"
     ]
    }
   ],
   "source": [
    "#split method\n",
    "course_str = 'Morgan McKnight'\n",
    "courses = course_str.split(' ')\n",
    "first_name = courses[0]\n",
    "last_name = courses[1]\n",
    "print(courses)\n",
    "\n",
    "print(first_name)\n",
    "print(last_name)"
   ]
  },
  {
   "cell_type": "markdown",
   "metadata": {},
   "source": [
    "## Tuples\n",
    "**Tuples** are similar to lists except they cannot be modified. These are referred to as immutable as opposed to a list which is mutable. If you want to list that cannot be changed for example Constants, **pi**, **e**, **Monday** then you should use a Tuple. You use round brackets to define a tuple. The same methods do not apply to Tuples as they cannot be changed. However we can loop through **Tuples** and access values et cetera."
   ]
  },
  {
   "cell_type": "code",
   "execution_count": null,
   "metadata": {},
   "outputs": [],
   "source": [
    "courses = ('History','Math', 'Physics','Irish', 'Irish')\n",
    "courses.append('Art')"
   ]
  },
  {
   "cell_type": "markdown",
   "metadata": {},
   "source": [
    "## Sets\n",
    "Sets are unordered and have no duplicates. You use curly braces to define a set. Sets are often used to get rid of duplicate values and they are also used to compare values."
   ]
  },
  {
   "cell_type": "code",
   "execution_count": 36,
   "metadata": {},
   "outputs": [
    {
     "name": "stdout",
     "output_type": "stream",
     "text": [
      "{'Irish', 'Math', 'Physics', 'History'}\n"
     ]
    }
   ],
   "source": [
    "courses_set  = {'History','Math', 'Physics', 'Irish','Math'}\n",
    "print(courses_set) #not in order can be any order\n"
   ]
  },
  {
   "cell_type": "code",
   "execution_count": null,
   "metadata": {},
   "outputs": [],
   "source": [
    "# Sets can easily determine what values they share or do not share with another set.\n",
    "courses_set1  = {'History','Math', 'Physics', 'Irish'}\n",
    "courses_set2  = {'History','Geography', 'Physics', 'French'}\n",
    "\n",
    "print(courses_set1.intersection(courses_set2))"
   ]
  },
  {
   "cell_type": "code",
   "execution_count": null,
   "metadata": {
    "scrolled": true
   },
   "outputs": [],
   "source": [
    "print(courses_set1.difference(courses_set2))"
   ]
  },
  {
   "cell_type": "code",
   "execution_count": null,
   "metadata": {},
   "outputs": [],
   "source": [
    "print(courses_set1.union(courses_set2))"
   ]
  },
  {
   "cell_type": "code",
   "execution_count": null,
   "metadata": {},
   "outputs": [],
   "source": []
  },
  {
   "cell_type": "markdown",
   "metadata": {},
   "source": [
    "## Creating Empty Lists, tuples and sets\n",
    "\n",
    "```python\n",
    "\n",
    "empty_list = []\n",
    "empty_list = list()\n",
    "\n",
    "empty_tuple =()\n",
    "empty_tuple = tuple()\n",
    "\n",
    "empty_set ={} # cannot be defined this way, it thinks it is a dictiionary\n",
    "empty_set = set() # yes\n",
    "\n",
    "```\n",
    "\n",
    "\n"
   ]
  },
  {
   "cell_type": "markdown",
   "metadata": {},
   "source": [
    "## SAQ 2\n",
    "Write a program that accepts an input from a user, an animal, and prints a list of all the inputs. Run the program a few times so that you have a list of five animals."
   ]
  },
  {
   "cell_type": "code",
   "execution_count": null,
   "metadata": {},
   "outputs": [],
   "source": []
  },
  {
   "cell_type": "code",
   "execution_count": null,
   "metadata": {},
   "outputs": [],
   "source": []
  },
  {
   "cell_type": "markdown",
   "metadata": {},
   "source": [
    "## Dictionaries\n",
    "Dictionaries allow us to work with key value pairs and if you're coming\n",
    "from another programming language then you may have heard these called hash\n",
    "maps or associative arrays. With key value pairs these are two linked values where\n",
    "the key is a unique identifier of where we can find our data and the value is the\n",
    "data.We can think of them as like a real physical dictionary where we look up for definitions. For example  example each word that we look up would be the key and the definition of that word would be the value."
   ]
  },
  {
   "cell_type": "markdown",
   "metadata": {},
   "source": [
    "### Dictionary Examples"
   ]
  },
  {
   "cell_type": "code",
   "execution_count": 37,
   "metadata": {},
   "outputs": [
    {
     "name": "stdout",
     "output_type": "stream",
     "text": [
      "{'name': 'John', 'age': 24, 'subjects': ['Irish', 'English']}\n"
     ]
    }
   ],
   "source": [
    "# Example\n",
    "student = {'name':'John', 'age': 24, 'subjects': ['Irish','English']}\n",
    "print(student)"
   ]
  },
  {
   "cell_type": "code",
   "execution_count": 38,
   "metadata": {},
   "outputs": [
    {
     "name": "stdout",
     "output_type": "stream",
     "text": [
      "John\n",
      "['Irish', 'English']\n"
     ]
    }
   ],
   "source": [
    "# Index ids your key\n",
    "print(student['name'])\n",
    "print(student['subjects'])"
   ]
  },
  {
   "cell_type": "code",
   "execution_count": null,
   "metadata": {},
   "outputs": [],
   "source": [
    "# Keys can be any value\n",
    "student = {1:'John', 'age': 24, 'subjects': ['Irish','English']}\n",
    "print(student['age'])"
   ]
  },
  {
   "cell_type": "code",
   "execution_count": null,
   "metadata": {
    "scrolled": true
   },
   "outputs": [],
   "source": [
    "# Search for non-existent key\n",
    "student = {'name':'John', 'age': 24, 'subjects': ['Irish','English']}\n",
    "print(student['name'])\n",
    "print(student['phone'])\n"
   ]
  },
  {
   "cell_type": "markdown",
   "metadata": {},
   "source": [
    "### Get Method\n",
    "The get method is another way to access a dictionary value."
   ]
  },
  {
   "cell_type": "code",
   "execution_count": null,
   "metadata": {},
   "outputs": [],
   "source": [
    "# get method does not produce an error\n",
    "student = {'name':'John', 'age': 24, 'subjects': ['Irish','English'], 'phone': '0012345'}\n",
    "print(student.get('name'))\n",
    "print(student.get('phone'))\n",
    "print(student.get('phone','Not to there')) # Your own message"
   ]
  },
  {
   "cell_type": "markdown",
   "metadata": {},
   "source": [
    "### Add/update values to/in an dictionary"
   ]
  },
  {
   "cell_type": "code",
   "execution_count": 39,
   "metadata": {},
   "outputs": [
    {
     "name": "stdout",
     "output_type": "stream",
     "text": [
      "{'name': 'John', 'age': 24, 'subjects': ['Irish', 'English']}\n",
      "{'name': 'John', 'age': 24, 'subjects': ['Irish', 'English'], 'phone': '01-456789'}\n",
      "{'name': 'John', 'age': 24, 'subjects': ['Irish', 'English'], 'phone': '01-9999999'}\n"
     ]
    }
   ],
   "source": [
    "# add a value to dictionary\n",
    "student = {'name':'John', 'age': 24, 'subjects': ['Irish','English']}\n",
    "print(student)\n",
    "student['phone'] ='01-456789'#add a value to dictionary\n",
    "print(student)\n",
    "# Update a value\n",
    "student['phone'] ='01-9999999'#update a value in a dictionary\n",
    "print(student)"
   ]
  },
  {
   "cell_type": "markdown",
   "metadata": {},
   "source": [
    "### Dictionary Update Method\n",
    "Ideal if you want to change multiple things at once. You can add and update."
   ]
  },
  {
   "cell_type": "code",
   "execution_count": null,
   "metadata": {
    "scrolled": true
   },
   "outputs": [],
   "source": [
    "# Update and Change values\n",
    "student = {'name':'John', 'age': 24, 'subjects': ['Irish','English']}\n",
    "\n",
    "student.update({'name': 'Mary', 'phone': '333333333', 'grade': 44})\n",
    "print(student)"
   ]
  },
  {
   "cell_type": "code",
   "execution_count": null,
   "metadata": {},
   "outputs": [],
   "source": [
    "dict ={'name':'John'}\n",
    "print(dict)\n",
    "new_name = input('What is your name')\n",
    "dict.update({'name': new_name})\n",
    "print(dict)"
   ]
  },
  {
   "cell_type": "markdown",
   "metadata": {},
   "source": [
    "### Del and Pop methods\n",
    "Del deletes a key/value; Pop remove but also returns and that value "
   ]
  },
  {
   "cell_type": "code",
   "execution_count": null,
   "metadata": {
    "scrolled": true
   },
   "outputs": [],
   "source": [
    "# Delete\n",
    "student = {'name':'John', 'age': 24, 'subjects': ['Irish','English']}\n",
    "age = student.pop('age')\n",
    "print(student)\n",
    "print(age)"
   ]
  },
  {
   "cell_type": "markdown",
   "metadata": {},
   "source": [
    "### Looping Through a Dictionary"
   ]
  },
  {
   "cell_type": "code",
   "execution_count": 40,
   "metadata": {},
   "outputs": [
    {
     "name": "stdout",
     "output_type": "stream",
     "text": [
      "3\n"
     ]
    }
   ],
   "source": [
    "student = ({'name': 'Mary', 'phone': '333333333', 'grade': 44})\n",
    "# print(student)\n",
    "print(len(student)) # Number of elements in the dictionary"
   ]
  },
  {
   "cell_type": "code",
   "execution_count": 41,
   "metadata": {},
   "outputs": [
    {
     "name": "stdout",
     "output_type": "stream",
     "text": [
      "dict_keys(['name', 'phone', 'grade'])\n",
      "dict_values(['Mary', '333333333', 44])\n",
      "dict_items([('name', 'Mary'), ('phone', '333333333'), ('grade', 44)])\n"
     ]
    }
   ],
   "source": [
    "print(student.keys())\n",
    "print(student.values())\n",
    "print(student.items())"
   ]
  },
  {
   "cell_type": "code",
   "execution_count": 42,
   "metadata": {},
   "outputs": [
    {
     "name": "stdout",
     "output_type": "stream",
     "text": [
      "name\n",
      "phone\n",
      "grade\n"
     ]
    }
   ],
   "source": [
    "for v in student:\n",
    "    print(v)"
   ]
  },
  {
   "cell_type": "code",
   "execution_count": null,
   "metadata": {},
   "outputs": [],
   "source": [
    "# Iterate through key value pairs.\n",
    "for key,value in student.items():\n",
    "    print(key,value)"
   ]
  },
  {
   "cell_type": "markdown",
   "metadata": {},
   "source": [
    "## SAQ 3\n",
    "Create a dictionary of animal names their ages and animal type. eg Rover, 4, dog. Allow a user through an Input Statement to add new animals.  Print out the result each time."
   ]
  },
  {
   "cell_type": "code",
   "execution_count": null,
   "metadata": {},
   "outputs": [],
   "source": [
    "# Add your Answer here!"
   ]
  }
 ],
 "metadata": {
  "hide_input": false,
  "kernelspec": {
   "display_name": "Python 3",
   "language": "python",
   "name": "python3"
  },
  "language_info": {
   "codemirror_mode": {
    "name": "ipython",
    "version": 3
   },
   "file_extension": ".py",
   "mimetype": "text/x-python",
   "name": "python",
   "nbconvert_exporter": "python",
   "pygments_lexer": "ipython3",
   "version": "3.7.6"
  },
  "toc": {
   "base_numbering": 1,
   "nav_menu": {},
   "number_sections": true,
   "sideBar": true,
   "skip_h1_title": false,
   "title_cell": "Table of Contents",
   "title_sidebar": "Contents",
   "toc_cell": false,
   "toc_position": {
    "height": "calc(100% - 180px)",
    "left": "10px",
    "top": "150px",
    "width": "165px"
   },
   "toc_section_display": true,
   "toc_window_display": false
  }
 },
 "nbformat": 4,
 "nbformat_minor": 4
}
