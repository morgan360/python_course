{
 "cells": [
  {
   "cell_type": "markdown",
   "metadata": {},
   "source": [
    "Lesson 4 ~ Notes: version 3.0"
   ]
  },
  {
   "cell_type": "markdown",
   "metadata": {},
   "source": [
    "# Collections\n",
    "<img src=\"images/collections.png\" alt=\"colllections\" width=\"600\"/>\n",
    "<br>\n",
    "\n",
    "In this section we will be looking at collections of elements(things). Elements are stored in arrays as either **lists**, **tuples**, **sets**, or **dictionaries**.<br>\n",
    "\n",
    "**Lists and Tuples** allow us to work with sequential data, and **sets** are unordered collections of values with no duplicates. \n",
    "\n",
    "A **dictionary** is a list of elements organized in key value pairs.  Just like in a word dictionary, you look for a specific term. In programming, it is called a **key**. The definition is its **value**. This is called a **KEY <> VALUE** pair.\n",
    "\n",
    "```python\n",
    "myDict = {\"Jenny\": 34, \"Livia\": 28, \"Paul\": 31}\n",
    "print(myDict[\"Jenny\"]) # -> 34\n",
    "\n",
    "```\n",
    "In Python, a **tuple** is similar to **List** except that the objects in tuple are immutable which means we cannot change the elements of a tuple once assigned. On the other hand, we can change the elements of a list. A **tuple** is defined using round brackets.\n",
    "\n",
    "```python\n",
    "    my_data = (\"hi\", \"hello\", \"bye\")\n",
    "    print(my_data)\n",
    "```\n"
   ]
  },
  {
   "cell_type": "code",
   "execution_count": null,
   "metadata": {},
   "outputs": [],
   "source": []
  },
  {
   "cell_type": "markdown",
   "metadata": {},
   "source": [
    "## Lists\n",
    "<img src=\"images/collections.png\" alt=\"colllections\" width=\"300\"/>\n",
    "\n",
    "A **list** is defined using square brackets and each element in a list is enclosed in quotes and separated with a comma (Except the last item)\n",
    "\n",
    "```Python\n",
    "\n",
    "borrowedBooks = ['The Road', 'The Grapes of Wrath', 'The Shark', 'War of the worlds']\n",
    "\n",
    "```"
   ]
  },
  {
   "cell_type": "code",
   "execution_count": 1,
   "metadata": {},
   "outputs": [
    {
     "name": "stdout",
     "output_type": "stream",
     "text": [
      "['History', 'Math', 'Physics', 'Irish', 'French', 'Geography', 'Python']\n"
     ]
    }
   ],
   "source": [
    "courses = ['History','Math', 'Physics', 'Irish','French', 'Geography',\"Python\"]\n",
    "print(courses)"
   ]
  },
  {
   "cell_type": "code",
   "execution_count": 2,
   "metadata": {},
   "outputs": [
    {
     "name": "stdout",
     "output_type": "stream",
     "text": [
      "7\n"
     ]
    }
   ],
   "source": [
    "print(len(courses))"
   ]
  },
  {
   "cell_type": "code",
   "execution_count": 4,
   "metadata": {},
   "outputs": [
    {
     "name": "stdout",
     "output_type": "stream",
     "text": [
      "Python\n"
     ]
    }
   ],
   "source": [
    "print(courses[6])"
   ]
  },
  {
   "cell_type": "code",
   "execution_count": 6,
   "metadata": {},
   "outputs": [
    {
     "name": "stdout",
     "output_type": "stream",
     "text": [
      "Geography\n"
     ]
    }
   ],
   "source": [
    "print(courses[-2]) # dont need to know lenght"
   ]
  },
  {
   "cell_type": "markdown",
   "metadata": {},
   "source": [
    "### Slicing"
   ]
  },
  {
   "cell_type": "code",
   "execution_count": 10,
   "metadata": {},
   "outputs": [
    {
     "name": "stdout",
     "output_type": "stream",
     "text": [
      "['Physics', 'Irish', 'French', 'Geography', 'Python']\n"
     ]
    }
   ],
   "source": [
    "print(courses[2:]) # 5 not included (stop)"
   ]
  },
  {
   "cell_type": "code",
   "execution_count": 12,
   "metadata": {},
   "outputs": [
    {
     "name": "stdout",
     "output_type": "stream",
     "text": [
      "['Physics', 'Irish', 'French', 'Geography', 'Python']\n",
      "['History', 'Math', 'Physics', 'Irish', 'French', 'Geography', 'Python']\n"
     ]
    }
   ],
   "source": [
    "# print(courses[:2]) # assumes start from 0\n",
    "\n",
    "# print(courses[2:]) # assumes stop at last item\n",
    "\n",
    "science_subjects = courses[2:]\n",
    "print(science_subjects)\n",
    "print(courses)"
   ]
  },
  {
   "cell_type": "markdown",
   "metadata": {},
   "source": [
    "## Methods"
   ]
  },
  {
   "cell_type": "code",
   "execution_count": 14,
   "metadata": {},
   "outputs": [
    {
     "name": "stdout",
     "output_type": "stream",
     "text": [
      "['History', 'Math', 'Physics', 'Irish', 'French', 'Geography']\n",
      "['History', 'Math', 'Physics', 'Irish', 'French', 'Geography', 'Art']\n",
      "Art\n"
     ]
    }
   ],
   "source": [
    "# Add item to our list\n",
    "courses = ['History','Math', 'Physics', 'Irish','French', 'Geography']\n",
    "print(courses)\n",
    "courses.append('Art') # appends to end\n",
    "print(courses)\n",
    "print(courses[6])"
   ]
  },
  {
   "cell_type": "code",
   "execution_count": 15,
   "metadata": {},
   "outputs": [
    {
     "name": "stdout",
     "output_type": "stream",
     "text": [
      "['History', 'Math', 'Physics', 'Social Science', 'Irish', 'French', 'Geography', 'Art']\n"
     ]
    }
   ],
   "source": [
    "# Insert Method\n",
    "courses.insert(3, 'Social Science')\n",
    "print(courses)"
   ]
  },
  {
   "cell_type": "code",
   "execution_count": 16,
   "metadata": {},
   "outputs": [
    {
     "name": "stdout",
     "output_type": "stream",
     "text": [
      "['History', 'Math', ['Geography', 'Spanish'], 'Physics', 'Irish']\n"
     ]
    }
   ],
   "source": [
    "# Insert a List into a list\n",
    "courses = ['History','Math', 'Physics', 'Irish']\n",
    "courses_2 = ['Geography', 'Spanish']\n",
    "courses.insert(2, courses_2) # A list within a list\n",
    "print(courses)\n",
    "\n"
   ]
  },
  {
   "cell_type": "code",
   "execution_count": 17,
   "metadata": {},
   "outputs": [
    {
     "name": "stdout",
     "output_type": "stream",
     "text": [
      "['Geography', 'Spanish']\n"
     ]
    }
   ],
   "source": [
    "print(courses[2])"
   ]
  },
  {
   "cell_type": "markdown",
   "metadata": {},
   "source": [
    "### extend method"
   ]
  },
  {
   "cell_type": "code",
   "execution_count": 18,
   "metadata": {},
   "outputs": [
    {
     "name": "stdout",
     "output_type": "stream",
     "text": [
      "['History', 'Math', 'Physics', 'Irish']\n",
      "['History', 'Math', 'Physics', 'Irish', 'Geography', 'Spanish']\n"
     ]
    }
   ],
   "source": [
    "# used to add the items to the end\n",
    "courses = ['History','Math', 'Physics', 'Irish']\n",
    "print(courses)\n",
    "courses_2 = ['Geography', 'Spanish']\n",
    "courses.extend(courses_2)\n",
    "print(courses)"
   ]
  },
  {
   "cell_type": "markdown",
   "metadata": {},
   "source": [
    "### remove method\n",
    "Used to remove items from a list\n"
   ]
  },
  {
   "cell_type": "code",
   "execution_count": 19,
   "metadata": {},
   "outputs": [
    {
     "name": "stdout",
     "output_type": "stream",
     "text": [
      "['History', 'Math', 'Physics', 'Irish']\n",
      "['History', 'Physics', 'Irish']\n"
     ]
    }
   ],
   "source": [
    "# remove() function\n",
    "courses = ['History','Math', 'Physics', 'Irish']\n",
    "print(courses)\n",
    "courses.remove('Math')\n",
    "print(courses)"
   ]
  },
  {
   "cell_type": "code",
   "execution_count": 25,
   "metadata": {},
   "outputs": [
    {
     "name": "stdout",
     "output_type": "stream",
     "text": [
      "['History', 'Math', 'Physics', 'Irish']\n"
     ]
    }
   ],
   "source": [
    "#New List\n",
    "courses = ['History','Math', 'Physics', 'Irish']\n",
    "print(courses)"
   ]
  },
  {
   "cell_type": "code",
   "execution_count": 24,
   "metadata": {},
   "outputs": [
    {
     "name": "stdout",
     "output_type": "stream",
     "text": [
      "History\n",
      "[]\n"
     ]
    }
   ],
   "source": [
    "#pop()\n",
    "x = courses.pop() # removes the last value from a list and stores the values\n",
    "print(x)\n",
    "print(courses)\n",
    "# rem = courses.pop()\n",
    "# print(rem)\n",
    "# print(courses)"
   ]
  },
  {
   "cell_type": "markdown",
   "metadata": {},
   "source": [
    "### Ordering Lists"
   ]
  },
  {
   "cell_type": "code",
   "execution_count": 26,
   "metadata": {},
   "outputs": [
    {
     "name": "stdout",
     "output_type": "stream",
     "text": [
      "['History', 'Irish', 'Math', 'Physics']\n"
     ]
    }
   ],
   "source": [
    "courses.sort()\n",
    "print(courses)"
   ]
  },
  {
   "cell_type": "code",
   "execution_count": 28,
   "metadata": {},
   "outputs": [
    {
     "name": "stdout",
     "output_type": "stream",
     "text": [
      "['History', 'Irish', 'Math', 'Physics']\n",
      "[3, 4, 5, 6, 7]\n"
     ]
    }
   ],
   "source": [
    "courses = ['History','Math', 'Physics', 'Irish']\n",
    "nums = [7,5,6,3,4]\n",
    "courses.sort()\n",
    "print(courses)\n",
    "nums.sort()\n",
    "print(nums)"
   ]
  },
  {
   "cell_type": "code",
   "execution_count": 29,
   "metadata": {},
   "outputs": [
    {
     "name": "stdout",
     "output_type": "stream",
     "text": [
      "['History', 'Irish', 'Math', 'Physics']\n",
      "['Physics', 'Math', 'Irish', 'History']\n"
     ]
    }
   ],
   "source": [
    "# Reversing the order reverse()\n",
    "print(courses)\n",
    "courses.reverse()\n",
    "print(courses)"
   ]
  },
  {
   "cell_type": "code",
   "execution_count": 31,
   "metadata": {},
   "outputs": [
    {
     "name": "stdout",
     "output_type": "stream",
     "text": [
      "[67, 5, 4, 3, 2]\n"
     ]
    }
   ],
   "source": [
    "#reverse sort\n",
    "nums = [67,2,5,3,4]\n",
    "nums.sort(reverse = True)\n",
    "print(nums)"
   ]
  },
  {
   "cell_type": "markdown",
   "metadata": {},
   "source": [
    "### Sorting Lists\n",
    "Sorting list without changing the origonal list. Use a sorted function."
   ]
  },
  {
   "cell_type": "code",
   "execution_count": null,
   "metadata": {},
   "outputs": [],
   "source": [
    "# sorted() Does not change list\n",
    "nums = [1,2,5,3,4]\n",
    "sorted_nums = sorted(nums)\n",
    "print(nums)\n",
    "print(sorted_nums)\n",
    "print(nums)"
   ]
  },
  {
   "cell_type": "markdown",
   "metadata": {},
   "source": [
    "## SAQ 1 min, max, sum\n",
    "Test out the three functions min, max and sum"
   ]
  },
  {
   "cell_type": "code",
   "execution_count": 33,
   "metadata": {},
   "outputs": [
    {
     "name": "stdout",
     "output_type": "stream",
     "text": [
      "75\n",
      "1\n",
      "63\n"
     ]
    }
   ],
   "source": [
    "nums = [1,2,5,63,4]\n",
    "# Answers here\n",
    "print(sum(nums))\n",
    "print(min(nums))\n",
    "print(max(nums))"
   ]
  },
  {
   "cell_type": "markdown",
   "metadata": {},
   "source": [
    "### index and 'in' method\n",
    "Find value in list"
   ]
  },
  {
   "cell_type": "code",
   "execution_count": 34,
   "metadata": {},
   "outputs": [
    {
     "name": "stdout",
     "output_type": "stream",
     "text": [
      "3\n"
     ]
    }
   ],
   "source": [
    "courses = ['History','Math', 'Physics', 'Irish']\n",
    "print(courses.index('Irish')) "
   ]
  },
  {
   "cell_type": "code",
   "execution_count": 35,
   "metadata": {},
   "outputs": [
    {
     "name": "stdout",
     "output_type": "stream",
     "text": [
      "False\n"
     ]
    }
   ],
   "source": [
    "print('Art' in courses)# Asking if Art is in the list of courses"
   ]
  },
  {
   "cell_type": "code",
   "execution_count": 36,
   "metadata": {},
   "outputs": [
    {
     "name": "stdout",
     "output_type": "stream",
     "text": [
      "True\n"
     ]
    }
   ],
   "source": [
    "print('History' in courses)"
   ]
  },
  {
   "cell_type": "code",
   "execution_count": 38,
   "metadata": {},
   "outputs": [
    {
     "name": "stdout",
     "output_type": "stream",
     "text": [
      "History\n",
      "Math\n",
      "Physics\n",
      "Irish\n"
     ]
    }
   ],
   "source": [
    "for course in courses:\n",
    "    print(course)"
   ]
  },
  {
   "cell_type": "code",
   "execution_count": 39,
   "metadata": {},
   "outputs": [
    {
     "name": "stdout",
     "output_type": "stream",
     "text": [
      "History\n",
      "Math\n",
      "Physics\n",
      "Irish\n"
     ]
    }
   ],
   "source": [
    "for subject in courses:\n",
    "    print(subject)"
   ]
  },
  {
   "cell_type": "code",
   "execution_count": 40,
   "metadata": {},
   "outputs": [
    {
     "name": "stdout",
     "output_type": "stream",
     "text": [
      "0 History\n",
      "1 Math\n",
      "2 Physics\n",
      "3 Irish\n"
     ]
    }
   ],
   "source": [
    "for index, course in enumerate(courses): # loop item can be anything\n",
    "    print(index, course)"
   ]
  },
  {
   "cell_type": "markdown",
   "metadata": {},
   "source": [
    "### Join/Split Methods\n",
    "Print out a list as a string and visa versa"
   ]
  },
  {
   "cell_type": "code",
   "execution_count": 43,
   "metadata": {},
   "outputs": [],
   "source": [
    "courses = ['History','Math', 'Physics', 'Irish']\n",
    "course_str = ' and '.join(courses)"
   ]
  },
  {
   "cell_type": "code",
   "execution_count": 44,
   "metadata": {},
   "outputs": [
    {
     "name": "stdout",
     "output_type": "stream",
     "text": [
      "History and Math and Physics and Irish\n"
     ]
    }
   ],
   "source": [
    "print(course_str)"
   ]
  },
  {
   "cell_type": "code",
   "execution_count": 47,
   "metadata": {},
   "outputs": [
    {
     "name": "stdout",
     "output_type": "stream",
     "text": [
      "['Morgan', 'Mc', 'Morgan']\n"
     ]
    }
   ],
   "source": [
    "#split method\n",
    "course_str = 'Morgan,Mc,Morgan'\n",
    "courses = course_str.split(',')\n",
    "# first_name = courses[0]\n",
    "# last_name = courses[1]\n",
    "print(courses)\n",
    "\n",
    "# print(first_name)\n",
    "# print(last_name)"
   ]
  },
  {
   "cell_type": "markdown",
   "metadata": {},
   "source": [
    "## Tuples\n",
    "<img src=\"images/collections.png\" alt=\"colllections\" width=\"300\"/><br>\n",
    "**Tuples** are similar to lists except they cannot be modified. These are referred to as immutable as opposed to a list which is mutable. If you want to list that cannot be changed for example Constants, **pi**, **e**, **Monday** then you should use a Tuple. You use round brackets to define a tuple. The same methods do not apply to Tuples as they cannot be changed. However we can loop through **Tuples** and access values et cetera."
   ]
  },
  {
   "cell_type": "code",
   "execution_count": 49,
   "metadata": {},
   "outputs": [
    {
     "ename": "AttributeError",
     "evalue": "'tuple' object has no attribute 'append'",
     "output_type": "error",
     "traceback": [
      "\u001b[0;31m---------------------------------------------------------------------------\u001b[0m",
      "\u001b[0;31mAttributeError\u001b[0m                            Traceback (most recent call last)",
      "\u001b[0;32m<ipython-input-49-3d7da43075f5>\u001b[0m in \u001b[0;36m<module>\u001b[0;34m\u001b[0m\n\u001b[1;32m      2\u001b[0m \u001b[0mcourses\u001b[0m \u001b[0;34m=\u001b[0m \u001b[0;34m(\u001b[0m\u001b[0;34m'History'\u001b[0m\u001b[0;34m,\u001b[0m\u001b[0;34m'Math'\u001b[0m\u001b[0;34m,\u001b[0m \u001b[0;34m'Physics'\u001b[0m\u001b[0;34m,\u001b[0m\u001b[0;34m'Irish'\u001b[0m\u001b[0;34m,\u001b[0m \u001b[0;34m'Irish'\u001b[0m\u001b[0;34m)\u001b[0m\u001b[0;34m\u001b[0m\u001b[0;34m\u001b[0m\u001b[0m\n\u001b[1;32m      3\u001b[0m \u001b[0;31m# Add a element\u001b[0m\u001b[0;34m\u001b[0m\u001b[0;34m\u001b[0m\u001b[0;34m\u001b[0m\u001b[0m\n\u001b[0;32m----> 4\u001b[0;31m \u001b[0mcourses\u001b[0m\u001b[0;34m.\u001b[0m\u001b[0mappend\u001b[0m\u001b[0;34m(\u001b[0m\u001b[0;34m'Art'\u001b[0m\u001b[0;34m)\u001b[0m\u001b[0;34m\u001b[0m\u001b[0;34m\u001b[0m\u001b[0m\n\u001b[0m",
      "\u001b[0;31mAttributeError\u001b[0m: 'tuple' object has no attribute 'append'"
     ]
    }
   ],
   "source": [
    "# Create a tuple\n",
    "courses = ('History','Math', 'Physics','Irish', 'Irish')\n",
    "# Add a element\n",
    "courses.append('Art')"
   ]
  },
  {
   "cell_type": "markdown",
   "metadata": {},
   "source": [
    "## Creating Empty Lists, tuples and sets\n",
    "\n",
    "```python\n",
    "\n",
    "empty_list = []\n",
    "empty_list = list()\n",
    "\n",
    "empty_tuple =()\n",
    "empty_tuple = tuple()\n",
    "\n",
    "empty_set ={} # cannot be defined this way, it thinks it is a dictiionary\n",
    "empty_set = set() # yes\n",
    "\n",
    "```\n",
    "\n",
    "\n"
   ]
  },
  {
   "cell_type": "markdown",
   "metadata": {},
   "source": [
    "## SAQ 2: Noah's Ark\n",
    "![zoo animals](images/zoo.jpeg)<br>\n",
    "\n",
    "\n",
    "Write a program that accepts an input from a user, an animal, and prints a list of all the inputs. <br>Run the program a few times so that you have a list of five animals."
   ]
  },
  {
   "cell_type": "code",
   "execution_count": 58,
   "metadata": {},
   "outputs": [
    {
     "name": "stdout",
     "output_type": "stream",
     "text": [
      "[]\n"
     ]
    }
   ],
   "source": [
    "# Add your Answer Here\n",
    "ark = []\n",
    "print(ark)"
   ]
  },
  {
   "cell_type": "code",
   "execution_count": 59,
   "metadata": {},
   "outputs": [
    {
     "name": "stdout",
     "output_type": "stream",
     "text": [
      "Enter your AnimalJag\n",
      "['Jag']\n"
     ]
    }
   ],
   "source": [
    "animal = input(\"Enter your Animal\")\n",
    "ark.append(animal)\n",
    "\n",
    "print(ark)"
   ]
  },
  {
   "cell_type": "markdown",
   "metadata": {},
   "source": [
    "## Dictionaries\n",
    "<img src=\"images/collections.png\" alt=\"colllections\" width=\"300\"/><br>\n",
    "Dictionaries allow us to work with key value pairs and if you're coming\n",
    "from another programming language then you may have heard these called hash\n",
    "maps or associative arrays. With key value pairs these are two linked values where\n",
    "the key is a unique identifier of where we can find our data and the value is the\n",
    "data.We can think of them as like a real physical dictionary where we look up for definitions. For example  example each word that we look up would be the key and the definition of that word would be the value."
   ]
  },
  {
   "cell_type": "markdown",
   "metadata": {},
   "source": [
    "### Dictionary Examples"
   ]
  },
  {
   "cell_type": "code",
   "execution_count": 61,
   "metadata": {},
   "outputs": [
    {
     "name": "stdout",
     "output_type": "stream",
     "text": [
      "England\n"
     ]
    }
   ],
   "source": [
    "team_dict = {\"team1\":\"Ireland\", \"team2\":\"England\"}\n",
    "print(team_dict['team2'])"
   ]
  },
  {
   "cell_type": "code",
   "execution_count": 65,
   "metadata": {},
   "outputs": [
    {
     "name": "stdout",
     "output_type": "stream",
     "text": [
      "{'name': 'Mary', 'age': 24, 'subjects': ['Irish', 'English', 'Math']}\n"
     ]
    }
   ],
   "source": [
    "# Example\n",
    "student = {'name':'John', 'age': 24, 'subjects': ['Irish','English']}\n",
    "student1 = {'name':'Mary', 'age': 24, 'subjects': ['Irish','English','Math']}\n",
    "print(student1)"
   ]
  },
  {
   "cell_type": "code",
   "execution_count": 68,
   "metadata": {},
   "outputs": [
    {
     "name": "stdout",
     "output_type": "stream",
     "text": [
      "Mary\n",
      "['Irish', 'English', 'Math']\n"
     ]
    }
   ],
   "source": [
    "# Index ids your key\n",
    "print(student1['name'])\n",
    "print(student1['subjects'])"
   ]
  },
  {
   "cell_type": "code",
   "execution_count": null,
   "metadata": {},
   "outputs": [],
   "source": [
    "print(student1['name'])\n",
    "print(student1['subjects'])"
   ]
  },
  {
   "cell_type": "code",
   "execution_count": 70,
   "metadata": {},
   "outputs": [
    {
     "name": "stdout",
     "output_type": "stream",
     "text": [
      "John\n"
     ]
    }
   ],
   "source": [
    "# Keys can be any value\n",
    "student = {1:'John', 'age': 24, 'subjects': ['Irish','English']}\n",
    "print(student[1])"
   ]
  },
  {
   "cell_type": "code",
   "execution_count": 71,
   "metadata": {
    "scrolled": true
   },
   "outputs": [
    {
     "name": "stdout",
     "output_type": "stream",
     "text": [
      "John\n"
     ]
    },
    {
     "ename": "KeyError",
     "evalue": "'phone'",
     "output_type": "error",
     "traceback": [
      "\u001b[0;31m---------------------------------------------------------------------------\u001b[0m",
      "\u001b[0;31mKeyError\u001b[0m                                  Traceback (most recent call last)",
      "\u001b[0;32m<ipython-input-71-d2820b4f3139>\u001b[0m in \u001b[0;36m<module>\u001b[0;34m\u001b[0m\n\u001b[1;32m      2\u001b[0m \u001b[0mstudent\u001b[0m \u001b[0;34m=\u001b[0m \u001b[0;34m{\u001b[0m\u001b[0;34m'name'\u001b[0m\u001b[0;34m:\u001b[0m\u001b[0;34m'John'\u001b[0m\u001b[0;34m,\u001b[0m \u001b[0;34m'age'\u001b[0m\u001b[0;34m:\u001b[0m \u001b[0;36m24\u001b[0m\u001b[0;34m,\u001b[0m \u001b[0;34m'subjects'\u001b[0m\u001b[0;34m:\u001b[0m \u001b[0;34m[\u001b[0m\u001b[0;34m'Irish'\u001b[0m\u001b[0;34m,\u001b[0m\u001b[0;34m'English'\u001b[0m\u001b[0;34m]\u001b[0m\u001b[0;34m}\u001b[0m\u001b[0;34m\u001b[0m\u001b[0;34m\u001b[0m\u001b[0m\n\u001b[1;32m      3\u001b[0m \u001b[0mprint\u001b[0m\u001b[0;34m(\u001b[0m\u001b[0mstudent\u001b[0m\u001b[0;34m[\u001b[0m\u001b[0;34m'name'\u001b[0m\u001b[0;34m]\u001b[0m\u001b[0;34m)\u001b[0m\u001b[0;34m\u001b[0m\u001b[0;34m\u001b[0m\u001b[0m\n\u001b[0;32m----> 4\u001b[0;31m \u001b[0mprint\u001b[0m\u001b[0;34m(\u001b[0m\u001b[0mstudent\u001b[0m\u001b[0;34m[\u001b[0m\u001b[0;34m'phone'\u001b[0m\u001b[0;34m]\u001b[0m\u001b[0;34m)\u001b[0m\u001b[0;34m\u001b[0m\u001b[0;34m\u001b[0m\u001b[0m\n\u001b[0m",
      "\u001b[0;31mKeyError\u001b[0m: 'phone'"
     ]
    }
   ],
   "source": [
    "# Search for non-existent key\n",
    "student = {'name':'John', 'age': 24, 'subjects': ['Irish','English']}\n",
    "print(student['name'])\n",
    "print(student['phone'])\n"
   ]
  },
  {
   "cell_type": "markdown",
   "metadata": {},
   "source": [
    "### Get Method\n",
    "The get method is another way to access a dictionary value."
   ]
  },
  {
   "cell_type": "code",
   "execution_count": 77,
   "metadata": {},
   "outputs": [
    {
     "name": "stdout",
     "output_type": "stream",
     "text": [
      "24\n",
      "123456\n"
     ]
    }
   ],
   "source": [
    "# get method does not produce an error\n",
    "student = {'name':'John', 'age': 24, 'subjects': ['Irish','English'], 'phone':123456}\n",
    "print(student.get('age'))\n",
    "#print(student.get('phone'))\n",
    "print(student.get('phone','Not to there')) # Your own message"
   ]
  },
  {
   "cell_type": "markdown",
   "metadata": {},
   "source": [
    "### Add/update values to/in an dictionary"
   ]
  },
  {
   "cell_type": "code",
   "execution_count": 80,
   "metadata": {},
   "outputs": [
    {
     "name": "stdout",
     "output_type": "stream",
     "text": [
      "{'name': 'John', 'age': 24, 'subjects': ['Irish', 'English']}\n",
      "{'name': 'John', 'age': 24, 'subjects': ['Irish', 'English'], 'phone': '01-456789'}\n",
      "{'name': 'John', 'age': 24, 'subjects': ['Irish', 'English'], 'phone': '01-9999999'}\n"
     ]
    }
   ],
   "source": [
    "# add a value to dictionary\n",
    "student = {'name':'John', 'age': 24, 'subjects': ['Irish','English']}\n",
    "print(student)\n",
    "\n",
    "student['phone'] ='01-456789'#add a value to dictionary\n",
    "print(student)\n",
    "# Update a value\n",
    "student['phone'] ='01-9999999'#update a value in a dictionary\n",
    "print(student)"
   ]
  },
  {
   "cell_type": "markdown",
   "metadata": {},
   "source": [
    "### Dictionary Update Method\n",
    "Ideal if you want to change multiple things at once. You can add and update."
   ]
  },
  {
   "cell_type": "code",
   "execution_count": 81,
   "metadata": {
    "scrolled": true
   },
   "outputs": [
    {
     "name": "stdout",
     "output_type": "stream",
     "text": [
      "{'name': 'Mary', 'age': 24, 'subjects': ['Irish', 'English'], 'phone': '333333333', 'grade': 44}\n"
     ]
    }
   ],
   "source": [
    "# Update and Change values\n",
    "student = {'name':'John', 'age': 24, 'subjects': ['Irish','English']}\n",
    "\n",
    "student.update({'name': 'Mary', 'phone': '333333333', 'grade': 44})\n",
    "print(student)"
   ]
  },
  {
   "cell_type": "code",
   "execution_count": 84,
   "metadata": {},
   "outputs": [
    {
     "name": "stdout",
     "output_type": "stream",
     "text": [
      "{'name': 'John'}\n",
      "What is your nameMorgan\n",
      "{'name': 'John', 'name1': 'Morgan'}\n"
     ]
    }
   ],
   "source": [
    "dict ={'name':'John'}\n",
    "print(dict)\n",
    "new_name = input('What is your name')\n",
    "dict.update({'name1': new_name})\n",
    "print(dict)"
   ]
  },
  {
   "cell_type": "markdown",
   "metadata": {},
   "source": [
    "### Del and Pop methods\n",
    "Del deletes a key/value; Pop remove but also returns and that value "
   ]
  },
  {
   "cell_type": "code",
   "execution_count": 85,
   "metadata": {
    "scrolled": true
   },
   "outputs": [
    {
     "name": "stdout",
     "output_type": "stream",
     "text": [
      "{'name': 'John', 'subjects': ['Irish', 'English']}\n",
      "24\n"
     ]
    }
   ],
   "source": [
    "# Delete\n",
    "student = {'name':'John', 'age': 24, 'subjects': ['Irish','English']}\n",
    "\n",
    "age = student.pop('age')\n",
    "print(student)\n",
    "print(age)"
   ]
  },
  {
   "cell_type": "markdown",
   "metadata": {},
   "source": [
    "### Looping Through a Dictionary"
   ]
  },
  {
   "cell_type": "code",
   "execution_count": 87,
   "metadata": {},
   "outputs": [
    {
     "name": "stdout",
     "output_type": "stream",
     "text": [
      "3\n"
     ]
    }
   ],
   "source": [
    "student = {'name': 'Mary', 'phone': '333333333', 'grade': 44}\n",
    "# print(student)\n",
    "print(len(student)) # Number of elements in the dictionary"
   ]
  },
  {
   "cell_type": "code",
   "execution_count": 88,
   "metadata": {},
   "outputs": [
    {
     "name": "stdout",
     "output_type": "stream",
     "text": [
      "dict_keys(['name', 'phone', 'grade'])\n",
      "dict_values(['Mary', '333333333', 44])\n",
      "dict_items([('name', 'Mary'), ('phone', '333333333'), ('grade', 44)])\n"
     ]
    }
   ],
   "source": [
    "print(student.keys())\n",
    "print(student.values())\n",
    "print(student.items())"
   ]
  },
  {
   "cell_type": "markdown",
   "metadata": {},
   "source": [
    "<div><img src=\"images/preview.png\" alt=\"preview\" align=\"left\" width=\"80\"/><br>\n",
    "<blockquote> <b>For Loop:</b>\n",
    "A for loop is used for iterating over a sequence (that is either a list, a tuple, a dictionary, a set, or a string).\n",
    "</blockquote></div>\n",
    "<div>\n",
    "<img src=\"images/syntax.png\" alt=\"preview\" align=\"left\" width=\"50\"/><br>    \n",
    "</div>\n",
    "\n",
    "```python\n",
    "for iterating_var in sequence:\n",
    "   statements(s)\n",
    "```"
   ]
  },
  {
   "cell_type": "code",
   "execution_count": 93,
   "metadata": {},
   "outputs": [
    {
     "name": "stdout",
     "output_type": "stream",
     "text": [
      "Eating: banana\n",
      "Eating: apple\n",
      "Eating: mango\n",
      "\n",
      "Basket is empty!\n",
      "\n"
     ]
    }
   ],
   "source": [
    "fruits = ['banana', 'apple',  'mango']\n",
    "for fruit in fruits:\n",
    "    print ('Eating:', fruit)\n",
    "\n",
    "print(\"\\nBasket is empty!\\n\")"
   ]
  },
  {
   "cell_type": "code",
   "execution_count": null,
   "metadata": {},
   "outputs": [],
   "source": [
    "# It loops trough each element in students and assigns the element to a tempory variable.\n",
    "for v in student:\n",
    "    print(v)"
   ]
  },
  {
   "cell_type": "markdown",
   "metadata": {},
   "source": [
    "<div><img src=\"images/preview.png\" alt=\"preview\" align=\"left\" width=\"100\"/><br>\n",
    "<blockquote> <b>Range function:</b>\n",
    "Python range() The range() function returns a sequence of numbers, starting from 0 by default, and increments by 1 (by default), and stops before a specified number.   \n",
    "</blockquote></div>\n",
    "<div>\n",
    "<img src=\"images/syntax.png\" alt=\"preview\" align=\"left\" width=\"50\"/><br>    \n",
    "</div>\n",
    "\n",
    "```python\n",
    "range(start, stop, step)\n",
    "```"
   ]
  },
  {
   "cell_type": "code",
   "execution_count": 97,
   "metadata": {},
   "outputs": [
    {
     "name": "stdout",
     "output_type": "stream",
     "text": [
      "0\n",
      "1\n",
      "2\n",
      "3\n",
      "4\n",
      "5\n",
      "6\n",
      "7\n",
      "8\n",
      "9\n",
      "10\n",
      "11\n",
      "12\n",
      "13\n",
      "14\n",
      "15\n",
      "16\n",
      "17\n",
      "18\n",
      "19\n"
     ]
    }
   ],
   "source": [
    "# Example of Range function\n",
    "#x = range(10)\n",
    "for rat in range(20):\n",
    "  print(rat)"
   ]
  },
  {
   "cell_type": "code",
   "execution_count": 98,
   "metadata": {},
   "outputs": [
    {
     "name": "stdout",
     "output_type": "stream",
     "text": [
      "name Mary\n",
      "phone 333333333\n",
      "grade 44\n"
     ]
    }
   ],
   "source": [
    "# Iterate through key value pairs.\n",
    "for key,value in student.items():\n",
    "    print(key,value)"
   ]
  },
  {
   "cell_type": "markdown",
   "metadata": {},
   "source": [
    "## SAQ 3 : Animal Dictionary\n",
    "<img src=\"images/animals.jpg\" alt=\"turtle\" width=\"200\" align =\"right\"/>\n",
    "<br>\n",
    "\n",
    "Create a dictionary of animal names their ages and animal type. eg **Rover, 4, dog -- Melisa, Cat, 5**. Allow a user through an Input Statement to add new animals.  Print out the result each time. You can use a **for loop** and **range** function to specify how many times you ask for input."
   ]
  },
  {
   "cell_type": "code",
   "execution_count": null,
   "metadata": {},
   "outputs": [],
   "source": [
    "animalDict = []\n",
    "animalDetails = {'Name':'','Age':'','Details':''}\n",
    "h = input('How many pet do you have? ')\n",
    "for i in range(int(h)):\n",
    "    petName = input(\"What's your puppy's name? \")\n",
    "    petAge = input(\"What's your puppy's age? \")\n",
    "    petSpecie = input(\"What's your puppy's specie? \")\n",
    "    animalDetails.update({'Name': petName})\n",
    "    animalDetails.update({'Age': petAge})\n",
    "    animalDetails.update({'Details': petSpecie})\n",
    "    animalDict.append(animalDetails)\n",
    "print(animalDict)\n",
    "current = [0, 1]\n",
    "someList = []\n",
    "\n",
    "while True:\n",
    "  for n in range(0, 2):\n",
    "    current[n] += 1\n",
    "\n",
    "  print(current) # [1,2] and [2,3]\n",
    "  someList.append(current.copy())\n",
    "\n",
    "  if current == [2, 3]:\n",
    "    break\n",
    "\n",
    "print(someList) # [[1,3], [2,3]]"
   ]
  },
  {
   "cell_type": "code",
   "execution_count": null,
   "metadata": {},
   "outputs": [],
   "source": [
    "# Add your Answer here!\n",
    "pet_details ={}\n",
    "name= input('What is the name of your pet?')\n",
    "age= input(\"What is your pet's name?\")\n",
    "colour = input(\"What is your pet's colour?\")"
   ]
  },
  {
   "cell_type": "markdown",
   "metadata": {},
   "source": [
    "## Sets\n",
    "<img src=\"images/collections.png\" alt=\"colllections\" width=\"300\"/><br>\n",
    "Sets are unordered and have no duplicates. You use curly braces to define a set. Sets are often used to get rid of duplicate values and they are also used to compare values."
   ]
  },
  {
   "cell_type": "code",
   "execution_count": null,
   "metadata": {},
   "outputs": [],
   "source": [
    "courses_set  = {'History','Math', 'Physics', 'Irish','Math'}\n",
    "print(courses_set) #not in order can be any order\n"
   ]
  },
  {
   "cell_type": "code",
   "execution_count": null,
   "metadata": {},
   "outputs": [],
   "source": [
    "# Sets can easily determine what values they share or do not share with another set.\n",
    "courses_set1  = {'History','Math', 'Physics', 'Irish'}\n",
    "courses_set2  = {'History','Geography', 'Physics', 'French'}\n",
    "\n",
    "print(courses_set1.intersection(courses_set2))"
   ]
  },
  {
   "cell_type": "code",
   "execution_count": null,
   "metadata": {
    "scrolled": false
   },
   "outputs": [],
   "source": [
    "print(courses_set2.difference(courses_set1))"
   ]
  },
  {
   "cell_type": "code",
   "execution_count": null,
   "metadata": {},
   "outputs": [],
   "source": [
    "print(courses_set1.union(courses_set2))"
   ]
  },
  {
   "cell_type": "markdown",
   "metadata": {},
   "source": [
    "**Phew!** <div>\n",
    "<img src=\"images/the_end.png\" alt=\"The End\" width=\"300\" align=\"center\"/></div>"
   ]
  }
 ],
 "metadata": {
  "hide_input": false,
  "kernelspec": {
   "display_name": "Python 3",
   "language": "python",
   "name": "python3"
  },
  "language_info": {
   "codemirror_mode": {
    "name": "ipython",
    "version": 3
   },
   "file_extension": ".py",
   "mimetype": "text/x-python",
   "name": "python",
   "nbconvert_exporter": "python",
   "pygments_lexer": "ipython3",
   "version": "3.7.6"
  },
  "toc": {
   "base_numbering": 1,
   "nav_menu": {},
   "number_sections": true,
   "sideBar": true,
   "skip_h1_title": false,
   "title_cell": "Table of Contents",
   "title_sidebar": "Contents",
   "toc_cell": false,
   "toc_position": {
    "height": "calc(100% - 180px)",
    "left": "10px",
    "top": "150px",
    "width": "165px"
   },
   "toc_section_display": true,
   "toc_window_display": false
  }
 },
 "nbformat": 4,
 "nbformat_minor": 4
}
