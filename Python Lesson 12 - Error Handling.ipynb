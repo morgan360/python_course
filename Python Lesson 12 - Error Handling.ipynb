{
 "cells": [
  {
   "cell_type": "markdown",
   "metadata": {},
   "source": [
    "version 1.0"
   ]
  },
  {
   "cell_type": "markdown",
   "metadata": {},
   "source": [
    "# Error Handling in Python"
   ]
  },
  {
   "cell_type": "markdown",
   "metadata": {},
   "source": [
    "## Try Except"
   ]
  },
  {
   "cell_type": "code",
   "execution_count": null,
   "metadata": {},
   "outputs": [],
   "source": [
    "try:\n",
    "    pass\n",
    "except Exception:\n",
    "    pass\n",
    "else:\n",
    "    pass\n",
    "finally:\n",
    "    pass"
   ]
  },
  {
   "cell_type": "markdown",
   "metadata": {},
   "source": [
    "Example of an error from user"
   ]
  },
  {
   "cell_type": "code",
   "execution_count": null,
   "metadata": {
    "cocalc": {
     "outputs": {
      "0": {
       "name": "input",
       "opts": {
        "password": false,
        "prompt": "Add an integer value here"
       },
       "output_type": "stream",
       "value": "asdf"
      }
     }
    }
   },
   "outputs": [],
   "source": [
    "x = int(input(\"Add an integer value here\"))\n",
    "y= x+6\n",
    "print(y)"
   ]
  },
  {
   "cell_type": "code",
   "execution_count": null,
   "metadata": {},
   "outputs": [],
   "source": [
    "asdf"
   ]
  },
  {
   "cell_type": "code",
   "execution_count": null,
   "metadata": {
    "cocalc": {
     "outputs": {
      "0": {
       "name": "input",
       "opts": {
        "password": false,
        "prompt": "Add an integer value here"
       },
       "output_type": "stream",
       "value": "k"
      }
     }
    }
   },
   "outputs": [],
   "source": [
    "# General Exception\n",
    "x=0\n",
    "try:\n",
    "    x = int(input(\"Add an integer value here\"))\n",
    "except Exception:\n",
    "    print(\"You need to enter an integer!\")"
   ]
  },
  {
   "cell_type": "code",
   "execution_count": null,
   "metadata": {},
   "outputs": [],
   "source": [
    "# General Exception\n",
    "x=0\n",
    "try:\n",
    "    x = int(input(\"Add an integer value here\"))\n",
    "except Exception:\n",
    "    print(\"You need to enter an integer!\")\n",
    "print(x+4)"
   ]
  },
  {
   "cell_type": "code",
   "execution_count": null,
   "metadata": {},
   "outputs": [],
   "source": [
    "# General Exception\n",
    "x=0\n",
    "try:\n",
    "    x = int(input(\"Add an integer value here\"))\n",
    "    var = bad_var\n",
    "except NameError:\n",
    "    print(\"Something went wrong!\")\n",
    "except Exception:\n",
    "    print(\"You need to enter an integer!\")\n",
    "print(x+4)"
   ]
  },
  {
   "cell_type": "code",
   "execution_count": null,
   "metadata": {
    "cocalc": {
     "outputs": {
      "0": {
       "name": "input",
       "opts": {
        "password": false,
        "prompt": "Add an integer value here"
       },
       "output_type": "stream",
       "value": "t"
      }
     }
    }
   },
   "outputs": [],
   "source": [
    "x=0\n",
    "\n",
    "try:\n",
    "    x = int(input(\"Add an integer value here\"))\n",
    "    r= r+3\n",
    "except ValueError:\n",
    "    print(\"You need to enter an integer!\")\n",
    "except Exception:\n",
    "    print(\"Something went wrong!\")    \n",
    "else:\n",
    "    y= x+6\n",
    "print(y)"
   ]
  },
  {
   "cell_type": "code",
   "execution_count": null,
   "metadata": {},
   "outputs": [],
   "source": [
    "# a bad variable assignment\n",
    "var = bad_var"
   ]
  },
  {
   "cell_type": "code",
   "execution_count": null,
   "metadata": {},
   "outputs": [],
   "source": [
    "# a bad variable assignment\n",
    "try:\n",
    "    var = bad_var\n",
    "except Exception:\n",
    "    print(\"Something went wrong\")"
   ]
  },
  {
   "cell_type": "code",
   "execution_count": null,
   "metadata": {},
   "outputs": [],
   "source": [
    "# a bad variable assignment using inbuilt errors\n",
    "try:\n",
    "    var = bad_var\n",
    "except Exception as e:\n",
    "    print(e)"
   ]
  },
  {
   "cell_type": "markdown",
   "metadata": {},
   "source": [
    "## Else  Clause\n",
    "This code is run if no error in Try clause"
   ]
  },
  {
   "cell_type": "code",
   "execution_count": null,
   "metadata": {},
   "outputs": [],
   "source": [
    "#File read example \n",
    "note = open('error_handling.txt')\n",
    "print(note.read())"
   ]
  },
  {
   "cell_type": "code",
   "execution_count": 6,
   "metadata": {},
   "outputs": [
    {
     "name": "stdout",
     "output_type": "stream",
     "text": [
      "[Errno 2] No such file or directory: 'errorhandling.txt'\n",
      "==> next line of code\n"
     ]
    }
   ],
   "source": [
    "#File read example (Error Handling)\n",
    "try:\n",
    "    note = open('errorhandling.txt')\n",
    "except Exception as e:\n",
    "        print(e)\n",
    "else:\n",
    "    print(note.read())\n",
    "print('==> next line of code')"
   ]
  },
  {
   "cell_type": "code",
   "execution_count": null,
   "metadata": {},
   "outputs": [],
   "source": [
    "try:\n",
    "    x = int(input(\"Add an integer value here\"))\n",
    "    r= r+3\n",
    "except ValueError:\n",
    "    print(\"You need to enter an integer!\")"
   ]
  },
  {
   "cell_type": "markdown",
   "metadata": {},
   "source": [
    "## Finally"
   ]
  },
  {
   "cell_type": "code",
   "execution_count": 9,
   "metadata": {
    "cocalc": {
     "outputs": {
      "0": {
       "name": "input",
       "opts": {
        "password": false,
        "prompt": "Add an integer value here"
       },
       "output_type": "stream",
       "value": "4"
      }
     }
    }
   },
   "outputs": [
    {
     "name": "stdout",
     "output_type": "stream",
     "text": [
      "Add an integer value here3\n",
      "9\n",
      "Finally, Let's Move On! e.g close resources regardless of error or not.\n"
     ]
    }
   ],
   "source": [
    "# Introducing the finally clause\n",
    "x=0\n",
    "\n",
    "try:\n",
    "    x = int(input(\"Add an integer value here\"))\n",
    "    r= 3\n",
    "except ValueError:\n",
    "    print(\"You need to enter an integer!\")\n",
    "except Exception:\n",
    "    print(\"Something went wrong!\")    \n",
    "else:\n",
    "    y= x+6\n",
    "    print(y)\n",
    "finally:\n",
    "    print(\"Finally, Let's Move On! e.g close resources regardless of error or not.\")"
   ]
  },
  {
   "cell_type": "code",
   "execution_count": null,
   "metadata": {},
   "outputs": [],
   "source": []
  },
  {
   "cell_type": "code",
   "execution_count": null,
   "metadata": {},
   "outputs": [],
   "source": []
  }
 ],
 "metadata": {
  "hide_input": false,
  "kernelspec": {
   "display_name": "Python 3",
   "language": "python",
   "name": "python3"
  },
  "language_info": {
   "codemirror_mode": {
    "name": "ipython",
    "version": 3
   },
   "file_extension": ".py",
   "mimetype": "text/x-python",
   "name": "python",
   "nbconvert_exporter": "python",
   "pygments_lexer": "ipython3",
   "version": "3.7.6"
  },
  "toc": {
   "base_numbering": 1,
   "nav_menu": {},
   "number_sections": true,
   "sideBar": true,
   "skip_h1_title": false,
   "title_cell": "Table of Contents",
   "title_sidebar": "Contents",
   "toc_cell": false,
   "toc_position": {},
   "toc_section_display": true,
   "toc_window_display": true
  }
 },
 "nbformat": 4,
 "nbformat_minor": 4
}
