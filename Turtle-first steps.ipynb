{
 "cells": [
  {
   "cell_type": "markdown",
   "metadata": {},
   "source": [
    "# Turtle Playground\n",
    "Turtle is library that you can import into Juypter Notebooks. You use Python commands to play with your turtle. On this course we will be using Turtle to illustrate a number of programming concepts. On week four we will have a small competition to see(by vote)the nicest turtle drawing.\n",
    "\n",
    "Turtle should work straight off on Anacinda 3. However if it does not work, then we may have to use the extension.  The extension is installed useing the following commands in the Anaconda run cmd prompt.<br>\n",
    "<code>$ pip install ipyturtle <br>\n",
    "$ jupyter nbextension enable --py --sys-prefix ipyturtle</code>\n",
    "\n",
    "Turtle Docummentation is available at [Turtle Docs](https://docs.python.org/3.3/library/turtle.html?highlight=turtle)."
   ]
  },
  {
   "cell_type": "markdown",
   "metadata": {},
   "source": [
    "## Turtle's first steps:\n",
    "The first thing you have to do is import an already prebuilt program **(library)** called turtle using import turtle"
   ]
  },
  {
   "cell_type": "code",
   "execution_count": 5,
   "metadata": {},
   "outputs": [],
   "source": [
    "import turtle # import the library\n",
    "import time\n",
    "fwr = 150\n",
    "turn = 90\n",
    "m = turtle.Turtle() #Create a new turtle called m\n",
    "#turtle.clearscreen() # Clears the screen after turtle is fininshe\n",
    "m.color(\"red\") # Make turtle red in colour\n",
    "m.pensize(6) #Set the tickness of the pen\n",
    "m.shape(\"turtle\")\n",
    "m.forward(fwr)\n",
    "m.left(turn)\n",
    "m.forward(fwr)\n",
    "m.left(turn)\n",
    "fwr+=50\n",
    "m.forward(fwr)\n",
    "m.left(turn)\n",
    "m.forward(fwr)\n",
    "m.color(\"green\")\n",
    "m.left(turn)\n",
    "m.forward(fwr)\n",
    "time.sleep(10) \n",
    "turtle.done\n",
    "turtle.clearscreen() # Clears the screen after turtle is fininshe"
   ]
  },
  {
   "cell_type": "code",
   "execution_count": null,
   "metadata": {},
   "outputs": [],
   "source": []
  },
  {
   "cell_type": "code",
   "execution_count": null,
   "metadata": {},
   "outputs": [],
   "source": []
  }
 ],
 "metadata": {
  "hide_input": false,
  "kernelspec": {
   "display_name": "Python 3",
   "language": "python",
   "name": "python3"
  },
  "language_info": {
   "codemirror_mode": {
    "name": "ipython",
    "version": 3
   },
   "file_extension": ".py",
   "mimetype": "text/x-python",
   "name": "python",
   "nbconvert_exporter": "python",
   "pygments_lexer": "ipython3",
   "version": "3.7.6"
  },
  "toc": {
   "base_numbering": 1,
   "nav_menu": {},
   "number_sections": false,
   "sideBar": false,
   "skip_h1_title": false,
   "title_cell": "Table of Contents",
   "title_sidebar": "Contents",
   "toc_cell": false,
   "toc_position": {
    "height": "calc(100% - 180px)",
    "left": "10px",
    "top": "150px",
    "width": "165px"
   },
   "toc_section_display": true,
   "toc_window_display": false
  }
 },
 "nbformat": 4,
 "nbformat_minor": 4
}
