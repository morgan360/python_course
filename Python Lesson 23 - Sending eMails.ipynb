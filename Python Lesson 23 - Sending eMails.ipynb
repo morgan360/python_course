{
 "cells": [
  {
   "cell_type": "markdown",
   "metadata": {},
   "source": [
    "# Sending eMails using Python"
   ]
  },
  {
   "cell_type": "markdown",
   "metadata": {},
   "source": [
    "## Sending emails\n",
    "Port for SSL = 465"
   ]
  },
  {
   "cell_type": "code",
   "execution_count": 31,
   "metadata": {},
   "outputs": [
    {
     "data": {
      "text/plain": [
       "(221, b'2.0.0 closing connection f7sm4621176wre.78 - gsmtp')"
      ]
     },
     "execution_count": 31,
     "metadata": {},
     "output_type": "execute_result"
    }
   ],
   "source": [
    "import smtplib\n",
    "server = smtplib.SMTP_SSL('smtp.gmail.com', 465)\n",
    "server.login(\"morgan.mcknight@gmail.com\", \"rnswizxvnnfimtgo\")\n",
    "subject = 'Dinner this weekend?'\n",
    "body = 'How about 6pm?'\n",
    "msg = f'Subject:{subject}\\n\\n{body}'\n",
    "server.sendmail('morgan.mcknight@gmail.com','morgan.mcknight@gmail.com',msg)\n",
    "server.quit()"
   ]
  },
  {
   "cell_type": "code",
   "execution_count": 33,
   "metadata": {},
   "outputs": [
    {
     "data": {
      "text/plain": [
       "(221, b'2.0.0 closing connection l7sm4547880wrn.11 - gsmtp')"
      ]
     },
     "execution_count": 33,
     "metadata": {},
     "output_type": "execute_result"
    }
   ],
   "source": [
    "import smtplib\n",
    "from email.message import EmailMessage\n",
    "msg = EmailMessage()\n",
    "msg['Subject'] = 'Dinner this weekend?'\n",
    "msg['From'] = 'morgan.mcknight@gmail.com'\n",
    "msg['To'] = 'morgan.mcknight@gmail.com'\n",
    "msg.set_content('How about 6pm?')\n",
    "\n",
    "server = smtplib.SMTP_SSL('smtp.gmail.com', 465)\n",
    "\n",
    "server.login(\"morgan.mcknight@gmail.com\", \"rnswizxvnnfimtgo\")\n",
    "\n",
    "server.send_message(msg)\n",
    "server.quit()"
   ]
  },
  {
   "cell_type": "markdown",
   "metadata": {},
   "source": [
    "## Send eMail with attachment"
   ]
  },
  {
   "cell_type": "code",
   "execution_count": 35,
   "metadata": {},
   "outputs": [
    {
     "data": {
      "text/plain": [
       "(221, b'2.0.0 closing connection o13sm5298385wrs.45 - gsmtp')"
      ]
     },
     "execution_count": 35,
     "metadata": {},
     "output_type": "execute_result"
    }
   ],
   "source": [
    "import smtplib\n",
    "from email.message import EmailMessage\n",
    "import imghdr # finds out type of image\n",
    "msg = EmailMessage()\n",
    "msg['Subject'] = 'Please see my drawing attached '\n",
    "msg['From'] = 'morgan.mcknight@gmail.com'\n",
    "msg['To'] = 'morgan.mcknight@gmail.com'\n",
    "msg.set_content('How about this?')\n",
    "\n",
    "server = smtplib.SMTP_SSL('smtp.gmail.com', 465)\n",
    "\n",
    "server.login(\"morgan.mcknight@gmail.com\", \"rnswizxvnnfimtgo\")\n",
    "# Open a image for attachment\n",
    "with open('images/peggy.jpeg', 'rb') as f:\n",
    "         file_data = f.read()\n",
    "         file_type = imghdr.what(f.name)\n",
    "         file_name = f.name\n",
    "msg.add_attachment(file_data,maintype ='image', subtype = file_type, filename = file_name)\n",
    "\n",
    "server.send_message(msg)\n",
    "server.quit()"
   ]
  },
  {
   "cell_type": "markdown",
   "metadata": {},
   "source": [
    "## Send eMail with multiple attachments"
   ]
  },
  {
   "cell_type": "code",
   "execution_count": 37,
   "metadata": {},
   "outputs": [
    {
     "data": {
      "text/plain": [
       "(221, b'2.0.0 closing connection m5sm7268348wmc.25 - gsmtp')"
      ]
     },
     "execution_count": 37,
     "metadata": {},
     "output_type": "execute_result"
    }
   ],
   "source": [
    "import smtplib\n",
    "from email.message import EmailMessage\n",
    "import imghdr # finds out type of image\n",
    "msg = EmailMessage()\n",
    "msg['Subject'] = 'Please see my drawing attached '\n",
    "msg['From'] = 'morgan.mcknight@gmail.com'\n",
    "msg['To'] = 'morgan.mcknight@gmail.com'\n",
    "msg.set_content('How about this?')\n",
    "\n",
    "server = smtplib.SMTP_SSL('smtp.gmail.com', 465)\n",
    "\n",
    "server.login(\"morgan.mcknight@gmail.com\", \"rnswizxvnnfimtgo\")\n",
    "# Open a image for attachment\n",
    "files = ['images/peggy.jpeg','images/500.jpeg']\n",
    "for file in files:\n",
    "    with open(file, 'rb') as f:\n",
    "             file_data = f.read()\n",
    "             file_type = imghdr.what(f.name)\n",
    "             file_name = f.name\n",
    "    msg.add_attachment(file_data,maintype ='image', subtype = file_type, filename = file_name)\n",
    "\n",
    "server.send_message(msg)\n",
    "server.quit()"
   ]
  },
  {
   "cell_type": "code",
   "execution_count": null,
   "metadata": {},
   "outputs": [],
   "source": []
  },
  {
   "cell_type": "code",
   "execution_count": null,
   "metadata": {},
   "outputs": [],
   "source": []
  },
  {
   "cell_type": "code",
   "execution_count": null,
   "metadata": {},
   "outputs": [],
   "source": []
  },
  {
   "cell_type": "code",
   "execution_count": null,
   "metadata": {},
   "outputs": [],
   "source": []
  },
  {
   "cell_type": "code",
   "execution_count": null,
   "metadata": {},
   "outputs": [],
   "source": []
  },
  {
   "cell_type": "code",
   "execution_count": null,
   "metadata": {},
   "outputs": [],
   "source": []
  },
  {
   "cell_type": "markdown",
   "metadata": {},
   "source": [
    " ## Send emails to terminal\n",
    " run the following terminal command: and the code below\n",
    " % python3 -m smtpd -c DebuggingServer -n localhost:1025"
   ]
  },
  {
   "cell_type": "code",
   "execution_count": null,
   "metadata": {},
   "outputs": [],
   "source": [
    "import smtplib\n",
    "\n",
    "#server = smtplib.SMTP_SSL('smtp.gmail.com', 465)\n",
    "server = smtplib.SMTP('localhost', 1025)\n",
    "#server.login(\"morgan.mcknight@gmail.com\", \"rnswizxvnnfimtgo\")\n",
    "subject = 'Dinner this weekend?'\n",
    "body = 'How about 6pm?'\n",
    "msg = f'Subject:{subject}\\n\\n{body}'\n",
    "server.sendmail('morgan.mcknight@gmail.com','morgan.mcknight@gmail.com',msg)\n",
    "server.quit()"
   ]
  }
 ],
 "metadata": {
  "hide_input": false,
  "kernelspec": {
   "display_name": "Python 3",
   "language": "python",
   "name": "python3"
  },
  "language_info": {
   "codemirror_mode": {
    "name": "ipython",
    "version": 3
   },
   "file_extension": ".py",
   "mimetype": "text/x-python",
   "name": "python",
   "nbconvert_exporter": "python",
   "pygments_lexer": "ipython3",
   "version": "3.7.6"
  },
  "toc": {
   "base_numbering": 1,
   "nav_menu": {},
   "number_sections": true,
   "sideBar": true,
   "skip_h1_title": false,
   "title_cell": "Table of Contents",
   "title_sidebar": "Contents",
   "toc_cell": false,
   "toc_position": {
    "height": "calc(100% - 180px)",
    "left": "10px",
    "top": "150px",
    "width": "165px"
   },
   "toc_section_display": true,
   "toc_window_display": true
  }
 },
 "nbformat": 4,
 "nbformat_minor": 4
}
