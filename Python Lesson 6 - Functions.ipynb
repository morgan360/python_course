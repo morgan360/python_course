{
 "cells": [
  {
   "cell_type": "markdown",
   "metadata": {},
   "source": [
    "version: 2.1"
   ]
  },
  {
   "cell_type": "markdown",
   "metadata": {},
   "source": [
    "# Functions\n",
    "In this lesson we will be learning about functions. Functions are basically some instructions packaged together that perform a specific task. Use the def keyword to define a function. The brackets in the function are used to add parameters to your function call. (see below)<br>\n",
    "\n",
    "**Yipee!** <br>\n",
    "<div>\n",
    "<img src=\"images/functions1.png\" alt=\"Functions\" width=\"500\" align=\"center\"/></div>\n",
    "\n",
    "\n",
    "\n"
   ]
  },
  {
   "cell_type": "code",
   "execution_count": 1,
   "metadata": {},
   "outputs": [],
   "source": [
    "def hello_func():\n",
    "    pass # The pass function is a placeholder and does nothing"
   ]
  },
  {
   "cell_type": "code",
   "execution_count": 8,
   "metadata": {},
   "outputs": [],
   "source": [
    "def hello_func():\n",
    "    print(\"This is a function\")\n",
    "    print('Hallo')"
   ]
  },
  {
   "cell_type": "code",
   "execution_count": 9,
   "metadata": {},
   "outputs": [
    {
     "name": "stdout",
     "output_type": "stream",
     "text": [
      "This is a function\n",
      "Hallo\n",
      "This is a function\n",
      "Hallo\n",
      "This is a function\n",
      "Hallo\n",
      "This is a function\n",
      "Hallo\n"
     ]
    }
   ],
   "source": [
    "# To run a function just type the name followed by the brackets\n",
    "\n",
    "hello_func()\n",
    "hello_func()\n",
    "hello_func()\n",
    "hello_func()"
   ]
  },
  {
   "cell_type": "markdown",
   "metadata": {},
   "source": [
    "One of the benefits of functions is that they allow us to reuse code without repeating ourselves so let's say for example that we had to print out some text at several locations throughout our program"
   ]
  },
  {
   "cell_type": "code",
   "execution_count": null,
   "metadata": {},
   "outputs": [],
   "source": [
    "# You can run the same function as often as you wish anywhere in your program.\n",
    "hello_func()\n",
    "hello_func()\n",
    "hello_func()\n",
    "hello_func()\n",
    "hello_func()\n",
    "#  To change the function you only need to change it in the definitiion"
   ]
  },
  {
   "cell_type": "markdown",
   "metadata": {},
   "source": [
    "## DRY\n",
    "One of the great advantages of functions is that once you change the function the changes are seen everywhere that the function is called. This is called keeping your code **DRY** which stands for Don't Repeat Yourself. It's a common mistake for people new to programming to repeat the same things throughout their code when really they could either put their code into certain variables or functions so that it's in a single location."
   ]
  },
  {
   "cell_type": "markdown",
   "metadata": {},
   "source": [
    "## Return Statement\n",
    "You can think of a function  like a black box you don't need to know exactly how it's doing what it's doing you're mainly concerned about the input and the return value. A return statement is used to end the execution of the function call and “returns” the result (value of the expression following the return keyword) to the caller. The statements after the return statements are not executed. If the return statement is without any expression, then the special value None is returned."
   ]
  },
  {
   "cell_type": "code",
   "execution_count": 11,
   "metadata": {},
   "outputs": [
    {
     "name": "stdout",
     "output_type": "stream",
     "text": [
      "7\n"
     ]
    }
   ],
   "source": [
    "print(len('cat4558'))"
   ]
  },
  {
   "cell_type": "code",
   "execution_count": 13,
   "metadata": {},
   "outputs": [],
   "source": [
    "# You must return the function if you want the result.\n",
    "def add(x, y):\n",
    "    total = x + y\n",
    "    return total"
   ]
  },
  {
   "cell_type": "code",
   "execution_count": 15,
   "metadata": {},
   "outputs": [
    {
     "name": "stdout",
     "output_type": "stream",
     "text": [
      "12\n",
      "10\n",
      "10.75\n"
     ]
    }
   ],
   "source": [
    "\n",
    "# using the function\n",
    "total = add(5,7)\n",
    "print(total)\n",
    "\n",
    "# using the function\n",
    "x = add(2,8)\n",
    "print(x)\n",
    "\n",
    "# using the function\n",
    "x = add(2.08,8.67)\n",
    "print(x)\n"
   ]
  },
  {
   "cell_type": "code",
   "execution_count": null,
   "metadata": {},
   "outputs": [],
   "source": [
    "# A shortned version\n",
    "def add(x, y):\n",
    "#     print(x)\n",
    "    return x + y"
   ]
  },
  {
   "cell_type": "code",
   "execution_count": null,
   "metadata": {},
   "outputs": [],
   "source": [
    "x = add(5,7)\n",
    "print(x)\n"
   ]
  },
  {
   "cell_type": "code",
   "execution_count": 21,
   "metadata": {},
   "outputs": [],
   "source": [
    "def hello_func():\n",
    "    return \"This what I am returning fg \""
   ]
  },
  {
   "cell_type": "code",
   "execution_count": 18,
   "metadata": {
    "scrolled": false
   },
   "outputs": [
    {
     "data": {
      "text/plain": [
       "'This what I am returning '"
      ]
     },
     "execution_count": 18,
     "metadata": {},
     "output_type": "execute_result"
    }
   ],
   "source": [
    "hello_func()"
   ]
  },
  {
   "cell_type": "code",
   "execution_count": 19,
   "metadata": {
    "scrolled": true
   },
   "outputs": [
    {
     "name": "stdout",
     "output_type": "stream",
     "text": [
      "This what I am returning \n"
     ]
    }
   ],
   "source": [
    "print(hello_func())"
   ]
  },
  {
   "cell_type": "code",
   "execution_count": 24,
   "metadata": {},
   "outputs": [
    {
     "name": "stdout",
     "output_type": "stream",
     "text": [
      "28\n",
      "this what i am returning fg \n"
     ]
    }
   ],
   "source": [
    "# Function Methods\n",
    "print(len(hello_func()))\n",
    "      \n",
    "print(hello_func().lower())"
   ]
  },
  {
   "cell_type": "code",
   "execution_count": 27,
   "metadata": {},
   "outputs": [],
   "source": [
    "# Multiple return statments\n",
    "def odd_even(num):\n",
    "    remainder = num % 2 \n",
    "    if remainder == 0:\n",
    "        return 'even'\n",
    "    else:\n",
    "        return 'odd'"
   ]
  },
  {
   "cell_type": "code",
   "execution_count": 29,
   "metadata": {},
   "outputs": [
    {
     "name": "stdout",
     "output_type": "stream",
     "text": [
      "even\n"
     ]
    }
   ],
   "source": [
    "print(odd_even(66))"
   ]
  },
  {
   "cell_type": "code",
   "execution_count": 34,
   "metadata": {},
   "outputs": [
    {
     "name": "stdout",
     "output_type": "stream",
     "text": [
      "(1, 2, 3)\n",
      "<class 'float'>\n"
     ]
    }
   ],
   "source": [
    "# returning multiple values\n",
    "def return_multiple_values():\n",
    "    return 1, 2, 3\n",
    "\n",
    "\n",
    "# Call the function\n",
    "result = return_multiple_values()\n",
    "print(result)\n",
    "\n",
    "\n",
    "#Find out the type of variable\n",
    "#print(type(result))\n",
    "x= 1.0999\n",
    "print(type(x))\n",
    "# print(type(return_multiple_values()))"
   ]
  },
  {
   "cell_type": "code",
   "execution_count": null,
   "metadata": {
    "scrolled": true
   },
   "outputs": [],
   "source": [
    "x = '3'\n",
    "print(type(x))"
   ]
  },
  {
   "cell_type": "markdown",
   "metadata": {},
   "source": [
    "## Chaining Functions\n",
    "Don't get caught up on understanding every detail of what every function does just focus on the input and what is returned. For example when we call the **len()** function on a string. If we print out len() of a string. When we run this, it just returns an integer that is the number of characters in our string. We have no idea what the code that produces that result looks like but we do know that we passed in a string and that it returned an integer. Looking at functions in this way we'll help you become better when working with Python, because we can treat the return value just like the data type that it is. Understanding this will allow us to chain together some functionality."
   ]
  },
  {
   "cell_type": "code",
   "execution_count": 36,
   "metadata": {},
   "outputs": [
    {
     "name": "stdout",
     "output_type": "stream",
     "text": [
      "7\n"
     ]
    }
   ],
   "source": [
    "print(len (\"morgan1\"))"
   ]
  },
  {
   "cell_type": "markdown",
   "metadata": {},
   "source": [
    "## Sending Arguments to Functions\n"
   ]
  },
  {
   "cell_type": "code",
   "execution_count": 37,
   "metadata": {},
   "outputs": [],
   "source": [
    "def hello_pal(x):\n",
    "    print('Hello ' + x)"
   ]
  },
  {
   "cell_type": "code",
   "execution_count": 43,
   "metadata": {},
   "outputs": [
    {
     "name": "stdout",
     "output_type": "stream",
     "text": [
      "Hello Tim\n"
     ]
    }
   ],
   "source": [
    "x = 'Tim'\n",
    "hello_pal(x)"
   ]
  },
  {
   "cell_type": "code",
   "execution_count": 45,
   "metadata": {},
   "outputs": [],
   "source": [
    "def hello_pal(greeting, name):\n",
    "    print(greeting + ' ' + name)"
   ]
  },
  {
   "cell_type": "code",
   "execution_count": 50,
   "metadata": {},
   "outputs": [
    {
     "name": "stdout",
     "output_type": "stream",
     "text": [
      "Hi Tim\n"
     ]
    }
   ],
   "source": [
    "x = 'Hi'\n",
    "y = 'Tim'\n",
    "\n",
    "hello_pal(x,y)"
   ]
  },
  {
   "cell_type": "markdown",
   "metadata": {},
   "source": [
    "## SAQ1 How many letters make up a word?\n",
    "\n",
    "Create a function that receives a word as an argument, and returns the number of letters in the word.\n",
    "\n"
   ]
  },
  {
   "cell_type": "code",
   "execution_count": 51,
   "metadata": {},
   "outputs": [],
   "source": [
    "# How many letters make up a word? Code\n",
    "def word_length(word):\n",
    "    length = len(word)\n",
    "    return length\n"
   ]
  },
  {
   "cell_type": "code",
   "execution_count": 53,
   "metadata": {},
   "outputs": [
    {
     "name": "stdout",
     "output_type": "stream",
     "text": [
      "6\n"
     ]
    }
   ],
   "source": [
    "print(word_length('Theory'))"
   ]
  },
  {
   "cell_type": "markdown",
   "metadata": {},
   "source": [
    "## SAQ 2 : Eyes of a blue dog\n",
    "Using Input statement **input( )**, ask someone for the name and eye colour of their pet. Then using a function you have created, greet them with their pet's name and eye colour."
   ]
  },
  {
   "cell_type": "markdown",
   "metadata": {},
   "source": [
    "## Default Arguments"
   ]
  },
  {
   "cell_type": "code",
   "execution_count": 56,
   "metadata": {},
   "outputs": [],
   "source": [
    "def hello_pal(greeting = 'hello', name = 'A. N. Other'): # Default name for this attribute\n",
    "    print(greeting + ' ' + name)"
   ]
  },
  {
   "cell_type": "code",
   "execution_count": 57,
   "metadata": {
    "scrolled": true
   },
   "outputs": [
    {
     "name": "stdout",
     "output_type": "stream",
     "text": [
      "hi A. N. Other\n"
     ]
    }
   ],
   "source": [
    "hello_pal('hi')"
   ]
  },
  {
   "cell_type": "code",
   "execution_count": null,
   "metadata": {},
   "outputs": [],
   "source": [
    "greeting = 'Hi' \n",
    "name = 'Morgan'\n",
    "# hello_pal(greeting, name)\n",
    "hello_pal(greeting)\n",
    "hello_pal()"
   ]
  },
  {
   "cell_type": "markdown",
   "metadata": {},
   "source": [
    "## Args and Kwargs (Advanced Topic)\n",
    "\n",
    "In Python, we can pass a variable number of arguments to a function using special symbols. There are two special symbols:\n",
    "<ol>\n",
    "    <li>**args** (Non Keyword Arguments)</li>\n",
    "    <li>**kwargs** (Keyword Arguments)</li>\n",
    "</ol>\n",
    "<blockquote>We use *args and *kwargs* as an argument when we are unsure about the number of arguments to pass to the functions.</blockquote>\n",
    "Use args and kwargs (key word arguments) to pass lists and dictionaries to a function."
   ]
  },
  {
   "cell_type": "code",
   "execution_count": 59,
   "metadata": {},
   "outputs": [
    {
     "name": "stdout",
     "output_type": "stream",
     "text": [
      "11\n"
     ]
    },
    {
     "ename": "TypeError",
     "evalue": "add() takes 2 positional arguments but 3 were given",
     "output_type": "error",
     "traceback": [
      "\u001b[0;31m---------------------------------------------------------------------------\u001b[0m",
      "\u001b[0;31mTypeError\u001b[0m                                 Traceback (most recent call last)",
      "\u001b[0;32m<ipython-input-59-0f52c67e85aa>\u001b[0m in \u001b[0;36m<module>\u001b[0;34m\u001b[0m\n\u001b[1;32m      5\u001b[0m \u001b[0;34m\u001b[0m\u001b[0m\n\u001b[1;32m      6\u001b[0m \u001b[0madd\u001b[0m\u001b[0;34m(\u001b[0m\u001b[0;36m5\u001b[0m\u001b[0;34m,\u001b[0m\u001b[0;36m6\u001b[0m\u001b[0;34m)\u001b[0m\u001b[0;34m\u001b[0m\u001b[0;34m\u001b[0m\u001b[0m\n\u001b[0;32m----> 7\u001b[0;31m \u001b[0madd\u001b[0m\u001b[0;34m(\u001b[0m\u001b[0;36m2\u001b[0m\u001b[0;34m,\u001b[0m\u001b[0;36m3\u001b[0m\u001b[0;34m,\u001b[0m\u001b[0;36m4\u001b[0m\u001b[0;34m)\u001b[0m\u001b[0;34m\u001b[0m\u001b[0;34m\u001b[0m\u001b[0m\n\u001b[0m",
      "\u001b[0;31mTypeError\u001b[0m: add() takes 2 positional arguments but 3 were given"
     ]
    }
   ],
   "source": [
    "# The problem with argument definitiions\n",
    "def add(x,y):\n",
    "    z= x+y\n",
    "    print(z)\n",
    "    \n",
    "add(5,6)\n",
    "add(2,3,4)\n"
   ]
  },
  {
   "cell_type": "code",
   "execution_count": 63,
   "metadata": {},
   "outputs": [
    {
     "name": "stdout",
     "output_type": "stream",
     "text": [
      "Sum: 8\n",
      "Sum: 60\n",
      "Sum: 18\n"
     ]
    }
   ],
   "source": [
    "# Using Args note the * on the variable\n",
    "def adder(*nums):\n",
    "    sum = 0\n",
    "    \n",
    "    for num in nums:\n",
    "        #sum = sum + num\n",
    "        sum += num\n",
    "    print(\"Sum:\",sum)\n",
    "\n",
    "adder(3,5)\n",
    "adder(4,5,6,5,6,7,8,9,10)\n",
    "adder(1,2,3,5,7)"
   ]
  },
  {
   "cell_type": "code",
   "execution_count": null,
   "metadata": {},
   "outputs": [],
   "source": [
    "# Using kwargs. Note the double **\n",
    "def intro(**data):\n",
    "    print(\"\\nData type of argument:\",type(data))\n",
    "\n",
    "    for key, value in data.items():\n",
    "        print(\"{} is {}\".format(key,value))\n",
    "\n",
    "#call the function\n",
    "\n",
    "intro(Firstname=\"Sita\", Lastname=\"Sharma\", Age=22, Phone=1234567890)\n",
    "\n",
    "intro(Firstname=\"John\", Lastname=\"Wood\", Email=\"johnwood@nomail.com\", Country=\"Wakanda\", Age=25, Phone=9876543210)\n",
    "\n"
   ]
  },
  {
   "cell_type": "code",
   "execution_count": null,
   "metadata": {},
   "outputs": [],
   "source": [
    "def student_information(*args,**kwargs):\n",
    "    print(args)\n",
    "    print(kwargs)"
   ]
  },
  {
   "cell_type": "code",
   "execution_count": null,
   "metadata": {},
   "outputs": [],
   "source": [
    "student_information(\"History\", \"Maths\", \"Irish\", name= \"Morgan\", Age = 22)"
   ]
  },
  {
   "cell_type": "code",
   "execution_count": null,
   "metadata": {},
   "outputs": [],
   "source": [
    "# Without the stars the information is not stored as a tuple \n",
    "courses = [\"Irish\",\"Geography\",\"History\"]\n",
    "info ={'name': 'john', 'age': 22}\n",
    "student_information(*courses,**info)"
   ]
  },
  {
   "cell_type": "markdown",
   "metadata": {},
   "source": [
    "## Doctrings\n",
    "In addition to commenting on your code, you should also use Docstrings to explain functions, methods  and classes. This will enable you or anyone else to understand what is the purpose of a particular function etc. Use a dunder to retrieve the information. (Double underscore)"
   ]
  },
  {
   "cell_type": "code",
   "execution_count": 64,
   "metadata": {},
   "outputs": [],
   "source": [
    "def square(a):\n",
    "    '''Returns the argument to the power of itself. for example when a = 3 the answer is 3 to the power of 3 i.e. 27 '''\n",
    "    return a*a"
   ]
  },
  {
   "cell_type": "code",
   "execution_count": 65,
   "metadata": {},
   "outputs": [
    {
     "data": {
      "text/plain": [
       "64"
      ]
     },
     "execution_count": 65,
     "metadata": {},
     "output_type": "execute_result"
    }
   ],
   "source": [
    "square(8)"
   ]
  },
  {
   "cell_type": "code",
   "execution_count": 66,
   "metadata": {
    "scrolled": false
   },
   "outputs": [
    {
     "name": "stdout",
     "output_type": "stream",
     "text": [
      "Returns the argument to the power of itself. for example when a = 3 the answer is 3 to the power of 3 i.e. 27 \n"
     ]
    }
   ],
   "source": [
    "print(square.__doc__)"
   ]
  },
  {
   "cell_type": "code",
   "execution_count": null,
   "metadata": {},
   "outputs": [],
   "source": [
    "x = 3\n",
    "print(square(x))"
   ]
  },
  {
   "cell_type": "code",
   "execution_count": 67,
   "metadata": {
    "scrolled": true
   },
   "outputs": [
    {
     "name": "stdout",
     "output_type": "stream",
     "text": [
      "Random variable generators.\n",
      "\n",
      "    integers\n",
      "    --------\n",
      "           uniform within range\n",
      "\n",
      "    sequences\n",
      "    ---------\n",
      "           pick random element\n",
      "           pick random sample\n",
      "           pick weighted random sample\n",
      "           generate random permutation\n",
      "\n",
      "    distributions on the real line:\n",
      "    ------------------------------\n",
      "           uniform\n",
      "           triangular\n",
      "           normal (Gaussian)\n",
      "           lognormal\n",
      "           negative exponential\n",
      "           gamma\n",
      "           beta\n",
      "           pareto\n",
      "           Weibull\n",
      "\n",
      "    distributions on the circle (angles 0 to 2pi)\n",
      "    ---------------------------------------------\n",
      "           circular uniform\n",
      "           von Mises\n",
      "\n",
      "General notes on the underlying Mersenne Twister core generator:\n",
      "\n",
      "* The period is 2**19937-1.\n",
      "* It is one of the most extensively tested generators in existence.\n",
      "* The random() method is implemented in C, executes in a single Python step,\n",
      "  and is, therefore, threadsafe.\n",
      "\n",
      "\n"
     ]
    }
   ],
   "source": [
    "#import a library called random\n",
    "import random\n",
    "\n",
    "print(random.__doc__)"
   ]
  },
  {
   "cell_type": "code",
   "execution_count": 72,
   "metadata": {
    "scrolled": true
   },
   "outputs": [
    {
     "ename": "AttributeError",
     "evalue": "module 'random' has no attribute 'randomint'",
     "output_type": "error",
     "traceback": [
      "\u001b[0;31m---------------------------------------------------------------------------\u001b[0m",
      "\u001b[0;31mAttributeError\u001b[0m                            Traceback (most recent call last)",
      "\u001b[0;32m<ipython-input-72-5df389864734>\u001b[0m in \u001b[0;36m<module>\u001b[0;34m\u001b[0m\n\u001b[0;32m----> 1\u001b[0;31m \u001b[0mprint\u001b[0m\u001b[0;34m(\u001b[0m\u001b[0mrandom\u001b[0m\u001b[0;34m.\u001b[0m\u001b[0mrandomint\u001b[0m\u001b[0;34m(\u001b[0m\u001b[0;36m0\u001b[0m\u001b[0;34m,\u001b[0m\u001b[0;36m6\u001b[0m\u001b[0;34m)\u001b[0m\u001b[0;34m)\u001b[0m\u001b[0;34m\u001b[0m\u001b[0;34m\u001b[0m\u001b[0m\n\u001b[0m",
      "\u001b[0;31mAttributeError\u001b[0m: module 'random' has no attribute 'randomint'"
     ]
    }
   ],
   "source": [
    "print(random.random())"
   ]
  },
  {
   "cell_type": "code",
   "execution_count": 78,
   "metadata": {},
   "outputs": [
    {
     "name": "stdout",
     "output_type": "stream",
     "text": [
      "Random integer is 0\n"
     ]
    }
   ],
   "source": [
    "# Think of a number between 0 and 9\n",
    "print(\"Random integer is\", random.randint(0, 5))"
   ]
  },
  {
   "cell_type": "code",
   "execution_count": 80,
   "metadata": {},
   "outputs": [],
   "source": [
    "suits = [\"spades\", \"clubs\", \"hearts\", \"diamonds\"]\n",
    "faces = [\"2\", \"3\", \"4\", \"5\", \"6\", \"7\", \"8\", \"9\", \"10\", \"J\", \"Q\", \"K\", \"A\"]"
   ]
  },
  {
   "cell_type": "code",
   "execution_count": 81,
   "metadata": {
    "scrolled": true
   },
   "outputs": [
    {
     "name": "stdout",
     "output_type": "stream",
     "text": [
      "52\n",
      "('2', 'spades')\n",
      "('3', 'spades')\n",
      "('4', 'spades')\n",
      "('5', 'spades')\n",
      "('6', 'spades')\n",
      "('7', 'spades')\n",
      "('8', 'spades')\n",
      "('9', 'spades')\n",
      "('10', 'spades')\n",
      "('J', 'spades')\n",
      "('Q', 'spades')\n",
      "('K', 'spades')\n",
      "('A', 'spades')\n",
      "('2', 'clubs')\n",
      "('3', 'clubs')\n",
      "('4', 'clubs')\n",
      "('5', 'clubs')\n",
      "('6', 'clubs')\n",
      "('7', 'clubs')\n",
      "('8', 'clubs')\n",
      "('9', 'clubs')\n",
      "('10', 'clubs')\n",
      "('J', 'clubs')\n",
      "('Q', 'clubs')\n",
      "('K', 'clubs')\n",
      "('A', 'clubs')\n",
      "('2', 'hearts')\n",
      "('3', 'hearts')\n",
      "('4', 'hearts')\n",
      "('5', 'hearts')\n",
      "('6', 'hearts')\n",
      "('7', 'hearts')\n",
      "('8', 'hearts')\n",
      "('9', 'hearts')\n",
      "('10', 'hearts')\n",
      "('J', 'hearts')\n",
      "('Q', 'hearts')\n",
      "('K', 'hearts')\n",
      "('A', 'hearts')\n",
      "('2', 'diamonds')\n",
      "('3', 'diamonds')\n",
      "('4', 'diamonds')\n",
      "('5', 'diamonds')\n",
      "('6', 'diamonds')\n",
      "('7', 'diamonds')\n",
      "('8', 'diamonds')\n",
      "('9', 'diamonds')\n",
      "('10', 'diamonds')\n",
      "('J', 'diamonds')\n",
      "('Q', 'diamonds')\n",
      "('K', 'diamonds')\n",
      "('A', 'diamonds')\n"
     ]
    }
   ],
   "source": [
    "# using an inner loop to create a deck of cards\n",
    "cards = []\n",
    "for suit in suits:\n",
    "    for face in faces:\n",
    "        cards.append((face, suit ))\n",
    "print(len(cards))\n",
    "print(*cards, sep=\"\\n\")"
   ]
  },
  {
   "cell_type": "code",
   "execution_count": 83,
   "metadata": {},
   "outputs": [
    {
     "name": "stdout",
     "output_type": "stream",
     "text": [
      "[('K', 'hearts'), ('4', 'diamonds'), ('5', 'clubs'), ('8', 'diamonds'), ('K', 'spades')]\n",
      "\n",
      "\n",
      "[('K', 'spades'), ('Q', 'hearts'), ('J', 'clubs'), ('5', 'clubs'), ('9', 'hearts')]\n"
     ]
    }
   ],
   "source": [
    "import random\n",
    "hand1 = random.sample(cards, 5) # Deal hand1\n",
    "print(hand1)\n",
    "\n",
    "\n",
    "# print('\\n')\n",
    "# for card in hand1:\n",
    "#     cards.remove(card) # 5 cards removed\n",
    "# print(len(cards))\n",
    "# print(*cards, sep=\"\\n\")    \n",
    "\n",
    "# select 5 from 47 cards\n",
    "hand2 = random.sample(cards, 5)\n",
    "print('\\n')\n",
    "print(hand2)"
   ]
  },
  {
   "cell_type": "markdown",
   "metadata": {},
   "source": [
    "## SAQ3 - How to make money from programming.\n",
    "##### Part (a)\n",
    "Shuffle the deck of cards and print the output.\n",
    "```python\n",
    "random.shuffle() \n",
    "``` \n",
    "\n",
    "The best way to print is use the following:\n",
    "\n",
    "```\n",
    "print(*cards, sep=\"\\n\")\n",
    "```\n",
    "\n",
    "##### Part (b)\n",
    "Modify the above game so that two people are dealt cards, BUT the second person cannot get any of the same cards as the first. Hint for removing cards:\n",
    "```python\n",
    "# animals list\n",
    "animals = [ ('cat'), ('dog'), ('rabbit'), ('guinea pig')]\n",
    "\n",
    "# 'rabbit' is removed\n",
    "animals.remove('dog')\n",
    "\n",
    "# Updated animals List\n",
    "print('Updated animals list: ', animals)\n",
    "```\n",
    "\n"
   ]
  },
  {
   "cell_type": "code",
   "execution_count": null,
   "metadata": {},
   "outputs": [],
   "source": [
    "# Put your answer here"
   ]
  },
  {
   "cell_type": "markdown",
   "metadata": {},
   "source": [
    "## Bring it all together\n",
    "\n",
    "A doc string e.g. : <blockquote> \"\"\"Return true for a leap year, falls for non-leap years\"\"\"</blockquote> Documents for the function is supposed to do. It is good practice to do this for every function."
   ]
  },
  {
   "cell_type": "code",
   "execution_count": null,
   "metadata": {},
   "outputs": [],
   "source": [
    "# Number of days per month. First value a placeholder for indexing purposes.\n",
    "month_days = [0,31,28,31,30,31,30,31,31,30,31,30,31]\n",
    "\n",
    "def is_leap(year):\n",
    "    \"\"\"Return true for a leap year, false for non-leap years\"\"\"\n",
    "    return year%4 == 0 and (year%100 != 0 or year %400 ==0)\n",
    "\n",
    "def days_in_month (year, month):\n",
    "    \"\"\"Return the number of days in that month in that year.\"\"\"\n",
    "    if not 1 <= month <= 12:\n",
    "        return \"Invalid Month\"\n",
    "    if month == 2 and is_leap(year):\n",
    "        return 29\n",
    "    return month_days[month]\n"
   ]
  },
  {
   "cell_type": "code",
   "execution_count": null,
   "metadata": {
    "scrolled": true
   },
   "outputs": [],
   "source": [
    "# print(is_leap.__doc__)\n",
    "print(days_in_month(1900,2))"
   ]
  },
  {
   "cell_type": "code",
   "execution_count": null,
   "metadata": {},
   "outputs": [],
   "source": [
    "print(is_leap(1900))"
   ]
  },
  {
   "cell_type": "markdown",
   "metadata": {},
   "source": [
    "## SAQ 4 : How to keep positive\n",
    "Create a program that accepts a positive integer **\"n\"** as its input parameter.\n",
    "and returns the list of all positive divisors of **\"n\"**.\n",
    "For Example: The output on calling the function with a parameter of 100, would be\n",
    "[1, 2, 4, 5, 10, 20, 25, 50, 100]\n"
   ]
  },
  {
   "cell_type": "markdown",
   "metadata": {},
   "source": [
    "**Phew!** <div>\n",
    "<img src=\"images/the_end.png\" alt=\"The End\" width=\"300\" align=\"center\"/></div>"
   ]
  }
 ],
 "metadata": {
  "hide_input": false,
  "kernelspec": {
   "display_name": "Python 3",
   "language": "python",
   "name": "python3"
  },
  "language_info": {
   "codemirror_mode": {
    "name": "ipython",
    "version": 3
   },
   "file_extension": ".py",
   "mimetype": "text/x-python",
   "name": "python",
   "nbconvert_exporter": "python",
   "pygments_lexer": "ipython3",
   "version": "3.7.6"
  },
  "toc": {
   "base_numbering": 1,
   "nav_menu": {},
   "number_sections": true,
   "sideBar": true,
   "skip_h1_title": false,
   "title_cell": "Table of Contents",
   "title_sidebar": "Contents",
   "toc_cell": false,
   "toc_position": {
    "height": "calc(100% - 180px)",
    "left": "10px",
    "top": "150px",
    "width": "367.391px"
   },
   "toc_section_display": true,
   "toc_window_display": false
  }
 },
 "nbformat": 4,
 "nbformat_minor": 4
}
