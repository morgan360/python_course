{
 "cells": [
  {
   "cell_type": "markdown",
   "metadata": {},
   "source": [
    "version 2.0"
   ]
  },
  {
   "cell_type": "markdown",
   "metadata": {},
   "source": [
    "# Data Analysis using Pandas and Matplotlib\n",
    "\n",
    "A good source of data sets https://data.gov.ie/ <br>\n",
    "Met Eireann Historical data available:<br>\n",
    "\n",
    "https://www.met.ie/climate/available-data/long-term-data-sets\n",
    "\n",
    "In this lesson we are going to import historical data from Met eireann and analyise it using Panda's and plot the results using Matplotlib.\n",
    "\n"
   ]
  },
  {
   "cell_type": "code",
   "execution_count": 2,
   "metadata": {},
   "outputs": [],
   "source": [
    "# import the list of stations\n",
    "import pandas as pd\n",
    "# Plot Library\n",
    "from matplotlib import pyplot as plt\n",
    "import numpy as np"
   ]
  },
  {
   "cell_type": "markdown",
   "metadata": {},
   "source": [
    "## Import the CSV and Print Dataframe"
   ]
  },
  {
   "cell_type": "code",
   "execution_count": 3,
   "metadata": {},
   "outputs": [],
   "source": [
    "# No need for a directory path if in the same directory, index_col = 'Year'\n",
    "df = pd.read_csv(\"/Users/morgan/Documents/Courses/Python/MyModules/DublinAirportClean.csv\")"
   ]
  },
  {
   "cell_type": "code",
   "execution_count": 4,
   "metadata": {
    "scrolled": true
   },
   "outputs": [],
   "source": [
    "#print(df)"
   ]
  },
  {
   "cell_type": "code",
   "execution_count": 5,
   "metadata": {},
   "outputs": [
    {
     "data": {
      "text/plain": [
       "Index(['Year', 'Jan', 'Feb', 'Mar', 'Apr', 'May', 'Jun', 'Jul', 'Aug', 'Sep',\n",
       "       'Oct', 'Nov', 'Dec'],\n",
       "      dtype='object')"
      ]
     },
     "execution_count": 5,
     "metadata": {},
     "output_type": "execute_result"
    }
   ],
   "source": [
    "df.columns"
   ]
  },
  {
   "cell_type": "code",
   "execution_count": 6,
   "metadata": {
    "scrolled": true
   },
   "outputs": [
    {
     "data": {
      "text/html": [
       "<div>\n",
       "<style scoped>\n",
       "    .dataframe tbody tr th:only-of-type {\n",
       "        vertical-align: middle;\n",
       "    }\n",
       "\n",
       "    .dataframe tbody tr th {\n",
       "        vertical-align: top;\n",
       "    }\n",
       "\n",
       "    .dataframe thead th {\n",
       "        text-align: right;\n",
       "    }\n",
       "</style>\n",
       "<table border=\"1\" class=\"dataframe\">\n",
       "  <thead>\n",
       "    <tr style=\"text-align: right;\">\n",
       "      <th></th>\n",
       "      <th>Year</th>\n",
       "      <th>Jan</th>\n",
       "      <th>Feb</th>\n",
       "      <th>Mar</th>\n",
       "      <th>Apr</th>\n",
       "      <th>May</th>\n",
       "      <th>Jun</th>\n",
       "      <th>Jul</th>\n",
       "      <th>Aug</th>\n",
       "      <th>Sep</th>\n",
       "      <th>Oct</th>\n",
       "      <th>Nov</th>\n",
       "      <th>Dec</th>\n",
       "    </tr>\n",
       "  </thead>\n",
       "  <tbody>\n",
       "    <tr>\n",
       "      <th>0</th>\n",
       "      <td>1850</td>\n",
       "      <td>75.8</td>\n",
       "      <td>47.8</td>\n",
       "      <td>18.5</td>\n",
       "      <td>97.5</td>\n",
       "      <td>58.6</td>\n",
       "      <td>43.6</td>\n",
       "      <td>66.0</td>\n",
       "      <td>41.2</td>\n",
       "      <td>54.2</td>\n",
       "      <td>40.4</td>\n",
       "      <td>60.0</td>\n",
       "      <td>81.1</td>\n",
       "    </tr>\n",
       "    <tr>\n",
       "      <th>1</th>\n",
       "      <td>1851</td>\n",
       "      <td>112.0</td>\n",
       "      <td>26.2</td>\n",
       "      <td>63.1</td>\n",
       "      <td>44.4</td>\n",
       "      <td>29.3</td>\n",
       "      <td>78.5</td>\n",
       "      <td>70.5</td>\n",
       "      <td>55.2</td>\n",
       "      <td>24.6</td>\n",
       "      <td>88.0</td>\n",
       "      <td>27.5</td>\n",
       "      <td>23.5</td>\n",
       "    </tr>\n",
       "    <tr>\n",
       "      <th>2</th>\n",
       "      <td>1852</td>\n",
       "      <td>80.3</td>\n",
       "      <td>70.5</td>\n",
       "      <td>18.2</td>\n",
       "      <td>30.4</td>\n",
       "      <td>93.0</td>\n",
       "      <td>162.2</td>\n",
       "      <td>56.0</td>\n",
       "      <td>97.2</td>\n",
       "      <td>78.2</td>\n",
       "      <td>78.7</td>\n",
       "      <td>156.1</td>\n",
       "      <td>97.2</td>\n",
       "    </tr>\n",
       "    <tr>\n",
       "      <th>3</th>\n",
       "      <td>1853</td>\n",
       "      <td>74.7</td>\n",
       "      <td>52.3</td>\n",
       "      <td>71.7</td>\n",
       "      <td>44.8</td>\n",
       "      <td>22.7</td>\n",
       "      <td>58.9</td>\n",
       "      <td>49.9</td>\n",
       "      <td>81.3</td>\n",
       "      <td>35.5</td>\n",
       "      <td>123.7</td>\n",
       "      <td>40.3</td>\n",
       "      <td>52.3</td>\n",
       "    </tr>\n",
       "    <tr>\n",
       "      <th>4</th>\n",
       "      <td>1854</td>\n",
       "      <td>101.1</td>\n",
       "      <td>15.7</td>\n",
       "      <td>18.4</td>\n",
       "      <td>15.7</td>\n",
       "      <td>69.3</td>\n",
       "      <td>93.6</td>\n",
       "      <td>58.1</td>\n",
       "      <td>29.1</td>\n",
       "      <td>33.1</td>\n",
       "      <td>45.9</td>\n",
       "      <td>76.8</td>\n",
       "      <td>51.2</td>\n",
       "    </tr>\n",
       "    <tr>\n",
       "      <th>...</th>\n",
       "      <td>...</td>\n",
       "      <td>...</td>\n",
       "      <td>...</td>\n",
       "      <td>...</td>\n",
       "      <td>...</td>\n",
       "      <td>...</td>\n",
       "      <td>...</td>\n",
       "      <td>...</td>\n",
       "      <td>...</td>\n",
       "      <td>...</td>\n",
       "      <td>...</td>\n",
       "      <td>...</td>\n",
       "      <td>...</td>\n",
       "    </tr>\n",
       "    <tr>\n",
       "      <th>156</th>\n",
       "      <td>2006</td>\n",
       "      <td>16.0</td>\n",
       "      <td>38.0</td>\n",
       "      <td>70.0</td>\n",
       "      <td>41.0</td>\n",
       "      <td>117.0</td>\n",
       "      <td>27.0</td>\n",
       "      <td>18.0</td>\n",
       "      <td>58.0</td>\n",
       "      <td>85.0</td>\n",
       "      <td>107.0</td>\n",
       "      <td>69.0</td>\n",
       "      <td>95.0</td>\n",
       "    </tr>\n",
       "    <tr>\n",
       "      <th>157</th>\n",
       "      <td>2007</td>\n",
       "      <td>40.0</td>\n",
       "      <td>78.0</td>\n",
       "      <td>39.0</td>\n",
       "      <td>15.0</td>\n",
       "      <td>35.0</td>\n",
       "      <td>126.0</td>\n",
       "      <td>127.0</td>\n",
       "      <td>96.0</td>\n",
       "      <td>39.0</td>\n",
       "      <td>16.0</td>\n",
       "      <td>54.0</td>\n",
       "      <td>64.0</td>\n",
       "    </tr>\n",
       "    <tr>\n",
       "      <th>158</th>\n",
       "      <td>2008</td>\n",
       "      <td>97.0</td>\n",
       "      <td>15.0</td>\n",
       "      <td>102.0</td>\n",
       "      <td>28.0</td>\n",
       "      <td>33.0</td>\n",
       "      <td>76.0</td>\n",
       "      <td>111.0</td>\n",
       "      <td>192.4</td>\n",
       "      <td>114.0</td>\n",
       "      <td>93.0</td>\n",
       "      <td>45.0</td>\n",
       "      <td>39.0</td>\n",
       "    </tr>\n",
       "    <tr>\n",
       "      <th>159</th>\n",
       "      <td>2009</td>\n",
       "      <td>62.0</td>\n",
       "      <td>56.0</td>\n",
       "      <td>26.0</td>\n",
       "      <td>71.0</td>\n",
       "      <td>76.0</td>\n",
       "      <td>64.0</td>\n",
       "      <td>165.0</td>\n",
       "      <td>70.0</td>\n",
       "      <td>24.0</td>\n",
       "      <td>63.0</td>\n",
       "      <td>171.0</td>\n",
       "      <td>70.0</td>\n",
       "    </tr>\n",
       "    <tr>\n",
       "      <th>160</th>\n",
       "      <td>2010</td>\n",
       "      <td>45.0</td>\n",
       "      <td>37.0</td>\n",
       "      <td>55.0</td>\n",
       "      <td>27.0</td>\n",
       "      <td>38.0</td>\n",
       "      <td>50.0</td>\n",
       "      <td>79.0</td>\n",
       "      <td>48.0</td>\n",
       "      <td>104.0</td>\n",
       "      <td>31.0</td>\n",
       "      <td>100.0</td>\n",
       "      <td>58.0</td>\n",
       "    </tr>\n",
       "  </tbody>\n",
       "</table>\n",
       "<p>161 rows × 13 columns</p>\n",
       "</div>"
      ],
      "text/plain": [
       "     Year    Jan   Feb    Mar   Apr    May    Jun    Jul    Aug    Sep    Oct  \\\n",
       "0    1850   75.8  47.8   18.5  97.5   58.6   43.6   66.0   41.2   54.2   40.4   \n",
       "1    1851  112.0  26.2   63.1  44.4   29.3   78.5   70.5   55.2   24.6   88.0   \n",
       "2    1852   80.3  70.5   18.2  30.4   93.0  162.2   56.0   97.2   78.2   78.7   \n",
       "3    1853   74.7  52.3   71.7  44.8   22.7   58.9   49.9   81.3   35.5  123.7   \n",
       "4    1854  101.1  15.7   18.4  15.7   69.3   93.6   58.1   29.1   33.1   45.9   \n",
       "..    ...    ...   ...    ...   ...    ...    ...    ...    ...    ...    ...   \n",
       "156  2006   16.0  38.0   70.0  41.0  117.0   27.0   18.0   58.0   85.0  107.0   \n",
       "157  2007   40.0  78.0   39.0  15.0   35.0  126.0  127.0   96.0   39.0   16.0   \n",
       "158  2008   97.0  15.0  102.0  28.0   33.0   76.0  111.0  192.4  114.0   93.0   \n",
       "159  2009   62.0  56.0   26.0  71.0   76.0   64.0  165.0   70.0   24.0   63.0   \n",
       "160  2010   45.0  37.0   55.0  27.0   38.0   50.0   79.0   48.0  104.0   31.0   \n",
       "\n",
       "       Nov   Dec  \n",
       "0     60.0  81.1  \n",
       "1     27.5  23.5  \n",
       "2    156.1  97.2  \n",
       "3     40.3  52.3  \n",
       "4     76.8  51.2  \n",
       "..     ...   ...  \n",
       "156   69.0  95.0  \n",
       "157   54.0  64.0  \n",
       "158   45.0  39.0  \n",
       "159  171.0  70.0  \n",
       "160  100.0  58.0  \n",
       "\n",
       "[161 rows x 13 columns]"
      ]
     },
     "execution_count": 6,
     "metadata": {},
     "output_type": "execute_result"
    }
   ],
   "source": [
    "df"
   ]
  },
  {
   "cell_type": "markdown",
   "metadata": {},
   "source": [
    "## Changing the Index"
   ]
  },
  {
   "cell_type": "code",
   "execution_count": 7,
   "metadata": {},
   "outputs": [],
   "source": [
    "# Make the Year the index value permanently\n",
    "df.set_index('Year', inplace = True)\n",
    "#df.reset_index(inplace = True)"
   ]
  },
  {
   "cell_type": "code",
   "execution_count": 8,
   "metadata": {},
   "outputs": [
    {
     "data": {
      "text/html": [
       "<div>\n",
       "<style scoped>\n",
       "    .dataframe tbody tr th:only-of-type {\n",
       "        vertical-align: middle;\n",
       "    }\n",
       "\n",
       "    .dataframe tbody tr th {\n",
       "        vertical-align: top;\n",
       "    }\n",
       "\n",
       "    .dataframe thead th {\n",
       "        text-align: right;\n",
       "    }\n",
       "</style>\n",
       "<table border=\"1\" class=\"dataframe\">\n",
       "  <thead>\n",
       "    <tr style=\"text-align: right;\">\n",
       "      <th></th>\n",
       "      <th>Jan</th>\n",
       "      <th>Feb</th>\n",
       "      <th>Mar</th>\n",
       "      <th>Apr</th>\n",
       "      <th>May</th>\n",
       "      <th>Jun</th>\n",
       "      <th>Jul</th>\n",
       "      <th>Aug</th>\n",
       "      <th>Sep</th>\n",
       "      <th>Oct</th>\n",
       "      <th>Nov</th>\n",
       "      <th>Dec</th>\n",
       "    </tr>\n",
       "    <tr>\n",
       "      <th>Year</th>\n",
       "      <th></th>\n",
       "      <th></th>\n",
       "      <th></th>\n",
       "      <th></th>\n",
       "      <th></th>\n",
       "      <th></th>\n",
       "      <th></th>\n",
       "      <th></th>\n",
       "      <th></th>\n",
       "      <th></th>\n",
       "      <th></th>\n",
       "      <th></th>\n",
       "    </tr>\n",
       "  </thead>\n",
       "  <tbody>\n",
       "    <tr>\n",
       "      <th>1850</th>\n",
       "      <td>75.8</td>\n",
       "      <td>47.8</td>\n",
       "      <td>18.5</td>\n",
       "      <td>97.5</td>\n",
       "      <td>58.6</td>\n",
       "      <td>43.6</td>\n",
       "      <td>66.0</td>\n",
       "      <td>41.2</td>\n",
       "      <td>54.2</td>\n",
       "      <td>40.4</td>\n",
       "      <td>60.0</td>\n",
       "      <td>81.1</td>\n",
       "    </tr>\n",
       "    <tr>\n",
       "      <th>1851</th>\n",
       "      <td>112.0</td>\n",
       "      <td>26.2</td>\n",
       "      <td>63.1</td>\n",
       "      <td>44.4</td>\n",
       "      <td>29.3</td>\n",
       "      <td>78.5</td>\n",
       "      <td>70.5</td>\n",
       "      <td>55.2</td>\n",
       "      <td>24.6</td>\n",
       "      <td>88.0</td>\n",
       "      <td>27.5</td>\n",
       "      <td>23.5</td>\n",
       "    </tr>\n",
       "    <tr>\n",
       "      <th>1852</th>\n",
       "      <td>80.3</td>\n",
       "      <td>70.5</td>\n",
       "      <td>18.2</td>\n",
       "      <td>30.4</td>\n",
       "      <td>93.0</td>\n",
       "      <td>162.2</td>\n",
       "      <td>56.0</td>\n",
       "      <td>97.2</td>\n",
       "      <td>78.2</td>\n",
       "      <td>78.7</td>\n",
       "      <td>156.1</td>\n",
       "      <td>97.2</td>\n",
       "    </tr>\n",
       "    <tr>\n",
       "      <th>1853</th>\n",
       "      <td>74.7</td>\n",
       "      <td>52.3</td>\n",
       "      <td>71.7</td>\n",
       "      <td>44.8</td>\n",
       "      <td>22.7</td>\n",
       "      <td>58.9</td>\n",
       "      <td>49.9</td>\n",
       "      <td>81.3</td>\n",
       "      <td>35.5</td>\n",
       "      <td>123.7</td>\n",
       "      <td>40.3</td>\n",
       "      <td>52.3</td>\n",
       "    </tr>\n",
       "    <tr>\n",
       "      <th>1854</th>\n",
       "      <td>101.1</td>\n",
       "      <td>15.7</td>\n",
       "      <td>18.4</td>\n",
       "      <td>15.7</td>\n",
       "      <td>69.3</td>\n",
       "      <td>93.6</td>\n",
       "      <td>58.1</td>\n",
       "      <td>29.1</td>\n",
       "      <td>33.1</td>\n",
       "      <td>45.9</td>\n",
       "      <td>76.8</td>\n",
       "      <td>51.2</td>\n",
       "    </tr>\n",
       "    <tr>\n",
       "      <th>...</th>\n",
       "      <td>...</td>\n",
       "      <td>...</td>\n",
       "      <td>...</td>\n",
       "      <td>...</td>\n",
       "      <td>...</td>\n",
       "      <td>...</td>\n",
       "      <td>...</td>\n",
       "      <td>...</td>\n",
       "      <td>...</td>\n",
       "      <td>...</td>\n",
       "      <td>...</td>\n",
       "      <td>...</td>\n",
       "    </tr>\n",
       "    <tr>\n",
       "      <th>2006</th>\n",
       "      <td>16.0</td>\n",
       "      <td>38.0</td>\n",
       "      <td>70.0</td>\n",
       "      <td>41.0</td>\n",
       "      <td>117.0</td>\n",
       "      <td>27.0</td>\n",
       "      <td>18.0</td>\n",
       "      <td>58.0</td>\n",
       "      <td>85.0</td>\n",
       "      <td>107.0</td>\n",
       "      <td>69.0</td>\n",
       "      <td>95.0</td>\n",
       "    </tr>\n",
       "    <tr>\n",
       "      <th>2007</th>\n",
       "      <td>40.0</td>\n",
       "      <td>78.0</td>\n",
       "      <td>39.0</td>\n",
       "      <td>15.0</td>\n",
       "      <td>35.0</td>\n",
       "      <td>126.0</td>\n",
       "      <td>127.0</td>\n",
       "      <td>96.0</td>\n",
       "      <td>39.0</td>\n",
       "      <td>16.0</td>\n",
       "      <td>54.0</td>\n",
       "      <td>64.0</td>\n",
       "    </tr>\n",
       "    <tr>\n",
       "      <th>2008</th>\n",
       "      <td>97.0</td>\n",
       "      <td>15.0</td>\n",
       "      <td>102.0</td>\n",
       "      <td>28.0</td>\n",
       "      <td>33.0</td>\n",
       "      <td>76.0</td>\n",
       "      <td>111.0</td>\n",
       "      <td>192.4</td>\n",
       "      <td>114.0</td>\n",
       "      <td>93.0</td>\n",
       "      <td>45.0</td>\n",
       "      <td>39.0</td>\n",
       "    </tr>\n",
       "    <tr>\n",
       "      <th>2009</th>\n",
       "      <td>62.0</td>\n",
       "      <td>56.0</td>\n",
       "      <td>26.0</td>\n",
       "      <td>71.0</td>\n",
       "      <td>76.0</td>\n",
       "      <td>64.0</td>\n",
       "      <td>165.0</td>\n",
       "      <td>70.0</td>\n",
       "      <td>24.0</td>\n",
       "      <td>63.0</td>\n",
       "      <td>171.0</td>\n",
       "      <td>70.0</td>\n",
       "    </tr>\n",
       "    <tr>\n",
       "      <th>2010</th>\n",
       "      <td>45.0</td>\n",
       "      <td>37.0</td>\n",
       "      <td>55.0</td>\n",
       "      <td>27.0</td>\n",
       "      <td>38.0</td>\n",
       "      <td>50.0</td>\n",
       "      <td>79.0</td>\n",
       "      <td>48.0</td>\n",
       "      <td>104.0</td>\n",
       "      <td>31.0</td>\n",
       "      <td>100.0</td>\n",
       "      <td>58.0</td>\n",
       "    </tr>\n",
       "  </tbody>\n",
       "</table>\n",
       "<p>161 rows × 12 columns</p>\n",
       "</div>"
      ],
      "text/plain": [
       "        Jan   Feb    Mar   Apr    May    Jun    Jul    Aug    Sep    Oct  \\\n",
       "Year                                                                       \n",
       "1850   75.8  47.8   18.5  97.5   58.6   43.6   66.0   41.2   54.2   40.4   \n",
       "1851  112.0  26.2   63.1  44.4   29.3   78.5   70.5   55.2   24.6   88.0   \n",
       "1852   80.3  70.5   18.2  30.4   93.0  162.2   56.0   97.2   78.2   78.7   \n",
       "1853   74.7  52.3   71.7  44.8   22.7   58.9   49.9   81.3   35.5  123.7   \n",
       "1854  101.1  15.7   18.4  15.7   69.3   93.6   58.1   29.1   33.1   45.9   \n",
       "...     ...   ...    ...   ...    ...    ...    ...    ...    ...    ...   \n",
       "2006   16.0  38.0   70.0  41.0  117.0   27.0   18.0   58.0   85.0  107.0   \n",
       "2007   40.0  78.0   39.0  15.0   35.0  126.0  127.0   96.0   39.0   16.0   \n",
       "2008   97.0  15.0  102.0  28.0   33.0   76.0  111.0  192.4  114.0   93.0   \n",
       "2009   62.0  56.0   26.0  71.0   76.0   64.0  165.0   70.0   24.0   63.0   \n",
       "2010   45.0  37.0   55.0  27.0   38.0   50.0   79.0   48.0  104.0   31.0   \n",
       "\n",
       "        Nov   Dec  \n",
       "Year               \n",
       "1850   60.0  81.1  \n",
       "1851   27.5  23.5  \n",
       "1852  156.1  97.2  \n",
       "1853   40.3  52.3  \n",
       "1854   76.8  51.2  \n",
       "...     ...   ...  \n",
       "2006   69.0  95.0  \n",
       "2007   54.0  64.0  \n",
       "2008   45.0  39.0  \n",
       "2009  171.0  70.0  \n",
       "2010  100.0  58.0  \n",
       "\n",
       "[161 rows x 12 columns]"
      ]
     },
     "execution_count": 8,
     "metadata": {},
     "output_type": "execute_result"
    }
   ],
   "source": [
    "df"
   ]
  },
  {
   "cell_type": "code",
   "execution_count": 9,
   "metadata": {},
   "outputs": [
    {
     "data": {
      "text/plain": [
       "26.0"
      ]
     },
     "execution_count": 9,
     "metadata": {},
     "output_type": "execute_result"
    }
   ],
   "source": [
    "df.loc[2009]\n",
    "df.loc[2009, 'Mar']"
   ]
  },
  {
   "cell_type": "code",
   "execution_count": 10,
   "metadata": {
    "scrolled": true
   },
   "outputs": [
    {
     "data": {
      "text/plain": [
       "Int64Index([1850, 1851, 1852, 1853, 1854, 1855, 1856, 1857, 1858, 1859,\n",
       "            ...\n",
       "            2001, 2002, 2003, 2004, 2005, 2006, 2007, 2008, 2009, 2010],\n",
       "           dtype='int64', name='Year', length=161)"
      ]
     },
     "execution_count": 10,
     "metadata": {},
     "output_type": "execute_result"
    }
   ],
   "source": [
    "# Output the year values( )\n",
    "df.index\n"
   ]
  },
  {
   "cell_type": "code",
   "execution_count": 11,
   "metadata": {
    "scrolled": false
   },
   "outputs": [
    {
     "name": "stdout",
     "output_type": "stream",
     "text": [
      "Jan     11.3\n",
      "Feb    101.2\n",
      "Mar     38.6\n",
      "Apr     12.6\n",
      "May     42.1\n",
      "Jun     52.1\n",
      "Jul     81.2\n",
      "Aug     65.5\n",
      "Sep     41.9\n",
      "Oct    113.8\n",
      "Nov     43.1\n",
      "Dec     32.6\n",
      "Name: 1855, dtype: float64\n"
     ]
    }
   ],
   "source": [
    "## Using iloc\n",
    "#df['Jan']\n",
    "rain_y = df.iloc[5]\n",
    "print(rain_y)"
   ]
  },
  {
   "cell_type": "code",
   "execution_count": 12,
   "metadata": {
    "scrolled": true
   },
   "outputs": [
    {
     "data": {
      "text/plain": [
       "[<matplotlib.lines.Line2D at 0x7fcb5a83e090>]"
      ]
     },
     "execution_count": 12,
     "metadata": {},
     "output_type": "execute_result"
    },
    {
     "data": {
      "image/png": "[encoded data removed]",
      "text/plain": [
       "<Figure size 576x576 with 1 Axes>"
      ]
     },
     "metadata": {},
     "output_type": "display_data"
    }
   ],
   "source": [
    "#Simple Plot\n",
    "plt.rcParams['figure.figsize'] = [8, 8]# set the size of your graph\n",
    "plt.style.use('Solarize_Light2') # style\n",
    "plt.plot(df.index,df.Jan)\n",
    "plt.plot(df.index,df.Aug)"
   ]
  },
  {
   "cell_type": "markdown",
   "metadata": {},
   "source": [
    "## Apply Lambda Function to Pandas Data Frame\n",
    "The distance d in inches (″) is equal to the distance d in millimeters (mm) divided by 25.4:"
   ]
  },
  {
   "cell_type": "code",
   "execution_count": 13,
   "metadata": {},
   "outputs": [],
   "source": [
    "# Mil to inches\n",
    "def to_inches(x):\n",
    "    y= x/25.4\n",
    "    return round(y,2)"
   ]
  },
  {
   "cell_type": "code",
   "execution_count": 14,
   "metadata": {},
   "outputs": [
    {
     "name": "stdout",
     "output_type": "stream",
     "text": [
      "0.47\n"
     ]
    }
   ],
   "source": [
    "print(to_inches(12))"
   ]
  },
  {
   "cell_type": "code",
   "execution_count": 15,
   "metadata": {},
   "outputs": [
    {
     "name": "stdout",
     "output_type": "stream",
     "text": [
      "0.47\n"
     ]
    }
   ],
   "source": [
    "x= 12\n",
    "convert_to_inches = lambda x:round(x/25.4,2)\n",
    "print(convert_to_inches(x))"
   ]
  },
  {
   "cell_type": "code",
   "execution_count": 16,
   "metadata": {},
   "outputs": [
    {
     "data": {
      "text/html": [
       "<div>\n",
       "<style scoped>\n",
       "    .dataframe tbody tr th:only-of-type {\n",
       "        vertical-align: middle;\n",
       "    }\n",
       "\n",
       "    .dataframe tbody tr th {\n",
       "        vertical-align: top;\n",
       "    }\n",
       "\n",
       "    .dataframe thead th {\n",
       "        text-align: right;\n",
       "    }\n",
       "</style>\n",
       "<table border=\"1\" class=\"dataframe\">\n",
       "  <thead>\n",
       "    <tr style=\"text-align: right;\">\n",
       "      <th></th>\n",
       "      <th>Jan</th>\n",
       "      <th>Feb</th>\n",
       "      <th>Mar</th>\n",
       "      <th>Apr</th>\n",
       "      <th>May</th>\n",
       "      <th>Jun</th>\n",
       "      <th>Jul</th>\n",
       "      <th>Aug</th>\n",
       "      <th>Sep</th>\n",
       "      <th>Oct</th>\n",
       "      <th>Nov</th>\n",
       "      <th>Dec</th>\n",
       "      <th>Jan_in</th>\n",
       "    </tr>\n",
       "    <tr>\n",
       "      <th>Year</th>\n",
       "      <th></th>\n",
       "      <th></th>\n",
       "      <th></th>\n",
       "      <th></th>\n",
       "      <th></th>\n",
       "      <th></th>\n",
       "      <th></th>\n",
       "      <th></th>\n",
       "      <th></th>\n",
       "      <th></th>\n",
       "      <th></th>\n",
       "      <th></th>\n",
       "      <th></th>\n",
       "    </tr>\n",
       "  </thead>\n",
       "  <tbody>\n",
       "    <tr>\n",
       "      <th>1850</th>\n",
       "      <td>75.8</td>\n",
       "      <td>47.8</td>\n",
       "      <td>18.5</td>\n",
       "      <td>97.5</td>\n",
       "      <td>58.6</td>\n",
       "      <td>43.6</td>\n",
       "      <td>66.0</td>\n",
       "      <td>41.2</td>\n",
       "      <td>54.2</td>\n",
       "      <td>40.4</td>\n",
       "      <td>60.0</td>\n",
       "      <td>81.1</td>\n",
       "      <td>2.98</td>\n",
       "    </tr>\n",
       "    <tr>\n",
       "      <th>1851</th>\n",
       "      <td>112.0</td>\n",
       "      <td>26.2</td>\n",
       "      <td>63.1</td>\n",
       "      <td>44.4</td>\n",
       "      <td>29.3</td>\n",
       "      <td>78.5</td>\n",
       "      <td>70.5</td>\n",
       "      <td>55.2</td>\n",
       "      <td>24.6</td>\n",
       "      <td>88.0</td>\n",
       "      <td>27.5</td>\n",
       "      <td>23.5</td>\n",
       "      <td>4.41</td>\n",
       "    </tr>\n",
       "    <tr>\n",
       "      <th>1852</th>\n",
       "      <td>80.3</td>\n",
       "      <td>70.5</td>\n",
       "      <td>18.2</td>\n",
       "      <td>30.4</td>\n",
       "      <td>93.0</td>\n",
       "      <td>162.2</td>\n",
       "      <td>56.0</td>\n",
       "      <td>97.2</td>\n",
       "      <td>78.2</td>\n",
       "      <td>78.7</td>\n",
       "      <td>156.1</td>\n",
       "      <td>97.2</td>\n",
       "      <td>3.16</td>\n",
       "    </tr>\n",
       "    <tr>\n",
       "      <th>1853</th>\n",
       "      <td>74.7</td>\n",
       "      <td>52.3</td>\n",
       "      <td>71.7</td>\n",
       "      <td>44.8</td>\n",
       "      <td>22.7</td>\n",
       "      <td>58.9</td>\n",
       "      <td>49.9</td>\n",
       "      <td>81.3</td>\n",
       "      <td>35.5</td>\n",
       "      <td>123.7</td>\n",
       "      <td>40.3</td>\n",
       "      <td>52.3</td>\n",
       "      <td>2.94</td>\n",
       "    </tr>\n",
       "    <tr>\n",
       "      <th>1854</th>\n",
       "      <td>101.1</td>\n",
       "      <td>15.7</td>\n",
       "      <td>18.4</td>\n",
       "      <td>15.7</td>\n",
       "      <td>69.3</td>\n",
       "      <td>93.6</td>\n",
       "      <td>58.1</td>\n",
       "      <td>29.1</td>\n",
       "      <td>33.1</td>\n",
       "      <td>45.9</td>\n",
       "      <td>76.8</td>\n",
       "      <td>51.2</td>\n",
       "      <td>3.98</td>\n",
       "    </tr>\n",
       "    <tr>\n",
       "      <th>...</th>\n",
       "      <td>...</td>\n",
       "      <td>...</td>\n",
       "      <td>...</td>\n",
       "      <td>...</td>\n",
       "      <td>...</td>\n",
       "      <td>...</td>\n",
       "      <td>...</td>\n",
       "      <td>...</td>\n",
       "      <td>...</td>\n",
       "      <td>...</td>\n",
       "      <td>...</td>\n",
       "      <td>...</td>\n",
       "      <td>...</td>\n",
       "    </tr>\n",
       "    <tr>\n",
       "      <th>2006</th>\n",
       "      <td>16.0</td>\n",
       "      <td>38.0</td>\n",
       "      <td>70.0</td>\n",
       "      <td>41.0</td>\n",
       "      <td>117.0</td>\n",
       "      <td>27.0</td>\n",
       "      <td>18.0</td>\n",
       "      <td>58.0</td>\n",
       "      <td>85.0</td>\n",
       "      <td>107.0</td>\n",
       "      <td>69.0</td>\n",
       "      <td>95.0</td>\n",
       "      <td>0.63</td>\n",
       "    </tr>\n",
       "    <tr>\n",
       "      <th>2007</th>\n",
       "      <td>40.0</td>\n",
       "      <td>78.0</td>\n",
       "      <td>39.0</td>\n",
       "      <td>15.0</td>\n",
       "      <td>35.0</td>\n",
       "      <td>126.0</td>\n",
       "      <td>127.0</td>\n",
       "      <td>96.0</td>\n",
       "      <td>39.0</td>\n",
       "      <td>16.0</td>\n",
       "      <td>54.0</td>\n",
       "      <td>64.0</td>\n",
       "      <td>1.57</td>\n",
       "    </tr>\n",
       "    <tr>\n",
       "      <th>2008</th>\n",
       "      <td>97.0</td>\n",
       "      <td>15.0</td>\n",
       "      <td>102.0</td>\n",
       "      <td>28.0</td>\n",
       "      <td>33.0</td>\n",
       "      <td>76.0</td>\n",
       "      <td>111.0</td>\n",
       "      <td>192.4</td>\n",
       "      <td>114.0</td>\n",
       "      <td>93.0</td>\n",
       "      <td>45.0</td>\n",
       "      <td>39.0</td>\n",
       "      <td>3.82</td>\n",
       "    </tr>\n",
       "    <tr>\n",
       "      <th>2009</th>\n",
       "      <td>62.0</td>\n",
       "      <td>56.0</td>\n",
       "      <td>26.0</td>\n",
       "      <td>71.0</td>\n",
       "      <td>76.0</td>\n",
       "      <td>64.0</td>\n",
       "      <td>165.0</td>\n",
       "      <td>70.0</td>\n",
       "      <td>24.0</td>\n",
       "      <td>63.0</td>\n",
       "      <td>171.0</td>\n",
       "      <td>70.0</td>\n",
       "      <td>2.44</td>\n",
       "    </tr>\n",
       "    <tr>\n",
       "      <th>2010</th>\n",
       "      <td>45.0</td>\n",
       "      <td>37.0</td>\n",
       "      <td>55.0</td>\n",
       "      <td>27.0</td>\n",
       "      <td>38.0</td>\n",
       "      <td>50.0</td>\n",
       "      <td>79.0</td>\n",
       "      <td>48.0</td>\n",
       "      <td>104.0</td>\n",
       "      <td>31.0</td>\n",
       "      <td>100.0</td>\n",
       "      <td>58.0</td>\n",
       "      <td>1.77</td>\n",
       "    </tr>\n",
       "  </tbody>\n",
       "</table>\n",
       "<p>161 rows × 13 columns</p>\n",
       "</div>"
      ],
      "text/plain": [
       "        Jan   Feb    Mar   Apr    May    Jun    Jul    Aug    Sep    Oct  \\\n",
       "Year                                                                       \n",
       "1850   75.8  47.8   18.5  97.5   58.6   43.6   66.0   41.2   54.2   40.4   \n",
       "1851  112.0  26.2   63.1  44.4   29.3   78.5   70.5   55.2   24.6   88.0   \n",
       "1852   80.3  70.5   18.2  30.4   93.0  162.2   56.0   97.2   78.2   78.7   \n",
       "1853   74.7  52.3   71.7  44.8   22.7   58.9   49.9   81.3   35.5  123.7   \n",
       "1854  101.1  15.7   18.4  15.7   69.3   93.6   58.1   29.1   33.1   45.9   \n",
       "...     ...   ...    ...   ...    ...    ...    ...    ...    ...    ...   \n",
       "2006   16.0  38.0   70.0  41.0  117.0   27.0   18.0   58.0   85.0  107.0   \n",
       "2007   40.0  78.0   39.0  15.0   35.0  126.0  127.0   96.0   39.0   16.0   \n",
       "2008   97.0  15.0  102.0  28.0   33.0   76.0  111.0  192.4  114.0   93.0   \n",
       "2009   62.0  56.0   26.0  71.0   76.0   64.0  165.0   70.0   24.0   63.0   \n",
       "2010   45.0  37.0   55.0  27.0   38.0   50.0   79.0   48.0  104.0   31.0   \n",
       "\n",
       "        Nov   Dec  Jan_in  \n",
       "Year                       \n",
       "1850   60.0  81.1    2.98  \n",
       "1851   27.5  23.5    4.41  \n",
       "1852  156.1  97.2    3.16  \n",
       "1853   40.3  52.3    2.94  \n",
       "1854   76.8  51.2    3.98  \n",
       "...     ...   ...     ...  \n",
       "2006   69.0  95.0    0.63  \n",
       "2007   54.0  64.0    1.57  \n",
       "2008   45.0  39.0    3.82  \n",
       "2009  171.0  70.0    2.44  \n",
       "2010  100.0  58.0    1.77  \n",
       "\n",
       "[161 rows x 13 columns]"
      ]
     },
     "execution_count": 16,
     "metadata": {},
     "output_type": "execute_result"
    }
   ],
   "source": [
    "# Convert the January figures to inches and append as a column at the end\n",
    "df['Jan_in'] = df.apply(lambda x: round(x['Jan']/25.4,2), axis=1)\n",
    "df"
   ]
  },
  {
   "cell_type": "markdown",
   "metadata": {},
   "source": [
    "## SAQ 1 - Inching Forwards\n",
    "Add a new column to the df dataframe with the month of August converted to inches\n",
    "\n"
   ]
  },
  {
   "cell_type": "code",
   "execution_count": 17,
   "metadata": {},
   "outputs": [],
   "source": [
    "#Add your answer here"
   ]
  },
  {
   "cell_type": "markdown",
   "metadata": {},
   "source": [
    "## Create a filter\n",
    "Our objective is to print out a bar chart that prints out the rain values for January, August and November at five or ten year intervals."
   ]
  },
  {
   "cell_type": "code",
   "execution_count": 18,
   "metadata": {},
   "outputs": [
    {
     "name": "stdout",
     "output_type": "stream",
     "text": [
      "[1850, 1855, 1860, 1865, 1870, 1875, 1880, 1885, 1890, 1895, 1900, 1905, 1910, 1915, 1920, 1925, 1930, 1935, 1940, 1945, 1950, 1955, 1960, 1965, 1970, 1975, 1980, 1985, 1990, 1995, 2000, 2005, 2010, 2015]\n"
     ]
    }
   ],
   "source": [
    "# Create a list with a fewer number of years\n",
    "nums = range(1850,2020,5)\n",
    "\n",
    "my_list = []\n",
    "for n in nums:\n",
    "    my_list.append(n)\n",
    "print(my_list)"
   ]
  },
  {
   "cell_type": "code",
   "execution_count": 19,
   "metadata": {},
   "outputs": [
    {
     "name": "stdout",
     "output_type": "stream",
     "text": [
      "[ True False False False False  True False False False False  True False\n",
      " False False False  True False False False False  True False False False\n",
      " False  True False False False False  True False False False False  True\n",
      " False False False False  True False False False False  True False False\n",
      " False False  True False False False False  True False False False False\n",
      "  True False False False False  True False False False False  True False\n",
      " False False False  True False False False False  True False False False\n",
      " False  True False False False False  True False False False False  True\n",
      " False False False False  True False False False False  True False False\n",
      " False False  True False False False False  True False False False False\n",
      "  True False False False False  True False False False False  True False\n",
      " False False False  True False False False False  True False False False\n",
      " False  True False False False False  True False False False False  True\n",
      " False False False False  True]\n"
     ]
    }
   ],
   "source": [
    "# Filter out the data for those years\n",
    "filt = df.index.isin(my_list)\n",
    "\n",
    "print(filt)"
   ]
  },
  {
   "cell_type": "code",
   "execution_count": 20,
   "metadata": {
    "scrolled": false
   },
   "outputs": [
    {
     "name": "stdout",
     "output_type": "stream",
     "text": [
      "Year\n",
      "1850     41.2\n",
      "1855     65.5\n",
      "1860    107.5\n",
      "1865    110.9\n",
      "1870     44.5\n",
      "1875     62.4\n",
      "1880     33.5\n",
      "1885     69.8\n",
      "1890     77.0\n",
      "1895    121.9\n",
      "1900    156.7\n",
      "1905    164.6\n",
      "1910     72.9\n",
      "1915     58.4\n",
      "1920     47.8\n",
      "1925     35.3\n",
      "1930    127.5\n",
      "1935     55.9\n",
      "1940     15.5\n",
      "1945     17.2\n",
      "1950    145.8\n",
      "1955     85.3\n",
      "1960     86.4\n",
      "1965     55.0\n",
      "1970     68.0\n",
      "1975     35.9\n",
      "1980     97.8\n",
      "1985    124.6\n",
      "1990     49.8\n",
      "1995      7.0\n",
      "2000     63.0\n",
      "2005     26.0\n",
      "2010     48.0\n",
      "Name: Aug, dtype: float64\n"
     ]
    }
   ],
   "source": [
    "x_values = df.loc[filt, 'Aug']\n",
    "print(x_values)"
   ]
  },
  {
   "cell_type": "markdown",
   "metadata": {},
   "source": [
    "## Create a new dataframe with the information that we want\n"
   ]
  },
  {
   "cell_type": "code",
   "execution_count": 21,
   "metadata": {
    "scrolled": true
   },
   "outputs": [
    {
     "name": "stdout",
     "output_type": "stream",
     "text": [
      "        Jan    Aug    Nov\n",
      "Year                     \n",
      "1850   75.8   41.2   60.0\n",
      "1855   11.3   65.5   43.1\n",
      "1860   91.5  107.5   70.5\n",
      "1865   45.9  110.9   94.7\n",
      "1870   38.4   44.5   31.2\n",
      "1875   54.1   62.4  102.7\n",
      "1880   17.5   33.5  103.6\n",
      "1885   51.8   69.8   45.2\n",
      "1890   68.3   77.0  101.3\n",
      "1895  112.3  121.9   76.2\n",
      "1900   72.6  156.7  132.1\n",
      "1905   36.6  164.6   94.7\n",
      "1910   77.5   72.9   78.2\n",
      "1915   75.2   58.4  101.1\n",
      "1920  101.6   47.8   65.8\n",
      "1925   62.7   35.3   66.8\n",
      "1930  102.6  127.5   69.1\n",
      "1935   25.9   55.9   90.4\n",
      "1940   81.0   15.5   92.2\n",
      "1945   30.6   17.2   15.3\n",
      "1950   10.5  145.8   56.6\n",
      "1955   86.2   85.3   45.9\n",
      "1960   87.0   86.4  102.8\n",
      "1965   97.0   55.0  179.0\n",
      "1970   63.0   68.0  128.0\n",
      "1975   82.6   35.9   57.0\n",
      "1980  115.2   97.8   41.4\n",
      "1985   66.8  124.6   34.8\n",
      "1990   67.1   49.8   64.0\n",
      "1995  105.5    7.0  146.0\n",
      "2000   40.0   63.0  141.0\n",
      "2005   64.0   26.0   47.0\n",
      "2010   45.0   48.0  100.0\n"
     ]
    }
   ],
   "source": [
    "# Create a new DataFrame with the data we want\n",
    "newDF = df.loc[filt, ['Jan', 'Aug', 'Nov']]\n",
    "print(newDF)"
   ]
  },
  {
   "cell_type": "code",
   "execution_count": 22,
   "metadata": {},
   "outputs": [
    {
     "data": {
      "text/plain": [
       "[<matplotlib.lines.Line2D at 0x7fcb56b90fd0>]"
      ]
     },
     "execution_count": 22,
     "metadata": {},
     "output_type": "execute_result"
    },
    {
     "data": {
      "image/png": "[encoded data removed]",
      "text/plain": [
       "<Figure size 576x576 with 1 Axes>"
      ]
     },
     "metadata": {},
     "output_type": "display_data"
    }
   ],
   "source": [
    "# Print our new plot\n",
    "plt.plot(newDF.index,newDF.Jan)\n",
    "plt.plot(newDF.index,newDF.Aug)\n",
    "plt.plot(newDF.index,newDF.Nov)"
   ]
  },
  {
   "cell_type": "code",
   "execution_count": 23,
   "metadata": {
    "scrolled": true
   },
   "outputs": [
    {
     "data": {
      "text/plain": [
       "<BarContainer object of 33 artists>"
      ]
     },
     "execution_count": 23,
     "metadata": {},
     "output_type": "execute_result"
    },
    {
     "data": {
      "image/png": "[encoded data removed]",
      "text/plain": [
       "<Figure size 576x576 with 1 Axes>"
      ]
     },
     "metadata": {},
     "output_type": "display_data"
    }
   ],
   "source": [
    "# Change to a bar plot\n",
    "plt.bar(newDF.index,newDF.Jan)\n",
    "plt.bar(newDF.index,newDF.Aug)\n",
    "plt.bar(newDF.index,newDF.Nov)\n",
    "\n",
    "\n",
    "\n"
   ]
  },
  {
   "cell_type": "markdown",
   "metadata": {},
   "source": [
    "## Hmmm...\n",
    "Let us try to sort out this mess..."
   ]
  },
  {
   "cell_type": "code",
   "execution_count": 24,
   "metadata": {},
   "outputs": [
    {
     "data": {
      "text/plain": [
       "<matplotlib.legend.Legend at 0x7fcb5affd950>"
      ]
     },
     "execution_count": 24,
     "metadata": {},
     "output_type": "execute_result"
    },
    {
     "data": {
      "image/png": "[encoded data removed]",
      "text/plain": [
       "<Figure size 1008x432 with 1 Axes>"
      ]
     },
     "metadata": {},
     "output_type": "display_data"
    }
   ],
   "source": [
    "plt.style.use('Solarize_Light2')\n",
    "plt.rcParams['figure.figsize'] = [14, 6]\n",
    "width = 2.00\n",
    "offset = 2.00\n",
    "\n",
    "plt.bar(newDF.index - offset, newDF.Jan, width = width, label = 'January Rain')\n",
    "plt.bar(newDF.index ,  newDF.Aug, width = width, color = 'k', label = 'August Rain')\n",
    "plt.bar(newDF.index + offset, newDF.Nov, width = width, label = 'November Rain')\n",
    "\n",
    "\n",
    "plt.title('Rain- Dublin Airport(1860-2010)')\n",
    "plt.xlabel('Year')\n",
    "plt.ylabel('Rain mm')\n",
    "plt.grid(True)\n",
    "plt.legend()"
   ]
  },
  {
   "cell_type": "markdown",
   "metadata": {},
   "source": [
    "# Statistical Analysis"
   ]
  },
  {
   "cell_type": "markdown",
   "metadata": {},
   "source": [
    "## Simple Stats"
   ]
  },
  {
   "cell_type": "code",
   "execution_count": null,
   "metadata": {},
   "outputs": [],
   "source": [
    "# Mean and Median\n",
    "print(df['Jan'].mean())\n",
    "\n",
    "newDF['Jan'].mean()"
   ]
  },
  {
   "cell_type": "code",
   "execution_count": null,
   "metadata": {
    "scrolled": true
   },
   "outputs": [],
   "source": [
    "# Statistic on all of the dataframe\n",
    "df.mean()"
   ]
  },
  {
   "cell_type": "code",
   "execution_count": null,
   "metadata": {
    "scrolled": true
   },
   "outputs": [],
   "source": [
    "# General Statistics\n",
    "df.describe()"
   ]
  },
  {
   "cell_type": "markdown",
   "metadata": {},
   "source": [
    "## Grouping Data\n",
    "When grouping data it is a three phase process (carried out by Python). Split (into separate tables), apply a function (to each table), recombine( into one table)."
   ]
  },
  {
   "cell_type": "code",
   "execution_count": null,
   "metadata": {
    "scrolled": true
   },
   "outputs": [],
   "source": [
    "# load a new set of data for Killarney\n",
    "kill_df = pd.read_csv(\"/Users/morgan/Documents/Courses/Python/MyModules/Killarney_1881-1933.csv\")\n",
    "kill_df"
   ]
  },
  {
   "cell_type": "code",
   "execution_count": null,
   "metadata": {
    "scrolled": true
   },
   "outputs": [],
   "source": [
    "#Get the shape of the dataframe\n",
    "kill_df.shape"
   ]
  },
  {
   "cell_type": "code",
   "execution_count": null,
   "metadata": {},
   "outputs": [],
   "source": [
    "year_group = kill_df.groupby(['Year'])\n",
    "\n",
    "print(kill_df[\"Max (F)\"])"
   ]
  },
  {
   "cell_type": "code",
   "execution_count": null,
   "metadata": {},
   "outputs": [],
   "source": [
    "year_group.get_group(1933)"
   ]
  },
  {
   "cell_type": "code",
   "execution_count": null,
   "metadata": {},
   "outputs": [],
   "source": [
    "# Same as filter \n",
    "filt = kill_df['Year']== 1932\n",
    "kill_df.loc[filt]"
   ]
  },
  {
   "cell_type": "code",
   "execution_count": null,
   "metadata": {},
   "outputs": [],
   "source": [
    "kill_df.loc[filt,['Min (C)']].min()"
   ]
  },
  {
   "cell_type": "code",
   "execution_count": null,
   "metadata": {
    "scrolled": false
   },
   "outputs": [],
   "source": [
    "#Get the lowest temp for each year from 1881\n",
    "year_group['Min (C)'].max()"
   ]
  },
  {
   "cell_type": "markdown",
   "metadata": {},
   "source": [
    "# Widgets"
   ]
  },
  {
   "cell_type": "code",
   "execution_count": 158,
   "metadata": {},
   "outputs": [],
   "source": [
    "# The widgets library\n",
    "import ipywidgets as widgets\n",
    "from ipywidgets import interactive\n",
    "from ipywidgets import interact\n",
    "\n",
    "# Define a function\n",
    "def my_function(x):\n",
    "    return x**2"
   ]
  },
  {
   "cell_type": "code",
   "execution_count": 159,
   "metadata": {
    "scrolled": true
   },
   "outputs": [
    {
     "data": {
      "application/vnd.jupyter.widget-view+json": {
       "model_id": "7e2967a929514053948ceca9d7c19950",
       "version_major": 2,
       "version_minor": 0
      },
      "text/plain": [
       "interactive(children=(IntSlider(value=10, description='x', max=30, min=-10), Output()), _dom_classes=('widget-…"
      ]
     },
     "metadata": {},
     "output_type": "display_data"
    }
   ],
   "source": [
    " #When you move the slider, the function is called, and its return value is printed.\n",
    "interact(my_function, x=10);"
   ]
  },
  {
   "cell_type": "code",
   "execution_count": 161,
   "metadata": {},
   "outputs": [
    {
     "data": {
      "application/vnd.jupyter.widget-view+json": {
       "model_id": "7c7a43d083704dbeb660f064727bfd90",
       "version_major": 2,
       "version_minor": 0
      },
      "text/plain": [
       "SelectionSlider(continuous_update=False, description='I like my eggs ...', index=1, options=('scrambled', 'sun…"
      ]
     },
     "metadata": {},
     "output_type": "display_data"
    }
   ],
   "source": [
    "#Another Widget\n",
    "widgets.SelectionSlider(\n",
    "    options = ['scrambled', 'sunny side up', 'poached', 'burnt'],\n",
    "    value='sunny side up',\n",
    "    description='I like my eggs ...',\n",
    "    disabled=False,\n",
    "    continuous_update=False,\n",
    "    orientation='horizontal',\n",
    "    readout=True\n",
    ")"
   ]
  },
  {
   "cell_type": "code",
   "execution_count": 164,
   "metadata": {},
   "outputs": [
    {
     "data": {
      "application/vnd.jupyter.widget-view+json": {
       "model_id": "d266696bedb64e66bd8e3b8432ea5c43",
       "version_major": 2,
       "version_minor": 0
      },
      "text/plain": [
       "IntSlider(value=3, description='Slider:', max=10, step=2)"
      ]
     },
     "metadata": {},
     "output_type": "display_data"
    }
   ],
   "source": [
    "#Another Widget\n",
    "widgets.IntSlider(\n",
    "    min=0,\n",
    "    max=10,\n",
    "    step=2,\n",
    "    description='Slider:',\n",
    "    value=3\n",
    ")"
   ]
  },
  {
   "cell_type": "code",
   "execution_count": 165,
   "metadata": {},
   "outputs": [
    {
     "data": {
      "application/vnd.jupyter.widget-view+json": {
       "model_id": "f5404bcc6f5f432684c5839895efab5c",
       "version_major": 2,
       "version_minor": 0
      },
      "text/plain": [
       "interactive(children=(Dropdown(description='name', options=('Jim', 'Emma', 'Bond'), value='Jim'), Output()), _…"
      ]
     },
     "metadata": {},
     "output_type": "display_data"
    }
   ],
   "source": [
    "#Create a combo box/drop down\n",
    "def say_my_name(name):\n",
    "    \"\"\"\n",
    "    Print the current widget value in short sentence\n",
    "    \"\"\"\n",
    "    print(f'My name is {name}')\n",
    "     \n",
    "widgets.interact(say_my_name, name=[\"Jim\", \"Emma\", \"Bond\"]);\n"
   ]
  },
  {
   "cell_type": "markdown",
   "metadata": {},
   "source": [
    "## SAQ 2 - Daily Widget\n",
    "Create a widget that gives a list of days and when a day is selected it returns the day of the week number.\n",
    "\n"
   ]
  },
  {
   "cell_type": "code",
   "execution_count": 166,
   "metadata": {},
   "outputs": [
    {
     "data": {
      "application/vnd.jupyter.widget-view+json": {
       "model_id": "4e4472fb4458446c913e2bef1973e71c",
       "version_major": 2,
       "version_minor": 0
      },
      "text/plain": [
       "interactive(children=(Dropdown(description='day', options=('Mon', 'Tue', 'Wed', 'Thu', 'Fri', 'Sat', 'Sun'), v…"
      ]
     },
     "metadata": {},
     "output_type": "display_data"
    }
   ],
   "source": [
    "#Add your answer here\n",
    "# The widgets library\n",
    "import ipywidgets as widgets\n",
    "from ipywidgets import interactive\n",
    "from ipywidgets import interact\n",
    "\n",
    "def day_of_week(day):\n",
    "    \"\"\"\n",
    "    Print the current widget value in short sentence\n",
    "    \"\"\"\n",
    "    if day == \"Mon\":\n",
    "        day_no = 1\n",
    "    elif day == \"Tue\":\n",
    "        day_no = 2\n",
    "    else:\n",
    "        day_no = 3    \n",
    "    \n",
    "    print(f'The day number is {day_no}')\n",
    "     \n",
    "widgets.interact(day_of_week, day=[\"Mon\", \"Tue\", \"Wed\",\"Thu\",\"Fri\",\"Sat\",\"Sun\"]);\n",
    "\n"
   ]
  },
  {
   "cell_type": "markdown",
   "metadata": {},
   "source": [
    "## Plotting with a widget"
   ]
  },
  {
   "cell_type": "code",
   "execution_count": 168,
   "metadata": {},
   "outputs": [
    {
     "data": {
      "application/vnd.jupyter.widget-view+json": {
       "model_id": "02dc60d14bf7407aab8820fc20d27648",
       "version_major": 2,
       "version_minor": 0
      },
      "text/plain": [
       "interactive(children=(FloatSlider(value=0.0, description='m', max=2.0, min=-2.0), FloatSlider(value=0.0, descr…"
      ]
     },
     "metadata": {},
     "output_type": "display_data"
    }
   ],
   "source": [
    "%matplotlib inline\n",
    "from ipywidgets import interactive\n",
    "import matplotlib.pyplot as plt\n",
    "import numpy as np\n",
    "plt.style.use('Solarize_Light2')\n",
    "plt.rcParams['figure.figsize'] = [14, 7]\n",
    "\n",
    "def my_function(m, c):\n",
    "    plt.figure(2)\n",
    "    x = np.linspace(-10, 10, num=1000)\n",
    "    #plt.plot(x, m * x  + c)\n",
    "    plt.plot(x, m * x**2 + 3*x + c)\n",
    "    plt.ylim(-5, 5)\n",
    "    plt.show()\n",
    "\n",
    "interactive_plot = interactive(my_function, m=(-2.0, 2.0), c=(-3, 3, 0.5))\n",
    "output = interactive_plot.children[-1]\n",
    "output.layout.height = '450px'\n",
    "interactive_plot"
   ]
  },
  {
   "cell_type": "code",
   "execution_count": 169,
   "metadata": {},
   "outputs": [
    {
     "data": {
      "image/png": "[encoded data removed]",
      "text/plain": [
       "<Figure size 1008x504 with 1 Axes>"
      ]
     },
     "metadata": {},
     "output_type": "display_data"
    }
   ],
   "source": [
    "#\n",
    "x = np.linspace(0, 10, 100)\n",
    "\n",
    "plt.plot(x, np.sin(x)*2)\n",
    "plt.plot(x, np.cos(x))\n",
    "\n",
    "plt.show()"
   ]
  },
  {
   "cell_type": "code",
   "execution_count": 172,
   "metadata": {
    "scrolled": true
   },
   "outputs": [],
   "source": [
    " y_values= list(np.around(np.arange(-2.0, 2.2, +0.2),2))"
   ]
  },
  {
   "cell_type": "code",
   "execution_count": 173,
   "metadata": {},
   "outputs": [
    {
     "name": "stdout",
     "output_type": "stream",
     "text": [
      "[-2.0, -1.8, -1.6, -1.4, -1.2, -1.0, -0.8, -0.6, -0.4, -0.2, -0.0, 0.2, 0.4, 0.6, 0.8, 1.0, 1.2, 1.4, 1.6, 1.8, 2.0]\n"
     ]
    }
   ],
   "source": [
    "print( y_values)"
   ]
  },
  {
   "cell_type": "code",
   "execution_count": 177,
   "metadata": {
    "scrolled": true
   },
   "outputs": [
    {
     "data": {
      "application/vnd.jupyter.widget-view+json": {
       "model_id": "5c081f2cc34c4057b02ca35102659224",
       "version_major": 2,
       "version_minor": 0
      },
      "text/plain": [
       "interactive(children=(IntSlider(value=2, description='w', max=4, min=1), FloatSlider(value=1.0, description='A…"
      ]
     },
     "metadata": {},
     "output_type": "display_data"
    }
   ],
   "source": [
    "# A Sine wave y= A*Sin(wt)\n",
    "import numpy as np\n",
    "import matplotlib.pyplot as plt\n",
    "from ipywidgets import interactive\n",
    "\n",
    "# Get x values of the sine wave\n",
    "time  = np.arange(0, 20, 0.1);\n",
    "\n",
    "def my_sine(w, A):\n",
    "# Amplitude of the sine wave is sine of a variable like time\n",
    "    amplitude   = np.sin(w*time)*A\n",
    "# Plot a sine wave using time and amplitude obtained for the sine wave\n",
    "    plt.plot(time, amplitude)\n",
    "# Give a title for the sine wave plot\n",
    "    plt.title('Sine wave')\n",
    "# Give x axis label for the sine wave plot\n",
    "    plt.xlabel('Time')\n",
    "    plt.yticks(( y_values))\n",
    "# Give y axis label for the sine wave plot\n",
    "\n",
    "    plt.ylabel('Amplitude = sin(time)')\n",
    "    plt.grid(True, which='both')\n",
    "    plt.axhline(y=0, color='k')\n",
    "    plt.show()\n",
    "# Display the sine wave\n",
    "interactive_plot = interactive(my_sine, w=(1, 4), A=(0,2,0.2))\n",
    "#output = interactive_plot.children[-1]\n",
    "output.layout.height = '350px'\n",
    "interactive_plot"
   ]
  },
  {
   "attachments": {
    "image.png": {
     "image/png": "[encoded data removed]"
    }
   },
   "cell_type": "markdown",
   "metadata": {},
   "source": [
    "![image.png](attachment:image.png)"
   ]
  },
  {
   "cell_type": "markdown",
   "metadata": {},
   "source": [
    "## SAQ3: Cubinism\n",
    "Using widgets plot a graph of a x cubed + c"
   ]
  },
  {
   "cell_type": "code",
   "execution_count": 181,
   "metadata": {},
   "outputs": [
    {
     "data": {
      "application/vnd.jupyter.widget-view+json": {
       "model_id": "24102f84f6a548ea929bd0fc3d2f9041",
       "version_major": 2,
       "version_minor": 0
      },
      "text/plain": [
       "interactive(children=(FloatSlider(value=0.0, description='m', max=2.0, min=-2.0), FloatSlider(value=0.0, descr…"
      ]
     },
     "metadata": {},
     "output_type": "display_data"
    }
   ],
   "source": [
    "#Put your answer here\n",
    "%matplotlib inline\n",
    "from ipywidgets import interactive\n",
    "import matplotlib.pyplot as plt\n",
    "import numpy as np\n",
    "plt.style.use('Solarize_Light2')\n",
    "plt.rcParams['figure.figsize'] = [14, 7]\n",
    "\n",
    "def my_function(m, c):\n",
    "    plt.figure(2)\n",
    "    x = np.linspace(-10, 10, num=1000)\n",
    "    plt.plot(x, m * x**3 + c)\n",
    "    plt.ylim(-5, 5)\n",
    "    plt.show()\n",
    "\n",
    "interactive_plot = interactive(my_function, m=(-2.0, 2.0), c=(-3, 3, 0.5))\n",
    "output = interactive_plot.children[-1]\n",
    "output.layout.height = '450px'\n",
    "interactive_plot"
   ]
  },
  {
   "cell_type": "markdown",
   "metadata": {},
   "source": [
    "## EU Vaccine Data"
   ]
  },
  {
   "cell_type": "code",
   "execution_count": 5,
   "metadata": {
    "scrolled": true
   },
   "outputs": [
    {
     "data": {
      "text/plain": [
       "Index(['YearWeekISO', 'FirstDose', 'FirstDoseRefused', 'SecondDose',\n",
       "       'UnknownDose', 'NumberDosesReceived', 'Region', 'Population',\n",
       "       'TargetGroup', 'Vaccine', 'Denominator'],\n",
       "      dtype='object')"
      ]
     },
     "execution_count": 5,
     "metadata": {},
     "output_type": "execute_result"
    }
   ],
   "source": [
    "import pandas as pd\n",
    "import numpy as np\n",
    "url = \"https://opendata.ecdc.europa.eu/covid19/vaccine_tracker/csv/data.csv\"\n",
    "df_vac = pd.read_csv(url,index_col = 'ReportingCountry')\n",
    "df_vac.columns"
   ]
  },
  {
   "cell_type": "code",
   "execution_count": 6,
   "metadata": {},
   "outputs": [
    {
     "data": {
      "text/html": [
       "<div>\n",
       "<style scoped>\n",
       "    .dataframe tbody tr th:only-of-type {\n",
       "        vertical-align: middle;\n",
       "    }\n",
       "\n",
       "    .dataframe tbody tr th {\n",
       "        vertical-align: top;\n",
       "    }\n",
       "\n",
       "    .dataframe thead th {\n",
       "        text-align: right;\n",
       "    }\n",
       "</style>\n",
       "<table border=\"1\" class=\"dataframe\">\n",
       "  <thead>\n",
       "    <tr style=\"text-align: right;\">\n",
       "      <th></th>\n",
       "      <th>YearWeekISO</th>\n",
       "      <th>FirstDose</th>\n",
       "      <th>FirstDoseRefused</th>\n",
       "      <th>SecondDose</th>\n",
       "      <th>UnknownDose</th>\n",
       "      <th>NumberDosesReceived</th>\n",
       "      <th>Region</th>\n",
       "      <th>Population</th>\n",
       "      <th>TargetGroup</th>\n",
       "      <th>Vaccine</th>\n",
       "      <th>Denominator</th>\n",
       "    </tr>\n",
       "    <tr>\n",
       "      <th>ReportingCountry</th>\n",
       "      <th></th>\n",
       "      <th></th>\n",
       "      <th></th>\n",
       "      <th></th>\n",
       "      <th></th>\n",
       "      <th></th>\n",
       "      <th></th>\n",
       "      <th></th>\n",
       "      <th></th>\n",
       "      <th></th>\n",
       "      <th></th>\n",
       "    </tr>\n",
       "  </thead>\n",
       "  <tbody>\n",
       "    <tr>\n",
       "      <th>AT</th>\n",
       "      <td>2020-W53</td>\n",
       "      <td>2644</td>\n",
       "      <td>0.0</td>\n",
       "      <td>0</td>\n",
       "      <td>0</td>\n",
       "      <td>61425.0</td>\n",
       "      <td>AT</td>\n",
       "      <td>8901064</td>\n",
       "      <td>1_Age60+</td>\n",
       "      <td>COM</td>\n",
       "      <td>2259262.0</td>\n",
       "    </tr>\n",
       "    <tr>\n",
       "      <th>AT</th>\n",
       "      <td>2020-W53</td>\n",
       "      <td>0</td>\n",
       "      <td>0.0</td>\n",
       "      <td>0</td>\n",
       "      <td>0</td>\n",
       "      <td>0.0</td>\n",
       "      <td>AT</td>\n",
       "      <td>8901064</td>\n",
       "      <td>1_Age60+</td>\n",
       "      <td>MOD</td>\n",
       "      <td>2259262.0</td>\n",
       "    </tr>\n",
       "    <tr>\n",
       "      <th>AT</th>\n",
       "      <td>2020-W53</td>\n",
       "      <td>0</td>\n",
       "      <td>0.0</td>\n",
       "      <td>0</td>\n",
       "      <td>0</td>\n",
       "      <td>0.0</td>\n",
       "      <td>AT</td>\n",
       "      <td>8901064</td>\n",
       "      <td>1_Age60+</td>\n",
       "      <td>AZ</td>\n",
       "      <td>2259262.0</td>\n",
       "    </tr>\n",
       "    <tr>\n",
       "      <th>AT</th>\n",
       "      <td>2020-W53</td>\n",
       "      <td>0</td>\n",
       "      <td>0.0</td>\n",
       "      <td>0</td>\n",
       "      <td>0</td>\n",
       "      <td>0.0</td>\n",
       "      <td>AT</td>\n",
       "      <td>8901064</td>\n",
       "      <td>1_Age&lt;60</td>\n",
       "      <td>AZ</td>\n",
       "      <td>5099181.0</td>\n",
       "    </tr>\n",
       "    <tr>\n",
       "      <th>AT</th>\n",
       "      <td>2020-W53</td>\n",
       "      <td>2365</td>\n",
       "      <td>0.0</td>\n",
       "      <td>0</td>\n",
       "      <td>0</td>\n",
       "      <td>61425.0</td>\n",
       "      <td>AT</td>\n",
       "      <td>8901064</td>\n",
       "      <td>1_Age&lt;60</td>\n",
       "      <td>COM</td>\n",
       "      <td>5099181.0</td>\n",
       "    </tr>\n",
       "    <tr>\n",
       "      <th>...</th>\n",
       "      <td>...</td>\n",
       "      <td>...</td>\n",
       "      <td>...</td>\n",
       "      <td>...</td>\n",
       "      <td>...</td>\n",
       "      <td>...</td>\n",
       "      <td>...</td>\n",
       "      <td>...</td>\n",
       "      <td>...</td>\n",
       "      <td>...</td>\n",
       "      <td>...</td>\n",
       "    </tr>\n",
       "    <tr>\n",
       "      <th>SK</th>\n",
       "      <td>2021-W13</td>\n",
       "      <td>9329</td>\n",
       "      <td>NaN</td>\n",
       "      <td>1696</td>\n",
       "      <td>0</td>\n",
       "      <td>0.0</td>\n",
       "      <td>SK</td>\n",
       "      <td>5457873</td>\n",
       "      <td>ALL</td>\n",
       "      <td>MOD</td>\n",
       "      <td>4437897.0</td>\n",
       "    </tr>\n",
       "    <tr>\n",
       "      <th>SK</th>\n",
       "      <td>2021-W13</td>\n",
       "      <td>28376</td>\n",
       "      <td>NaN</td>\n",
       "      <td>56</td>\n",
       "      <td>0</td>\n",
       "      <td>0.0</td>\n",
       "      <td>SK</td>\n",
       "      <td>5457873</td>\n",
       "      <td>ALL</td>\n",
       "      <td>AZ</td>\n",
       "      <td>4437897.0</td>\n",
       "    </tr>\n",
       "    <tr>\n",
       "      <th>SK</th>\n",
       "      <td>2021-W14</td>\n",
       "      <td>2005</td>\n",
       "      <td>NaN</td>\n",
       "      <td>1</td>\n",
       "      <td>0</td>\n",
       "      <td>0.0</td>\n",
       "      <td>SK</td>\n",
       "      <td>5457873</td>\n",
       "      <td>ALL</td>\n",
       "      <td>AZ</td>\n",
       "      <td>4437897.0</td>\n",
       "    </tr>\n",
       "    <tr>\n",
       "      <th>SK</th>\n",
       "      <td>2021-W14</td>\n",
       "      <td>26946</td>\n",
       "      <td>NaN</td>\n",
       "      <td>5391</td>\n",
       "      <td>0</td>\n",
       "      <td>0.0</td>\n",
       "      <td>SK</td>\n",
       "      <td>5457873</td>\n",
       "      <td>ALL</td>\n",
       "      <td>COM</td>\n",
       "      <td>4437897.0</td>\n",
       "    </tr>\n",
       "    <tr>\n",
       "      <th>SK</th>\n",
       "      <td>2021-W14</td>\n",
       "      <td>3720</td>\n",
       "      <td>NaN</td>\n",
       "      <td>61</td>\n",
       "      <td>0</td>\n",
       "      <td>0.0</td>\n",
       "      <td>SK</td>\n",
       "      <td>5457873</td>\n",
       "      <td>ALL</td>\n",
       "      <td>MOD</td>\n",
       "      <td>4437897.0</td>\n",
       "    </tr>\n",
       "  </tbody>\n",
       "</table>\n",
       "<p>21545 rows × 11 columns</p>\n",
       "</div>"
      ],
      "text/plain": [
       "                 YearWeekISO  FirstDose  FirstDoseRefused  SecondDose  \\\n",
       "ReportingCountry                                                        \n",
       "AT                  2020-W53       2644               0.0           0   \n",
       "AT                  2020-W53          0               0.0           0   \n",
       "AT                  2020-W53          0               0.0           0   \n",
       "AT                  2020-W53          0               0.0           0   \n",
       "AT                  2020-W53       2365               0.0           0   \n",
       "...                      ...        ...               ...         ...   \n",
       "SK                  2021-W13       9329               NaN        1696   \n",
       "SK                  2021-W13      28376               NaN          56   \n",
       "SK                  2021-W14       2005               NaN           1   \n",
       "SK                  2021-W14      26946               NaN        5391   \n",
       "SK                  2021-W14       3720               NaN          61   \n",
       "\n",
       "                  UnknownDose  NumberDosesReceived Region  Population  \\\n",
       "ReportingCountry                                                        \n",
       "AT                          0              61425.0     AT     8901064   \n",
       "AT                          0                  0.0     AT     8901064   \n",
       "AT                          0                  0.0     AT     8901064   \n",
       "AT                          0                  0.0     AT     8901064   \n",
       "AT                          0              61425.0     AT     8901064   \n",
       "...                       ...                  ...    ...         ...   \n",
       "SK                          0                  0.0     SK     5457873   \n",
       "SK                          0                  0.0     SK     5457873   \n",
       "SK                          0                  0.0     SK     5457873   \n",
       "SK                          0                  0.0     SK     5457873   \n",
       "SK                          0                  0.0     SK     5457873   \n",
       "\n",
       "                 TargetGroup Vaccine  Denominator  \n",
       "ReportingCountry                                   \n",
       "AT                  1_Age60+     COM    2259262.0  \n",
       "AT                  1_Age60+     MOD    2259262.0  \n",
       "AT                  1_Age60+      AZ    2259262.0  \n",
       "AT                  1_Age<60      AZ    5099181.0  \n",
       "AT                  1_Age<60     COM    5099181.0  \n",
       "...                      ...     ...          ...  \n",
       "SK                       ALL     MOD    4437897.0  \n",
       "SK                       ALL      AZ    4437897.0  \n",
       "SK                       ALL      AZ    4437897.0  \n",
       "SK                       ALL     COM    4437897.0  \n",
       "SK                       ALL     MOD    4437897.0  \n",
       "\n",
       "[21545 rows x 11 columns]"
      ]
     },
     "execution_count": 6,
     "metadata": {},
     "output_type": "execute_result"
    }
   ],
   "source": [
    "df_vac"
   ]
  },
  {
   "cell_type": "code",
   "execution_count": 7,
   "metadata": {},
   "outputs": [],
   "source": [
    "vac_rec = df_vac.groupby(\"ReportingCountry\")[\"NumberDosesReceived\"].sum()"
   ]
  },
  {
   "cell_type": "code",
   "execution_count": 8,
   "metadata": {},
   "outputs": [
    {
     "data": {
      "text/plain": [
       "ReportingCountry\n",
       "AT    20628405.0\n",
       "BE     2617845.0\n",
       "BG      914040.0\n",
       "CY      269485.0\n",
       "CZ     2289580.0\n",
       "DE    19695375.0\n",
       "DK     1507520.0\n",
       "EE      371520.0\n",
       "EL    29886390.0\n",
       "ES    11917275.0\n",
       "FI     1362075.0\n",
       "FR    15746645.0\n",
       "HR      793680.0\n",
       "HU     4779785.0\n",
       "IE     1187100.0\n",
       "IS      757800.0\n",
       "IT    14344980.0\n",
       "LI        9600.0\n",
       "LT     1739610.0\n",
       "LU      159120.0\n",
       "LV      231660.0\n",
       "MT           0.0\n",
       "NL     4524820.0\n",
       "NO     1141125.0\n",
       "PL     8077660.0\n",
       "PT     2612460.0\n",
       "RO     4558060.0\n",
       "SE     2856155.0\n",
       "SI      476280.0\n",
       "SK     1107750.0\n",
       "Name: NumberDosesReceived, dtype: float64"
      ]
     },
     "execution_count": 8,
     "metadata": {},
     "output_type": "execute_result"
    }
   ],
   "source": [
    "vac_rec"
   ]
  },
  {
   "cell_type": "code",
   "execution_count": 9,
   "metadata": {},
   "outputs": [],
   "source": [
    "# Import Widgets\n",
    "import ipywidgets as widgets\n",
    "from ipywidgets import interactive\n",
    "from ipywidgets import interact\n",
    "\n",
    "# Get a list of unique countries\n",
    "country_list = list(df_vac.index.unique())\n",
    "\n",
    "#print(country_list)\n",
    "def filter_by_country(country):\n",
    "    filt = df_vac.index == country\n",
    "    new_df_vac =df_vac.loc[filt,['NumberDosesReceived','Vaccine']] \n",
    "    return new_df_vac\n",
    "    "
   ]
  },
  {
   "cell_type": "code",
   "execution_count": 13,
   "metadata": {},
   "outputs": [
    {
     "data": {
      "application/vnd.jupyter.widget-view+json": {
       "model_id": "e078960d2e344f118791c38431754dcd",
       "version_major": 2,
       "version_minor": 0
      },
      "text/plain": [
       "interactive(children=(Dropdown(description='country', options=('AT', 'BE', 'BG', 'CY', 'CZ', 'DE', 'DK', 'EE',…"
      ]
     },
     "metadata": {},
     "output_type": "display_data"
    }
   ],
   "source": [
    "\n",
    "widgets.interact(filter_by_country, country = country_list);\n",
    "\n",
    "#filter_by_country(country)"
   ]
  },
  {
   "cell_type": "code",
   "execution_count": 14,
   "metadata": {},
   "outputs": [
    {
     "data": {
      "text/html": [
       "<div>\n",
       "<style scoped>\n",
       "    .dataframe tbody tr th:only-of-type {\n",
       "        vertical-align: middle;\n",
       "    }\n",
       "\n",
       "    .dataframe tbody tr th {\n",
       "        vertical-align: top;\n",
       "    }\n",
       "\n",
       "    .dataframe thead th {\n",
       "        text-align: right;\n",
       "    }\n",
       "</style>\n",
       "<table border=\"1\" class=\"dataframe\">\n",
       "  <thead>\n",
       "    <tr style=\"text-align: right;\">\n",
       "      <th></th>\n",
       "      <th>YearWeekISO</th>\n",
       "      <th>FirstDose</th>\n",
       "      <th>FirstDoseRefused</th>\n",
       "      <th>SecondDose</th>\n",
       "      <th>UnknownDose</th>\n",
       "      <th>NumberDosesReceived</th>\n",
       "      <th>Region</th>\n",
       "      <th>Population</th>\n",
       "      <th>TargetGroup</th>\n",
       "      <th>Vaccine</th>\n",
       "      <th>Denominator</th>\n",
       "    </tr>\n",
       "    <tr>\n",
       "      <th>ReportingCountry</th>\n",
       "      <th></th>\n",
       "      <th></th>\n",
       "      <th></th>\n",
       "      <th></th>\n",
       "      <th></th>\n",
       "      <th></th>\n",
       "      <th></th>\n",
       "      <th></th>\n",
       "      <th></th>\n",
       "      <th></th>\n",
       "      <th></th>\n",
       "    </tr>\n",
       "  </thead>\n",
       "  <tbody>\n",
       "    <tr>\n",
       "      <th>AT</th>\n",
       "      <td>2020-W53</td>\n",
       "      <td>2644</td>\n",
       "      <td>0.0</td>\n",
       "      <td>0</td>\n",
       "      <td>0</td>\n",
       "      <td>61425.0</td>\n",
       "      <td>AT</td>\n",
       "      <td>8901064</td>\n",
       "      <td>1_Age60+</td>\n",
       "      <td>COM</td>\n",
       "      <td>2259262.0</td>\n",
       "    </tr>\n",
       "    <tr>\n",
       "      <th>AT</th>\n",
       "      <td>2020-W53</td>\n",
       "      <td>0</td>\n",
       "      <td>0.0</td>\n",
       "      <td>0</td>\n",
       "      <td>0</td>\n",
       "      <td>0.0</td>\n",
       "      <td>AT</td>\n",
       "      <td>8901064</td>\n",
       "      <td>1_Age60+</td>\n",
       "      <td>MOD</td>\n",
       "      <td>2259262.0</td>\n",
       "    </tr>\n",
       "    <tr>\n",
       "      <th>AT</th>\n",
       "      <td>2020-W53</td>\n",
       "      <td>0</td>\n",
       "      <td>0.0</td>\n",
       "      <td>0</td>\n",
       "      <td>0</td>\n",
       "      <td>0.0</td>\n",
       "      <td>AT</td>\n",
       "      <td>8901064</td>\n",
       "      <td>1_Age60+</td>\n",
       "      <td>AZ</td>\n",
       "      <td>2259262.0</td>\n",
       "    </tr>\n",
       "    <tr>\n",
       "      <th>AT</th>\n",
       "      <td>2020-W53</td>\n",
       "      <td>0</td>\n",
       "      <td>0.0</td>\n",
       "      <td>0</td>\n",
       "      <td>0</td>\n",
       "      <td>0.0</td>\n",
       "      <td>AT</td>\n",
       "      <td>8901064</td>\n",
       "      <td>1_Age&lt;60</td>\n",
       "      <td>AZ</td>\n",
       "      <td>5099181.0</td>\n",
       "    </tr>\n",
       "    <tr>\n",
       "      <th>AT</th>\n",
       "      <td>2020-W53</td>\n",
       "      <td>2365</td>\n",
       "      <td>0.0</td>\n",
       "      <td>0</td>\n",
       "      <td>0</td>\n",
       "      <td>61425.0</td>\n",
       "      <td>AT</td>\n",
       "      <td>8901064</td>\n",
       "      <td>1_Age&lt;60</td>\n",
       "      <td>COM</td>\n",
       "      <td>5099181.0</td>\n",
       "    </tr>\n",
       "    <tr>\n",
       "      <th>...</th>\n",
       "      <td>...</td>\n",
       "      <td>...</td>\n",
       "      <td>...</td>\n",
       "      <td>...</td>\n",
       "      <td>...</td>\n",
       "      <td>...</td>\n",
       "      <td>...</td>\n",
       "      <td>...</td>\n",
       "      <td>...</td>\n",
       "      <td>...</td>\n",
       "      <td>...</td>\n",
       "    </tr>\n",
       "    <tr>\n",
       "      <th>SK</th>\n",
       "      <td>2021-W13</td>\n",
       "      <td>9329</td>\n",
       "      <td>NaN</td>\n",
       "      <td>1696</td>\n",
       "      <td>0</td>\n",
       "      <td>0.0</td>\n",
       "      <td>SK</td>\n",
       "      <td>5457873</td>\n",
       "      <td>ALL</td>\n",
       "      <td>MOD</td>\n",
       "      <td>4437897.0</td>\n",
       "    </tr>\n",
       "    <tr>\n",
       "      <th>SK</th>\n",
       "      <td>2021-W13</td>\n",
       "      <td>28376</td>\n",
       "      <td>NaN</td>\n",
       "      <td>56</td>\n",
       "      <td>0</td>\n",
       "      <td>0.0</td>\n",
       "      <td>SK</td>\n",
       "      <td>5457873</td>\n",
       "      <td>ALL</td>\n",
       "      <td>AZ</td>\n",
       "      <td>4437897.0</td>\n",
       "    </tr>\n",
       "    <tr>\n",
       "      <th>SK</th>\n",
       "      <td>2021-W14</td>\n",
       "      <td>2005</td>\n",
       "      <td>NaN</td>\n",
       "      <td>1</td>\n",
       "      <td>0</td>\n",
       "      <td>0.0</td>\n",
       "      <td>SK</td>\n",
       "      <td>5457873</td>\n",
       "      <td>ALL</td>\n",
       "      <td>AZ</td>\n",
       "      <td>4437897.0</td>\n",
       "    </tr>\n",
       "    <tr>\n",
       "      <th>SK</th>\n",
       "      <td>2021-W14</td>\n",
       "      <td>26946</td>\n",
       "      <td>NaN</td>\n",
       "      <td>5391</td>\n",
       "      <td>0</td>\n",
       "      <td>0.0</td>\n",
       "      <td>SK</td>\n",
       "      <td>5457873</td>\n",
       "      <td>ALL</td>\n",
       "      <td>COM</td>\n",
       "      <td>4437897.0</td>\n",
       "    </tr>\n",
       "    <tr>\n",
       "      <th>SK</th>\n",
       "      <td>2021-W14</td>\n",
       "      <td>3720</td>\n",
       "      <td>NaN</td>\n",
       "      <td>61</td>\n",
       "      <td>0</td>\n",
       "      <td>0.0</td>\n",
       "      <td>SK</td>\n",
       "      <td>5457873</td>\n",
       "      <td>ALL</td>\n",
       "      <td>MOD</td>\n",
       "      <td>4437897.0</td>\n",
       "    </tr>\n",
       "  </tbody>\n",
       "</table>\n",
       "<p>21545 rows × 11 columns</p>\n",
       "</div>"
      ],
      "text/plain": [
       "                 YearWeekISO  FirstDose  FirstDoseRefused  SecondDose  \\\n",
       "ReportingCountry                                                        \n",
       "AT                  2020-W53       2644               0.0           0   \n",
       "AT                  2020-W53          0               0.0           0   \n",
       "AT                  2020-W53          0               0.0           0   \n",
       "AT                  2020-W53          0               0.0           0   \n",
       "AT                  2020-W53       2365               0.0           0   \n",
       "...                      ...        ...               ...         ...   \n",
       "SK                  2021-W13       9329               NaN        1696   \n",
       "SK                  2021-W13      28376               NaN          56   \n",
       "SK                  2021-W14       2005               NaN           1   \n",
       "SK                  2021-W14      26946               NaN        5391   \n",
       "SK                  2021-W14       3720               NaN          61   \n",
       "\n",
       "                  UnknownDose  NumberDosesReceived Region  Population  \\\n",
       "ReportingCountry                                                        \n",
       "AT                          0              61425.0     AT     8901064   \n",
       "AT                          0                  0.0     AT     8901064   \n",
       "AT                          0                  0.0     AT     8901064   \n",
       "AT                          0                  0.0     AT     8901064   \n",
       "AT                          0              61425.0     AT     8901064   \n",
       "...                       ...                  ...    ...         ...   \n",
       "SK                          0                  0.0     SK     5457873   \n",
       "SK                          0                  0.0     SK     5457873   \n",
       "SK                          0                  0.0     SK     5457873   \n",
       "SK                          0                  0.0     SK     5457873   \n",
       "SK                          0                  0.0     SK     5457873   \n",
       "\n",
       "                 TargetGroup Vaccine  Denominator  \n",
       "ReportingCountry                                   \n",
       "AT                  1_Age60+     COM    2259262.0  \n",
       "AT                  1_Age60+     MOD    2259262.0  \n",
       "AT                  1_Age60+      AZ    2259262.0  \n",
       "AT                  1_Age<60      AZ    5099181.0  \n",
       "AT                  1_Age<60     COM    5099181.0  \n",
       "...                      ...     ...          ...  \n",
       "SK                       ALL     MOD    4437897.0  \n",
       "SK                       ALL      AZ    4437897.0  \n",
       "SK                       ALL      AZ    4437897.0  \n",
       "SK                       ALL     COM    4437897.0  \n",
       "SK                       ALL     MOD    4437897.0  \n",
       "\n",
       "[21545 rows x 11 columns]"
      ]
     },
     "execution_count": 14,
     "metadata": {},
     "output_type": "execute_result"
    }
   ],
   "source": [
    "df_vac"
   ]
  },
  {
   "cell_type": "code",
   "execution_count": 15,
   "metadata": {},
   "outputs": [
    {
     "ename": "NameError",
     "evalue": "name 'new_df_vac' is not defined",
     "output_type": "error",
     "traceback": [
      "\u001b[0;31m---------------------------------------------------------------------------\u001b[0m",
      "\u001b[0;31mNameError\u001b[0m                                 Traceback (most recent call last)",
      "\u001b[0;32m<ipython-input-15-a38bf34ec79e>\u001b[0m in \u001b[0;36m<module>\u001b[0;34m\u001b[0m\n\u001b[0;32m----> 1\u001b[0;31m \u001b[0mvac_rec_IE\u001b[0m \u001b[0;34m=\u001b[0m \u001b[0mnew_df_vac\u001b[0m\u001b[0;34m.\u001b[0m\u001b[0mgroupby\u001b[0m\u001b[0;34m(\u001b[0m\u001b[0;34m[\u001b[0m\u001b[0;34m'ReportingCountry'\u001b[0m\u001b[0;34m,\u001b[0m\u001b[0;34m'Vaccine'\u001b[0m\u001b[0;34m]\u001b[0m\u001b[0;34m)\u001b[0m\u001b[0;34m[\u001b[0m\u001b[0;34m\"NumberDosesReceived\"\u001b[0m\u001b[0;34m]\u001b[0m\u001b[0;34m.\u001b[0m\u001b[0msum\u001b[0m\u001b[0;34m(\u001b[0m\u001b[0;34m)\u001b[0m\u001b[0;34m\u001b[0m\u001b[0;34m\u001b[0m\u001b[0m\n\u001b[0m",
      "\u001b[0;31mNameError\u001b[0m: name 'new_df_vac' is not defined"
     ]
    }
   ],
   "source": [
    "vac_rec_IE = new_df_vac.groupby(['ReportingCountry','Vaccine'])[\"NumberDosesReceived\"].sum()"
   ]
  },
  {
   "cell_type": "code",
   "execution_count": 16,
   "metadata": {},
   "outputs": [
    {
     "ename": "NameError",
     "evalue": "name 'vac_rec_IE' is not defined",
     "output_type": "error",
     "traceback": [
      "\u001b[0;31m---------------------------------------------------------------------------\u001b[0m",
      "\u001b[0;31mNameError\u001b[0m                                 Traceback (most recent call last)",
      "\u001b[0;32m<ipython-input-16-6f4b1f5cd229>\u001b[0m in \u001b[0;36m<module>\u001b[0;34m\u001b[0m\n\u001b[0;32m----> 1\u001b[0;31m \u001b[0mvac_rec_IE\u001b[0m\u001b[0;34m\u001b[0m\u001b[0;34m\u001b[0m\u001b[0m\n\u001b[0m",
      "\u001b[0;31mNameError\u001b[0m: name 'vac_rec_IE' is not defined"
     ]
    }
   ],
   "source": [
    "vac_rec_IE"
   ]
  },
  {
   "cell_type": "code",
   "execution_count": 17,
   "metadata": {},
   "outputs": [],
   "source": [
    "vac_rec = df_vac.groupby(['ReportingCountry','Vaccine'])[\"NumberDosesReceived\"].sum()"
   ]
  },
  {
   "cell_type": "code",
   "execution_count": 196,
   "metadata": {},
   "outputs": [
    {
     "data": {
      "text/plain": [
       "ReportingCountry  Vaccine\n",
       "AT                AZ          5464800.0\n",
       "                  COM        11061765.0\n",
       "                  MOD         1771200.0\n",
       "BE                AZ           530400.0\n",
       "                  COM         1393275.0\n",
       "                  MOD          254400.0\n",
       "BG                AZ           463200.0\n",
       "                  COM          341640.0\n",
       "                  MOD          109200.0\n",
       "                  UNK               0.0\n",
       "CY                AZ            71900.0\n",
       "                  COM          119325.0\n",
       "                  MOD           18000.0\n",
       "CZ                AZ           264800.0\n",
       "                  COM         1497600.0\n",
       "                  MOD          236400.0\n",
       "DE                AZ          5577600.0\n",
       "                  COM        12356175.0\n",
       "                  MOD         1761600.0\n",
       "DK                AZ           202920.0\n",
       "                  COM          993740.0\n",
       "                  MOD           79380.0\n",
       "                  UNK               0.0\n",
       "EE                AZ           136800.0\n",
       "                  COM          179010.0\n",
       "                  MOD           28800.0\n",
       "                  UNK               0.0\n",
       "EL                AZ          8052000.0\n",
       "                  COM        16349190.0\n",
       "                  MOD         2396400.0\n",
       "ES                AZ          2175700.0\n",
       "                  COM         6483945.0\n",
       "                  MOD         1044000.0\n",
       "FI                AZ           376800.0\n",
       "                  COM          862875.0\n",
       "                  MOD          122400.0\n",
       "                  UNK               0.0\n",
       "FR                AZ          4471600.0\n",
       "                  COM         9795045.0\n",
       "                  MOD         1480000.0\n",
       "                  UNK               0.0\n",
       "HR                AZ           276000.0\n",
       "                  COM          305370.0\n",
       "                  MOD          129600.0\n",
       "                  UNK               0.0\n",
       "HU                AZ           666700.0\n",
       "                  CN          1100000.0\n",
       "                  COM         1450215.0\n",
       "                  MOD          216000.0\n",
       "                  SPU          829700.0\n",
       "Name: NumberDosesReceived, dtype: float64"
      ]
     },
     "execution_count": 196,
     "metadata": {},
     "output_type": "execute_result"
    }
   ],
   "source": [
    "vac_rec.head(50)"
   ]
  },
  {
   "cell_type": "code",
   "execution_count": 198,
   "metadata": {
    "scrolled": true
   },
   "outputs": [],
   "source": [
    "#Interaactive filter by Country\n",
    "def filter_by_country(country):\n",
    "    filt = df_vac.index == country\n",
    "    new_df_vac =df_vac.loc[filt,['NumberDosesReceived','Vaccine']] \n",
    "    return new_df_vac"
   ]
  },
  {
   "cell_type": "code",
   "execution_count": 200,
   "metadata": {},
   "outputs": [
    {
     "data": {
      "text/html": [
       "<div>\n",
       "<style scoped>\n",
       "    .dataframe tbody tr th:only-of-type {\n",
       "        vertical-align: middle;\n",
       "    }\n",
       "\n",
       "    .dataframe tbody tr th {\n",
       "        vertical-align: top;\n",
       "    }\n",
       "\n",
       "    .dataframe thead th {\n",
       "        text-align: right;\n",
       "    }\n",
       "</style>\n",
       "<table border=\"1\" class=\"dataframe\">\n",
       "  <thead>\n",
       "    <tr style=\"text-align: right;\">\n",
       "      <th></th>\n",
       "      <th>NumberDosesReceived</th>\n",
       "      <th>Vaccine</th>\n",
       "    </tr>\n",
       "    <tr>\n",
       "      <th>ReportingCountry</th>\n",
       "      <th></th>\n",
       "      <th></th>\n",
       "    </tr>\n",
       "  </thead>\n",
       "  <tbody>\n",
       "    <tr>\n",
       "      <th>IE</th>\n",
       "      <td>9750.0</td>\n",
       "      <td>COM</td>\n",
       "    </tr>\n",
       "    <tr>\n",
       "      <th>IE</th>\n",
       "      <td>31200.0</td>\n",
       "      <td>COM</td>\n",
       "    </tr>\n",
       "    <tr>\n",
       "      <th>IE</th>\n",
       "      <td>NaN</td>\n",
       "      <td>COM</td>\n",
       "    </tr>\n",
       "    <tr>\n",
       "      <th>IE</th>\n",
       "      <td>NaN</td>\n",
       "      <td>COM</td>\n",
       "    </tr>\n",
       "    <tr>\n",
       "      <th>IE</th>\n",
       "      <td>NaN</td>\n",
       "      <td>COM</td>\n",
       "    </tr>\n",
       "    <tr>\n",
       "      <th>IE</th>\n",
       "      <td>NaN</td>\n",
       "      <td>COM</td>\n",
       "    </tr>\n",
       "    <tr>\n",
       "      <th>IE</th>\n",
       "      <td>NaN</td>\n",
       "      <td>COM</td>\n",
       "    </tr>\n",
       "    <tr>\n",
       "      <th>IE</th>\n",
       "      <td>NaN</td>\n",
       "      <td>COM</td>\n",
       "    </tr>\n",
       "    <tr>\n",
       "      <th>IE</th>\n",
       "      <td>NaN</td>\n",
       "      <td>COM</td>\n",
       "    </tr>\n",
       "    <tr>\n",
       "      <th>IE</th>\n",
       "      <td>NaN</td>\n",
       "      <td>COM</td>\n",
       "    </tr>\n",
       "    <tr>\n",
       "      <th>IE</th>\n",
       "      <td>NaN</td>\n",
       "      <td>COM</td>\n",
       "    </tr>\n",
       "    <tr>\n",
       "      <th>IE</th>\n",
       "      <td>40950.0</td>\n",
       "      <td>COM</td>\n",
       "    </tr>\n",
       "    <tr>\n",
       "      <th>IE</th>\n",
       "      <td>NaN</td>\n",
       "      <td>COM</td>\n",
       "    </tr>\n",
       "    <tr>\n",
       "      <th>IE</th>\n",
       "      <td>NaN</td>\n",
       "      <td>COM</td>\n",
       "    </tr>\n",
       "    <tr>\n",
       "      <th>IE</th>\n",
       "      <td>NaN</td>\n",
       "      <td>COM</td>\n",
       "    </tr>\n",
       "    <tr>\n",
       "      <th>IE</th>\n",
       "      <td>NaN</td>\n",
       "      <td>COM</td>\n",
       "    </tr>\n",
       "    <tr>\n",
       "      <th>IE</th>\n",
       "      <td>NaN</td>\n",
       "      <td>COM</td>\n",
       "    </tr>\n",
       "    <tr>\n",
       "      <th>IE</th>\n",
       "      <td>NaN</td>\n",
       "      <td>COM</td>\n",
       "    </tr>\n",
       "    <tr>\n",
       "      <th>IE</th>\n",
       "      <td>NaN</td>\n",
       "      <td>COM</td>\n",
       "    </tr>\n",
       "    <tr>\n",
       "      <th>IE</th>\n",
       "      <td>NaN</td>\n",
       "      <td>COM</td>\n",
       "    </tr>\n",
       "    <tr>\n",
       "      <th>IE</th>\n",
       "      <td>NaN</td>\n",
       "      <td>COM</td>\n",
       "    </tr>\n",
       "    <tr>\n",
       "      <th>IE</th>\n",
       "      <td>3600.0</td>\n",
       "      <td>MOD</td>\n",
       "    </tr>\n",
       "    <tr>\n",
       "      <th>IE</th>\n",
       "      <td>58500.0</td>\n",
       "      <td>COM</td>\n",
       "    </tr>\n",
       "    <tr>\n",
       "      <th>IE</th>\n",
       "      <td>0.0</td>\n",
       "      <td>AZ</td>\n",
       "    </tr>\n",
       "    <tr>\n",
       "      <th>IE</th>\n",
       "      <td>NaN</td>\n",
       "      <td>COM</td>\n",
       "    </tr>\n",
       "    <tr>\n",
       "      <th>IE</th>\n",
       "      <td>NaN</td>\n",
       "      <td>AZ</td>\n",
       "    </tr>\n",
       "    <tr>\n",
       "      <th>IE</th>\n",
       "      <td>NaN</td>\n",
       "      <td>MOD</td>\n",
       "    </tr>\n",
       "    <tr>\n",
       "      <th>IE</th>\n",
       "      <td>NaN</td>\n",
       "      <td>AZ</td>\n",
       "    </tr>\n",
       "    <tr>\n",
       "      <th>IE</th>\n",
       "      <td>NaN</td>\n",
       "      <td>MOD</td>\n",
       "    </tr>\n",
       "    <tr>\n",
       "      <th>IE</th>\n",
       "      <td>NaN</td>\n",
       "      <td>COM</td>\n",
       "    </tr>\n",
       "    <tr>\n",
       "      <th>IE</th>\n",
       "      <td>NaN</td>\n",
       "      <td>MOD</td>\n",
       "    </tr>\n",
       "    <tr>\n",
       "      <th>IE</th>\n",
       "      <td>NaN</td>\n",
       "      <td>COM</td>\n",
       "    </tr>\n",
       "    <tr>\n",
       "      <th>IE</th>\n",
       "      <td>NaN</td>\n",
       "      <td>AZ</td>\n",
       "    </tr>\n",
       "    <tr>\n",
       "      <th>IE</th>\n",
       "      <td>NaN</td>\n",
       "      <td>AZ</td>\n",
       "    </tr>\n",
       "    <tr>\n",
       "      <th>IE</th>\n",
       "      <td>NaN</td>\n",
       "      <td>COM</td>\n",
       "    </tr>\n",
       "    <tr>\n",
       "      <th>IE</th>\n",
       "      <td>NaN</td>\n",
       "      <td>MOD</td>\n",
       "    </tr>\n",
       "    <tr>\n",
       "      <th>IE</th>\n",
       "      <td>NaN</td>\n",
       "      <td>AZ</td>\n",
       "    </tr>\n",
       "    <tr>\n",
       "      <th>IE</th>\n",
       "      <td>NaN</td>\n",
       "      <td>MOD</td>\n",
       "    </tr>\n",
       "    <tr>\n",
       "      <th>IE</th>\n",
       "      <td>NaN</td>\n",
       "      <td>COM</td>\n",
       "    </tr>\n",
       "    <tr>\n",
       "      <th>IE</th>\n",
       "      <td>NaN</td>\n",
       "      <td>AZ</td>\n",
       "    </tr>\n",
       "    <tr>\n",
       "      <th>IE</th>\n",
       "      <td>NaN</td>\n",
       "      <td>COM</td>\n",
       "    </tr>\n",
       "    <tr>\n",
       "      <th>IE</th>\n",
       "      <td>NaN</td>\n",
       "      <td>MOD</td>\n",
       "    </tr>\n",
       "    <tr>\n",
       "      <th>IE</th>\n",
       "      <td>NaN</td>\n",
       "      <td>AZ</td>\n",
       "    </tr>\n",
       "    <tr>\n",
       "      <th>IE</th>\n",
       "      <td>NaN</td>\n",
       "      <td>COM</td>\n",
       "    </tr>\n",
       "    <tr>\n",
       "      <th>IE</th>\n",
       "      <td>NaN</td>\n",
       "      <td>MOD</td>\n",
       "    </tr>\n",
       "    <tr>\n",
       "      <th>IE</th>\n",
       "      <td>NaN</td>\n",
       "      <td>AZ</td>\n",
       "    </tr>\n",
       "    <tr>\n",
       "      <th>IE</th>\n",
       "      <td>NaN</td>\n",
       "      <td>COM</td>\n",
       "    </tr>\n",
       "    <tr>\n",
       "      <th>IE</th>\n",
       "      <td>NaN</td>\n",
       "      <td>MOD</td>\n",
       "    </tr>\n",
       "    <tr>\n",
       "      <th>IE</th>\n",
       "      <td>NaN</td>\n",
       "      <td>COM</td>\n",
       "    </tr>\n",
       "    <tr>\n",
       "      <th>IE</th>\n",
       "      <td>NaN</td>\n",
       "      <td>MOD</td>\n",
       "    </tr>\n",
       "    <tr>\n",
       "      <th>IE</th>\n",
       "      <td>NaN</td>\n",
       "      <td>AZ</td>\n",
       "    </tr>\n",
       "    <tr>\n",
       "      <th>IE</th>\n",
       "      <td>0.0</td>\n",
       "      <td>MOD</td>\n",
       "    </tr>\n",
       "    <tr>\n",
       "      <th>IE</th>\n",
       "      <td>24570.0</td>\n",
       "      <td>COM</td>\n",
       "    </tr>\n",
       "    <tr>\n",
       "      <th>IE</th>\n",
       "      <td>NaN</td>\n",
       "      <td>COM</td>\n",
       "    </tr>\n",
       "    <tr>\n",
       "      <th>IE</th>\n",
       "      <td>NaN</td>\n",
       "      <td>MOD</td>\n",
       "    </tr>\n",
       "  </tbody>\n",
       "</table>\n",
       "</div>"
      ],
      "text/plain": [
       "                  NumberDosesReceived Vaccine\n",
       "ReportingCountry                             \n",
       "IE                             9750.0     COM\n",
       "IE                            31200.0     COM\n",
       "IE                                NaN     COM\n",
       "IE                                NaN     COM\n",
       "IE                                NaN     COM\n",
       "IE                                NaN     COM\n",
       "IE                                NaN     COM\n",
       "IE                                NaN     COM\n",
       "IE                                NaN     COM\n",
       "IE                                NaN     COM\n",
       "IE                                NaN     COM\n",
       "IE                            40950.0     COM\n",
       "IE                                NaN     COM\n",
       "IE                                NaN     COM\n",
       "IE                                NaN     COM\n",
       "IE                                NaN     COM\n",
       "IE                                NaN     COM\n",
       "IE                                NaN     COM\n",
       "IE                                NaN     COM\n",
       "IE                                NaN     COM\n",
       "IE                                NaN     COM\n",
       "IE                             3600.0     MOD\n",
       "IE                            58500.0     COM\n",
       "IE                                0.0      AZ\n",
       "IE                                NaN     COM\n",
       "IE                                NaN      AZ\n",
       "IE                                NaN     MOD\n",
       "IE                                NaN      AZ\n",
       "IE                                NaN     MOD\n",
       "IE                                NaN     COM\n",
       "IE                                NaN     MOD\n",
       "IE                                NaN     COM\n",
       "IE                                NaN      AZ\n",
       "IE                                NaN      AZ\n",
       "IE                                NaN     COM\n",
       "IE                                NaN     MOD\n",
       "IE                                NaN      AZ\n",
       "IE                                NaN     MOD\n",
       "IE                                NaN     COM\n",
       "IE                                NaN      AZ\n",
       "IE                                NaN     COM\n",
       "IE                                NaN     MOD\n",
       "IE                                NaN      AZ\n",
       "IE                                NaN     COM\n",
       "IE                                NaN     MOD\n",
       "IE                                NaN      AZ\n",
       "IE                                NaN     COM\n",
       "IE                                NaN     MOD\n",
       "IE                                NaN     COM\n",
       "IE                                NaN     MOD\n",
       "IE                                NaN      AZ\n",
       "IE                                0.0     MOD\n",
       "IE                            24570.0     COM\n",
       "IE                                NaN     COM\n",
       "IE                                NaN     MOD"
      ]
     },
     "execution_count": 200,
     "metadata": {},
     "output_type": "execute_result"
    }
   ],
   "source": [
    "new_df_vac.head(55)"
   ]
  },
  {
   "cell_type": "markdown",
   "metadata": {},
   "source": [
    "## SAQ 4: Slippery Question!\n",
    "Inport the data for Dublin Airport and plot the December Rainfall from 1951 to 1981 in 5 year intervals"
   ]
  },
  {
   "cell_type": "code",
   "execution_count": null,
   "metadata": {},
   "outputs": [],
   "source": [
    "# load a new set of data for Blaksod\n",
    "black_df # No need for a directory path if in the same directory, index_col = 'Year'\n",
    "df = pd.read_csv(\"/Users/morgan/Documents/Courses/Python/MyModules/DublinAirportClean.csv\",index_col = 'Year')"
   ]
  },
  {
   "cell_type": "markdown",
   "metadata": {},
   "source": [
    "**Phew!** <div>\n",
    "<img src=\"images/the_end.png\" alt=\"The End\" width=\"300\" align=\"center\"/></div>"
   ]
  },
  {
   "cell_type": "code",
   "execution_count": null,
   "metadata": {},
   "outputs": [],
   "source": []
  }
 ],
 "metadata": {
  "hide_input": false,
  "kernelspec": {
   "display_name": "Python 3",
   "language": "python",
   "name": "python3"
  },
  "language_info": {
   "codemirror_mode": {
    "name": "ipython",
    "version": 3
   },
   "file_extension": ".py",
   "mimetype": "text/x-python",
   "name": "python",
   "nbconvert_exporter": "python",
   "pygments_lexer": "ipython3",
   "version": "3.7.6"
  },
  "toc": {
   "base_numbering": 1,
   "nav_menu": {},
   "number_sections": true,
   "sideBar": true,
   "skip_h1_title": false,
   "title_cell": "Table of Contents",
   "title_sidebar": "Contents",
   "toc_cell": false,
   "toc_position": {
    "height": "calc(100% - 180px)",
    "left": "10px",
    "top": "150px",
    "width": "287.390625px"
   },
   "toc_section_display": true,
   "toc_window_display": false
  }
 },
 "nbformat": 4,
 "nbformat_minor": 4
}
