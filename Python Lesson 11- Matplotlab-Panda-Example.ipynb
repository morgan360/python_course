{
 "cells": [
  {
   "cell_type": "markdown",
   "metadata": {},
   "source": [
    "version 1.2"
   ]
  },
  {
   "cell_type": "markdown",
   "metadata": {},
   "source": [
    "# Data Analysis using Pandas and Matplotlib\n",
    "\n",
    "A good source of data sets https://data.gov.ie/ <br>\n",
    "Met Eireann Historical data available:<br>\n",
    "\n",
    "https://www.met.ie/climate/available-data/long-term-data-sets\n",
    "\n",
    "In this lesson we are going to import historical data from Met eireann and analyise it using Panda's and plot the results using Matplotlib.\n",
    "\n"
   ]
  },
  {
   "cell_type": "code",
   "execution_count": null,
   "metadata": {},
   "outputs": [],
   "source": [
    "# import the list of stations\n",
    "import pandas as pd\n",
    "# Plot Library\n",
    "from matplotlib import pyplot as plt\n",
    "import numpy as np"
   ]
  },
  {
   "cell_type": "markdown",
   "metadata": {},
   "source": [
    "## Import the CSV and Print Dataframe"
   ]
  },
  {
   "cell_type": "code",
   "execution_count": null,
   "metadata": {},
   "outputs": [],
   "source": [
    "# No need for a directory path if in the same directory\n",
    "df = pd.read_csv(\"/Users/morgan/Documents/Courses/Python/MyModules/DublinAirportClean.csv\")"
   ]
  },
  {
   "cell_type": "code",
   "execution_count": null,
   "metadata": {
    "scrolled": true
   },
   "outputs": [],
   "source": [
    "print(df)"
   ]
  },
  {
   "cell_type": "code",
   "execution_count": null,
   "metadata": {},
   "outputs": [],
   "source": [
    "df.columns"
   ]
  },
  {
   "cell_type": "code",
   "execution_count": null,
   "metadata": {
    "scrolled": true
   },
   "outputs": [],
   "source": [
    "df"
   ]
  },
  {
   "cell_type": "markdown",
   "metadata": {},
   "source": [
    "## Changing the Index"
   ]
  },
  {
   "cell_type": "code",
   "execution_count": null,
   "metadata": {},
   "outputs": [],
   "source": [
    "# Make the Year the index value permanently\n",
    "df.set_index('Year', inplace = True)\n",
    "#df.reset_index(inplace = True)"
   ]
  },
  {
   "cell_type": "code",
   "execution_count": null,
   "metadata": {},
   "outputs": [],
   "source": [
    "df"
   ]
  },
  {
   "cell_type": "code",
   "execution_count": null,
   "metadata": {},
   "outputs": [],
   "source": [
    "# df.loc[2009]\n",
    "df.loc[2009, 'Mar']"
   ]
  },
  {
   "cell_type": "code",
   "execution_count": null,
   "metadata": {
    "scrolled": true
   },
   "outputs": [],
   "source": [
    "# Output the year values( )\n",
    "df.index\n"
   ]
  },
  {
   "cell_type": "code",
   "execution_count": null,
   "metadata": {
    "scrolled": false
   },
   "outputs": [],
   "source": [
    "## Using iloc\n",
    "df['Jan']\n",
    "rain_y = df.iloc[5]\n",
    "print(rain_y)"
   ]
  },
  {
   "cell_type": "code",
   "execution_count": null,
   "metadata": {
    "scrolled": true
   },
   "outputs": [],
   "source": [
    "#Simple Plot\n",
    "plt.rcParams['figure.figsize'] = [8, 5]# set the size of your graph\n",
    "plt.style.use('Solarize_Light2') # style\n",
    "plt.plot(df.index,df.Jan)\n",
    "plt.plot(df.index,df.Aug)"
   ]
  },
  {
   "cell_type": "markdown",
   "metadata": {},
   "source": [
    "## Create a filter\n",
    "Our objective is to print out a bar chart that prints out the rain values for January, August and November at five or ten year intervals."
   ]
  },
  {
   "cell_type": "code",
   "execution_count": null,
   "metadata": {},
   "outputs": [],
   "source": [
    "# Create a list with a fewer number of years\n",
    "nums = range(1850,2010,10)\n",
    "my_list = []\n",
    "for n in nums:\n",
    "    my_list.append(n)\n",
    "print(my_list)"
   ]
  },
  {
   "cell_type": "code",
   "execution_count": null,
   "metadata": {},
   "outputs": [],
   "source": [
    "# Filter out the data for those years\n",
    "filt = df.index.isin(my_list)\n",
    "print(filt)"
   ]
  },
  {
   "cell_type": "code",
   "execution_count": null,
   "metadata": {
    "scrolled": false
   },
   "outputs": [],
   "source": [
    "x_values = df.loc[filt, 'Aug']\n",
    "print(x_values)"
   ]
  },
  {
   "cell_type": "markdown",
   "metadata": {},
   "source": [
    "## Create a new dataframe with the information that we want\n"
   ]
  },
  {
   "cell_type": "code",
   "execution_count": null,
   "metadata": {
    "scrolled": true
   },
   "outputs": [],
   "source": [
    "# Create a new DataFrame with the data we want\n",
    "newDF = df.loc[filt, ['Jan', 'Aug', 'Nov']]\n",
    "print(newDF)"
   ]
  },
  {
   "cell_type": "code",
   "execution_count": null,
   "metadata": {},
   "outputs": [],
   "source": [
    "# Print our new plot\n",
    "plt.plot(newDF.index,newDF.Jan)\n",
    "plt.plot(newDF.index,newDF.Aug)\n",
    "plt.plot(newDF.index,newDF.Nov)"
   ]
  },
  {
   "cell_type": "code",
   "execution_count": null,
   "metadata": {
    "scrolled": true
   },
   "outputs": [],
   "source": [
    "# Change to a bar plot\n",
    "plt.bar(newDF.index,newDF.Jan)\n",
    "plt.bar(newDF.index,newDF.Aug)\n",
    "plt.bar(newDF.index,newDF.Nov)\n",
    "\n",
    "\n",
    "\n"
   ]
  },
  {
   "cell_type": "markdown",
   "metadata": {},
   "source": [
    "## Hmmm...\n",
    "Let us try to sort out this mess..."
   ]
  },
  {
   "cell_type": "code",
   "execution_count": null,
   "metadata": {},
   "outputs": [],
   "source": [
    "plt.style.use('Solarize_Light2')\n",
    "plt.rcParams['figure.figsize'] = [14, 6]\n",
    "width = 2.00\n",
    "offset = 2.00\n",
    "plt.bar(newDF.index - offset, newDF.Jan, width = width, label = 'January Rain')\n",
    "plt.bar(newDF.index ,  newDF.Aug, width = width, color = 'k', label = 'August Rain')\n",
    "plt.bar(newDF.index + offset, newDF.Nov, width = width, label = 'November Rain')\n",
    "\n",
    "\n",
    "plt.title('Rain- Dublin Airport(1860-2010)')\n",
    "plt.xlabel('Year')\n",
    "plt.ylabel('Rain mm')\n",
    "plt.grid(True)\n",
    "plt.legend()"
   ]
  },
  {
   "cell_type": "markdown",
   "metadata": {},
   "source": [
    "# Statistical Analysis"
   ]
  },
  {
   "cell_type": "markdown",
   "metadata": {},
   "source": [
    "## Simple Stats"
   ]
  },
  {
   "cell_type": "code",
   "execution_count": null,
   "metadata": {},
   "outputs": [],
   "source": [
    "# Mean and Median\n",
    "print(df['Jan'].mean())\n",
    "\n",
    "newDF['Jan'].mean()"
   ]
  },
  {
   "cell_type": "code",
   "execution_count": null,
   "metadata": {
    "scrolled": true
   },
   "outputs": [],
   "source": [
    "# Statistic on all of the dataframe\n",
    "df.mean()"
   ]
  },
  {
   "cell_type": "code",
   "execution_count": null,
   "metadata": {
    "scrolled": true
   },
   "outputs": [],
   "source": [
    "# General Statistics\n",
    "df.describe()"
   ]
  },
  {
   "cell_type": "markdown",
   "metadata": {},
   "source": [
    "## Grouping Data\n",
    "When grouping data it is a three phase process. Split, apply a function, recombine."
   ]
  },
  {
   "cell_type": "code",
   "execution_count": null,
   "metadata": {
    "scrolled": true
   },
   "outputs": [],
   "source": [
    "# load a new set of data for Killarney\n",
    "kill_df = pd.read_csv(\"/Users/morgan/Documents/Courses/Python/MyModules/Killarney_1881-1933.csv\")\n",
    "kill_df"
   ]
  },
  {
   "cell_type": "code",
   "execution_count": null,
   "metadata": {
    "scrolled": true
   },
   "outputs": [],
   "source": [
    "kill_df.shape"
   ]
  },
  {
   "cell_type": "code",
   "execution_count": null,
   "metadata": {},
   "outputs": [],
   "source": [
    "year_group = kill_df.groupby(['Year'])\n",
    "print(kill_df[\"Max (F)\"])"
   ]
  },
  {
   "cell_type": "code",
   "execution_count": null,
   "metadata": {},
   "outputs": [],
   "source": [
    "year_group.get_group(1933)"
   ]
  },
  {
   "cell_type": "code",
   "execution_count": null,
   "metadata": {},
   "outputs": [],
   "source": [
    "# Same as filter \n",
    "filt = kill_df['Year']== 1933\n",
    "kill_df.loc[filt]"
   ]
  },
  {
   "cell_type": "code",
   "execution_count": null,
   "metadata": {},
   "outputs": [],
   "source": [
    "kill_df.loc[filt,['Min (C)']].min()"
   ]
  },
  {
   "cell_type": "code",
   "execution_count": 65,
   "metadata": {
    "scrolled": true
   },
   "outputs": [
    {
     "data": {
      "text/plain": [
       "Year\n",
       "1881    -7.4\n",
       "1882   -11.4\n",
       "1883    -7.3\n",
       "1884    -6.6\n",
       "1885    -7.1\n",
       "1886    -9.3\n",
       "1887    -7.8\n",
       "1888    -8.4\n",
       "1889    -5.3\n",
       "1890    -8.3\n",
       "1891    -8.4\n",
       "1892    -9.7\n",
       "1893    -6.2\n",
       "1894   -10.4\n",
       "1895    -9.7\n",
       "1896    -7.2\n",
       "1897    -7.2\n",
       "1898    -5.8\n",
       "1899     NaN\n",
       "1900     NaN\n",
       "1901     NaN\n",
       "1902     NaN\n",
       "1903     NaN\n",
       "1904     NaN\n",
       "1905     NaN\n",
       "1906     NaN\n",
       "1907     NaN\n",
       "1908     NaN\n",
       "1909     NaN\n",
       "1910     NaN\n",
       "1911     NaN\n",
       "1912     NaN\n",
       "1913     NaN\n",
       "1914     NaN\n",
       "1915     NaN\n",
       "1916     NaN\n",
       "1917     NaN\n",
       "1918     NaN\n",
       "1919     NaN\n",
       "1920    -6.1\n",
       "1921    -3.6\n",
       "1922    -3.9\n",
       "1923    -5.0\n",
       "1924    -5.0\n",
       "1925    -4.4\n",
       "1926    -5.0\n",
       "1927    -3.9\n",
       "1928    -4.4\n",
       "1929    -5.8\n",
       "1930    -3.9\n",
       "1931    -5.6\n",
       "1932    -3.9\n",
       "1933    -5.6\n",
       "Name: Min (C), dtype: float64"
      ]
     },
     "execution_count": 65,
     "metadata": {},
     "output_type": "execute_result"
    }
   ],
   "source": [
    "#Get the lowest temp for each year from 1881\n",
    "year_group['Min (C)'].min()"
   ]
  },
  {
   "cell_type": "code",
   "execution_count": 67,
   "metadata": {},
   "outputs": [],
   "source": [
    "# load a new set of data for Killarney\n",
    "black_df = pd.read_csv(\"/Users/morgan/Documents/Courses/Python/MyModules/blacksod2.csv\")"
   ]
  },
  {
   "cell_type": "code",
   "execution_count": 68,
   "metadata": {},
   "outputs": [
    {
     "data": {
      "text/html": [
       "<div>\n",
       "<style scoped>\n",
       "    .dataframe tbody tr th:only-of-type {\n",
       "        vertical-align: middle;\n",
       "    }\n",
       "\n",
       "    .dataframe tbody tr th {\n",
       "        vertical-align: top;\n",
       "    }\n",
       "\n",
       "    .dataframe thead th {\n",
       "        text-align: right;\n",
       "    }\n",
       "</style>\n",
       "<table border=\"1\" class=\"dataframe\">\n",
       "  <thead>\n",
       "    <tr style=\"text-align: right;\">\n",
       "      <th></th>\n",
       "      <th>year</th>\n",
       "      <th>month</th>\n",
       "      <th>ind</th>\n",
       "      <th>rain</th>\n",
       "      <th>gdf</th>\n",
       "      <th>rd</th>\n",
       "      <th>wd</th>\n",
       "    </tr>\n",
       "  </thead>\n",
       "  <tbody>\n",
       "    <tr>\n",
       "      <th>0</th>\n",
       "      <td>1941</td>\n",
       "      <td>1</td>\n",
       "      <td>0</td>\n",
       "      <td>52.3</td>\n",
       "      <td>7.3</td>\n",
       "      <td>21</td>\n",
       "      <td>18</td>\n",
       "    </tr>\n",
       "    <tr>\n",
       "      <th>1</th>\n",
       "      <td>1941</td>\n",
       "      <td>2</td>\n",
       "      <td>0</td>\n",
       "      <td>115.0</td>\n",
       "      <td>16.5</td>\n",
       "      <td>25</td>\n",
       "      <td>18</td>\n",
       "    </tr>\n",
       "    <tr>\n",
       "      <th>2</th>\n",
       "      <td>1941</td>\n",
       "      <td>3</td>\n",
       "      <td>0</td>\n",
       "      <td>74.9</td>\n",
       "      <td>9.6</td>\n",
       "      <td>17</td>\n",
       "      <td>17</td>\n",
       "    </tr>\n",
       "    <tr>\n",
       "      <th>3</th>\n",
       "      <td>1941</td>\n",
       "      <td>4</td>\n",
       "      <td>0</td>\n",
       "      <td>32.2</td>\n",
       "      <td>7.7</td>\n",
       "      <td>14</td>\n",
       "      <td>10</td>\n",
       "    </tr>\n",
       "    <tr>\n",
       "      <th>4</th>\n",
       "      <td>1941</td>\n",
       "      <td>5</td>\n",
       "      <td>0</td>\n",
       "      <td>37.5</td>\n",
       "      <td>8.5</td>\n",
       "      <td>14</td>\n",
       "      <td>12</td>\n",
       "    </tr>\n",
       "    <tr>\n",
       "      <th>...</th>\n",
       "      <td>...</td>\n",
       "      <td>...</td>\n",
       "      <td>...</td>\n",
       "      <td>...</td>\n",
       "      <td>...</td>\n",
       "      <td>...</td>\n",
       "      <td>...</td>\n",
       "    </tr>\n",
       "    <tr>\n",
       "      <th>184</th>\n",
       "      <td>1956</td>\n",
       "      <td>5</td>\n",
       "      <td>0</td>\n",
       "      <td>109.7</td>\n",
       "      <td>27.1</td>\n",
       "      <td>23</td>\n",
       "      <td>13</td>\n",
       "    </tr>\n",
       "    <tr>\n",
       "      <th>185</th>\n",
       "      <td>1956</td>\n",
       "      <td>6</td>\n",
       "      <td>0</td>\n",
       "      <td>89.0</td>\n",
       "      <td>17.8</td>\n",
       "      <td>24</td>\n",
       "      <td>15</td>\n",
       "    </tr>\n",
       "    <tr>\n",
       "      <th>186</th>\n",
       "      <td>1956</td>\n",
       "      <td>7</td>\n",
       "      <td>0</td>\n",
       "      <td>119.8</td>\n",
       "      <td>21.6</td>\n",
       "      <td>23</td>\n",
       "      <td>15</td>\n",
       "    </tr>\n",
       "    <tr>\n",
       "      <th>187</th>\n",
       "      <td>1956</td>\n",
       "      <td>8</td>\n",
       "      <td>0</td>\n",
       "      <td>116.2</td>\n",
       "      <td>16.5</td>\n",
       "      <td>27</td>\n",
       "      <td>22</td>\n",
       "    </tr>\n",
       "    <tr>\n",
       "      <th>188</th>\n",
       "      <td>1956</td>\n",
       "      <td>9</td>\n",
       "      <td>0</td>\n",
       "      <td>95.2</td>\n",
       "      <td>16.5</td>\n",
       "      <td>24</td>\n",
       "      <td>20</td>\n",
       "    </tr>\n",
       "  </tbody>\n",
       "</table>\n",
       "<p>189 rows × 7 columns</p>\n",
       "</div>"
      ],
      "text/plain": [
       "     year  month  ind   rain   gdf  rd  wd\n",
       "0    1941      1    0   52.3   7.3  21  18\n",
       "1    1941      2    0  115.0  16.5  25  18\n",
       "2    1941      3    0   74.9   9.6  17  17\n",
       "3    1941      4    0   32.2   7.7  14  10\n",
       "4    1941      5    0   37.5   8.5  14  12\n",
       "..    ...    ...  ...    ...   ...  ..  ..\n",
       "184  1956      5    0  109.7  27.1  23  13\n",
       "185  1956      6    0   89.0  17.8  24  15\n",
       "186  1956      7    0  119.8  21.6  23  15\n",
       "187  1956      8    0  116.2  16.5  27  22\n",
       "188  1956      9    0   95.2  16.5  24  20\n",
       "\n",
       "[189 rows x 7 columns]"
      ]
     },
     "execution_count": 68,
     "metadata": {},
     "output_type": "execute_result"
    }
   ],
   "source": [
    "black_df"
   ]
  },
  {
   "cell_type": "markdown",
   "metadata": {},
   "source": [
    "# Widgets"
   ]
  },
  {
   "cell_type": "markdown",
   "metadata": {},
   "source": [
    "## SAQ 1\n",
    "Go to Met Eireann and download a set of data which is suitable for grouping. Import the csv file and group the data."
   ]
  },
  {
   "cell_type": "code",
   "execution_count": 69,
   "metadata": {},
   "outputs": [],
   "source": [
    "# The widgets library\n",
    "import ipywidgets as widgets\n",
    "from ipywidgets import interactive\n",
    "from ipywidgets import interact\n",
    "\n",
    "# Define a function\n",
    "def f(x):\n",
    "    return x"
   ]
  },
  {
   "cell_type": "code",
   "execution_count": 70,
   "metadata": {
    "scrolled": true
   },
   "outputs": [
    {
     "data": {
      "application/vnd.jupyter.widget-view+json": {
       "model_id": "3a4ad8abe6e24e15a59018afe2cf4237",
       "version_major": 2,
       "version_minor": 0
      },
      "text/plain": [
       "interactive(children=(IntSlider(value=10, description='x', max=30, min=-10), Output()), _dom_classes=('widget-…"
      ]
     },
     "metadata": {},
     "output_type": "display_data"
    }
   ],
   "source": [
    " #When you move the slider, the function is called, and its return value is printed.\n",
    "interact(f, x=10);"
   ]
  },
  {
   "cell_type": "code",
   "execution_count": 71,
   "metadata": {},
   "outputs": [
    {
     "data": {
      "application/vnd.jupyter.widget-view+json": {
       "model_id": "929b18d1311946bab22f6ef7f8b42ea4",
       "version_major": 2,
       "version_minor": 0
      },
      "text/plain": [
       "IntSlider(value=90)"
      ]
     },
     "metadata": {},
     "output_type": "display_data"
    }
   ],
   "source": [
    "\n",
    "x=90\n",
    "widgets.IntSlider(x)"
   ]
  },
  {
   "cell_type": "code",
   "execution_count": 77,
   "metadata": {},
   "outputs": [
    {
     "data": {
      "application/vnd.jupyter.widget-view+json": {
       "model_id": "b6ffe748efe1438bb5d96f182572987d",
       "version_major": 2,
       "version_minor": 0
      },
      "text/plain": [
       "interactive(children=(FloatSlider(value=0.0, description='m', max=2.0, min=-2.0), FloatSlider(value=0.0, descr…"
      ]
     },
     "metadata": {},
     "output_type": "display_data"
    }
   ],
   "source": [
    "%matplotlib inline\n",
    "from ipywidgets import interactive\n",
    "import matplotlib.pyplot as plt\n",
    "import numpy as np\n",
    "plt.style.use('Solarize_Light2')\n",
    "plt.rcParams['figure.figsize'] = [14, 7]\n",
    "\n",
    "def f(m, c):\n",
    "    plt.figure(2)\n",
    "    x = np.linspace(-10, 10, num=1000)\n",
    "    plt.plot(x, m * x**2 + 3*x + c)\n",
    "    plt.ylim(-5, 5)\n",
    "    plt.show()\n",
    "\n",
    "interactive_plot = interactive(f, m=(-2.0, 2.0), c=(-3, 3, 0.5))\n",
    "output = interactive_plot.children[-1]\n",
    "output.layout.height = '450px'\n",
    "interactive_plot"
   ]
  },
  {
   "cell_type": "code",
   "execution_count": null,
   "metadata": {},
   "outputs": [],
   "source": []
  },
  {
   "cell_type": "markdown",
   "metadata": {},
   "source": [
    "# Appendix"
   ]
  },
  {
   "cell_type": "markdown",
   "metadata": {},
   "source": [
    "## Clunky Graph Solution"
   ]
  },
  {
   "cell_type": "code",
   "execution_count": null,
   "metadata": {},
   "outputs": [],
   "source": [
    "jan_rain = df.loc[filt, ['Jan']]\n",
    "aug_rain = df.loc[filt, ['Aug']]\n",
    "nov_rain = df.loc[filt, ['Nov']]"
   ]
  },
  {
   "cell_type": "code",
   "execution_count": null,
   "metadata": {},
   "outputs": [],
   "source": [
    "year = df.loc[filt, ['Jan']]\n",
    "print(year)"
   ]
  },
  {
   "cell_type": "code",
   "execution_count": null,
   "metadata": {},
   "outputs": [],
   "source": [
    "list_jan = jan_rain['Jan'].to_list()\n",
    "list_aug = aug_rain['Aug'].to_list()\n",
    "list_nov = nov_rain['Nov'].to_list()\n",
    "\n",
    "data= {\n",
    "      'Jan_rain': list_jan,\n",
    "      'Aug_rain': list_aug,\n",
    "      'Nov_rain': list_nov\n",
    "      }\n",
    "df_new = pd.DataFrame([filt],data)\n",
    "df_new\n",
    "#print(jan_rain['Jan'].to_list())\n",
    "# print(jan_rain)"
   ]
  },
  {
   "cell_type": "code",
   "execution_count": null,
   "metadata": {
    "scrolled": true
   },
   "outputs": [],
   "source": [
    "print(nov_rain)"
   ]
  },
  {
   "cell_type": "code",
   "execution_count": null,
   "metadata": {},
   "outputs": [],
   "source": [
    "# Set the size of the plot\n",
    "plt.rcParams['figure.figsize'] = [10, 6]\n",
    "\n",
    "plt.bar(df_new['Year'],df_new.Jan_rain)\n",
    "plt.bar(df_new['Year'],df_new.Aug_rain)\n",
    "\n",
    "\n"
   ]
  },
  {
   "cell_type": "code",
   "execution_count": null,
   "metadata": {
    "scrolled": true
   },
   "outputs": [],
   "source": [
    "# Set the size of the plot\n",
    "plt.rcParams['figure.figsize'] = [14, 6]\n",
    "\n",
    "#Get a list of the years that we want\n",
    "nums = range(1860,2010,10)\n",
    "years = []\n",
    "for n in nums:\n",
    "    years.append(n)   \n",
    "\n",
    "    # Use the values in years to filter our datframe    \n",
    "filt = df['Year'].isin(years)\n",
    "\n",
    "year = df.loc[filt, ['Year']]\n",
    "# Get the values for the relevant months as a series\n",
    "jan_rain = df.loc[filt, ['Jan']]\n",
    "aug_rain = df.loc[filt, ['Aug']]\n",
    "nov_rain = df.loc[filt, ['Nov']]\n",
    "\n",
    "#Convert series to a list\n",
    "list_jan = jan_rain['Jan'].to_list()\n",
    "list_aug = aug_rain['Aug'].to_list()\n",
    "list_nov = nov_rain['Nov'].to_list()\n",
    "\n",
    "data= {'Year': years,\n",
    "      'Jan_rain': list_jan,\n",
    "      'Aug_rain': list_aug,\n",
    "      'Nov_rain': list_nov\n",
    "      }\n",
    "df_new = pd.DataFrame(data)\n",
    "print(df_new)\n",
    "\n",
    "# x_indices = np.arange(len(month))\n",
    "width = 1.85"
   ]
  },
  {
   "cell_type": "code",
   "execution_count": null,
   "metadata": {},
   "outputs": [],
   "source": [
    "plt.style.use('Solarize_Light2')\n",
    "\n",
    "plt.bar(df_new['Year'] - width, df_new.Jan_rain, width = width, label = 'January Rain')\n",
    "plt.bar(df_new['Year'] ,  df_new.Aug_rain, width = width, color = 'k', label = 'August Rain')\n",
    "plt.bar(df_new['Year'] + width, df_new.Nov_rain, width = width, label = 'November Rain')\n",
    "\n",
    "\n",
    "plt.title('Rain- Dublin Airport(1860-2010)')\n",
    "plt.xlabel('Year')\n",
    "plt.ylabel('Rain mm')\n",
    "plt.grid(True)\n",
    "plt.legend()"
   ]
  }
 ],
 "metadata": {
  "hide_input": false,
  "kernelspec": {
   "display_name": "Python 3",
   "language": "python",
   "name": "python3"
  },
  "language_info": {
   "codemirror_mode": {
    "name": "ipython",
    "version": 3
   },
   "file_extension": ".py",
   "mimetype": "text/x-python",
   "name": "python",
   "nbconvert_exporter": "python",
   "pygments_lexer": "ipython3",
   "version": "3.7.6"
  },
  "toc": {
   "base_numbering": 1,
   "nav_menu": {},
   "number_sections": true,
   "sideBar": true,
   "skip_h1_title": false,
   "title_cell": "Table of Contents",
   "title_sidebar": "Contents",
   "toc_cell": false,
   "toc_position": {
    "height": "calc(100% - 180px)",
    "left": "10px",
    "top": "150px",
    "width": "287.390625px"
   },
   "toc_section_display": true,
   "toc_window_display": false
  }
 },
 "nbformat": 4,
 "nbformat_minor": 4
}
