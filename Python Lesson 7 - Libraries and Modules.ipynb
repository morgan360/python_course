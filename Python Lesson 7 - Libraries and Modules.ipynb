{
 "cells": [
  {
   "cell_type": "markdown",
   "metadata": {},
   "source": [
    "version 2.0 Morgan McKnight"
   ]
  },
  {
   "cell_type": "markdown",
   "metadata": {},
   "source": [
    "# Lesson 7 - Libraries and Modules\n",
    "\n",
    "When we import a module it creates all  the functions and variables and runs any statements such as print. You must save it as a py file and for our purposes we will store it in the same directory.\n",
    "\n",
    "\n",
    "<img src=\"images/Python-Libraries.jpeg\" alt=\"Libraries\" width=\"400\"/>\n",
    "<br>"
   ]
  },
  {
   "cell_type": "code",
   "execution_count": 1,
   "metadata": {
    "scrolled": true
   },
   "outputs": [
    {
     "name": "stdout",
     "output_type": "stream",
     "text": [
      "This module has a function to get the index of a list\n"
     ]
    }
   ],
   "source": [
    "import sys\n",
    "sys.path.append('/Users/morgan/Documents/Courses/Python/MyModules')\n",
    "\n",
    "import morgans_module2 as mm\n",
    "# import morgan_math \n",
    "# import random"
   ]
  },
  {
   "cell_type": "code",
   "execution_count": 2,
   "metadata": {},
   "outputs": [
    {
     "name": "stdout",
     "output_type": "stream",
     "text": [
      "Test String variable\n"
     ]
    }
   ],
   "source": [
    "print(mm.test)"
   ]
  },
  {
   "cell_type": "code",
   "execution_count": 4,
   "metadata": {},
   "outputs": [],
   "source": [
    "courses = ['History','Math', 'Physics', 'Irish']"
   ]
  },
  {
   "cell_type": "code",
   "execution_count": 20,
   "metadata": {},
   "outputs": [
    {
     "name": "stdout",
     "output_type": "stream",
     "text": [
      "French is not in list\n"
     ]
    }
   ],
   "source": [
    "# Using Aliases\n",
    "\n",
    "search = 'French'\n",
    "index = mm.find_index( courses, search )\n",
    "if index == -1:\n",
    "    print( search+ \" is not in list\")\n",
    "else:\n",
    "    print(index +1)"
   ]
  },
  {
   "cell_type": "code",
   "execution_count": 17,
   "metadata": {},
   "outputs": [
    {
     "name": "stdout",
     "output_type": "stream",
     "text": [
      "0\n"
     ]
    }
   ],
   "source": [
    "index = mm.find_index(courses, 'French')\n",
    "print(index+1)"
   ]
  },
  {
   "cell_type": "code",
   "execution_count": 18,
   "metadata": {
    "scrolled": false
   },
   "outputs": [
    {
     "name": "stdout",
     "output_type": "stream",
     "text": [
      "Test String variable\n"
     ]
    }
   ],
   "source": [
    "print(mm.test)"
   ]
  },
  {
   "cell_type": "markdown",
   "metadata": {},
   "source": [
    "## Direct Imports\n",
    "Functions and variables can also be imported directly."
   ]
  },
  {
   "cell_type": "code",
   "execution_count": 21,
   "metadata": {},
   "outputs": [
    {
     "name": "stdout",
     "output_type": "stream",
     "text": [
      "3\n"
     ]
    }
   ],
   "source": [
    "# When you use only part of the module import a single function\n",
    "from morgans_module2 import find_index\n",
    "index = find_index(courses, 'Irish')\n",
    "print(index)"
   ]
  },
  {
   "cell_type": "code",
   "execution_count": 22,
   "metadata": {},
   "outputs": [
    {
     "name": "stdout",
     "output_type": "stream",
     "text": [
      "3\n",
      "Test String variable\n"
     ]
    }
   ],
   "source": [
    "from morgans_module2 import find_index, test\n",
    "index = find_index(courses, 'Irish')\n",
    "print(index)\n",
    "print(test)"
   ]
  },
  {
   "cell_type": "code",
   "execution_count": 23,
   "metadata": {},
   "outputs": [
    {
     "name": "stdout",
     "output_type": "stream",
     "text": [
      "1\n",
      "Test String variable\n"
     ]
    }
   ],
   "source": [
    "from morgans_module2 import find_index as fi, test\n",
    "index = fi(courses, 'Math')\n",
    "print(index)\n",
    "print(test)"
   ]
  },
  {
   "cell_type": "markdown",
   "metadata": {},
   "source": [
    "### Warning\n",
    "It quickly becomes unreadable, so avoid this like the Corona virus. Import * is also frowned upon, because it is hard to trace back where the function comes from."
   ]
  },
  {
   "cell_type": "markdown",
   "metadata": {},
   "source": [
    "## SAQ 1 Set-up your own library\n",
    "Write your own module with a function that reverses a string that is sent as a parameter. e.g. reverse_string('friday') returns 'yadirf';\n",
    "\n",
    "\n",
    "```python\n",
    "# String. == library module\n",
    "print(\"Imported string module\")\n",
    "test = 'Yes it is the string module'\n",
    "\n",
    "def reverse_string(str):\n",
    "    '''reverse the letters in a string  and return the string reversed'''\n",
    "    rstr1 = ''\n",
    "    index = len(str)\n",
    "    while index > 0:\n",
    "        etc.\n",
    "```\n",
    "Give your module/library a name and save it in your home directory as a py file (file-download- .py).\n",
    "Import it into your Juypter Notebook and use the function.\n"
   ]
  },
  {
   "cell_type": "markdown",
   "metadata": {},
   "source": [
    "## SYS Path\n",
    "How does Python know where to find the module."
   ]
  },
  {
   "cell_type": "code",
   "execution_count": 24,
   "metadata": {
    "scrolled": true
   },
   "outputs": [
    {
     "name": "stdout",
     "output_type": "stream",
     "text": [
      "['/Users/morgan/Documents/Courses/Python/PythonNotes', '/Users/morgan/Documents/Courses/Python/PythonNotes/myPython/modules', '/Users/morgan/opt/anaconda3/lib/python37.zip', '/Users/morgan/opt/anaconda3/lib/python3.7', '/Users/morgan/opt/anaconda3/lib/python3.7/lib-dynload', '', '/Users/morgan/opt/anaconda3/lib/python3.7/site-packages', '/Users/morgan/opt/anaconda3/lib/python3.7/site-packages/aeosa', '/Users/morgan/opt/anaconda3/lib/python3.7/site-packages/IPython/extensions', '/Users/morgan/.ipython', '/Users/morgan/Documents/Courses/Python/MyModules']\n"
     ]
    }
   ],
   "source": [
    "print(sys.path)"
   ]
  },
  {
   "cell_type": "markdown",
   "metadata": {},
   "source": [
    "Sys Path tells Python where to search for files.\n",
    "<ol>\n",
    "    <li>Where the program is running from.</li>\n",
    "    <li>Python path enviornment variable.</li>\n",
    "    <li>Standard Library Directories.</li>\n",
    "    <li> Module not in same directory.</li>\n",
    "</ol>"
   ]
  },
  {
   "cell_type": "markdown",
   "metadata": {},
   "source": [
    "### Modifying sys.path\n",
    "To use another directory for your modules you need to append the path on to the sys.path list. In my case  it is as follows:\n",
    "\n",
    "```Python\n",
    "sys.path.append('/Users/morgan/Documents/Courses/Python/MyModules')/Users/morgan/Documents/Courses/Python/MyModules')\n",
    "```\n",
    "\n",
    "To permanently change the location you need to change the environment variables. This varies between Apple and Windows you should reference this on internet. on make change the  ~/.zshrc file using nano or other text editor.\n",
    "\n",
    "Add the folllowing: \n",
    "```\n",
    "export PYTHONPATH=\"/Users/morgan/Documents/Courses/Python/MyModules\"\n",
    "```\n",
    "\n"
   ]
  },
  {
   "cell_type": "markdown",
   "metadata": {},
   "source": [
    "## Standard Library Directories\n",
    "Use libraries in preference to coding it yourself. Written by the best programmers in the world and optimised. For example Random Module from standard library.\n",
    "\n",
    "<img src=\"images/time_parameters.png\" alt=\"Datetime\" width=\"600\"/>\n",
    "<br>"
   ]
  },
  {
   "cell_type": "code",
   "execution_count": null,
   "metadata": {},
   "outputs": [],
   "source": [
    "import random\n",
    "courses = ['History','Math', 'Physics', 'Irish']\n",
    "random_course = random.choice(courses)\n",
    "print(random_course)"
   ]
  },
  {
   "cell_type": "code",
   "execution_count": null,
   "metadata": {},
   "outputs": [],
   "source": [
    "# Convert degrees to radians\n",
    "import math\n",
    "rads = math.radians(90)\n",
    "print(rads)"
   ]
  },
  {
   "cell_type": "code",
   "execution_count": null,
   "metadata": {},
   "outputs": [],
   "source": [
    "print(math.sin(rads))"
   ]
  },
  {
   "cell_type": "code",
   "execution_count": null,
   "metadata": {},
   "outputs": [],
   "source": [
    "import datetime\n",
    "import calendar"
   ]
  },
  {
   "cell_type": "code",
   "execution_count": null,
   "metadata": {},
   "outputs": [],
   "source": [
    "today = datetime.date.today()\n",
    "print(today)"
   ]
  },
  {
   "cell_type": "code",
   "execution_count": null,
   "metadata": {},
   "outputs": [],
   "source": [
    "from datetime import datetime\n",
    "\n",
    "now = datetime.now()\n",
    "\n",
    "current_time = now.strftime(\"%d:%m:%H:%M:%S\")\n",
    "print(\"Current Time =\", current_time)"
   ]
  },
  {
   "cell_type": "code",
   "execution_count": null,
   "metadata": {
    "scrolled": false
   },
   "outputs": [],
   "source": [
    "print(calendar.isleap(2020))"
   ]
  },
  {
   "cell_type": "code",
   "execution_count": null,
   "metadata": {},
   "outputs": [],
   "source": [
    "# OS Can be used to create and delete files as well.\n",
    "import os\n",
    "print (os.getcwd())"
   ]
  },
  {
   "cell_type": "markdown",
   "metadata": {},
   "source": [
    "## Dunder\n",
    "All modules are written in Python code and you can use the dunder (double underscore) attribute to find where the are."
   ]
  },
  {
   "cell_type": "code",
   "execution_count": null,
   "metadata": {},
   "outputs": [],
   "source": [
    "print (random.__file__)"
   ]
  },
  {
   "cell_type": "code",
   "execution_count": null,
   "metadata": {},
   "outputs": [],
   "source": [
    "import antigravity"
   ]
  },
  {
   "cell_type": "markdown",
   "metadata": {},
   "source": [
    "**Phew!** <div>\n",
    "<img src=\"images/the_end.png\" alt=\"The End\" width=\"300\" align=\"center\"/></div>"
   ]
  }
 ],
 "metadata": {
  "hide_input": false,
  "kernelspec": {
   "display_name": "Python 3",
   "language": "python",
   "name": "python3"
  },
  "language_info": {
   "codemirror_mode": {
    "name": "ipython",
    "version": 3
   },
   "file_extension": ".py",
   "mimetype": "text/x-python",
   "name": "python",
   "nbconvert_exporter": "python",
   "pygments_lexer": "ipython3",
   "version": "3.7.6"
  },
  "toc": {
   "base_numbering": 1,
   "nav_menu": {},
   "number_sections": true,
   "sideBar": true,
   "skip_h1_title": false,
   "title_cell": "Table of Contents",
   "title_sidebar": "Contents",
   "toc_cell": false,
   "toc_position": {
    "height": "calc(100% - 180px)",
    "left": "10px",
    "top": "150px",
    "width": "279px"
   },
   "toc_section_display": true,
   "toc_window_display": false
  }
 },
 "nbformat": 4,
 "nbformat_minor": 4
}
