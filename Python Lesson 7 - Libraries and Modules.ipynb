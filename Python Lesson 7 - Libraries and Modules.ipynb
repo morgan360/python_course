{
 "cells": [
  {
   "cell_type": "markdown",
   "metadata": {},
   "source": [
    "version 1.1"
   ]
  },
  {
   "cell_type": "markdown",
   "metadata": {},
   "source": [
    "# Lesson 7 - Libraries and Modules\n",
    "\n",
    "When we import a module it creates all  the functions and variables and runs any statements such as print. You must save it as a py file and for our purposes we will store it in the same directory."
   ]
  },
  {
   "cell_type": "code",
   "execution_count": 15,
   "metadata": {
    "scrolled": true
   },
   "outputs": [
    {
     "name": "stdout",
     "output_type": "stream",
     "text": [
      "Imported my module\n"
     ]
    }
   ],
   "source": [
    "import sys\n",
    "sys.path.append('/Users/morgan/Documents/Courses/Python/MyModules')\n",
    "import morgans_module as mm\n",
    "import morgans_module2 \n",
    "# import random"
   ]
  },
  {
   "cell_type": "code",
   "execution_count": 5,
   "metadata": {},
   "outputs": [
    {
     "name": "stdout",
     "output_type": "stream",
     "text": [
      "Test String\n"
     ]
    }
   ],
   "source": [
    "print(mm.test)"
   ]
  },
  {
   "cell_type": "code",
   "execution_count": 7,
   "metadata": {},
   "outputs": [],
   "source": [
    "courses = ['History','Math', 'Physics', 'Irish']"
   ]
  },
  {
   "cell_type": "code",
   "execution_count": 8,
   "metadata": {},
   "outputs": [
    {
     "name": "stdout",
     "output_type": "stream",
     "text": [
      "3\n"
     ]
    }
   ],
   "source": [
    "# Using Aliases\n",
    "index = mm.find_index(courses, 'Irish')\n",
    "print(index)"
   ]
  },
  {
   "cell_type": "code",
   "execution_count": 9,
   "metadata": {},
   "outputs": [
    {
     "name": "stdout",
     "output_type": "stream",
     "text": [
      "-1\n"
     ]
    }
   ],
   "source": [
    "index = mm.find_index(courses, 'French')\n",
    "print(index)"
   ]
  },
  {
   "cell_type": "code",
   "execution_count": null,
   "metadata": {
    "scrolled": false
   },
   "outputs": [],
   "source": [
    "print(mm.test)"
   ]
  },
  {
   "cell_type": "markdown",
   "metadata": {},
   "source": [
    "## Direct Imports\n",
    "Functions and variables can also be imported directly."
   ]
  },
  {
   "cell_type": "code",
   "execution_count": 10,
   "metadata": {},
   "outputs": [
    {
     "name": "stdout",
     "output_type": "stream",
     "text": [
      "3\n"
     ]
    }
   ],
   "source": [
    "# Whenyou use only part of the module import a single function\n",
    "from morgans_module import find_index\n",
    "index = find_index(courses, 'Irish')\n",
    "print(index)"
   ]
  },
  {
   "cell_type": "code",
   "execution_count": 11,
   "metadata": {},
   "outputs": [
    {
     "name": "stdout",
     "output_type": "stream",
     "text": [
      "3\n",
      "Test String\n"
     ]
    }
   ],
   "source": [
    "from morgans_module import find_index, test\n",
    "index = find_index(courses, 'Irish')\n",
    "print(index)\n",
    "print(test)"
   ]
  },
  {
   "cell_type": "code",
   "execution_count": 12,
   "metadata": {},
   "outputs": [
    {
     "name": "stdout",
     "output_type": "stream",
     "text": [
      "3\n",
      "Test String\n"
     ]
    }
   ],
   "source": [
    "from morgans_module import find_index as fi, test\n",
    "index = fi(courses, 'Irish')\n",
    "print(index)\n",
    "print(test)"
   ]
  },
  {
   "cell_type": "markdown",
   "metadata": {},
   "source": [
    "### Warning\n",
    "It quickly becomes unreadable, so avoid this like the Corona virus. Import * is also frowned upon, because it is hard to trace back where the function comes from."
   ]
  },
  {
   "cell_type": "markdown",
   "metadata": {},
   "source": [
    "## SAQ 1 Set-up your own library\n",
    "Write your own module with a function that reverses a string that is sent as a parameter. e.g. reverse_string('friday') returns 'yadirf';\n",
    "\n",
    "\n",
    "```python\n",
    "# String. == library module\n",
    "print(\"Imported string module\")\n",
    "test = 'Yes it is the string module'\n",
    "\n",
    "def reverse_string(str):\n",
    "    '''reverse the letters in a string  and return the string reversed'''\n",
    "    rstr1 = ''\n",
    "    index = len(str)\n",
    "    while index > 0:\n",
    "        etc.\n",
    "```\n",
    "Give your module/library a name and save it in your home directory as a py file (file-download- .py).\n",
    "Import it into your Juypter Notebook and use the function.\n"
   ]
  },
  {
   "cell_type": "markdown",
   "metadata": {},
   "source": [
    "## SYS Path\n",
    "How does Python know where to find the module."
   ]
  },
  {
   "cell_type": "code",
   "execution_count": 16,
   "metadata": {
    "scrolled": true
   },
   "outputs": [
    {
     "name": "stdout",
     "output_type": "stream",
     "text": [
      "['/Users/morgan/Documents/Courses/Python/MyPrograms', '/Users/morgan/Documents/Courses/Python/MyModules', '/Users/morgan/opt/anaconda3/lib/python37.zip', '/Users/morgan/opt/anaconda3/lib/python3.7', '/Users/morgan/opt/anaconda3/lib/python3.7/lib-dynload', '', '/Users/morgan/opt/anaconda3/lib/python3.7/site-packages', '/Users/morgan/opt/anaconda3/lib/python3.7/site-packages/aeosa', '/Users/morgan/opt/anaconda3/lib/python3.7/site-packages/IPython/extensions', '/Users/morgan/.ipython', '/Users/morgan/Documents/Courses/Python/MyModules', '/Users/morgan/Documents/Courses/Python/MyModules']\n"
     ]
    }
   ],
   "source": [
    "print(sys.path)"
   ]
  },
  {
   "cell_type": "markdown",
   "metadata": {},
   "source": [
    "Sys Path tells Python where to search for files.\n",
    "<ol>\n",
    "    <li>Where the program is running from.</li>\n",
    "    <li>Python path enviornment variable.</li>\n",
    "    <li>Standard Library Directories.</li>\n",
    "    <li> Module not in same directory.</li>\n",
    "</ol>"
   ]
  },
  {
   "cell_type": "markdown",
   "metadata": {},
   "source": [
    "### Modifying sys.path\n",
    "To use another directory for your modules you need to append the path on to the sys.path list. In my case  it is as follows:\n",
    "\n",
    "```Python\n",
    "sys.path.append('/Users/morgan/Documents/Courses/Python/MyModules')/Users/morgan/Documents/Courses/Python/MyModules')\n",
    "```\n",
    "\n",
    "To permanently change the location you need to change the environment variables. This varies between Apple and Windows you should reference this on internet. on make change the  ~/.zshrc file using nano or other text editor.\n",
    "\n",
    "Ad the folllowing: \n",
    "```\n",
    "export PYTHONPATH=\"/Users/morgan/Documents/Courses/Python/MyModules\"\n",
    "```\n",
    "\n"
   ]
  },
  {
   "cell_type": "markdown",
   "metadata": {},
   "source": [
    "## Standard Library Directories\n",
    "Use libraries in preference to coding it yourself. Written by the best programmers in the world and optimised. For example Random Module from standard library."
   ]
  },
  {
   "cell_type": "code",
   "execution_count": 18,
   "metadata": {},
   "outputs": [
    {
     "name": "stdout",
     "output_type": "stream",
     "text": [
      "Irish\n"
     ]
    }
   ],
   "source": [
    "import random\n",
    "courses = ['History','Math', 'Physics', 'Irish']\n",
    "random_course = random.choice(courses)\n",
    "print(random_course)"
   ]
  },
  {
   "cell_type": "code",
   "execution_count": 21,
   "metadata": {},
   "outputs": [
    {
     "name": "stdout",
     "output_type": "stream",
     "text": [
      "1.5707963267948966\n"
     ]
    }
   ],
   "source": [
    "# Convert degrees to radians\n",
    "import math\n",
    "rads = math.radians(90)\n",
    "print(rads)"
   ]
  },
  {
   "cell_type": "code",
   "execution_count": 22,
   "metadata": {},
   "outputs": [
    {
     "name": "stdout",
     "output_type": "stream",
     "text": [
      "1.0\n"
     ]
    }
   ],
   "source": [
    "print(math.sin(rads))"
   ]
  },
  {
   "cell_type": "code",
   "execution_count": 23,
   "metadata": {},
   "outputs": [],
   "source": [
    "import datetime\n",
    "import calendar"
   ]
  },
  {
   "cell_type": "code",
   "execution_count": 24,
   "metadata": {},
   "outputs": [
    {
     "name": "stdout",
     "output_type": "stream",
     "text": [
      "2020-07-23\n"
     ]
    }
   ],
   "source": [
    "today = datetime.date.today()\n",
    "print(today)"
   ]
  },
  {
   "cell_type": "code",
   "execution_count": 29,
   "metadata": {},
   "outputs": [
    {
     "name": "stdout",
     "output_type": "stream",
     "text": [
      "Current Time = 07:07/23/20:19:35:28\n"
     ]
    }
   ],
   "source": [
    "from datetime import datetime\n",
    "\n",
    "now = datetime.now()\n",
    "\n",
    "current_time = now.strftime(\"%m:%d:%H:%M:%S\")\n",
    "print(\"Current Time =\", current_time)"
   ]
  },
  {
   "cell_type": "code",
   "execution_count": 30,
   "metadata": {
    "scrolled": false
   },
   "outputs": [
    {
     "name": "stdout",
     "output_type": "stream",
     "text": [
      "True\n"
     ]
    }
   ],
   "source": [
    "print(calendar.isleap(2020))"
   ]
  },
  {
   "cell_type": "code",
   "execution_count": 31,
   "metadata": {},
   "outputs": [
    {
     "name": "stdout",
     "output_type": "stream",
     "text": [
      "/Users/morgan/Documents/Courses/Python/MyPrograms\n"
     ]
    }
   ],
   "source": [
    "# OS Can be used to create and delete files as well.\n",
    "import os\n",
    "print (os.getcwd())"
   ]
  },
  {
   "cell_type": "markdown",
   "metadata": {},
   "source": [
    "## Dunder\n",
    "All modules are written in Python code and you can use the dunder (double underscore) attribute to find where the are."
   ]
  },
  {
   "cell_type": "code",
   "execution_count": 32,
   "metadata": {},
   "outputs": [
    {
     "name": "stdout",
     "output_type": "stream",
     "text": [
      "/Users/morgan/opt/anaconda3/lib/python3.7/random.py\n"
     ]
    }
   ],
   "source": [
    "print (random.__file__)"
   ]
  },
  {
   "cell_type": "code",
   "execution_count": 33,
   "metadata": {},
   "outputs": [],
   "source": [
    "import antigravity"
   ]
  },
  {
   "cell_type": "code",
   "execution_count": null,
   "metadata": {},
   "outputs": [],
   "source": []
  }
 ],
 "metadata": {
  "hide_input": false,
  "kernelspec": {
   "display_name": "Python 3",
   "language": "python",
   "name": "python3"
  },
  "language_info": {
   "codemirror_mode": {
    "name": "ipython",
    "version": 3
   },
   "file_extension": ".py",
   "mimetype": "text/x-python",
   "name": "python",
   "nbconvert_exporter": "python",
   "pygments_lexer": "ipython3",
   "version": "3.7.6"
  },
  "toc": {
   "base_numbering": 1,
   "nav_menu": {},
   "number_sections": true,
   "sideBar": true,
   "skip_h1_title": false,
   "title_cell": "Table of Contents",
   "title_sidebar": "Contents",
   "toc_cell": false,
   "toc_position": {},
   "toc_section_display": true,
   "toc_window_display": true
  }
 },
 "nbformat": 4,
 "nbformat_minor": 4
}
