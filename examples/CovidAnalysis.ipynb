{
 "cells": [
  {
   "cell_type": "markdown",
   "metadata": {},
   "source": [
    "# Covid Around The World\n",
    "\n",
    "![Covid](../images/covid.jpeg)"
   ]
  },
  {
   "cell_type": "markdown",
   "metadata": {},
   "source": [
    "## Install Widgets\n",
    "ipwidgets is a library that allows you to interact with your data."
   ]
  },
  {
   "cell_type": "code",
   "execution_count": null,
   "metadata": {},
   "outputs": [],
   "source": [
    "from __future__ import print_function\n",
    "from ipywidgets import interact, interactive, fixed, interact_manual\n",
    "import ipywidgets as widgets"
   ]
  },
  {
   "cell_type": "markdown",
   "metadata": {},
   "source": [
    "## Import Data Analysis Libraries\n",
    "These are Python libraries specifically designed to manuplate  eg import, join datasets, analyise, filter, and clean data."
   ]
  },
  {
   "cell_type": "code",
   "execution_count": null,
   "metadata": {},
   "outputs": [],
   "source": [
    "import pandas as pd\n",
    "import numpy as np"
   ]
  },
  {
   "cell_type": "markdown",
   "metadata": {},
   "source": [
    "## Get Source Data\n",
    "Data is sourced from a git hub repository for Johns Hopkins University COVID Data. The information is updated daily. The link is here:https://github.com/CSSEGISandData. <br>\n",
    "<b>Note</b> Data is updated daily.\n"
   ]
  },
  {
   "cell_type": "code",
   "execution_count": null,
   "metadata": {},
   "outputs": [],
   "source": [
    "#Recorded deaths since 1/1/2020\n",
    "death_df = pd.read_csv(\"https://raw.githubusercontent.com/CSSEGISandData/COVID-19/master/csse_covid_19_data/csse_covid_19_time_series/time_series_covid19_deaths_global.csv\")\n",
    "#Confirmed Cases since 1/1/2020\n",
    "confirmed_df = pd.read_csv(\"https://raw.githubusercontent.com/CSSEGISandData/COVID-19/master/csse_covid_19_data/csse_covid_19_time_series/time_series_covid19_confirmed_global.csv\")\n",
    "#Recoveries since C since 1/1/2020\n",
    "recovered_df = pd.read_csv(\"https://raw.githubusercontent.com/CSSEGISandData/COVID-19/master/csse_covid_19_data/csse_covid_19_time_series/time_series_covid19_recovered_global.csv\")\n",
    "#Summanation of data by Country\n",
    "country_df = pd.read_csv(\"https://raw.githubusercontent.com/CSSEGISandData/COVID-19/web-data/data/cases_country.csv\", index_col=[0])"
   ]
  },
  {
   "cell_type": "code",
   "execution_count": null,
   "metadata": {},
   "outputs": [],
   "source": [
    "# Check country data (Just type in the name of the dataframe and how many rows from the top(head))\n",
    "country_df.head(3)"
   ]
  },
  {
   "cell_type": "code",
   "execution_count": null,
   "metadata": {
    "scrolled": true
   },
   "outputs": [],
   "source": [
    "# Check data has been imported correctly\n",
    "confirmed_df.head(3)\n"
   ]
  },
  {
   "cell_type": "code",
   "execution_count": null,
   "metadata": {},
   "outputs": [],
   "source": [
    "#Get the sape of the data\n",
    "print (confirmed_df.shape)\n",
    "print (recovered_df.shape)\n",
    "print (death_df.shape)"
   ]
  },
  {
   "cell_type": "markdown",
   "metadata": {},
   "source": [
    "## Data Cleansing\n",
    "Data Cleansing is an important step in analysing data:\n",
    "Here we change the column headings to lower case and simplify column heading names, and eliminate missing data. (Note normally you would not eliminate missing data without carrying out a missing data analysis)"
   ]
  },
  {
   "cell_type": "code",
   "execution_count": null,
   "metadata": {},
   "outputs": [],
   "source": [
    "# Convert to Lowercase\n",
    "#country_df\n",
    "country_df.columns = map(str.lower,country_df.columns)\n",
    "#confirmed_df\n",
    "confirmed_df.columns = map(str.lower,confirmed_df.columns)\n",
    "#recovered_df\n",
    "recovered_df.columns = map(str.lower,recovered_df.columns)\n",
    "#death_df\n",
    "death_df.columns = map(str.lower,death_df.columns)\n"
   ]
  },
  {
   "cell_type": "code",
   "execution_count": null,
   "metadata": {
    "scrolled": false
   },
   "outputs": [],
   "source": [
    "# Check \n",
    "# country_df.head(2)\n",
    "#confirmed_df.head(2)\n",
    "recovered_df.head(2)\n",
    "# death_df.head(2)"
   ]
  },
  {
   "cell_type": "code",
   "execution_count": null,
   "metadata": {},
   "outputs": [],
   "source": [
    "# Rename columns to make it easier to refer to them\n",
    "country_df = country_df.rename(columns={\"country_region\":\"country\",\"long_\":\"long\"})\n",
    "confirmed_df =confirmed_df.rename(columns = {'province/state':'state','country/region':'country'} )\n",
    "recovered_df = recovered_df.rename(columns = {'province/state':'state','country/region':'country' } )\n",
    "death_df =death_df.rename(columns = {'province/state':'state','country/region':'country' } )"
   ]
  },
  {
   "cell_type": "code",
   "execution_count": null,
   "metadata": {},
   "outputs": [],
   "source": [
    "# displaying the datatypes and converting to integers\n",
    "#display(country_df.dtypes) \n",
    "  \n",
    "# converting 'Field_2' and 'Field_3' from float to int \n",
    "country_df['confirmed'] = country_df['confirmed'].apply(np.int64) \n",
    "country_df['deaths'] = country_df['deaths'].apply(np.int64) \n",
    "country_df['recovered'] = country_df['confirmed'].apply(np.int64) \n",
    "country_df['active'] = country_df['deaths'].apply(np.int64)   \n",
    "# displaying the datatypes \n",
    "#display(country_df.dtypes) "
   ]
  },
  {
   "cell_type": "code",
   "execution_count": null,
   "metadata": {
    "scrolled": true
   },
   "outputs": [],
   "source": [
    "# Recheck\n",
    "country_df.head(2)\n",
    "# confirmed_df.head(2)\n",
    "# recovered_df.head(2)\n",
    "# death_df.head(2)"
   ]
  },
  {
   "cell_type": "markdown",
   "metadata": {},
   "source": [
    "## Sort Country Data \n",
    "Data is sorted in order of the number of confirmed cases. <br>\n",
    "**Note** we are creating a new dataframe."
   ]
  },
  {
   "cell_type": "code",
   "execution_count": null,
   "metadata": {},
   "outputs": [],
   "source": [
    "sorted_country_df = country_df.sort_values('confirmed', ascending = False)"
   ]
  },
  {
   "cell_type": "code",
   "execution_count": null,
   "metadata": {},
   "outputs": [],
   "source": [
    "sorted_country_df.head(10)"
   ]
  },
  {
   "cell_type": "code",
   "execution_count": null,
   "metadata": {},
   "outputs": [],
   "source": [
    "# Create a function that will colour some of the columns for emphasis\n",
    "def highlight_col(x):\n",
    "    r = 'background-color: #7ED5EA'\n",
    "    p = 'background-color: #63BCE5'\n",
    "    g = 'background-color: #4B9FE1'\n",
    "    temp_df = pd.DataFrame ('',index = x.index, columns = x.columns)\n",
    "    temp_df.iloc[:,4]  = p\n",
    "    temp_df.iloc[:,5]  = r\n",
    "    temp_df.iloc[:,6]  = g\n",
    "    return temp_df"
   ]
  },
  {
   "cell_type": "code",
   "execution_count": null,
   "metadata": {
    "scrolled": false
   },
   "outputs": [],
   "source": [
    "# Print the first 5 and style (calling the function)\n",
    "sorted_country_df.head(5).style.apply(highlight_col, axis = None)"
   ]
  },
  {
   "cell_type": "code",
   "execution_count": null,
   "metadata": {},
   "outputs": [],
   "source": [
    "\n",
    "sorted_country_df.style.format({\n",
    "    'confirmed': '{:,.2f}'.format,\n",
    "    'deaths': '{:,.2f}'.format,\n",
    "    'recovered': '{:,.2%}'.format,\n",
    "})\n",
    "#sorted_country_df.head(3)"
   ]
  },
  {
   "cell_type": "code",
   "execution_count": null,
   "metadata": {
    "scrolled": true
   },
   "outputs": [],
   "source": [
    "# import ipywidgets as widgets\n",
    "# from ipywidgets import interactive\n",
    " \n",
    "# items = ['All']+sorted(sorted_country_df['country'].unique().tolist())\n",
    " \n",
    "def view2(y=3):\n",
    "    return sorted_country_df.head(y).style.apply(highlight_col, axis = None) \n",
    "a_slider = widgets.IntSlider(min=0, max=30, step=1, value=5)\n",
    "\n",
    "widgets.interact(view2, y= a_slider)                           "
   ]
  },
  {
   "cell_type": "markdown",
   "metadata": {},
   "source": [
    "## Import Data Visulation Library\n",
    "There are many Python Graphical libraries that can be used. In this case we are going to use a library called Plotly. It can be installed using Pip Install or Conda install. It can be found @ https://plotly.com/python/ "
   ]
  },
  {
   "cell_type": "code",
   "execution_count": null,
   "metadata": {},
   "outputs": [],
   "source": [
    "import plotly.express as px"
   ]
  },
  {
   "cell_type": "code",
   "execution_count": null,
   "metadata": {},
   "outputs": [],
   "source": [
    "fig = px.scatter(sorted_country_df.head(10), x = 'country', y = 'confirmed', size = 'confirmed',\n",
    "                color = 'country', hover_name = 'country', size_max = 60)"
   ]
  },
  {
   "cell_type": "code",
   "execution_count": null,
   "metadata": {},
   "outputs": [],
   "source": [
    "fig.show()"
   ]
  },
  {
   "cell_type": "code",
   "execution_count": null,
   "metadata": {},
   "outputs": [],
   "source": [
    "import plotly.graph_objects as go\n",
    "def plot_cases_for_country(country):\n",
    "    labels = ['confirmed', 'deaths']\n",
    "    colors = ['blue', 'red']\n",
    "    mode_size = [6,8]\n",
    "    line_size = [4,6]\n",
    "    df_list = [confirmed_df,death_df]\n",
    "    fig = go.Figure()\n",
    "    for i, df in enumerate(df_list):\n",
    "        if country == 'World' or country == 'world':\n",
    "            x_data = np.array(list(df.iloc[:,5:].columns))\n",
    "            y_data = np.sum(np.asarray(df.iloc[:,5:]), axis=0)\n",
    "        else:\n",
    "            x_data = np.array(list(df.iloc[:,5:].columns))\n",
    "            y_data = np.sum(np.asarray(df[df['country']==country].iloc[:,5:]), axis=0)\n",
    "        fig.add_trace(go.Scatter(x=x_data, y= y_data, mode = 'lines+markers',\n",
    "                                    name=labels[i],\n",
    "                                    line = dict(color = colors[i], width = line_size[i]),\n",
    "                                     connectgaps = True,\n",
    "                                     text = \"Total \"+ str(labels[i])+ \": \"+ str(y_data[-1])\n",
    "                                               ))\n",
    "    fig.show()"
   ]
  },
  {
   "cell_type": "code",
   "execution_count": null,
   "metadata": {
    "scrolled": true
   },
   "outputs": [],
   "source": [
    "# plot_cases_for_country('Ireland')\n",
    "interact(plot_cases_for_country, country ='World');\n"
   ]
  },
  {
   "cell_type": "markdown",
   "metadata": {},
   "source": [
    "## World Maps\n",
    "Folium is a Python library used for visualizing geospatial data. In other words, Folium is a Python Library that enables you to import maps from around the world and allows you to represent data on them. For this excercise we will be using the Longitude(long) and Latitude(lat) to identify where our data comes from. Again you will have to install Folium using eithe Pip install or Conda install."
   ]
  },
  {
   "cell_type": "code",
   "execution_count": null,
   "metadata": {},
   "outputs": [],
   "source": [
    "import folium\n",
    "confirmed_df=confirmed_df.dropna(subset=['long'])\n",
    "\n",
    "confirmed_df=confirmed_df.dropna(subset=['lat'])"
   ]
  },
  {
   "cell_type": "code",
   "execution_count": null,
   "metadata": {},
   "outputs": [],
   "source": [
    "world_map = folium.Map(location =[11,0],tiles = 'cartodbpositron', zoom_start = 2, max_zoom = 6, min_zoom = 2)\n",
    "\n",
    "\n",
    "for i in range(0,len(confirmed_df)):\n",
    "    folium.Circle(\n",
    "        location=[confirmed_df.iloc[i]['lat'], confirmed_df.iloc[i]['long']],\n",
    "        fill=True,\n",
    "        radius=(int((np.log(confirmed_df.iloc[i,-1]+1.00001)))+0.2)*50000,\n",
    "        color='red',\n",
    "        fill_color='indigo',\n",
    "        tooltip = \"<div style='margin: 0; background-color: black; color: white;'>\"+\n",
    "                    \"<h4 style='text-align:center;font-weight: bold'>\"+confirmed_df.iloc[i]['country'] + \"</h4>\"\n",
    "                    \"<hr style='margin:10px;color: white;'>\"+\n",
    "                    \"<ul style='color: white;;list-style-type:circle;align-item:left;padding-left:20px;padding-right:20px'>\"+\n",
    "                        \"<li>Confirmed: \"+str(confirmed_df.iloc[i,-1])+\"</li>\"+\n",
    "                        \"<li>Deaths:   \"+str(death_df.iloc[i,-1])+\"</li>\"+\n",
    "                        \"<li>Death Rate: \"+ str(np.round(death_df.iloc[i,-1]/(confirmed_df.iloc[i,-1]+1.00001)*100,2))+ \"</li>\"+\n",
    "                    \"</ul></div>\",\n",
    "        ).add_to(world_map)\n",
    "\n",
    "world_map\n",
    "                             \n",
    "                             "
   ]
  },
  {
   "cell_type": "code",
   "execution_count": null,
   "metadata": {},
   "outputs": [],
   "source": [
    "pd.set_option('display.max_rows', confirmed_df.shape[0]+1)\n",
    "confirmed_df"
   ]
  },
  {
   "cell_type": "code",
   "execution_count": null,
   "metadata": {},
   "outputs": [],
   "source": []
  }
 ],
 "metadata": {
  "hide_input": false,
  "kernelspec": {
   "display_name": "Python 3",
   "language": "python",
   "name": "python3"
  },
  "language_info": {
   "codemirror_mode": {
    "name": "ipython",
    "version": 3
   },
   "file_extension": ".py",
   "mimetype": "text/x-python",
   "name": "python",
   "nbconvert_exporter": "python",
   "pygments_lexer": "ipython3",
   "version": "3.7.6"
  },
  "toc": {
   "base_numbering": 1,
   "nav_menu": {},
   "number_sections": true,
   "sideBar": true,
   "skip_h1_title": false,
   "title_cell": "Table of Contents",
   "title_sidebar": "Contents",
   "toc_cell": false,
   "toc_position": {
    "height": "calc(100% - 180px)",
    "left": "10px",
    "top": "150px",
    "width": "165px"
   },
   "toc_section_display": true,
   "toc_window_display": false
  }
 },
 "nbformat": 4,
 "nbformat_minor": 4
}
