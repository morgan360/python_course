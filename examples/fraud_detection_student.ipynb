{
 "cells": [
  {
   "cell_type": "markdown",
   "metadata": {},
   "source": [
    "version 1.1 ~ GMcK"
   ]
  },
  {
   "cell_type": "markdown",
   "metadata": {},
   "source": [
    "# Fraud Detection"
   ]
  },
  {
   "cell_type": "markdown",
   "metadata": {},
   "source": [
    "An important application of Data Science within the Fintech \"Financial Technology\" industry is detecting fraudulent transactions. In this notebook we train a model to predict which transaction might be fraudulent.\n",
    "<img src=\"../images/fraud.jpg\" alt=\"Fraud\" style=\"width: 800px; align:center;\"/>\n",
    "\n",
    "## The dataset\n",
    "\n",
    "The dataset contains the following columns:\n",
    "\n",
    "* merchant: The id of our client\n",
    "*  first_6_digit: The first 6 digit of the credit card used in the transaction\n",
    "* payment_ref: The unique reference for this payment\n",
    "* amount_eur: The amount in euros\n",
    "* card_network: The network that emitted the card\n",
    "* card_type: The type of card\n",
    "* timestamp: The timestamp when the payment was received\n",
    "* refused_by_bank: A payment can also be refused by the bank for various reasons (lack of funds, card lost etc..)\n",
    "* bank_country_id: The country of the bank\n",
    "* user_id: The id of the user that is performing the payment\n",
    "* user_country_id: The country of the user that is performing the payment\n",
    "* is_fraud: Whether the payment was flagged as fraudulent.\n",
    "\n",
    "## Machine Learning Steps\n",
    "\n",
    "* Read in file from name, clean the data & create some derived variables\n",
    "* Explore relationships between target and features\n",
    "* Create a Baseline Model off which to benchmark performance\n",
    "* Select, tune and assess final classificaton model\n",
    "\n",
    "\n",
    "## Notebook Structure\n",
    "\n",
    "The Notebook is structured in the following way:\n",
    "\n",
    " * Setup (requirements for running the following analysis & code)\n",
    " * Data Loading & Preparation & Feature Engineering\n",
    " * Exploratory Data Analysis\n",
    " * Model Development & Performance\n",
    "\n",
    "\n"
   ]
  },
  {
   "cell_type": "markdown",
   "metadata": {},
   "source": [
    "# Setup"
   ]
  },
  {
   "cell_type": "code",
   "execution_count": 2,
   "metadata": {},
   "outputs": [],
   "source": [
    "import pandas as pd\n",
    "import numpy as np\n",
    "import matplotlib.pyplot as plt\n",
    "import seaborn as sns\n",
    "from datetime import datetime\n",
    "from scipy import stats\n",
    "from sklearn.model_selection import train_test_split, GridSearchCV\n",
    "from sklearn.linear_model import LogisticRegression\n",
    "from sklearn.metrics import confusion_matrix"
   ]
  },
  {
   "cell_type": "code",
   "execution_count": 3,
   "metadata": {},
   "outputs": [],
   "source": [
    "plt.style.use('ggplot')"
   ]
  },
  {
   "cell_type": "markdown",
   "metadata": {},
   "source": [
    "## sklearn\n",
    "Scikit-learn is a free machine learning library for Python. It features various algorithms like support vector machine, random forests, and k-neighbours, and it also supports Python numerical and scientific libraries like NumPy and SciPy"
   ]
  },
  {
   "cell_type": "code",
   "execution_count": 4,
   "metadata": {},
   "outputs": [
    {
     "name": "stdout",
     "output_type": "stream",
     "text": [
      "Requirement already satisfied: seaborn in /Users/morgan/opt/anaconda3/lib/python3.7/site-packages (0.10.0)\n",
      "Requirement already satisfied: scipy>=1.0.1 in /Users/morgan/opt/anaconda3/lib/python3.7/site-packages (from seaborn) (1.4.1)\n",
      "Requirement already satisfied: pandas>=0.22.0 in /Users/morgan/opt/anaconda3/lib/python3.7/site-packages (from seaborn) (1.0.1)\n",
      "Requirement already satisfied: numpy>=1.13.3 in /Users/morgan/opt/anaconda3/lib/python3.7/site-packages (from seaborn) (1.18.1)\n",
      "Requirement already satisfied: matplotlib>=2.1.2 in /Users/morgan/opt/anaconda3/lib/python3.7/site-packages (from seaborn) (3.1.3)\n",
      "Requirement already satisfied: pytz>=2017.2 in /Users/morgan/opt/anaconda3/lib/python3.7/site-packages (from pandas>=0.22.0->seaborn) (2019.3)\n",
      "Requirement already satisfied: python-dateutil>=2.6.1 in /Users/morgan/opt/anaconda3/lib/python3.7/site-packages (from pandas>=0.22.0->seaborn) (2.8.1)\n",
      "Requirement already satisfied: cycler>=0.10 in /Users/morgan/opt/anaconda3/lib/python3.7/site-packages (from matplotlib>=2.1.2->seaborn) (0.10.0)\n",
      "Requirement already satisfied: kiwisolver>=1.0.1 in /Users/morgan/opt/anaconda3/lib/python3.7/site-packages (from matplotlib>=2.1.2->seaborn) (1.1.0)\n",
      "Requirement already satisfied: pyparsing!=2.0.4,!=2.1.2,!=2.1.6,>=2.0.1 in /Users/morgan/opt/anaconda3/lib/python3.7/site-packages (from matplotlib>=2.1.2->seaborn) (2.4.6)\n",
      "Requirement already satisfied: six>=1.5 in /Users/morgan/opt/anaconda3/lib/python3.7/site-packages (from python-dateutil>=2.6.1->pandas>=0.22.0->seaborn) (1.14.0)\n",
      "Requirement already satisfied: setuptools in /Users/morgan/opt/anaconda3/lib/python3.7/site-packages (from kiwisolver>=1.0.1->matplotlib>=2.1.2->seaborn) (46.0.0.post20200309)\n",
      "Requirement already satisfied: sklearn in /Users/morgan/opt/anaconda3/lib/python3.7/site-packages (0.0)\n",
      "Requirement already satisfied: scikit-learn in /Users/morgan/opt/anaconda3/lib/python3.7/site-packages (from sklearn) (0.22.1)\n",
      "Requirement already satisfied: numpy>=1.11.0 in /Users/morgan/opt/anaconda3/lib/python3.7/site-packages (from scikit-learn->sklearn) (1.18.1)\n",
      "Requirement already satisfied: scipy>=0.17.0 in /Users/morgan/opt/anaconda3/lib/python3.7/site-packages (from scikit-learn->sklearn) (1.4.1)\n",
      "Requirement already satisfied: joblib>=0.11 in /Users/morgan/opt/anaconda3/lib/python3.7/site-packages (from scikit-learn->sklearn) (0.14.1)\n"
     ]
    }
   ],
   "source": [
    "! pip install seaborn # Graphics\n",
    "! pip install sklearn # Machine Learning"
   ]
  },
  {
   "cell_type": "markdown",
   "metadata": {},
   "source": [
    "# Data Preparation"
   ]
  },
  {
   "cell_type": "code",
   "execution_count": 5,
   "metadata": {},
   "outputs": [],
   "source": [
    "df = pd.read_csv('../data/fraud_data.csv', index_col=[0])"
   ]
  },
  {
   "cell_type": "code",
   "execution_count": 6,
   "metadata": {
    "scrolled": true
   },
   "outputs": [
    {
     "data": {
      "text/plain": [
       "Index(['merchant', 'first_6_digits', 'payment_ref', 'amount_eur',\n",
       "       'card_network', 'card_type', 'timestamp', 'refused_by_bank',\n",
       "       'bank_country_id', 'user_id', 'user_country_id', 'is_fraud'],\n",
       "      dtype='object')"
      ]
     },
     "execution_count": 6,
     "metadata": {},
     "output_type": "execute_result"
    }
   ],
   "source": [
    "df.columns"
   ]
  },
  {
   "cell_type": "code",
   "execution_count": 7,
   "metadata": {},
   "outputs": [
    {
     "data": {
      "text/plain": [
       "(43220, 12)"
      ]
     },
     "execution_count": 7,
     "metadata": {},
     "output_type": "execute_result"
    }
   ],
   "source": [
    "df.shape"
   ]
  },
  {
   "cell_type": "code",
   "execution_count": 8,
   "metadata": {},
   "outputs": [
    {
     "data": {
      "text/html": [
       "<div>\n",
       "<style scoped>\n",
       "    .dataframe tbody tr th:only-of-type {\n",
       "        vertical-align: middle;\n",
       "    }\n",
       "\n",
       "    .dataframe tbody tr th {\n",
       "        vertical-align: top;\n",
       "    }\n",
       "\n",
       "    .dataframe thead th {\n",
       "        text-align: right;\n",
       "    }\n",
       "</style>\n",
       "<table border=\"1\" class=\"dataframe\">\n",
       "  <thead>\n",
       "    <tr style=\"text-align: right;\">\n",
       "      <th></th>\n",
       "      <th>merchant</th>\n",
       "      <th>first_6_digits</th>\n",
       "      <th>payment_ref</th>\n",
       "      <th>amount_eur</th>\n",
       "      <th>card_network</th>\n",
       "      <th>card_type</th>\n",
       "      <th>timestamp</th>\n",
       "      <th>refused_by_bank</th>\n",
       "      <th>bank_country_id</th>\n",
       "      <th>user_id</th>\n",
       "      <th>user_country_id</th>\n",
       "      <th>is_fraud</th>\n",
       "    </tr>\n",
       "  </thead>\n",
       "  <tbody>\n",
       "    <tr>\n",
       "      <th>0</th>\n",
       "      <td>Shop8</td>\n",
       "      <td>96543.0</td>\n",
       "      <td>78089c3946037ca9</td>\n",
       "      <td>0.00</td>\n",
       "      <td>SchemeF</td>\n",
       "      <td>DEBIT</td>\n",
       "      <td>1458169972</td>\n",
       "      <td>0</td>\n",
       "      <td>0.0</td>\n",
       "      <td>2.673933e+09</td>\n",
       "      <td>0.0</td>\n",
       "      <td>0</td>\n",
       "    </tr>\n",
       "    <tr>\n",
       "      <th>1</th>\n",
       "      <td>Shop8</td>\n",
       "      <td>579100.0</td>\n",
       "      <td>62c49a618760d829</td>\n",
       "      <td>0.00</td>\n",
       "      <td>SchemeD</td>\n",
       "      <td>DEBIT</td>\n",
       "      <td>1458401237</td>\n",
       "      <td>0</td>\n",
       "      <td>1.0</td>\n",
       "      <td>2.684546e+09</td>\n",
       "      <td>1.0</td>\n",
       "      <td>0</td>\n",
       "    </tr>\n",
       "    <tr>\n",
       "      <th>2</th>\n",
       "      <td>Shop2</td>\n",
       "      <td>535041.0</td>\n",
       "      <td>75517f4497a164e1</td>\n",
       "      <td>6.00</td>\n",
       "      <td>SchemeF</td>\n",
       "      <td>CREDIT</td>\n",
       "      <td>1458509094</td>\n",
       "      <td>0</td>\n",
       "      <td>2.0</td>\n",
       "      <td>2.238808e+09</td>\n",
       "      <td>2.0</td>\n",
       "      <td>0</td>\n",
       "    </tr>\n",
       "    <tr>\n",
       "      <th>3</th>\n",
       "      <td>Shop2</td>\n",
       "      <td>314986.0</td>\n",
       "      <td>aeecc3a05e7f472c</td>\n",
       "      <td>23.38</td>\n",
       "      <td>SchemeB</td>\n",
       "      <td>DEBIT</td>\n",
       "      <td>1460494815</td>\n",
       "      <td>0</td>\n",
       "      <td>6.0</td>\n",
       "      <td>2.104261e+09</td>\n",
       "      <td>3.0</td>\n",
       "      <td>0</td>\n",
       "    </tr>\n",
       "    <tr>\n",
       "      <th>4</th>\n",
       "      <td>Shop2</td>\n",
       "      <td>893427.0</td>\n",
       "      <td>3de199afd69c4f31</td>\n",
       "      <td>64.00</td>\n",
       "      <td>SchemeI</td>\n",
       "      <td>CREDIT</td>\n",
       "      <td>1460444513</td>\n",
       "      <td>0</td>\n",
       "      <td>6.0</td>\n",
       "      <td>1.188328e+09</td>\n",
       "      <td>3.0</td>\n",
       "      <td>0</td>\n",
       "    </tr>\n",
       "  </tbody>\n",
       "</table>\n",
       "</div>"
      ],
      "text/plain": [
       "  merchant  first_6_digits       payment_ref  amount_eur card_network  \\\n",
       "0    Shop8         96543.0  78089c3946037ca9        0.00      SchemeF   \n",
       "1    Shop8        579100.0  62c49a618760d829        0.00      SchemeD   \n",
       "2    Shop2        535041.0  75517f4497a164e1        6.00      SchemeF   \n",
       "3    Shop2        314986.0  aeecc3a05e7f472c       23.38      SchemeB   \n",
       "4    Shop2        893427.0  3de199afd69c4f31       64.00      SchemeI   \n",
       "\n",
       "  card_type   timestamp  refused_by_bank  bank_country_id       user_id  \\\n",
       "0     DEBIT  1458169972                0              0.0  2.673933e+09   \n",
       "1     DEBIT  1458401237                0              1.0  2.684546e+09   \n",
       "2    CREDIT  1458509094                0              2.0  2.238808e+09   \n",
       "3     DEBIT  1460494815                0              6.0  2.104261e+09   \n",
       "4    CREDIT  1460444513                0              6.0  1.188328e+09   \n",
       "\n",
       "   user_country_id  is_fraud  \n",
       "0              0.0         0  \n",
       "1              1.0         0  \n",
       "2              2.0         0  \n",
       "3              3.0         0  \n",
       "4              3.0         0  "
      ]
     },
     "execution_count": 8,
     "metadata": {},
     "output_type": "execute_result"
    }
   ],
   "source": [
    "df.head()"
   ]
  },
  {
   "cell_type": "code",
   "execution_count": 9,
   "metadata": {},
   "outputs": [],
   "source": [
    "df['first_6_digits']= df['first_6_digits'].astype(str)"
   ]
  },
  {
   "cell_type": "code",
   "execution_count": 10,
   "metadata": {
    "scrolled": true
   },
   "outputs": [
    {
     "data": {
      "text/plain": [
       "merchant            object\n",
       "first_6_digits      object\n",
       "payment_ref         object\n",
       "amount_eur         float64\n",
       "card_network        object\n",
       "card_type           object\n",
       "timestamp            int64\n",
       "refused_by_bank      int64\n",
       "bank_country_id    float64\n",
       "user_id            float64\n",
       "user_country_id    float64\n",
       "is_fraud             int64\n",
       "dtype: object"
      ]
     },
     "execution_count": 10,
     "metadata": {},
     "output_type": "execute_result"
    }
   ],
   "source": [
    "df.dtypes"
   ]
  },
  {
   "attachments": {
    "image.png": {
     "image/png": "[encoded data removed]"
    }
   },
   "cell_type": "markdown",
   "metadata": {},
   "source": [
    "## Test yourself!!\n",
    "\n",
    "* Look at 5 rows of the dataframe where is_fraud==1\n",
    "![image.png](attachment:image.png)"
   ]
  },
  {
   "cell_type": "code",
   "execution_count": 11,
   "metadata": {},
   "outputs": [],
   "source": [
    "# Answer\n"
   ]
  },
  {
   "cell_type": "markdown",
   "metadata": {},
   "source": [
    "## Time Features"
   ]
  },
  {
   "cell_type": "code",
   "execution_count": 12,
   "metadata": {},
   "outputs": [],
   "source": [
    "df['timestamp'] = pd.to_datetime(df['timestamp'], unit='s')"
   ]
  },
  {
   "cell_type": "code",
   "execution_count": 13,
   "metadata": {},
   "outputs": [],
   "source": [
    "df['dow_txn'] = df['timestamp'].apply(lambda x:x.dayofweek)\n"
   ]
  },
  {
   "cell_type": "code",
   "execution_count": 14,
   "metadata": {},
   "outputs": [],
   "source": [
    "df['hour_txn'] = df['timestamp'].apply(lambda x:x.hour)"
   ]
  },
  {
   "cell_type": "markdown",
   "metadata": {},
   "source": [
    "## Test yourself!!\n",
    "\n",
    "* Create a new feature \"month_txn\" which is a column in the df which is the number of the month of the transaction\n",
    "\n",
    "Hint:\n",
    "See Above"
   ]
  },
  {
   "cell_type": "code",
   "execution_count": 15,
   "metadata": {},
   "outputs": [],
   "source": [
    "# Answer to 3.3\n"
   ]
  },
  {
   "cell_type": "markdown",
   "metadata": {},
   "source": [
    "## Data Quality"
   ]
  },
  {
   "cell_type": "markdown",
   "metadata": {},
   "source": [
    "### Duplication"
   ]
  },
  {
   "cell_type": "code",
   "execution_count": 16,
   "metadata": {},
   "outputs": [
    {
     "data": {
      "text/plain": [
       "True"
      ]
     },
     "execution_count": 16,
     "metadata": {},
     "output_type": "execute_result"
    }
   ],
   "source": [
    "# check for duplicates\n",
    "any(df.duplicated())"
   ]
  },
  {
   "cell_type": "code",
   "execution_count": 17,
   "metadata": {},
   "outputs": [
    {
     "data": {
      "text/plain": [
       "True"
      ]
     },
     "execution_count": 17,
     "metadata": {},
     "output_type": "execute_result"
    }
   ],
   "source": [
    "any(df.duplicated('payment_ref'))"
   ]
  },
  {
   "cell_type": "code",
   "execution_count": 18,
   "metadata": {},
   "outputs": [
    {
     "data": {
      "text/html": [
       "<div>\n",
       "<style scoped>\n",
       "    .dataframe tbody tr th:only-of-type {\n",
       "        vertical-align: middle;\n",
       "    }\n",
       "\n",
       "    .dataframe tbody tr th {\n",
       "        vertical-align: top;\n",
       "    }\n",
       "\n",
       "    .dataframe thead th {\n",
       "        text-align: right;\n",
       "    }\n",
       "</style>\n",
       "<table border=\"1\" class=\"dataframe\">\n",
       "  <thead>\n",
       "    <tr style=\"text-align: right;\">\n",
       "      <th></th>\n",
       "      <th>merchant</th>\n",
       "      <th>first_6_digits</th>\n",
       "      <th>payment_ref</th>\n",
       "      <th>amount_eur</th>\n",
       "      <th>card_network</th>\n",
       "      <th>card_type</th>\n",
       "      <th>timestamp</th>\n",
       "      <th>refused_by_bank</th>\n",
       "      <th>bank_country_id</th>\n",
       "      <th>user_id</th>\n",
       "      <th>user_country_id</th>\n",
       "      <th>is_fraud</th>\n",
       "      <th>dow_txn</th>\n",
       "      <th>hour_txn</th>\n",
       "    </tr>\n",
       "  </thead>\n",
       "  <tbody>\n",
       "    <tr>\n",
       "      <th>10292</th>\n",
       "      <td>Shop2</td>\n",
       "      <td>370986.0</td>\n",
       "      <td>d06a71204d2cfa4d</td>\n",
       "      <td>27.13</td>\n",
       "      <td>SchemeB</td>\n",
       "      <td>NaN</td>\n",
       "      <td>2016-03-31 01:11:44</td>\n",
       "      <td>0</td>\n",
       "      <td>6.0</td>\n",
       "      <td>2.362693e+09</td>\n",
       "      <td>6.0</td>\n",
       "      <td>0</td>\n",
       "      <td>3</td>\n",
       "      <td>1</td>\n",
       "    </tr>\n",
       "    <tr>\n",
       "      <th>10293</th>\n",
       "      <td>Shop2</td>\n",
       "      <td>370986.0</td>\n",
       "      <td>d06a71204d2cfa4d</td>\n",
       "      <td>27.13</td>\n",
       "      <td>SchemeB</td>\n",
       "      <td>NaN</td>\n",
       "      <td>2016-03-31 01:11:44</td>\n",
       "      <td>0</td>\n",
       "      <td>6.0</td>\n",
       "      <td>2.362693e+09</td>\n",
       "      <td>6.0</td>\n",
       "      <td>0</td>\n",
       "      <td>3</td>\n",
       "      <td>1</td>\n",
       "    </tr>\n",
       "  </tbody>\n",
       "</table>\n",
       "</div>"
      ],
      "text/plain": [
       "      merchant first_6_digits       payment_ref  amount_eur card_network  \\\n",
       "10292    Shop2       370986.0  d06a71204d2cfa4d       27.13      SchemeB   \n",
       "10293    Shop2       370986.0  d06a71204d2cfa4d       27.13      SchemeB   \n",
       "\n",
       "      card_type           timestamp  refused_by_bank  bank_country_id  \\\n",
       "10292       NaN 2016-03-31 01:11:44                0              6.0   \n",
       "10293       NaN 2016-03-31 01:11:44                0              6.0   \n",
       "\n",
       "            user_id  user_country_id  is_fraud  dow_txn  hour_txn  \n",
       "10292  2.362693e+09              6.0         0        3         1  \n",
       "10293  2.362693e+09              6.0         0        3         1  "
      ]
     },
     "execution_count": 18,
     "metadata": {},
     "output_type": "execute_result"
    }
   ],
   "source": [
    "df[df['payment_ref'].isin(list(df[df.duplicated('payment_ref')]['payment_ref']))]"
   ]
  },
  {
   "cell_type": "code",
   "execution_count": 19,
   "metadata": {},
   "outputs": [],
   "source": [
    "# removal\n",
    "df = df[~df['payment_ref'].isin(list(df[df.duplicated('payment_ref')]['payment_ref']))]"
   ]
  },
  {
   "cell_type": "code",
   "execution_count": 20,
   "metadata": {},
   "outputs": [
    {
     "data": {
      "text/plain": [
       "(43218, 14)"
      ]
     },
     "execution_count": 20,
     "metadata": {},
     "output_type": "execute_result"
    }
   ],
   "source": [
    "df.shape"
   ]
  },
  {
   "cell_type": "markdown",
   "metadata": {},
   "source": [
    "## Test yourself!!\n",
    "* Check whether there are users that have made the same payments repeatedly. <br>\n",
    "use a filt: **df.duplicated(['one','two')]** and then the method value_counts(), and apply 'filt'"
   ]
  },
  {
   "cell_type": "code",
   "execution_count": 21,
   "metadata": {
    "scrolled": true
   },
   "outputs": [],
   "source": [
    "filt = df.duplicated(['amount_eur', 'user_id'])"
   ]
  },
  {
   "cell_type": "markdown",
   "metadata": {},
   "source": [
    "### Missing Data"
   ]
  },
  {
   "cell_type": "code",
   "execution_count": 22,
   "metadata": {},
   "outputs": [
    {
     "data": {
      "text/plain": [
       "<matplotlib.axes._subplots.AxesSubplot at 0x7fce0a4b4390>"
      ]
     },
     "execution_count": 22,
     "metadata": {},
     "output_type": "execute_result"
    },
    {
     "data": {
      "image/png": "[encoded data removed]",
      "text/plain": [
       "<Figure size 1080x720 with 1 Axes>"
      ]
     },
     "metadata": {},
     "output_type": "display_data"
    }
   ],
   "source": [
    "plt.rcParams['figure.figsize']=(15,10)\n",
    "sns.heatmap(df.isnull(), cbar=False)"
   ]
  },
  {
   "cell_type": "code",
   "execution_count": 23,
   "metadata": {
    "scrolled": true
   },
   "outputs": [
    {
     "data": {
      "text/plain": [
       "merchant              0\n",
       "first_6_digits        0\n",
       "payment_ref           0\n",
       "amount_eur            0\n",
       "card_network          4\n",
       "card_type          2505\n",
       "timestamp             0\n",
       "refused_by_bank       0\n",
       "bank_country_id     130\n",
       "user_id             430\n",
       "user_country_id    7482\n",
       "is_fraud              0\n",
       "dow_txn               0\n",
       "hour_txn              0\n",
       "dtype: int64"
      ]
     },
     "execution_count": 23,
     "metadata": {},
     "output_type": "execute_result"
    }
   ],
   "source": [
    "df.isnull().sum()"
   ]
  },
  {
   "cell_type": "markdown",
   "metadata": {},
   "source": [
    "## Analysis of Missing Data\n",
    "There exist missing data for a number of the variables present in this data-set. Treatment of each is outlined below. With more time more sophisticated methods (e.g. impute missing user_country_id from bank_country_id, merchant etc.) should be considered and sensitivity to missing data assessed. Here I have taken the approach of keeping information about 'missingness' (in case it is predictive of fraud) where sensible at the cost of losing information possible inferrable from imputing these values. Omitting these records completely would only be warranted if we were sure the missing data mechanism was MCAR (missing completely at random) and the the \"good\" records were representative of those missing (but at a minimum you could imagine the missingness of Card Network being assoicated with merchant?)\n",
    "\n",
    "* first_6_digits: it is very suspicious that these these are missing - it is hard to thing of a non data corruption reason for this but nevertheless will encode as 'missing'\n",
    "* card_network: again this seems more like a data corruption/processing issue but nevertheless will encode as 'missing'\n",
    "* card_type: encoded as 'missing' - this could be legitimately not available for some card types?\n",
    "* bank_country_id: encoded as 'missing' - this could be legitimately not available for some banks\n",
    "* user_id: encoded as 'missing' - this again seems to be unlikely to be not available\n",
    "* user_country_id: encoded as 'missing' - this could be legitimately not available for some users although the pattern observed in the above heatmap warrants some further investigation.)\n",
    "\n"
   ]
  },
  {
   "cell_type": "code",
   "execution_count": 24,
   "metadata": {},
   "outputs": [],
   "source": [
    "df.fillna('missing', inplace=True)"
   ]
  },
  {
   "cell_type": "markdown",
   "metadata": {},
   "source": [
    "One hypothesis could being seeing the patern above that if the dataset was ordered by time payment recieved then perhaps the country ids were missing for a particular time period but looking at the below that does not seem to be the case. A fuller investigation would check whether the df is ordered by any other of the features (doesn't appear to be) and also consider the cross tabulation of user country id missingness with other cat features.\n"
   ]
  },
  {
   "cell_type": "code",
   "execution_count": 25,
   "metadata": {},
   "outputs": [
    {
     "data": {
      "text/plain": [
       "[<matplotlib.lines.Line2D at 0x7fce0fbd3090>]"
      ]
     },
     "execution_count": 25,
     "metadata": {},
     "output_type": "execute_result"
    },
    {
     "data": {
      "image/png": "[encoded data removed]",
      "text/plain": [
       "<Figure size 1080x720 with 1 Axes>"
      ]
     },
     "metadata": {},
     "output_type": "display_data"
    }
   ],
   "source": [
    "plt.plot(df.index, df.timestamp)"
   ]
  },
  {
   "cell_type": "markdown",
   "metadata": {},
   "source": [
    "## Test yourself!!\n",
    "\n",
    "* You are suspicious of the missing data in the first_six_digits column and so instead of replacing those values you drop all the rows in the dataframe for which this column is missing a value. Hint: df.dropna(subset= ['one'])"
   ]
  },
  {
   "cell_type": "code",
   "execution_count": 26,
   "metadata": {},
   "outputs": [],
   "source": [
    "# Put your answer here"
   ]
  },
  {
   "cell_type": "markdown",
   "metadata": {},
   "source": [
    "#  Exploratory Data Analysis"
   ]
  },
  {
   "cell_type": "markdown",
   "metadata": {},
   "source": [
    "## Target Variable"
   ]
  },
  {
   "cell_type": "code",
   "execution_count": 27,
   "metadata": {},
   "outputs": [
    {
     "data": {
      "text/plain": [
       "0    42994\n",
       "1      224\n",
       "Name: is_fraud, dtype: int64"
      ]
     },
     "execution_count": 27,
     "metadata": {},
     "output_type": "execute_result"
    }
   ],
   "source": [
    "df['is_fraud'].value_counts()\n"
   ]
  },
  {
   "cell_type": "code",
   "execution_count": 28,
   "metadata": {},
   "outputs": [
    {
     "data": {
      "text/plain": [
       "is_fraud\n",
       "0    42994\n",
       "1      224\n",
       "Name: payment_ref, dtype: int64"
      ]
     },
     "execution_count": 28,
     "metadata": {},
     "output_type": "execute_result"
    }
   ],
   "source": [
    "df.groupby(['is_fraud'])['payment_ref'].count()"
   ]
  },
  {
   "cell_type": "code",
   "execution_count": 29,
   "metadata": {},
   "outputs": [
    {
     "data": {
      "text/plain": [
       "<BarContainer object of 2 artists>"
      ]
     },
     "execution_count": 29,
     "metadata": {},
     "output_type": "execute_result"
    },
    {
     "data": {
      "image/png": "[encoded data removed]",
      "text/plain": [
       "<Figure size 1080x720 with 1 Axes>"
      ]
     },
     "metadata": {},
     "output_type": "display_data"
    }
   ],
   "source": [
    "plt.bar(df.groupby(['is_fraud'])['payment_ref'].count().index, df.groupby(['is_fraud'])['payment_ref'].count())"
   ]
  },
  {
   "cell_type": "markdown",
   "metadata": {},
   "source": [
    "## Test yourself!\n",
    "\n",
    "* Add a title and labels for x and y axis to the above plot.\n",
    "hint:\n",
    "plt.title('x')\n",
    "plt.xlabel('y')\n",
    "plt.ylabel('z')"
   ]
  },
  {
   "cell_type": "code",
   "execution_count": 30,
   "metadata": {},
   "outputs": [
    {
     "data": {
      "image/png": "[encoded data removed]",
      "text/plain": [
       "<Figure size 1080x720 with 1 Axes>"
      ]
     },
     "metadata": {},
     "output_type": "display_data"
    }
   ],
   "source": [
    "ax = sns.countplot(x=\"is_fraud\", data=df)"
   ]
  },
  {
   "cell_type": "markdown",
   "metadata": {},
   "source": [
    "## First 6 Digits of the Card"
   ]
  },
  {
   "cell_type": "code",
   "execution_count": 31,
   "metadata": {},
   "outputs": [
    {
     "data": {
      "text/html": [
       "<div>\n",
       "<style scoped>\n",
       "    .dataframe tbody tr th:only-of-type {\n",
       "        vertical-align: middle;\n",
       "    }\n",
       "\n",
       "    .dataframe tbody tr th {\n",
       "        vertical-align: top;\n",
       "    }\n",
       "\n",
       "    .dataframe thead th {\n",
       "        text-align: right;\n",
       "    }\n",
       "</style>\n",
       "<table border=\"1\" class=\"dataframe\">\n",
       "  <thead>\n",
       "    <tr style=\"text-align: right;\">\n",
       "      <th>is_fraud</th>\n",
       "      <th>0</th>\n",
       "      <th>1</th>\n",
       "    </tr>\n",
       "    <tr>\n",
       "      <th>merchant</th>\n",
       "      <th></th>\n",
       "      <th></th>\n",
       "    </tr>\n",
       "  </thead>\n",
       "  <tbody>\n",
       "    <tr>\n",
       "      <th>Shop1</th>\n",
       "      <td>0.970</td>\n",
       "      <td>0.030</td>\n",
       "    </tr>\n",
       "    <tr>\n",
       "      <th>Shop2</th>\n",
       "      <td>0.993</td>\n",
       "      <td>0.007</td>\n",
       "    </tr>\n",
       "    <tr>\n",
       "      <th>Shop3</th>\n",
       "      <td>0.999</td>\n",
       "      <td>0.001</td>\n",
       "    </tr>\n",
       "    <tr>\n",
       "      <th>Shop4</th>\n",
       "      <td>1.000</td>\n",
       "      <td>0.000</td>\n",
       "    </tr>\n",
       "    <tr>\n",
       "      <th>Shop5</th>\n",
       "      <td>0.998</td>\n",
       "      <td>0.002</td>\n",
       "    </tr>\n",
       "    <tr>\n",
       "      <th>Shop6</th>\n",
       "      <td>1.000</td>\n",
       "      <td>0.000</td>\n",
       "    </tr>\n",
       "    <tr>\n",
       "      <th>Shop7</th>\n",
       "      <td>1.000</td>\n",
       "      <td>0.000</td>\n",
       "    </tr>\n",
       "    <tr>\n",
       "      <th>Shop8</th>\n",
       "      <td>1.000</td>\n",
       "      <td>0.000</td>\n",
       "    </tr>\n",
       "  </tbody>\n",
       "</table>\n",
       "</div>"
      ],
      "text/plain": [
       "is_fraud      0      1\n",
       "merchant              \n",
       "Shop1     0.970  0.030\n",
       "Shop2     0.993  0.007\n",
       "Shop3     0.999  0.001\n",
       "Shop4     1.000  0.000\n",
       "Shop5     0.998  0.002\n",
       "Shop6     1.000  0.000\n",
       "Shop7     1.000  0.000\n",
       "Shop8     1.000  0.000"
      ]
     },
     "execution_count": 31,
     "metadata": {},
     "output_type": "execute_result"
    }
   ],
   "source": [
    "pd.crosstab(df['merchant'], df['is_fraud']).apply(lambda r: round(r/r.sum(), 3),axis = 1)\n"
   ]
  },
  {
   "cell_type": "code",
   "execution_count": 32,
   "metadata": {},
   "outputs": [
    {
     "data": {
      "image/png": "[encoded data removed]",
      "text/plain": [
       "<Figure size 1080x720 with 2 Axes>"
      ]
     },
     "metadata": {},
     "output_type": "display_data"
    }
   ],
   "source": [
    "ax = sns.heatmap(pd.crosstab(df['merchant'], df['is_fraud']), annot = True, fmt=\".0f\")\n",
    "ax = ax.set_ylim(len(pd.crosstab(df['merchant'], df['is_fraud']))+ 0.5, -0.5)"
   ]
  },
  {
   "cell_type": "code",
   "execution_count": 33,
   "metadata": {},
   "outputs": [
    {
     "data": {
      "text/plain": [
       "934471.0    1381\n",
       "740079.0    1299\n",
       "303700.0    1079\n",
       "625175.0     982\n",
       "805203.0     930\n",
       "126429.0     900\n",
       "429753.0     846\n",
       "497671.0     841\n",
       "975044.0     680\n",
       "98184.0      608\n",
       "989699.0     605\n",
       "759248.0     553\n",
       "640891.0     548\n",
       "196048.0     544\n",
       "267236.0     471\n",
       "235481.0     470\n",
       "658736.0     462\n",
       "510455.0     454\n",
       "293420.0     438\n",
       "843655.0     434\n",
       "Name: first_6_digits, dtype: int64"
      ]
     },
     "execution_count": 33,
     "metadata": {},
     "output_type": "execute_result"
    }
   ],
   "source": [
    "df['first_6_digits'].value_counts()[0:20]"
   ]
  },
  {
   "cell_type": "markdown",
   "metadata": {},
   "source": [
    "Lets look at the top twenty of these and see if there appears to be any glaring relation to fraud."
   ]
  },
  {
   "cell_type": "code",
   "execution_count": 34,
   "metadata": {},
   "outputs": [
    {
     "data": {
      "text/html": [
       "<div>\n",
       "<style scoped>\n",
       "    .dataframe tbody tr th:only-of-type {\n",
       "        vertical-align: middle;\n",
       "    }\n",
       "\n",
       "    .dataframe tbody tr th {\n",
       "        vertical-align: top;\n",
       "    }\n",
       "\n",
       "    .dataframe thead th {\n",
       "        text-align: right;\n",
       "    }\n",
       "</style>\n",
       "<table border=\"1\" class=\"dataframe\">\n",
       "  <thead>\n",
       "    <tr style=\"text-align: right;\">\n",
       "      <th>is_fraud</th>\n",
       "      <th>0</th>\n",
       "      <th>1</th>\n",
       "    </tr>\n",
       "    <tr>\n",
       "      <th>first_6_digits</th>\n",
       "      <th></th>\n",
       "      <th></th>\n",
       "    </tr>\n",
       "  </thead>\n",
       "  <tbody>\n",
       "    <tr>\n",
       "      <th>126429.0</th>\n",
       "      <td>0.991</td>\n",
       "      <td>0.009</td>\n",
       "    </tr>\n",
       "    <tr>\n",
       "      <th>196048.0</th>\n",
       "      <td>0.993</td>\n",
       "      <td>0.007</td>\n",
       "    </tr>\n",
       "    <tr>\n",
       "      <th>235481.0</th>\n",
       "      <td>1.000</td>\n",
       "      <td>0.000</td>\n",
       "    </tr>\n",
       "    <tr>\n",
       "      <th>267236.0</th>\n",
       "      <td>1.000</td>\n",
       "      <td>0.000</td>\n",
       "    </tr>\n",
       "    <tr>\n",
       "      <th>293420.0</th>\n",
       "      <td>1.000</td>\n",
       "      <td>0.000</td>\n",
       "    </tr>\n",
       "    <tr>\n",
       "      <th>303700.0</th>\n",
       "      <td>0.990</td>\n",
       "      <td>0.010</td>\n",
       "    </tr>\n",
       "    <tr>\n",
       "      <th>429753.0</th>\n",
       "      <td>0.998</td>\n",
       "      <td>0.002</td>\n",
       "    </tr>\n",
       "    <tr>\n",
       "      <th>497671.0</th>\n",
       "      <td>1.000</td>\n",
       "      <td>0.000</td>\n",
       "    </tr>\n",
       "    <tr>\n",
       "      <th>510455.0</th>\n",
       "      <td>0.996</td>\n",
       "      <td>0.004</td>\n",
       "    </tr>\n",
       "    <tr>\n",
       "      <th>625175.0</th>\n",
       "      <td>0.995</td>\n",
       "      <td>0.005</td>\n",
       "    </tr>\n",
       "    <tr>\n",
       "      <th>640891.0</th>\n",
       "      <td>0.993</td>\n",
       "      <td>0.007</td>\n",
       "    </tr>\n",
       "    <tr>\n",
       "      <th>658736.0</th>\n",
       "      <td>0.991</td>\n",
       "      <td>0.009</td>\n",
       "    </tr>\n",
       "    <tr>\n",
       "      <th>740079.0</th>\n",
       "      <td>0.995</td>\n",
       "      <td>0.005</td>\n",
       "    </tr>\n",
       "    <tr>\n",
       "      <th>759248.0</th>\n",
       "      <td>1.000</td>\n",
       "      <td>0.000</td>\n",
       "    </tr>\n",
       "    <tr>\n",
       "      <th>805203.0</th>\n",
       "      <td>0.992</td>\n",
       "      <td>0.008</td>\n",
       "    </tr>\n",
       "    <tr>\n",
       "      <th>843655.0</th>\n",
       "      <td>0.977</td>\n",
       "      <td>0.023</td>\n",
       "    </tr>\n",
       "    <tr>\n",
       "      <th>934471.0</th>\n",
       "      <td>0.992</td>\n",
       "      <td>0.008</td>\n",
       "    </tr>\n",
       "    <tr>\n",
       "      <th>975044.0</th>\n",
       "      <td>0.993</td>\n",
       "      <td>0.007</td>\n",
       "    </tr>\n",
       "    <tr>\n",
       "      <th>98184.0</th>\n",
       "      <td>1.000</td>\n",
       "      <td>0.000</td>\n",
       "    </tr>\n",
       "    <tr>\n",
       "      <th>989699.0</th>\n",
       "      <td>0.992</td>\n",
       "      <td>0.008</td>\n",
       "    </tr>\n",
       "  </tbody>\n",
       "</table>\n",
       "</div>"
      ],
      "text/plain": [
       "is_fraud            0      1\n",
       "first_6_digits              \n",
       "126429.0        0.991  0.009\n",
       "196048.0        0.993  0.007\n",
       "235481.0        1.000  0.000\n",
       "267236.0        1.000  0.000\n",
       "293420.0        1.000  0.000\n",
       "303700.0        0.990  0.010\n",
       "429753.0        0.998  0.002\n",
       "497671.0        1.000  0.000\n",
       "510455.0        0.996  0.004\n",
       "625175.0        0.995  0.005\n",
       "640891.0        0.993  0.007\n",
       "658736.0        0.991  0.009\n",
       "740079.0        0.995  0.005\n",
       "759248.0        1.000  0.000\n",
       "805203.0        0.992  0.008\n",
       "843655.0        0.977  0.023\n",
       "934471.0        0.992  0.008\n",
       "975044.0        0.993  0.007\n",
       "98184.0         1.000  0.000\n",
       "989699.0        0.992  0.008"
      ]
     },
     "execution_count": 34,
     "metadata": {},
     "output_type": "execute_result"
    }
   ],
   "source": [
    "temp = df[df.first_6_digits.isin(df['first_6_digits'].value_counts()[0:20].index.to_list())]\n",
    "pd.crosstab(temp['first_6_digits'], temp['is_fraud']).apply(lambda r: round(r/r.sum(), 3),axis = 1)\n"
   ]
  },
  {
   "cell_type": "markdown",
   "metadata": {},
   "source": [
    "There is no major pattern immediately discernible and such a highly cardinal variable is difficult to include in the model. In future developments it may make sense to look at derived variables from these (e.g. issuing bank)."
   ]
  },
  {
   "cell_type": "markdown",
   "metadata": {},
   "source": [
    "## Test yourself!!\n",
    "\n",
    "* Using a pandas groupby (or some other way) - calculate the average amount spent in each merchant. <br>\n",
    "df.groupby(['one'])['two'].mean()"
   ]
  },
  {
   "cell_type": "code",
   "execution_count": 35,
   "metadata": {},
   "outputs": [],
   "source": [
    "# Answer"
   ]
  },
  {
   "cell_type": "markdown",
   "metadata": {},
   "source": [
    "## 3.3. Amount Euro"
   ]
  },
  {
   "cell_type": "markdown",
   "metadata": {},
   "source": [
    "\n",
    "\n",
    "Currency amounts are typically highly skewed and this is what is exhibited in the dataset. In addition there are number of extreme values and transactions of amount 0.\n",
    "\n",
    "* Most instituions have some limit on card transactions and so my supspicion is that the extreme values are not 'true outliers' but rather corrupted data and so I will exlude those 8 for which the amount is above 10,000 euro.\n",
    "* 0 euro amount transactions may happen when a merchant is \"validating\" a card. These I have left in as I believe them to be non-corrupted although there are merchant patterns worthy of later investigation.\n",
    "* I use a log transform of the amount eur to aid in visualisation & model training.\n",
    "\n"
   ]
  },
  {
   "cell_type": "code",
   "execution_count": 36,
   "metadata": {
    "scrolled": true
   },
   "outputs": [
    {
     "data": {
      "image/png": "[encoded data removed]",
      "text/plain": [
       "<Figure size 1080x720 with 1 Axes>"
      ]
     },
     "metadata": {},
     "output_type": "display_data"
    }
   ],
   "source": [
    "ax = sns.boxplot(x=\"is_fraud\", y=\"amount_eur\",data=df)"
   ]
  },
  {
   "cell_type": "markdown",
   "metadata": {},
   "source": [
    "There appears to be nothing else strange about these extreme values, and no obvious pattern."
   ]
  },
  {
   "cell_type": "code",
   "execution_count": 37,
   "metadata": {
    "scrolled": true
   },
   "outputs": [
    {
     "data": {
      "text/html": [
       "<div>\n",
       "<style scoped>\n",
       "    .dataframe tbody tr th:only-of-type {\n",
       "        vertical-align: middle;\n",
       "    }\n",
       "\n",
       "    .dataframe tbody tr th {\n",
       "        vertical-align: top;\n",
       "    }\n",
       "\n",
       "    .dataframe thead th {\n",
       "        text-align: right;\n",
       "    }\n",
       "</style>\n",
       "<table border=\"1\" class=\"dataframe\">\n",
       "  <thead>\n",
       "    <tr style=\"text-align: right;\">\n",
       "      <th></th>\n",
       "      <th>merchant</th>\n",
       "      <th>first_6_digits</th>\n",
       "      <th>payment_ref</th>\n",
       "      <th>amount_eur</th>\n",
       "      <th>card_network</th>\n",
       "      <th>card_type</th>\n",
       "      <th>timestamp</th>\n",
       "      <th>refused_by_bank</th>\n",
       "      <th>bank_country_id</th>\n",
       "      <th>user_id</th>\n",
       "      <th>user_country_id</th>\n",
       "      <th>is_fraud</th>\n",
       "      <th>dow_txn</th>\n",
       "      <th>hour_txn</th>\n",
       "    </tr>\n",
       "  </thead>\n",
       "  <tbody>\n",
       "    <tr>\n",
       "      <th>35531</th>\n",
       "      <td>Shop2</td>\n",
       "      <td>303700.0</td>\n",
       "      <td>bbc7dc55d597ef53</td>\n",
       "      <td>503700480.0</td>\n",
       "      <td>SchemeB</td>\n",
       "      <td>DEBIT</td>\n",
       "      <td>2016-03-16 05:34:07</td>\n",
       "      <td>0</td>\n",
       "      <td>6</td>\n",
       "      <td>1.03764e+09</td>\n",
       "      <td>missing</td>\n",
       "      <td>0</td>\n",
       "      <td>2</td>\n",
       "      <td>5</td>\n",
       "    </tr>\n",
       "    <tr>\n",
       "      <th>34257</th>\n",
       "      <td>Shop2</td>\n",
       "      <td>445070.0</td>\n",
       "      <td>eb891582143f8e39</td>\n",
       "      <td>487527744.0</td>\n",
       "      <td>SchemeI</td>\n",
       "      <td>CREDIT</td>\n",
       "      <td>2016-03-10 08:41:36</td>\n",
       "      <td>0</td>\n",
       "      <td>6</td>\n",
       "      <td>6.93392e+08</td>\n",
       "      <td>missing</td>\n",
       "      <td>0</td>\n",
       "      <td>3</td>\n",
       "      <td>8</td>\n",
       "    </tr>\n",
       "    <tr>\n",
       "      <th>33395</th>\n",
       "      <td>Shop2</td>\n",
       "      <td>448164.0</td>\n",
       "      <td>58dbf4c1cc5430f7</td>\n",
       "      <td>201850560.0</td>\n",
       "      <td>SchemeD</td>\n",
       "      <td>DEBIT</td>\n",
       "      <td>2016-04-08 18:47:43</td>\n",
       "      <td>0</td>\n",
       "      <td>6</td>\n",
       "      <td>8.4715e+08</td>\n",
       "      <td>missing</td>\n",
       "      <td>0</td>\n",
       "      <td>4</td>\n",
       "      <td>18</td>\n",
       "    </tr>\n",
       "    <tr>\n",
       "      <th>24397</th>\n",
       "      <td>Shop2</td>\n",
       "      <td>194687.0</td>\n",
       "      <td>7a37b7bf9bb20591</td>\n",
       "      <td>167282880.0</td>\n",
       "      <td>SchemeB</td>\n",
       "      <td>missing</td>\n",
       "      <td>2016-04-07 09:14:27</td>\n",
       "      <td>0</td>\n",
       "      <td>6</td>\n",
       "      <td>1.32998e+09</td>\n",
       "      <td>6</td>\n",
       "      <td>0</td>\n",
       "      <td>3</td>\n",
       "      <td>9</td>\n",
       "    </tr>\n",
       "    <tr>\n",
       "      <th>30875</th>\n",
       "      <td>Shop1</td>\n",
       "      <td>429753.0</td>\n",
       "      <td>7204da05b1a429ad</td>\n",
       "      <td>162961920.0</td>\n",
       "      <td>SchemeB</td>\n",
       "      <td>DEBIT</td>\n",
       "      <td>2016-03-24 01:04:34</td>\n",
       "      <td>1</td>\n",
       "      <td>6</td>\n",
       "      <td>1.48269e+09</td>\n",
       "      <td>missing</td>\n",
       "      <td>0</td>\n",
       "      <td>3</td>\n",
       "      <td>1</td>\n",
       "    </tr>\n",
       "  </tbody>\n",
       "</table>\n",
       "</div>"
      ],
      "text/plain": [
       "      merchant first_6_digits       payment_ref   amount_eur card_network  \\\n",
       "35531    Shop2       303700.0  bbc7dc55d597ef53  503700480.0      SchemeB   \n",
       "34257    Shop2       445070.0  eb891582143f8e39  487527744.0      SchemeI   \n",
       "33395    Shop2       448164.0  58dbf4c1cc5430f7  201850560.0      SchemeD   \n",
       "24397    Shop2       194687.0  7a37b7bf9bb20591  167282880.0      SchemeB   \n",
       "30875    Shop1       429753.0  7204da05b1a429ad  162961920.0      SchemeB   \n",
       "\n",
       "      card_type           timestamp  refused_by_bank bank_country_id  \\\n",
       "35531     DEBIT 2016-03-16 05:34:07                0               6   \n",
       "34257    CREDIT 2016-03-10 08:41:36                0               6   \n",
       "33395     DEBIT 2016-04-08 18:47:43                0               6   \n",
       "24397   missing 2016-04-07 09:14:27                0               6   \n",
       "30875     DEBIT 2016-03-24 01:04:34                1               6   \n",
       "\n",
       "           user_id user_country_id  is_fraud  dow_txn  hour_txn  \n",
       "35531  1.03764e+09         missing         0        2         5  \n",
       "34257  6.93392e+08         missing         0        3         8  \n",
       "33395   8.4715e+08         missing         0        4        18  \n",
       "24397  1.32998e+09               6         0        3         9  \n",
       "30875  1.48269e+09         missing         0        3         1  "
      ]
     },
     "execution_count": 37,
     "metadata": {},
     "output_type": "execute_result"
    }
   ],
   "source": [
    "df.nlargest(5, \"amount_eur\", keep='first')"
   ]
  },
  {
   "cell_type": "code",
   "execution_count": 38,
   "metadata": {},
   "outputs": [],
   "source": [
    "df = df[df[\"amount_eur\"]< 10000]"
   ]
  },
  {
   "cell_type": "markdown",
   "metadata": {},
   "source": [
    "Again these look legitimate except that they largely seem to come from 'Shop8' and none are Fraudulent. Perhaps Shop 8 is some sort of (e.g. App) where there is a possibilty to upgrade (for a very low amount e.g. 1 euro) and a card must be provided for sign-up? Anyways I have left them in for the time being - this with more time should be investigate however."
   ]
  },
  {
   "cell_type": "code",
   "execution_count": 39,
   "metadata": {},
   "outputs": [
    {
     "data": {
      "text/plain": [
       "Shop8    5215\n",
       "Shop2      52\n",
       "Shop7      16\n",
       "Name: merchant, dtype: int64"
      ]
     },
     "execution_count": 39,
     "metadata": {},
     "output_type": "execute_result"
    }
   ],
   "source": [
    "df[df[\"amount_eur\"]== 0]['merchant'].value_counts()"
   ]
  },
  {
   "cell_type": "code",
   "execution_count": 40,
   "metadata": {},
   "outputs": [
    {
     "data": {
      "text/plain": [
       "0.0000    5215\n",
       "2.0000     133\n",
       "1.0000       8\n",
       "1.1559       1\n",
       "Name: amount_eur, dtype: int64"
      ]
     },
     "execution_count": 40,
     "metadata": {},
     "output_type": "execute_result"
    }
   ],
   "source": [
    "df[df['merchant']== 'Shop8']['amount_eur'].value_counts()\n"
   ]
  },
  {
   "cell_type": "code",
   "execution_count": 41,
   "metadata": {},
   "outputs": [
    {
     "data": {
      "text/plain": [
       "0    5283\n",
       "Name: is_fraud, dtype: int64"
      ]
     },
     "execution_count": 41,
     "metadata": {},
     "output_type": "execute_result"
    }
   ],
   "source": [
    "df[df[\"amount_eur\"]== 0]['is_fraud'].value_counts()"
   ]
  },
  {
   "cell_type": "code",
   "execution_count": 42,
   "metadata": {},
   "outputs": [
    {
     "data": {
      "text/html": [
       "<div>\n",
       "<style scoped>\n",
       "    .dataframe tbody tr th:only-of-type {\n",
       "        vertical-align: middle;\n",
       "    }\n",
       "\n",
       "    .dataframe tbody tr th {\n",
       "        vertical-align: top;\n",
       "    }\n",
       "\n",
       "    .dataframe thead th {\n",
       "        text-align: right;\n",
       "    }\n",
       "</style>\n",
       "<table border=\"1\" class=\"dataframe\">\n",
       "  <thead>\n",
       "    <tr style=\"text-align: right;\">\n",
       "      <th></th>\n",
       "      <th>merchant</th>\n",
       "      <th>first_6_digits</th>\n",
       "      <th>payment_ref</th>\n",
       "      <th>amount_eur</th>\n",
       "      <th>card_network</th>\n",
       "      <th>card_type</th>\n",
       "      <th>timestamp</th>\n",
       "      <th>refused_by_bank</th>\n",
       "      <th>bank_country_id</th>\n",
       "      <th>user_id</th>\n",
       "      <th>user_country_id</th>\n",
       "      <th>is_fraud</th>\n",
       "      <th>dow_txn</th>\n",
       "      <th>hour_txn</th>\n",
       "    </tr>\n",
       "  </thead>\n",
       "  <tbody>\n",
       "    <tr>\n",
       "      <th>0</th>\n",
       "      <td>Shop8</td>\n",
       "      <td>96543.0</td>\n",
       "      <td>78089c3946037ca9</td>\n",
       "      <td>0.0</td>\n",
       "      <td>SchemeF</td>\n",
       "      <td>DEBIT</td>\n",
       "      <td>2016-03-16 23:12:52</td>\n",
       "      <td>0</td>\n",
       "      <td>0</td>\n",
       "      <td>2.67393e+09</td>\n",
       "      <td>0</td>\n",
       "      <td>0</td>\n",
       "      <td>2</td>\n",
       "      <td>23</td>\n",
       "    </tr>\n",
       "    <tr>\n",
       "      <th>1</th>\n",
       "      <td>Shop8</td>\n",
       "      <td>579100.0</td>\n",
       "      <td>62c49a618760d829</td>\n",
       "      <td>0.0</td>\n",
       "      <td>SchemeD</td>\n",
       "      <td>DEBIT</td>\n",
       "      <td>2016-03-19 15:27:17</td>\n",
       "      <td>0</td>\n",
       "      <td>1</td>\n",
       "      <td>2.68455e+09</td>\n",
       "      <td>1</td>\n",
       "      <td>0</td>\n",
       "      <td>5</td>\n",
       "      <td>15</td>\n",
       "    </tr>\n",
       "    <tr>\n",
       "      <th>13</th>\n",
       "      <td>Shop8</td>\n",
       "      <td>971958.0</td>\n",
       "      <td>465ccfa0157f1323</td>\n",
       "      <td>0.0</td>\n",
       "      <td>SchemeD</td>\n",
       "      <td>CREDIT</td>\n",
       "      <td>2016-03-28 23:37:03</td>\n",
       "      <td>0</td>\n",
       "      <td>10</td>\n",
       "      <td>2.71257e+09</td>\n",
       "      <td>6</td>\n",
       "      <td>0</td>\n",
       "      <td>0</td>\n",
       "      <td>23</td>\n",
       "    </tr>\n",
       "    <tr>\n",
       "      <th>15</th>\n",
       "      <td>Shop8</td>\n",
       "      <td>876706.0</td>\n",
       "      <td>4b1fb4f472aacbaf</td>\n",
       "      <td>0.0</td>\n",
       "      <td>SchemeF</td>\n",
       "      <td>CREDIT</td>\n",
       "      <td>2016-03-08 19:27:03</td>\n",
       "      <td>0</td>\n",
       "      <td>10</td>\n",
       "      <td>9.42296e+08</td>\n",
       "      <td>6</td>\n",
       "      <td>0</td>\n",
       "      <td>1</td>\n",
       "      <td>19</td>\n",
       "    </tr>\n",
       "    <tr>\n",
       "      <th>28</th>\n",
       "      <td>Shop8</td>\n",
       "      <td>152988.0</td>\n",
       "      <td>693361875d5067b5</td>\n",
       "      <td>0.0</td>\n",
       "      <td>SchemeD</td>\n",
       "      <td>CREDIT</td>\n",
       "      <td>2016-03-14 22:16:28</td>\n",
       "      <td>0</td>\n",
       "      <td>10</td>\n",
       "      <td>2.67062e+09</td>\n",
       "      <td>6</td>\n",
       "      <td>0</td>\n",
       "      <td>0</td>\n",
       "      <td>22</td>\n",
       "    </tr>\n",
       "  </tbody>\n",
       "</table>\n",
       "</div>"
      ],
      "text/plain": [
       "   merchant first_6_digits       payment_ref  amount_eur card_network  \\\n",
       "0     Shop8        96543.0  78089c3946037ca9         0.0      SchemeF   \n",
       "1     Shop8       579100.0  62c49a618760d829         0.0      SchemeD   \n",
       "13    Shop8       971958.0  465ccfa0157f1323         0.0      SchemeD   \n",
       "15    Shop8       876706.0  4b1fb4f472aacbaf         0.0      SchemeF   \n",
       "28    Shop8       152988.0  693361875d5067b5         0.0      SchemeD   \n",
       "\n",
       "   card_type           timestamp  refused_by_bank bank_country_id  \\\n",
       "0      DEBIT 2016-03-16 23:12:52                0               0   \n",
       "1      DEBIT 2016-03-19 15:27:17                0               1   \n",
       "13    CREDIT 2016-03-28 23:37:03                0              10   \n",
       "15    CREDIT 2016-03-08 19:27:03                0              10   \n",
       "28    CREDIT 2016-03-14 22:16:28                0              10   \n",
       "\n",
       "        user_id user_country_id  is_fraud  dow_txn  hour_txn  \n",
       "0   2.67393e+09               0         0        2        23  \n",
       "1   2.68455e+09               1         0        5        15  \n",
       "13  2.71257e+09               6         0        0        23  \n",
       "15  9.42296e+08               6         0        1        19  \n",
       "28  2.67062e+09               6         0        0        22  "
      ]
     },
     "execution_count": 42,
     "metadata": {},
     "output_type": "execute_result"
    }
   ],
   "source": [
    "df[df[\"amount_eur\"]== 0].head(5)"
   ]
  },
  {
   "cell_type": "markdown",
   "metadata": {},
   "source": [
    "Looking at the overal distribution of amount in euro it is difficult to make any conclusions due to the skew in the data which we address below."
   ]
  },
  {
   "cell_type": "code",
   "execution_count": 43,
   "metadata": {
    "scrolled": true
   },
   "outputs": [
    {
     "data": {
      "text/plain": [
       "<matplotlib.axes._subplots.AxesSubplot at 0x7fcdf71992d0>"
      ]
     },
     "execution_count": 43,
     "metadata": {},
     "output_type": "execute_result"
    },
    {
     "data": {
      "image/png": "[encoded data removed]",
      "text/plain": [
       "<Figure size 1080x720 with 1 Axes>"
      ]
     },
     "metadata": {},
     "output_type": "display_data"
    }
   ],
   "source": [
    "\n",
    "sns.distplot( df[df.is_fraud ==0][\"amount_eur\"], color=\"skyblue\", label=\"Non Fraudulent\")\n",
    "sns.distplot( df[df.is_fraud ==1][\"amount_eur\"] , color=\"red\", label=\"Fraudulent\")"
   ]
  },
  {
   "cell_type": "code",
   "execution_count": 44,
   "metadata": {},
   "outputs": [
    {
     "data": {
      "text/html": [
       "<div>\n",
       "<style scoped>\n",
       "    .dataframe tbody tr th:only-of-type {\n",
       "        vertical-align: middle;\n",
       "    }\n",
       "\n",
       "    .dataframe tbody tr th {\n",
       "        vertical-align: top;\n",
       "    }\n",
       "\n",
       "    .dataframe thead th {\n",
       "        text-align: right;\n",
       "    }\n",
       "</style>\n",
       "<table border=\"1\" class=\"dataframe\">\n",
       "  <thead>\n",
       "    <tr style=\"text-align: right;\">\n",
       "      <th></th>\n",
       "      <th>merchant</th>\n",
       "      <th>first_6_digits</th>\n",
       "      <th>payment_ref</th>\n",
       "      <th>amount_eur</th>\n",
       "      <th>card_network</th>\n",
       "      <th>card_type</th>\n",
       "      <th>timestamp</th>\n",
       "      <th>refused_by_bank</th>\n",
       "      <th>bank_country_id</th>\n",
       "      <th>user_id</th>\n",
       "      <th>user_country_id</th>\n",
       "      <th>is_fraud</th>\n",
       "      <th>dow_txn</th>\n",
       "      <th>hour_txn</th>\n",
       "    </tr>\n",
       "  </thead>\n",
       "  <tbody>\n",
       "  </tbody>\n",
       "</table>\n",
       "</div>"
      ],
      "text/plain": [
       "Empty DataFrame\n",
       "Columns: [merchant, first_6_digits, payment_ref, amount_eur, card_network, card_type, timestamp, refused_by_bank, bank_country_id, user_id, user_country_id, is_fraud, dow_txn, hour_txn]\n",
       "Index: []"
      ]
     },
     "execution_count": 44,
     "metadata": {},
     "output_type": "execute_result"
    }
   ],
   "source": [
    "df[df['amount_eur']< 0]"
   ]
  },
  {
   "cell_type": "code",
   "execution_count": 45,
   "metadata": {},
   "outputs": [],
   "source": [
    "df['amount_eur'] =  pd.Series(np.log(df['amount_eur'] + 1))"
   ]
  },
  {
   "cell_type": "code",
   "execution_count": 46,
   "metadata": {},
   "outputs": [
    {
     "data": {
      "text/plain": [
       "<matplotlib.legend.Legend at 0x7fcdf7211f10>"
      ]
     },
     "execution_count": 46,
     "metadata": {},
     "output_type": "execute_result"
    },
    {
     "data": {
      "image/png": "[encoded data removed]",
      "text/plain": [
       "<Figure size 1080x720 with 1 Axes>"
      ]
     },
     "metadata": {},
     "output_type": "display_data"
    }
   ],
   "source": [
    "ax = sns.distplot( df[df.is_fraud ==0][\"amount_eur\"], color=\"skyblue\", label=\"Non Fraudulent\")\n",
    "ax = sns.distplot( df[df.is_fraud ==1][\"amount_eur\"] , color=\"red\", label=\"Fraudulent\")\n",
    "ax.legend()"
   ]
  },
  {
   "cell_type": "markdown",
   "metadata": {},
   "source": [
    "## Test yourself! (For at Home)\n",
    "\n",
    "* Try look at another of the features (e.g. user_country_id) using the above analysis as a template, (For at home) "
   ]
  },
  {
   "cell_type": "code",
   "execution_count": null,
   "metadata": {},
   "outputs": [],
   "source": []
  },
  {
   "cell_type": "code",
   "execution_count": 47,
   "metadata": {},
   "outputs": [
    {
     "data": {
      "image/png": "[encoded data removed]",
      "text/plain": [
       "<Figure size 1440x720 with 2 Axes>"
      ]
     },
     "metadata": {},
     "output_type": "display_data"
    }
   ],
   "source": [
    "corr = df.corr()\n",
    "\n",
    "plt.figure(figsize=(20,10))\n",
    "ax = sns.heatmap(corr, annot= True, fmt = '.2f')\n",
    "ax = ax.set_ylim(len(corr)+ 0.5, -0.5)"
   ]
  },
  {
   "cell_type": "markdown",
   "metadata": {},
   "source": [
    "#  Model Development & Performance"
   ]
  },
  {
   "cell_type": "code",
   "execution_count": 48,
   "metadata": {},
   "outputs": [],
   "source": [
    "y = df[\"is_fraud\"]\n",
    "\n",
    "base_features = ['merchant', 'amount_eur', 'card_network']\n",
    "dummy_features = ['merchant',  'card_network']\n",
    "\n",
    "X= df[[c for c in df.columns if c in base_features]]\n",
    "\n",
    "X = pd.get_dummies(X, columns=dummy_features)"
   ]
  },
  {
   "cell_type": "code",
   "execution_count": 49,
   "metadata": {},
   "outputs": [],
   "source": [
    "X_train, X_test, y_train, y_test = train_test_split(X, y, test_size=0.3)"
   ]
  },
  {
   "cell_type": "markdown",
   "metadata": {},
   "source": [
    "## Logistic Regression"
   ]
  },
  {
   "cell_type": "code",
   "execution_count": 50,
   "metadata": {},
   "outputs": [],
   "source": [
    "lr = LogisticRegression()"
   ]
  },
  {
   "cell_type": "code",
   "execution_count": 51,
   "metadata": {},
   "outputs": [
    {
     "data": {
      "text/plain": [
       "LogisticRegression(C=1.0, class_weight=None, dual=False, fit_intercept=True,\n",
       "                   intercept_scaling=1, l1_ratio=None, max_iter=100,\n",
       "                   multi_class='auto', n_jobs=None, penalty='l2',\n",
       "                   random_state=None, solver='lbfgs', tol=0.0001, verbose=0,\n",
       "                   warm_start=False)"
      ]
     },
     "execution_count": 51,
     "metadata": {},
     "output_type": "execute_result"
    }
   ],
   "source": [
    "lr.fit(X_train, y_train)\n"
   ]
  },
  {
   "cell_type": "code",
   "execution_count": 52,
   "metadata": {},
   "outputs": [],
   "source": [
    "y_pred = lr.predict(X_test)"
   ]
  },
  {
   "cell_type": "markdown",
   "metadata": {},
   "source": [
    "## Test yourself!(~home)\n",
    "\n",
    "* Try train a different model on your data -> have a look at Skicitlearn docs to see which may suit this prediction task! (Do not try this at home!)"
   ]
  },
  {
   "cell_type": "markdown",
   "metadata": {},
   "source": [
    "## 4.2. Performance"
   ]
  },
  {
   "cell_type": "code",
   "execution_count": 53,
   "metadata": {},
   "outputs": [
    {
     "data": {
      "image/png": "[encoded data removed]",
      "text/plain": [
       "<Figure size 1080x720 with 2 Axes>"
      ]
     },
     "metadata": {},
     "output_type": "display_data"
    }
   ],
   "source": [
    "ax = sns.heatmap(confusion_matrix(y_test, y_pred), annot =True,  fmt = '.0f')\n",
    "ax = ax.set_ylim(2+ 0.2, -0.2)\n",
    "plt.title('Confusion Matrix', fontsize = 20) \n",
    "plt.xlabel('Predicted', fontsize = 15) \n",
    "plt.ylabel('Actual', fontsize = 15) \n",
    "plt.show()\n"
   ]
  },
  {
   "cell_type": "code",
   "execution_count": 54,
   "metadata": {},
   "outputs": [],
   "source": [
    "test_df = X_test.reset_index(drop=True)\n",
    "y_test = y_test.reset_index(drop=True)"
   ]
  },
  {
   "cell_type": "code",
   "execution_count": 55,
   "metadata": {},
   "outputs": [
    {
     "data": {
      "text/html": [
       "<div>\n",
       "<style scoped>\n",
       "    .dataframe tbody tr th:only-of-type {\n",
       "        vertical-align: middle;\n",
       "    }\n",
       "\n",
       "    .dataframe tbody tr th {\n",
       "        vertical-align: top;\n",
       "    }\n",
       "\n",
       "    .dataframe thead th {\n",
       "        text-align: right;\n",
       "    }\n",
       "</style>\n",
       "<table border=\"1\" class=\"dataframe\">\n",
       "  <thead>\n",
       "    <tr style=\"text-align: right;\">\n",
       "      <th></th>\n",
       "      <th>amount_eur</th>\n",
       "      <th>merchant_Shop1</th>\n",
       "      <th>merchant_Shop2</th>\n",
       "      <th>merchant_Shop3</th>\n",
       "      <th>merchant_Shop4</th>\n",
       "      <th>merchant_Shop5</th>\n",
       "      <th>merchant_Shop6</th>\n",
       "      <th>merchant_Shop7</th>\n",
       "      <th>merchant_Shop8</th>\n",
       "      <th>card_network_SchemeB</th>\n",
       "      <th>...</th>\n",
       "      <th>card_network_SchemeDA</th>\n",
       "      <th>card_network_SchemeDB</th>\n",
       "      <th>card_network_SchemeF</th>\n",
       "      <th>card_network_SchemeFA</th>\n",
       "      <th>card_network_SchemeFB</th>\n",
       "      <th>card_network_SchemeG</th>\n",
       "      <th>card_network_SchemeH</th>\n",
       "      <th>card_network_SchemeI</th>\n",
       "      <th>card_network_SchemeIA</th>\n",
       "      <th>card_network_missing</th>\n",
       "    </tr>\n",
       "  </thead>\n",
       "  <tbody>\n",
       "    <tr>\n",
       "      <th>0</th>\n",
       "      <td>3.091042</td>\n",
       "      <td>0</td>\n",
       "      <td>1</td>\n",
       "      <td>0</td>\n",
       "      <td>0</td>\n",
       "      <td>0</td>\n",
       "      <td>0</td>\n",
       "      <td>0</td>\n",
       "      <td>0</td>\n",
       "      <td>1</td>\n",
       "      <td>...</td>\n",
       "      <td>0</td>\n",
       "      <td>0</td>\n",
       "      <td>0</td>\n",
       "      <td>0</td>\n",
       "      <td>0</td>\n",
       "      <td>0</td>\n",
       "      <td>0</td>\n",
       "      <td>0</td>\n",
       "      <td>0</td>\n",
       "      <td>0</td>\n",
       "    </tr>\n",
       "    <tr>\n",
       "      <th>1</th>\n",
       "      <td>2.085672</td>\n",
       "      <td>0</td>\n",
       "      <td>1</td>\n",
       "      <td>0</td>\n",
       "      <td>0</td>\n",
       "      <td>0</td>\n",
       "      <td>0</td>\n",
       "      <td>0</td>\n",
       "      <td>0</td>\n",
       "      <td>1</td>\n",
       "      <td>...</td>\n",
       "      <td>0</td>\n",
       "      <td>0</td>\n",
       "      <td>0</td>\n",
       "      <td>0</td>\n",
       "      <td>0</td>\n",
       "      <td>0</td>\n",
       "      <td>0</td>\n",
       "      <td>0</td>\n",
       "      <td>0</td>\n",
       "      <td>0</td>\n",
       "    </tr>\n",
       "    <tr>\n",
       "      <th>2</th>\n",
       "      <td>3.083285</td>\n",
       "      <td>0</td>\n",
       "      <td>1</td>\n",
       "      <td>0</td>\n",
       "      <td>0</td>\n",
       "      <td>0</td>\n",
       "      <td>0</td>\n",
       "      <td>0</td>\n",
       "      <td>0</td>\n",
       "      <td>0</td>\n",
       "      <td>...</td>\n",
       "      <td>0</td>\n",
       "      <td>0</td>\n",
       "      <td>1</td>\n",
       "      <td>0</td>\n",
       "      <td>0</td>\n",
       "      <td>0</td>\n",
       "      <td>0</td>\n",
       "      <td>0</td>\n",
       "      <td>0</td>\n",
       "      <td>0</td>\n",
       "    </tr>\n",
       "    <tr>\n",
       "      <th>3</th>\n",
       "      <td>2.251292</td>\n",
       "      <td>0</td>\n",
       "      <td>1</td>\n",
       "      <td>0</td>\n",
       "      <td>0</td>\n",
       "      <td>0</td>\n",
       "      <td>0</td>\n",
       "      <td>0</td>\n",
       "      <td>0</td>\n",
       "      <td>0</td>\n",
       "      <td>...</td>\n",
       "      <td>0</td>\n",
       "      <td>0</td>\n",
       "      <td>0</td>\n",
       "      <td>0</td>\n",
       "      <td>0</td>\n",
       "      <td>0</td>\n",
       "      <td>0</td>\n",
       "      <td>1</td>\n",
       "      <td>0</td>\n",
       "      <td>0</td>\n",
       "    </tr>\n",
       "    <tr>\n",
       "      <th>4</th>\n",
       "      <td>2.487404</td>\n",
       "      <td>0</td>\n",
       "      <td>0</td>\n",
       "      <td>0</td>\n",
       "      <td>0</td>\n",
       "      <td>1</td>\n",
       "      <td>0</td>\n",
       "      <td>0</td>\n",
       "      <td>0</td>\n",
       "      <td>0</td>\n",
       "      <td>...</td>\n",
       "      <td>0</td>\n",
       "      <td>0</td>\n",
       "      <td>1</td>\n",
       "      <td>0</td>\n",
       "      <td>0</td>\n",
       "      <td>0</td>\n",
       "      <td>0</td>\n",
       "      <td>0</td>\n",
       "      <td>0</td>\n",
       "      <td>0</td>\n",
       "    </tr>\n",
       "  </tbody>\n",
       "</table>\n",
       "<p>5 rows × 21 columns</p>\n",
       "</div>"
      ],
      "text/plain": [
       "   amount_eur  merchant_Shop1  merchant_Shop2  merchant_Shop3  merchant_Shop4  \\\n",
       "0    3.091042               0               1               0               0   \n",
       "1    2.085672               0               1               0               0   \n",
       "2    3.083285               0               1               0               0   \n",
       "3    2.251292               0               1               0               0   \n",
       "4    2.487404               0               0               0               0   \n",
       "\n",
       "   merchant_Shop5  merchant_Shop6  merchant_Shop7  merchant_Shop8  \\\n",
       "0               0               0               0               0   \n",
       "1               0               0               0               0   \n",
       "2               0               0               0               0   \n",
       "3               0               0               0               0   \n",
       "4               1               0               0               0   \n",
       "\n",
       "   card_network_SchemeB  ...  card_network_SchemeDA  card_network_SchemeDB  \\\n",
       "0                     1  ...                      0                      0   \n",
       "1                     1  ...                      0                      0   \n",
       "2                     0  ...                      0                      0   \n",
       "3                     0  ...                      0                      0   \n",
       "4                     0  ...                      0                      0   \n",
       "\n",
       "   card_network_SchemeF  card_network_SchemeFA  card_network_SchemeFB  \\\n",
       "0                     0                      0                      0   \n",
       "1                     0                      0                      0   \n",
       "2                     1                      0                      0   \n",
       "3                     0                      0                      0   \n",
       "4                     1                      0                      0   \n",
       "\n",
       "   card_network_SchemeG  card_network_SchemeH  card_network_SchemeI  \\\n",
       "0                     0                     0                     0   \n",
       "1                     0                     0                     0   \n",
       "2                     0                     0                     0   \n",
       "3                     0                     0                     1   \n",
       "4                     0                     0                     0   \n",
       "\n",
       "   card_network_SchemeIA  card_network_missing  \n",
       "0                      0                     0  \n",
       "1                      0                     0  \n",
       "2                      0                     0  \n",
       "3                      0                     0  \n",
       "4                      0                     0  \n",
       "\n",
       "[5 rows x 21 columns]"
      ]
     },
     "execution_count": 55,
     "metadata": {},
     "output_type": "execute_result"
    }
   ],
   "source": [
    "test_df.head()"
   ]
  },
  {
   "cell_type": "code",
   "execution_count": 56,
   "metadata": {},
   "outputs": [],
   "source": [
    "test_df['real_label'] = y_test\n",
    "test_df['predicted_label'] = y_pred"
   ]
  },
  {
   "cell_type": "code",
   "execution_count": 57,
   "metadata": {},
   "outputs": [
    {
     "data": {
      "text/html": [
       "<div>\n",
       "<style scoped>\n",
       "    .dataframe tbody tr th:only-of-type {\n",
       "        vertical-align: middle;\n",
       "    }\n",
       "\n",
       "    .dataframe tbody tr th {\n",
       "        vertical-align: top;\n",
       "    }\n",
       "\n",
       "    .dataframe thead th {\n",
       "        text-align: right;\n",
       "    }\n",
       "</style>\n",
       "<table border=\"1\" class=\"dataframe\">\n",
       "  <thead>\n",
       "    <tr style=\"text-align: right;\">\n",
       "      <th></th>\n",
       "      <th>amount_eur</th>\n",
       "      <th>merchant_Shop1</th>\n",
       "      <th>merchant_Shop2</th>\n",
       "      <th>merchant_Shop3</th>\n",
       "      <th>merchant_Shop4</th>\n",
       "      <th>merchant_Shop5</th>\n",
       "      <th>merchant_Shop6</th>\n",
       "      <th>merchant_Shop7</th>\n",
       "      <th>merchant_Shop8</th>\n",
       "      <th>card_network_SchemeB</th>\n",
       "      <th>...</th>\n",
       "      <th>card_network_SchemeF</th>\n",
       "      <th>card_network_SchemeFA</th>\n",
       "      <th>card_network_SchemeFB</th>\n",
       "      <th>card_network_SchemeG</th>\n",
       "      <th>card_network_SchemeH</th>\n",
       "      <th>card_network_SchemeI</th>\n",
       "      <th>card_network_SchemeIA</th>\n",
       "      <th>card_network_missing</th>\n",
       "      <th>real_label</th>\n",
       "      <th>predicted_label</th>\n",
       "    </tr>\n",
       "  </thead>\n",
       "  <tbody>\n",
       "    <tr>\n",
       "      <th>0</th>\n",
       "      <td>3.091042</td>\n",
       "      <td>0</td>\n",
       "      <td>1</td>\n",
       "      <td>0</td>\n",
       "      <td>0</td>\n",
       "      <td>0</td>\n",
       "      <td>0</td>\n",
       "      <td>0</td>\n",
       "      <td>0</td>\n",
       "      <td>1</td>\n",
       "      <td>...</td>\n",
       "      <td>0</td>\n",
       "      <td>0</td>\n",
       "      <td>0</td>\n",
       "      <td>0</td>\n",
       "      <td>0</td>\n",
       "      <td>0</td>\n",
       "      <td>0</td>\n",
       "      <td>0</td>\n",
       "      <td>0</td>\n",
       "      <td>0</td>\n",
       "    </tr>\n",
       "    <tr>\n",
       "      <th>1</th>\n",
       "      <td>2.085672</td>\n",
       "      <td>0</td>\n",
       "      <td>1</td>\n",
       "      <td>0</td>\n",
       "      <td>0</td>\n",
       "      <td>0</td>\n",
       "      <td>0</td>\n",
       "      <td>0</td>\n",
       "      <td>0</td>\n",
       "      <td>1</td>\n",
       "      <td>...</td>\n",
       "      <td>0</td>\n",
       "      <td>0</td>\n",
       "      <td>0</td>\n",
       "      <td>0</td>\n",
       "      <td>0</td>\n",
       "      <td>0</td>\n",
       "      <td>0</td>\n",
       "      <td>0</td>\n",
       "      <td>0</td>\n",
       "      <td>0</td>\n",
       "    </tr>\n",
       "    <tr>\n",
       "      <th>2</th>\n",
       "      <td>3.083285</td>\n",
       "      <td>0</td>\n",
       "      <td>1</td>\n",
       "      <td>0</td>\n",
       "      <td>0</td>\n",
       "      <td>0</td>\n",
       "      <td>0</td>\n",
       "      <td>0</td>\n",
       "      <td>0</td>\n",
       "      <td>0</td>\n",
       "      <td>...</td>\n",
       "      <td>1</td>\n",
       "      <td>0</td>\n",
       "      <td>0</td>\n",
       "      <td>0</td>\n",
       "      <td>0</td>\n",
       "      <td>0</td>\n",
       "      <td>0</td>\n",
       "      <td>0</td>\n",
       "      <td>0</td>\n",
       "      <td>0</td>\n",
       "    </tr>\n",
       "    <tr>\n",
       "      <th>3</th>\n",
       "      <td>2.251292</td>\n",
       "      <td>0</td>\n",
       "      <td>1</td>\n",
       "      <td>0</td>\n",
       "      <td>0</td>\n",
       "      <td>0</td>\n",
       "      <td>0</td>\n",
       "      <td>0</td>\n",
       "      <td>0</td>\n",
       "      <td>0</td>\n",
       "      <td>...</td>\n",
       "      <td>0</td>\n",
       "      <td>0</td>\n",
       "      <td>0</td>\n",
       "      <td>0</td>\n",
       "      <td>0</td>\n",
       "      <td>1</td>\n",
       "      <td>0</td>\n",
       "      <td>0</td>\n",
       "      <td>0</td>\n",
       "      <td>0</td>\n",
       "    </tr>\n",
       "    <tr>\n",
       "      <th>4</th>\n",
       "      <td>2.487404</td>\n",
       "      <td>0</td>\n",
       "      <td>0</td>\n",
       "      <td>0</td>\n",
       "      <td>0</td>\n",
       "      <td>1</td>\n",
       "      <td>0</td>\n",
       "      <td>0</td>\n",
       "      <td>0</td>\n",
       "      <td>0</td>\n",
       "      <td>...</td>\n",
       "      <td>1</td>\n",
       "      <td>0</td>\n",
       "      <td>0</td>\n",
       "      <td>0</td>\n",
       "      <td>0</td>\n",
       "      <td>0</td>\n",
       "      <td>0</td>\n",
       "      <td>0</td>\n",
       "      <td>0</td>\n",
       "      <td>0</td>\n",
       "    </tr>\n",
       "    <tr>\n",
       "      <th>...</th>\n",
       "      <td>...</td>\n",
       "      <td>...</td>\n",
       "      <td>...</td>\n",
       "      <td>...</td>\n",
       "      <td>...</td>\n",
       "      <td>...</td>\n",
       "      <td>...</td>\n",
       "      <td>...</td>\n",
       "      <td>...</td>\n",
       "      <td>...</td>\n",
       "      <td>...</td>\n",
       "      <td>...</td>\n",
       "      <td>...</td>\n",
       "      <td>...</td>\n",
       "      <td>...</td>\n",
       "      <td>...</td>\n",
       "      <td>...</td>\n",
       "      <td>...</td>\n",
       "      <td>...</td>\n",
       "      <td>...</td>\n",
       "      <td>...</td>\n",
       "    </tr>\n",
       "    <tr>\n",
       "      <th>12958</th>\n",
       "      <td>0.000000</td>\n",
       "      <td>0</td>\n",
       "      <td>0</td>\n",
       "      <td>0</td>\n",
       "      <td>0</td>\n",
       "      <td>0</td>\n",
       "      <td>0</td>\n",
       "      <td>0</td>\n",
       "      <td>1</td>\n",
       "      <td>0</td>\n",
       "      <td>...</td>\n",
       "      <td>1</td>\n",
       "      <td>0</td>\n",
       "      <td>0</td>\n",
       "      <td>0</td>\n",
       "      <td>0</td>\n",
       "      <td>0</td>\n",
       "      <td>0</td>\n",
       "      <td>0</td>\n",
       "      <td>0</td>\n",
       "      <td>0</td>\n",
       "    </tr>\n",
       "    <tr>\n",
       "      <th>12959</th>\n",
       "      <td>2.631889</td>\n",
       "      <td>0</td>\n",
       "      <td>1</td>\n",
       "      <td>0</td>\n",
       "      <td>0</td>\n",
       "      <td>0</td>\n",
       "      <td>0</td>\n",
       "      <td>0</td>\n",
       "      <td>0</td>\n",
       "      <td>1</td>\n",
       "      <td>...</td>\n",
       "      <td>0</td>\n",
       "      <td>0</td>\n",
       "      <td>0</td>\n",
       "      <td>0</td>\n",
       "      <td>0</td>\n",
       "      <td>0</td>\n",
       "      <td>0</td>\n",
       "      <td>0</td>\n",
       "      <td>0</td>\n",
       "      <td>0</td>\n",
       "    </tr>\n",
       "    <tr>\n",
       "      <th>12960</th>\n",
       "      <td>2.415914</td>\n",
       "      <td>0</td>\n",
       "      <td>1</td>\n",
       "      <td>0</td>\n",
       "      <td>0</td>\n",
       "      <td>0</td>\n",
       "      <td>0</td>\n",
       "      <td>0</td>\n",
       "      <td>0</td>\n",
       "      <td>1</td>\n",
       "      <td>...</td>\n",
       "      <td>0</td>\n",
       "      <td>0</td>\n",
       "      <td>0</td>\n",
       "      <td>0</td>\n",
       "      <td>0</td>\n",
       "      <td>0</td>\n",
       "      <td>0</td>\n",
       "      <td>0</td>\n",
       "      <td>0</td>\n",
       "      <td>0</td>\n",
       "    </tr>\n",
       "    <tr>\n",
       "      <th>12961</th>\n",
       "      <td>1.880991</td>\n",
       "      <td>0</td>\n",
       "      <td>0</td>\n",
       "      <td>0</td>\n",
       "      <td>0</td>\n",
       "      <td>1</td>\n",
       "      <td>0</td>\n",
       "      <td>0</td>\n",
       "      <td>0</td>\n",
       "      <td>0</td>\n",
       "      <td>...</td>\n",
       "      <td>1</td>\n",
       "      <td>0</td>\n",
       "      <td>0</td>\n",
       "      <td>0</td>\n",
       "      <td>0</td>\n",
       "      <td>0</td>\n",
       "      <td>0</td>\n",
       "      <td>0</td>\n",
       "      <td>0</td>\n",
       "      <td>0</td>\n",
       "    </tr>\n",
       "    <tr>\n",
       "      <th>12962</th>\n",
       "      <td>2.310553</td>\n",
       "      <td>0</td>\n",
       "      <td>0</td>\n",
       "      <td>1</td>\n",
       "      <td>0</td>\n",
       "      <td>0</td>\n",
       "      <td>0</td>\n",
       "      <td>0</td>\n",
       "      <td>0</td>\n",
       "      <td>0</td>\n",
       "      <td>...</td>\n",
       "      <td>1</td>\n",
       "      <td>0</td>\n",
       "      <td>0</td>\n",
       "      <td>0</td>\n",
       "      <td>0</td>\n",
       "      <td>0</td>\n",
       "      <td>0</td>\n",
       "      <td>0</td>\n",
       "      <td>0</td>\n",
       "      <td>0</td>\n",
       "    </tr>\n",
       "  </tbody>\n",
       "</table>\n",
       "<p>12963 rows × 23 columns</p>\n",
       "</div>"
      ],
      "text/plain": [
       "       amount_eur  merchant_Shop1  merchant_Shop2  merchant_Shop3  \\\n",
       "0        3.091042               0               1               0   \n",
       "1        2.085672               0               1               0   \n",
       "2        3.083285               0               1               0   \n",
       "3        2.251292               0               1               0   \n",
       "4        2.487404               0               0               0   \n",
       "...           ...             ...             ...             ...   \n",
       "12958    0.000000               0               0               0   \n",
       "12959    2.631889               0               1               0   \n",
       "12960    2.415914               0               1               0   \n",
       "12961    1.880991               0               0               0   \n",
       "12962    2.310553               0               0               1   \n",
       "\n",
       "       merchant_Shop4  merchant_Shop5  merchant_Shop6  merchant_Shop7  \\\n",
       "0                   0               0               0               0   \n",
       "1                   0               0               0               0   \n",
       "2                   0               0               0               0   \n",
       "3                   0               0               0               0   \n",
       "4                   0               1               0               0   \n",
       "...               ...             ...             ...             ...   \n",
       "12958               0               0               0               0   \n",
       "12959               0               0               0               0   \n",
       "12960               0               0               0               0   \n",
       "12961               0               1               0               0   \n",
       "12962               0               0               0               0   \n",
       "\n",
       "       merchant_Shop8  card_network_SchemeB  ...  card_network_SchemeF  \\\n",
       "0                   0                     1  ...                     0   \n",
       "1                   0                     1  ...                     0   \n",
       "2                   0                     0  ...                     1   \n",
       "3                   0                     0  ...                     0   \n",
       "4                   0                     0  ...                     1   \n",
       "...               ...                   ...  ...                   ...   \n",
       "12958               1                     0  ...                     1   \n",
       "12959               0                     1  ...                     0   \n",
       "12960               0                     1  ...                     0   \n",
       "12961               0                     0  ...                     1   \n",
       "12962               0                     0  ...                     1   \n",
       "\n",
       "       card_network_SchemeFA  card_network_SchemeFB  card_network_SchemeG  \\\n",
       "0                          0                      0                     0   \n",
       "1                          0                      0                     0   \n",
       "2                          0                      0                     0   \n",
       "3                          0                      0                     0   \n",
       "4                          0                      0                     0   \n",
       "...                      ...                    ...                   ...   \n",
       "12958                      0                      0                     0   \n",
       "12959                      0                      0                     0   \n",
       "12960                      0                      0                     0   \n",
       "12961                      0                      0                     0   \n",
       "12962                      0                      0                     0   \n",
       "\n",
       "       card_network_SchemeH  card_network_SchemeI  card_network_SchemeIA  \\\n",
       "0                         0                     0                      0   \n",
       "1                         0                     0                      0   \n",
       "2                         0                     0                      0   \n",
       "3                         0                     1                      0   \n",
       "4                         0                     0                      0   \n",
       "...                     ...                   ...                    ...   \n",
       "12958                     0                     0                      0   \n",
       "12959                     0                     0                      0   \n",
       "12960                     0                     0                      0   \n",
       "12961                     0                     0                      0   \n",
       "12962                     0                     0                      0   \n",
       "\n",
       "       card_network_missing  real_label  predicted_label  \n",
       "0                         0           0                0  \n",
       "1                         0           0                0  \n",
       "2                         0           0                0  \n",
       "3                         0           0                0  \n",
       "4                         0           0                0  \n",
       "...                     ...         ...              ...  \n",
       "12958                     0           0                0  \n",
       "12959                     0           0                0  \n",
       "12960                     0           0                0  \n",
       "12961                     0           0                0  \n",
       "12962                     0           0                0  \n",
       "\n",
       "[12963 rows x 23 columns]"
      ]
     },
     "execution_count": 57,
     "metadata": {},
     "output_type": "execute_result"
    }
   ],
   "source": [
    "test_df"
   ]
  },
  {
   "cell_type": "markdown",
   "metadata": {},
   "source": [
    "## Test yourself! (At Home)\n",
    "\n",
    "* Calculate the Precision and Recall of your model  on the test set (test_df) - you can do this using sklearn.metrics or you can use pandas to calculate from scratch\n",
    "* Precision = number correctly predicted fraud/ all predicted fraud\n",
    "* Recall = number correctly predicted fraud/all truly fraud"
   ]
  },
  {
   "cell_type": "code",
   "execution_count": null,
   "metadata": {},
   "outputs": [],
   "source": []
  }
 ],
 "metadata": {
  "hide_input": false,
  "kernelspec": {
   "display_name": "Python 3",
   "language": "python",
   "name": "python3"
  },
  "language_info": {
   "codemirror_mode": {
    "name": "ipython",
    "version": 3
   },
   "file_extension": ".py",
   "mimetype": "text/x-python",
   "name": "python",
   "nbconvert_exporter": "python",
   "pygments_lexer": "ipython3",
   "version": "3.7.6"
  },
  "toc": {
   "base_numbering": 1,
   "nav_menu": {},
   "number_sections": true,
   "sideBar": true,
   "skip_h1_title": false,
   "title_cell": "Table of Contents",
   "title_sidebar": "Contents",
   "toc_cell": false,
   "toc_position": {},
   "toc_section_display": true,
   "toc_window_display": false
  }
 },
 "nbformat": 4,
 "nbformat_minor": 4
}
