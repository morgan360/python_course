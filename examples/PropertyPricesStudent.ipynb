{
 "cells": [
  {
   "cell_type": "markdown",
   "metadata": {},
   "source": [
    "# Property Prices in Dublin\n",
    "A short analysis of house prices in Dublin 2020.\n",
    "\n",
    "<img src=\"../images/house_prices.jpg\" alt=\"Houses\" style=\"width: 800px; align:center;\"/>\n",
    "\n"
   ]
  },
  {
   "cell_type": "markdown",
   "metadata": {},
   "source": [
    "## Step 1: Import Libraries\n",
    "A library is Python Code which is normally open source and available for general use. Libraries save programming time as it save you a heap of time re-writing code. Pandas and Matplotlib are the most popular among Data Analysists\n"
   ]
  },
  {
   "cell_type": "code",
   "execution_count": 2,
   "metadata": {},
   "outputs": [],
   "source": [
    "# Import\n",
    "%matplotlib inline\n",
    "import pandas as pd\n",
    "import numpy as np\n",
    "import matplotlib.pyplot as plt\n",
    "import matplotlib.ticker as ticker\n",
    "import seaborn as sns \n",
    "sns.set(style=\"darkgrid\")"
   ]
  },
  {
   "cell_type": "markdown",
   "metadata": {},
   "source": [
    "## Step 2: Import your data\n",
    "Data can be imported in many different ways: csv, Excel,text,database etc. For this example we are importing our data from a CSV file (Comma Separated Values). Most programs can export data as a csv file. The data below was taken from Data Gov a government information portal. I have sanitised the data to exclude apartment blocks etc."
   ]
  },
  {
   "cell_type": "code",
   "execution_count": 3,
   "metadata": {},
   "outputs": [],
   "source": [
    "df = pd.read_csv('dublin_house_prices.csv')"
   ]
  },
  {
   "cell_type": "markdown",
   "metadata": {},
   "source": [
    "## Step 3: Examine the data\n",
    "At this step we examine the data to see what it contains etc."
   ]
  },
  {
   "cell_type": "code",
   "execution_count": 4,
   "metadata": {},
   "outputs": [
    {
     "data": {
      "text/plain": [
       "(9853, 10)"
      ]
     },
     "execution_count": 4,
     "metadata": {},
     "output_type": "execute_result"
    }
   ],
   "source": [
    "# Get number of rows and columns\n",
    "df.shape"
   ]
  },
  {
   "cell_type": "code",
   "execution_count": 6,
   "metadata": {
    "scrolled": true
   },
   "outputs": [
    {
     "data": {
      "text/html": [
       "<div>\n",
       "<style scoped>\n",
       "    .dataframe tbody tr th:only-of-type {\n",
       "        vertical-align: middle;\n",
       "    }\n",
       "\n",
       "    .dataframe tbody tr th {\n",
       "        vertical-align: top;\n",
       "    }\n",
       "\n",
       "    .dataframe thead th {\n",
       "        text-align: right;\n",
       "    }\n",
       "</style>\n",
       "<table border=\"1\" class=\"dataframe\">\n",
       "  <thead>\n",
       "    <tr style=\"text-align: right;\">\n",
       "      <th></th>\n",
       "      <th>_id</th>\n",
       "      <th>Date</th>\n",
       "      <th>Address</th>\n",
       "      <th>Postal_Code</th>\n",
       "      <th>County</th>\n",
       "      <th>Price</th>\n",
       "      <th>Not Full Market Price</th>\n",
       "      <th>VAT Exclusive</th>\n",
       "      <th>Description of Property</th>\n",
       "      <th>Property Size Description</th>\n",
       "    </tr>\n",
       "  </thead>\n",
       "  <tbody>\n",
       "    <tr>\n",
       "      <th>9848</th>\n",
       "      <td>2324</td>\n",
       "      <td>2019-02-27T00:00:00</td>\n",
       "      <td>65 WHITECHURCH WAY, BALLYBODEN, DUBLIN</td>\n",
       "      <td>Dublin 16</td>\n",
       "      <td>Dublin</td>\n",
       "      <td>€12,463.22</td>\n",
       "      <td>Yes</td>\n",
       "      <td>No</td>\n",
       "      <td>Second-Hand Dwelling house /Apartment</td>\n",
       "      <td>NaN</td>\n",
       "    </tr>\n",
       "    <tr>\n",
       "      <th>9849</th>\n",
       "      <td>469</td>\n",
       "      <td>2019-01-18T00:00:00</td>\n",
       "      <td>4 CAMBRIDGE TERRACE, RANELAGH, DUBLIN 6</td>\n",
       "      <td>Dublin 6</td>\n",
       "      <td>Dublin</td>\n",
       "      <td>€10,000.00</td>\n",
       "      <td>No</td>\n",
       "      <td>No</td>\n",
       "      <td>Second-Hand Dwelling house /Apartment</td>\n",
       "      <td>NaN</td>\n",
       "    </tr>\n",
       "    <tr>\n",
       "      <th>9850</th>\n",
       "      <td>1519</td>\n",
       "      <td>2019-02-12T00:00:00</td>\n",
       "      <td>67 GRANGE PARK RD, RAHENY, DUBLIN 5</td>\n",
       "      <td>Dublin 5</td>\n",
       "      <td>Dublin</td>\n",
       "      <td>€8,000.00</td>\n",
       "      <td>No</td>\n",
       "      <td>No</td>\n",
       "      <td>Second-Hand Dwelling house /Apartment</td>\n",
       "      <td>NaN</td>\n",
       "    </tr>\n",
       "    <tr>\n",
       "      <th>9851</th>\n",
       "      <td>3493</td>\n",
       "      <td>2019-03-27T00:00:00</td>\n",
       "      <td>20 WATERSIDE GROVE, SWORDS ROAD, MALAHIDE</td>\n",
       "      <td>NaN</td>\n",
       "      <td>Dublin</td>\n",
       "      <td>€8,000.00</td>\n",
       "      <td>No</td>\n",
       "      <td>No</td>\n",
       "      <td>Second-Hand Dwelling house /Apartment</td>\n",
       "      <td>NaN</td>\n",
       "    </tr>\n",
       "    <tr>\n",
       "      <th>9852</th>\n",
       "      <td>6168</td>\n",
       "      <td>2019-05-24T00:00:00</td>\n",
       "      <td>3 ARBOUR HILL, STONEYBATTER, DUBLIN 7</td>\n",
       "      <td>Dublin 7</td>\n",
       "      <td>Dublin</td>\n",
       "      <td>€5,900.00</td>\n",
       "      <td>No</td>\n",
       "      <td>No</td>\n",
       "      <td>Second-Hand Dwelling house /Apartment</td>\n",
       "      <td>NaN</td>\n",
       "    </tr>\n",
       "  </tbody>\n",
       "</table>\n",
       "</div>"
      ],
      "text/plain": [
       "       _id                 Date                                    Address  \\\n",
       "9848  2324  2019-02-27T00:00:00     65 WHITECHURCH WAY, BALLYBODEN, DUBLIN   \n",
       "9849   469  2019-01-18T00:00:00    4 CAMBRIDGE TERRACE, RANELAGH, DUBLIN 6   \n",
       "9850  1519  2019-02-12T00:00:00        67 GRANGE PARK RD, RAHENY, DUBLIN 5   \n",
       "9851  3493  2019-03-27T00:00:00  20 WATERSIDE GROVE, SWORDS ROAD, MALAHIDE   \n",
       "9852  6168  2019-05-24T00:00:00      3 ARBOUR HILL, STONEYBATTER, DUBLIN 7   \n",
       "\n",
       "     Postal_Code  County       Price Not Full Market Price VAT Exclusive  \\\n",
       "9848   Dublin 16  Dublin  €12,463.22                   Yes            No   \n",
       "9849    Dublin 6  Dublin  €10,000.00                    No            No   \n",
       "9850    Dublin 5  Dublin   €8,000.00                    No            No   \n",
       "9851         NaN  Dublin   €8,000.00                    No            No   \n",
       "9852    Dublin 7  Dublin   €5,900.00                    No            No   \n",
       "\n",
       "                    Description of Property Property Size Description  \n",
       "9848  Second-Hand Dwelling house /Apartment                       NaN  \n",
       "9849  Second-Hand Dwelling house /Apartment                       NaN  \n",
       "9850  Second-Hand Dwelling house /Apartment                       NaN  \n",
       "9851  Second-Hand Dwelling house /Apartment                       NaN  \n",
       "9852  Second-Hand Dwelling house /Apartment                       NaN  "
      ]
     },
     "execution_count": 6,
     "metadata": {},
     "output_type": "execute_result"
    }
   ],
   "source": [
    "# Sample the data\n",
    "df.tail(5)"
   ]
  },
  {
   "cell_type": "code",
   "execution_count": null,
   "metadata": {},
   "outputs": [],
   "source": [
    "# How many properties sold by Postal Code\n",
    "#df[\"Postal_Code\"].value_counts()"
   ]
  },
  {
   "cell_type": "markdown",
   "metadata": {},
   "source": [
    "## Step 4: Clense the data\n",
    "Next we convert the house prices into numerical values so that we can carry out our analysis."
   ]
  },
  {
   "cell_type": "code",
   "execution_count": 7,
   "metadata": {},
   "outputs": [],
   "source": [
    "# Convert the price into a floating point number\n",
    "num_price = df['Price'].replace( '[\\€,) ]+','',regex=True ).replace( '[(]','-',     regex=True ).replace( '', 'NaN',     regex=True ).astype(float) \n",
    "\n",
    "# Add the column 'num_price' to the data.\n",
    "df['num_price'] = num_price"
   ]
  },
  {
   "cell_type": "code",
   "execution_count": 8,
   "metadata": {},
   "outputs": [
    {
     "data": {
      "text/html": [
       "<div>\n",
       "<style scoped>\n",
       "    .dataframe tbody tr th:only-of-type {\n",
       "        vertical-align: middle;\n",
       "    }\n",
       "\n",
       "    .dataframe tbody tr th {\n",
       "        vertical-align: top;\n",
       "    }\n",
       "\n",
       "    .dataframe thead th {\n",
       "        text-align: right;\n",
       "    }\n",
       "</style>\n",
       "<table border=\"1\" class=\"dataframe\">\n",
       "  <thead>\n",
       "    <tr style=\"text-align: right;\">\n",
       "      <th></th>\n",
       "      <th>_id</th>\n",
       "      <th>Date</th>\n",
       "      <th>Address</th>\n",
       "      <th>Postal_Code</th>\n",
       "      <th>County</th>\n",
       "      <th>Price</th>\n",
       "      <th>Not Full Market Price</th>\n",
       "      <th>VAT Exclusive</th>\n",
       "      <th>Description of Property</th>\n",
       "      <th>Property Size Description</th>\n",
       "      <th>num_price</th>\n",
       "    </tr>\n",
       "  </thead>\n",
       "  <tbody>\n",
       "    <tr>\n",
       "      <th>0</th>\n",
       "      <td>2025</td>\n",
       "      <td>2019-02-21T00:00:00</td>\n",
       "      <td>APT 8, THE GARDEN HOUSE, WATERFALL AVE</td>\n",
       "      <td>Dublin 3</td>\n",
       "      <td>Dublin</td>\n",
       "      <td>€6,750,000.00</td>\n",
       "      <td>No</td>\n",
       "      <td>No</td>\n",
       "      <td>Second-Hand Dwelling house /Apartment</td>\n",
       "      <td>NaN</td>\n",
       "      <td>6750000.0</td>\n",
       "    </tr>\n",
       "    <tr>\n",
       "      <th>1</th>\n",
       "      <td>4513</td>\n",
       "      <td>2019-04-16T00:00:00</td>\n",
       "      <td>49 AILESBURY RD, BALLSBRIDGE, DUBLIN 4</td>\n",
       "      <td>Dublin 4</td>\n",
       "      <td>Dublin</td>\n",
       "      <td>€6,750,000.00</td>\n",
       "      <td>No</td>\n",
       "      <td>No</td>\n",
       "      <td>Second-Hand Dwelling house /Apartment</td>\n",
       "      <td>NaN</td>\n",
       "      <td>6750000.0</td>\n",
       "    </tr>\n",
       "  </tbody>\n",
       "</table>\n",
       "</div>"
      ],
      "text/plain": [
       "    _id                 Date                                 Address  \\\n",
       "0  2025  2019-02-21T00:00:00  APT 8, THE GARDEN HOUSE, WATERFALL AVE   \n",
       "1  4513  2019-04-16T00:00:00  49 AILESBURY RD, BALLSBRIDGE, DUBLIN 4   \n",
       "\n",
       "  Postal_Code  County          Price Not Full Market Price VAT Exclusive  \\\n",
       "0    Dublin 3  Dublin  €6,750,000.00                    No            No   \n",
       "1    Dublin 4  Dublin  €6,750,000.00                    No            No   \n",
       "\n",
       "                 Description of Property Property Size Description  num_price  \n",
       "0  Second-Hand Dwelling house /Apartment                       NaN  6750000.0  \n",
       "1  Second-Hand Dwelling house /Apartment                       NaN  6750000.0  "
      ]
     },
     "execution_count": 8,
     "metadata": {},
     "output_type": "execute_result"
    }
   ],
   "source": [
    "df.head(2)"
   ]
  },
  {
   "cell_type": "markdown",
   "metadata": {},
   "source": [
    "## Step 5: Analysis of our new data set\n",
    "Here we take a look at the dataset as a whole. For analysis of our data we are going to represent the data as a Box Plot (Whisker Diagrams). Box Plots represent the spread of the data the following diagram illustrates the main values identified by a box plot.<br>\n",
    "<img src=\"boxplot_explained.jpg\" alt=\"Box Plot\" align=\"left\" width=\"500\"/> <br>\n",
    "\n",
    "|Value | Definition  |   \n",
    "|---|---|\n",
    "| Max Value  | The maximum value of your data set.  |\n",
    "| Min Value |  The minimum value of your data set. |\n",
    "|Median| The value exactly half between maximum and minimum.|   \n",
    "|Q1| 25% of your values are below this value.| \n",
    "|Q3| 75% of your values are below this value.| \n",
    "|IQR| Measure of the range of values between Q1 and Q3.|\n",
    "\n"
   ]
  },
  {
   "cell_type": "code",
   "execution_count": 9,
   "metadata": {},
   "outputs": [
    {
     "data": {
      "text/plain": [
       "count       9853.00\n",
       "mean      416031.40\n",
       "std       325655.16\n",
       "min         5900.00\n",
       "25%       265000.00\n",
       "50%       338000.00\n",
       "75%       458149.00\n",
       "max      6750000.00\n",
       "Name: num_price, dtype: object"
      ]
     },
     "execution_count": 9,
     "metadata": {},
     "output_type": "execute_result"
    }
   ],
   "source": [
    "#general analysis of the prices\n",
    "# df[\"price\"].describe().apply(lambda x: format(x, 'f'))\n",
    "df['num_price'].describe().apply(lambda x: format(x, '.2f'))"
   ]
  },
  {
   "cell_type": "code",
   "execution_count": null,
   "metadata": {
    "scrolled": false
   },
   "outputs": [],
   "source": [
    "#Create a Boxplot of all our data broken down by area.\n",
    "plt.figure(figsize=(12,100))# Plot size\n",
    "#sns.boxplot( x=df[\"num_price\"], y=df[\"Postal_Code\"], palette=\"Reds\", width=0.2)"
   ]
  },
  {
   "cell_type": "markdown",
   "metadata": {},
   "source": [
    "## Step 6: Filter our data\n",
    "Filter the data to zoom in on different aspects."
   ]
  },
  {
   "cell_type": "code",
   "execution_count": 10,
   "metadata": {},
   "outputs": [],
   "source": [
    "#Create a filter\n",
    "filt = (df['Postal_Code']=='Dublin 1')"
   ]
  },
  {
   "cell_type": "code",
   "execution_count": 11,
   "metadata": {},
   "outputs": [
    {
     "data": {
      "text/html": [
       "<div>\n",
       "<style scoped>\n",
       "    .dataframe tbody tr th:only-of-type {\n",
       "        vertical-align: middle;\n",
       "    }\n",
       "\n",
       "    .dataframe tbody tr th {\n",
       "        vertical-align: top;\n",
       "    }\n",
       "\n",
       "    .dataframe thead th {\n",
       "        text-align: right;\n",
       "    }\n",
       "</style>\n",
       "<table border=\"1\" class=\"dataframe\">\n",
       "  <thead>\n",
       "    <tr style=\"text-align: right;\">\n",
       "      <th></th>\n",
       "      <th>_id</th>\n",
       "      <th>Date</th>\n",
       "      <th>Address</th>\n",
       "      <th>Postal_Code</th>\n",
       "      <th>County</th>\n",
       "      <th>Price</th>\n",
       "      <th>Not Full Market Price</th>\n",
       "      <th>VAT Exclusive</th>\n",
       "      <th>Description of Property</th>\n",
       "      <th>Property Size Description</th>\n",
       "      <th>num_price</th>\n",
       "    </tr>\n",
       "  </thead>\n",
       "  <tbody>\n",
       "    <tr>\n",
       "      <th>7</th>\n",
       "      <td>4083</td>\n",
       "      <td>2019-04-08T00:00:00</td>\n",
       "      <td>5 SPENCER HOUSE, CUSTOM HOUSE SQ, MAYOR ST LOW...</td>\n",
       "      <td>Dublin 1</td>\n",
       "      <td>Dublin</td>\n",
       "      <td>€4,064,100.00</td>\n",
       "      <td>No</td>\n",
       "      <td>No</td>\n",
       "      <td>Second-Hand Dwelling house /Apartment</td>\n",
       "      <td>NaN</td>\n",
       "      <td>4064100.0</td>\n",
       "    </tr>\n",
       "    <tr>\n",
       "      <th>45</th>\n",
       "      <td>3665</td>\n",
       "      <td>2019-03-29T00:00:00</td>\n",
       "      <td>24A 25 25A, HILL STREET, DUBLIN 1</td>\n",
       "      <td>Dublin 1</td>\n",
       "      <td>Dublin</td>\n",
       "      <td>€2,407,000.00</td>\n",
       "      <td>No</td>\n",
       "      <td>No</td>\n",
       "      <td>Second-Hand Dwelling house /Apartment</td>\n",
       "      <td>NaN</td>\n",
       "      <td>2407000.0</td>\n",
       "    </tr>\n",
       "  </tbody>\n",
       "</table>\n",
       "</div>"
      ],
      "text/plain": [
       "     _id                 Date  \\\n",
       "7   4083  2019-04-08T00:00:00   \n",
       "45  3665  2019-03-29T00:00:00   \n",
       "\n",
       "                                              Address Postal_Code  County  \\\n",
       "7   5 SPENCER HOUSE, CUSTOM HOUSE SQ, MAYOR ST LOW...    Dublin 1  Dublin   \n",
       "45                  24A 25 25A, HILL STREET, DUBLIN 1    Dublin 1  Dublin   \n",
       "\n",
       "            Price Not Full Market Price VAT Exclusive  \\\n",
       "7   €4,064,100.00                    No            No   \n",
       "45  €2,407,000.00                    No            No   \n",
       "\n",
       "                  Description of Property Property Size Description  num_price  \n",
       "7   Second-Hand Dwelling house /Apartment                       NaN  4064100.0  \n",
       "45  Second-Hand Dwelling house /Apartment                       NaN  2407000.0  "
      ]
     },
     "execution_count": 11,
     "metadata": {},
     "output_type": "execute_result"
    }
   ],
   "source": [
    "# Apply the filter and put the values into a new Data Frame\n",
    "df_d1 = df[filt]\n",
    "df_d1.head(2)"
   ]
  },
  {
   "cell_type": "code",
   "execution_count": 12,
   "metadata": {
    "scrolled": true
   },
   "outputs": [],
   "source": [
    "# A more complex filter\n",
    "filt = ((df['Postal_Code']=='Dublin 8') | (df['Postal_Code']=='Dublin 6')) & (df['num_price'] <= 1000000)\n",
    "df_compare = df.loc[filt, ['Postal_Code', 'Price','num_price']]"
   ]
  },
  {
   "cell_type": "code",
   "execution_count": null,
   "metadata": {},
   "outputs": [],
   "source": [
    "df_compare"
   ]
  },
  {
   "cell_type": "markdown",
   "metadata": {},
   "source": [
    "## Step 7: Graphical Analysis\n",
    "The following use the Seaborn and MatPlotlib libraries to graph our data"
   ]
  },
  {
   "cell_type": "code",
   "execution_count": 13,
   "metadata": {},
   "outputs": [
    {
     "data": {
      "image/png": "[encoded data removed]",
      "text/plain": [
       "<Figure size 360x432 with 1 Axes>"
      ]
     },
     "metadata": {},
     "output_type": "display_data"
    }
   ],
   "source": [
    "sns.set_style(\"whitegrid\")\n",
    "plt.figure(figsize=(5,6))\n",
    "sns.boxplot( y=df_compare[\"num_price\"] )\n",
    "plt.title(\"Dublin 8\")\n",
    "plt.ylabel(\"House Prices Euro\") \n",
    "plt.tight_layout()\n",
    "plt.show()"
   ]
  },
  {
   "cell_type": "code",
   "execution_count": 14,
   "metadata": {},
   "outputs": [
    {
     "data": {
      "text/plain": [
       "<matplotlib.axes._subplots.AxesSubplot at 0x7fae2b7115d0>"
      ]
     },
     "execution_count": 14,
     "metadata": {},
     "output_type": "execute_result"
    },
    {
     "data": {
      "image/png": "[encoded data removed]",
      "text/plain": [
       "<Figure size 432x576 with 1 Axes>"
      ]
     },
     "metadata": {},
     "output_type": "display_data"
    }
   ],
   "source": [
    "plt.figure(figsize=(6,8))\n",
    "sns.boxplot( x=df_compare[\"Postal_Code\"], y=df_compare[\"num_price\"], palette=\"Blues\", width=0.3)"
   ]
  },
  {
   "cell_type": "code",
   "execution_count": 15,
   "metadata": {
    "scrolled": true
   },
   "outputs": [
    {
     "data": {
      "image/png": "[encoded data removed]",
      "text/plain": [
       "<Figure size 576x504 with 1 Axes>"
      ]
     },
     "metadata": {},
     "output_type": "display_data"
    }
   ],
   "source": [
    "# Horizontal Plot\n",
    "plt.figure(figsize=(8,7))\n",
    "# Plotting two colums\n",
    "ax=sns.boxplot( x=df_compare[\"num_price\"], y=df_compare[\"Postal_Code\"], palette=\"Blues\", width=0.3)\n",
    "\n",
    "# Setting tic marks on x columne\n",
    "ax.xaxis.set_major_locator(ticker.MultipleLocator(500000))\n"
   ]
  },
  {
   "cell_type": "code",
   "execution_count": 16,
   "metadata": {},
   "outputs": [],
   "source": [
    "# Save the figure\n",
    "ax.figure.savefig('dublin6_8.png')"
   ]
  },
  {
   "cell_type": "code",
   "execution_count": 17,
   "metadata": {
    "scrolled": true
   },
   "outputs": [
    {
     "data": {
      "text/plain": [
       "[Text(0.5, 0, '')]"
      ]
     },
     "execution_count": 17,
     "metadata": {},
     "output_type": "execute_result"
    },
    {
     "data": {
      "image/png": "[encoded data removed]",
      "text/plain": [
       "<Figure size 842.4x667.44 with 2 Axes>"
      ]
     },
     "metadata": {},
     "output_type": "display_data"
    }
   ],
   "source": [
    "# Size in Inches\n",
    "a4_dims = (11.7, 9.27)\n",
    "\n",
    "\n",
    "# Cut the window in 2 parts\n",
    "f, (ax_box, ax_hist) = plt.subplots(2, sharex=True,figsize=a4_dims, gridspec_kw={\"height_ratios\": (.15, .85)})\n",
    " \n",
    "# Add a graph in each part\n",
    "x= sns.boxplot(df_compare[\"num_price\"], ax=ax_box)\n",
    "sns.distplot(df_compare[\"num_price\"], ax=ax_hist)\n",
    "\n",
    "# Remove x axis name for the boxplot\n",
    "ax_box.set(xlabel='')\n"
   ]
  },
  {
   "cell_type": "markdown",
   "metadata": {},
   "source": [
    "## Step 8: Saving your notebook\n",
    "- If you have changed your data you can save the data to a CSV\n",
    "- you can save your charts as a png/jpg etc.\n",
    "- You can save your Jupyter Notebook as an HTML file or a PDF.\n"
   ]
  },
  {
   "cell_type": "code",
   "execution_count": null,
   "metadata": {
    "scrolled": false
   },
   "outputs": [],
   "source": [
    "# Save the figure\n",
    "f.savefig('VarianceAnalysis.png')"
   ]
  },
  {
   "cell_type": "markdown",
   "metadata": {},
   "source": [
    "Thank You!                                                                           version 1.0 (Morgan McKnight)"
   ]
  },
  {
   "cell_type": "markdown",
   "metadata": {},
   "source": [
    "### PS: Fascinating  analysis of the complexity of buying a house in Dublin. \n",
    "The following is a link to a Data Scientist's Python Program to help him/her buy a house in Dublin.<br>\n",
    "[Go to Buying a House in Dublin](https://towardsdatascience.com/the-perks-of-data-science-how-i-found-my-new-home-in-dublin-5ff84fc97ec4)\n",
    "\n",
    "[Dashboard](https://datastudio.google.com/u/0/reporting/ba7e1b93-8d6e-420c-8230-58bd5dba9157/page/4omWB?s=qKDxt8i2ezE)"
   ]
  },
  {
   "cell_type": "code",
   "execution_count": null,
   "metadata": {},
   "outputs": [],
   "source": []
  }
 ],
 "metadata": {
  "hide_input": false,
  "kernelspec": {
   "display_name": "Python 3",
   "language": "python",
   "name": "python3"
  },
  "language_info": {
   "codemirror_mode": {
    "name": "ipython",
    "version": 3
   },
   "file_extension": ".py",
   "mimetype": "text/x-python",
   "name": "python",
   "nbconvert_exporter": "python",
   "pygments_lexer": "ipython3",
   "version": "3.7.6"
  },
  "toc": {
   "base_numbering": 1,
   "nav_menu": {},
   "number_sections": true,
   "sideBar": true,
   "skip_h1_title": false,
   "title_cell": "Table of Contents",
   "title_sidebar": "Contents",
   "toc_cell": false,
   "toc_position": {
    "height": "calc(100% - 180px)",
    "left": "10px",
    "top": "150px",
    "width": "274.188px"
   },
   "toc_section_display": true,
   "toc_window_display": false
  }
 },
 "nbformat": 4,
 "nbformat_minor": 4
}
