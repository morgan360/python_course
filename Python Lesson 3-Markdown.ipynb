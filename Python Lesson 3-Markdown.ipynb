{
 "cells": [
  {
   "cell_type": "markdown",
   "metadata": {},
   "source": [
    "Lesson 3~ version 1.3 (Morgan McKnight)"
   ]
  },
  {
   "cell_type": "markdown",
   "metadata": {},
   "source": [
    "# Markdown Cells\n",
    "Text can be added to Jupyter Notebooks using Markdown cells. You can change the cell type to Markdown by using the Cell menu, the toolbar, or the key shortcut m. Markdown is a popular markup language that is a superset of HTML. Its specification can be found here:<br>\n",
    "<img src=\"images/markdown.png\" alt=\"Drawing\" style=\"height: 300px; align:center;\"/>\n",
    "<br>\n",
    "\n",
    "Follow this link for a cheat sheet:\n",
    "https://daringfireball.net/projects/markdown/"
   ]
  },
  {
   "cell_type": "markdown",
   "metadata": {},
   "source": [
    "# Heading 1\n",
    "## Headig 2\n",
    "### Heading 3"
   ]
  },
  {
   "cell_type": "markdown",
   "metadata": {},
   "source": [
    "# Monday"
   ]
  },
  {
   "cell_type": "markdown",
   "metadata": {},
   "source": [
    "\n",
    "\n",
    "### Headings\n",
    "\n",
    "You can add headings by starting a line with one (or multiple) # followed by a space, as in the following example:\n",
    "\n",
    "# Heading 1\n",
    "## Heading 2\n",
    "### Heading 3\n",
    "\n",
    "---\n"
   ]
  },
  {
   "cell_type": "markdown",
   "metadata": {
    "heading_collapsed": true
   },
   "source": [
    "## Ordered Lists and Bullets\n",
    "\n",
    "You can use HTML tags in Markdown such as ordered List \\<ol>\\</ol>. To create an ordered list you use theses tags\\<ol>\\</ol> on the outside of the list. and \\<li>\\</li>. Note when using HTML tags they *usually* come in pairs to show the beginning and end of a command. \n",
    "\n",
    "<ol>\n",
    "<li>list item 1</li>\n",
    "<li>list item 2</li>\n",
    "<li>list item 3</li>    \n",
    "</ol>\n",
    "\n",
    "Bulleted lists are simpler\n",
    "You can produce bullets with the **-** character\n",
    "\n",
    "- Bullet 1\n",
    "- Bullet 2\n",
    "- Bullet 3\n",
    "\n",
    "---\n",
    "\n"
   ]
  },
  {
   "cell_type": "markdown",
   "metadata": {},
   "source": [
    "## URL Links\n",
    "Create simple links by wrapping square brackets around the link text and round brackets around the URL:<br>\n",
    "\n",
    "[Taxes](http://revenue.ie)\n",
    "\n",
    "\n",
    "---"
   ]
  },
  {
   "cell_type": "markdown",
   "metadata": {},
   "source": [
    "## Colours\n",
    "<font color = red>Red</font>\n",
    "#### <font color = green>Green Heading 4</font>\n",
    "#### <font color = yellow>Yellow Heading 4</font>\n",
    "---\n",
    "// vbnbv"
   ]
  },
  {
   "cell_type": "markdown",
   "metadata": {},
   "source": [
    "## Blockquotes\n",
    "\n",
    "\n",
    "Produce an blockquote using the block quote tags **\\<\\\\blockquote><\\/blockquote>**\n",
    "\n",
    "\n",
    "<blockquote>To create computer programs or build data science algorithms, you need to know how to use a programming language. Computer programs rely on data and logic to make their magic happen, and that requires a programmer - you - to tell the computer what to do and how. But how do you actually write programs? Where do you start?</blockquote>\n",
    "\n",
    "---"
   ]
  },
  {
   "cell_type": "markdown",
   "metadata": {
    "heading_collapsed": true
   },
   "source": [
    "## Emphasis\n",
    "\n",
    "Use an single * astric for *italic* and double astric ** for **bold**. \n",
    "\n",
    "\n",
    "\n",
    "\n"
   ]
  },
  {
   "cell_type": "markdown",
   "metadata": {},
   "source": [
    "## Images\n",
    "\n",
    "Use HTML tags for images:\n",
    "```html\n",
    "\n",
    "<img src=\"peggy.jpg\" width=\"200\">\n",
    "\n",
    "```\n",
    "\n",
    "<img src=\"peggy.jpg\" width=\"200\" align = \"right\">\n",
    "\n",
    "\n"
   ]
  },
  {
   "cell_type": "markdown",
   "metadata": {},
   "source": [
    "## Code\n",
    "\n",
    "Use three back ticks ` to put a codeblock into Markdown. Specify the language.\n",
    "```python\n",
    "var a = {}\n",
    "```\n",
    "\n",
    "\n",
    "\n",
    "\n",
    "```html\n",
    "<h2>Example of code</h2>\n",
    "\n",
    "<pre>\n",
    "    <div class=\"container\">\n",
    "        <div class=\"block two first\">\n",
    "            <h2>Your title</h2>\n",
    "            <div class=\"wrap\">\n",
    "            //Your content\n",
    "            </div>\n",
    "        </div>\n",
    "    </div>\n",
    "</pre>\n",
    "```"
   ]
  },
  {
   "cell_type": "markdown",
   "metadata": {},
   "source": []
  },
  {
   "cell_type": "markdown",
   "metadata": {},
   "source": [
    "# SAQ 1.1\n",
    "Using Markdown please produce the folowing CV."
   ]
  },
  {
   "cell_type": "markdown",
   "metadata": {},
   "source": [
    "<center style=\"font-size:30px\" > CV Morgan McKnight</center>\n",
    " \n",
    "*12 Beeckfield Ave,* \n",
    "\n",
    "*Walkinstown,*\n",
    "\n",
    "*Dublin 12* \n",
    "\n",
    "\n",
    "**Phone: 085 1742218**\n",
    "\n",
    "---\n",
    "\n",
    "<p style=\"font-size:20px\" > <font color = green>Career</font></p>\n",
    " <br>\n",
    "\n",
    "     \n",
    "   <blockquote>I started off as the manager of Insomnia. I was fired when the managing director found me asleep at my desk.</blockquote>\n",
    "    \n",
    "   <blockquote>To create computer programs or build data science algorithms, you need to know how to use a programming language. Computer programs rely on data and logic to make their magic happen, and that requires a programmer - you - to tell the computer what to do and how. But how do you actually write programs? Where do you start?</blockquote>\n",
    "\n",
    "---\n",
    "\n",
    "\n",
    "<img src=\"images/passport.jpeg\" width=\"200\" align= \"left\" >"
   ]
  },
  {
   "cell_type": "code",
   "execution_count": null,
   "metadata": {},
   "outputs": [],
   "source": []
  }
 ],
 "metadata": {
  "hide_input": false,
  "kernelspec": {
   "display_name": "Python 3",
   "language": "python",
   "name": "python3"
  },
  "language_info": {
   "codemirror_mode": {
    "name": "ipython",
    "version": 3
   },
   "file_extension": ".py",
   "mimetype": "text/x-python",
   "name": "python",
   "nbconvert_exporter": "python",
   "pygments_lexer": "ipython3",
   "version": "3.7.6"
  },
  "toc": {
   "base_numbering": 1,
   "nav_menu": {},
   "number_sections": true,
   "sideBar": true,
   "skip_h1_title": false,
   "title_cell": "Table of Contents",
   "title_sidebar": "Contents",
   "toc_cell": false,
   "toc_position": {},
   "toc_section_display": true,
   "toc_window_display": false
  }
 },
 "nbformat": 4,
 "nbformat_minor": 4
}
