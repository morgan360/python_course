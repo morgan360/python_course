{
 "cells": [
  {
   "cell_type": "markdown",
   "metadata": {},
   "source": [
    "version 1.1"
   ]
  },
  {
   "cell_type": "markdown",
   "metadata": {},
   "source": [
    "# Blackjack OOP"
   ]
  },
  {
   "cell_type": "markdown",
   "metadata": {},
   "source": [
    "We will begin by defining the classes that will be used in order to separate out different aspects of the game of blackjack. We will model three of the components of the game:\n",
    "\n",
    "**Card:** A basic playing card. The card belongs to a suit (hearts ♥, diamonds ♦, spades ♠, or clubs ♣) and is worth a certain value.<br>\n",
    "**Deck:** A collection of cards. The deck shrinks as cards are drawn and contains 52 unique cards.<br>\n",
    "**Hand:** Each player's assigned cards. A hand is what defines each player's score and thus who wins.\n",
    "\n",
    "'''\n",
    "Completed Blackjack program. Source Next Tech sandbox can be found at https://next.tech/projects/94217701d98d/share.\n",
    "'''"
   ]
  },
  {
   "cell_type": "markdown",
   "metadata": {},
   "source": [
    "## Get Started"
   ]
  },
  {
   "cell_type": "markdown",
   "metadata": {},
   "source": [
    "## Create the Card Class"
   ]
  },
  {
   "cell_type": "code",
   "execution_count": 5,
   "metadata": {},
   "outputs": [],
   "source": [
    "import random # for shuffling\n",
    "\n",
    "class Card:\n",
    "    def __init__(self, suit, value):\n",
    "        self.suit = suit\n",
    "        self.value = value\n",
    "# Print out in this format when printing card object\n",
    "    def __repr__(self):\n",
    "        return \" of \".join((self.value, self.suit))\n",
    "    def __str__(self):\n",
    "        return \" of \".join((self.value, self.suit))"
   ]
  },
  {
   "cell_type": "code",
   "execution_count": 6,
   "metadata": {},
   "outputs": [],
   "source": [
    "my_card = Card('diamonds', '2')"
   ]
  },
  {
   "cell_type": "code",
   "execution_count": 7,
   "metadata": {},
   "outputs": [
    {
     "name": "stdout",
     "output_type": "stream",
     "text": [
      "2 of diamonds\n"
     ]
    }
   ],
   "source": [
    "print(my_card)"
   ]
  },
  {
   "cell_type": "markdown",
   "metadata": {},
   "source": [
    "## Create the Deck of Cards"
   ]
  },
  {
   "cell_type": "markdown",
   "metadata": {},
   "source": [
    "We achieve this by using a list comprehension containing lists of every suit and value. We pass each combination over to the initialization for our Card class to create 52 unique Card instances. The Deck will need to be able to be shuffled so that every game is different. We use the shuffle function in the random library to do this for us . To avoid any potential errors, we will only shuffle a deck which still has two or more cards in it, since shuffling one or zero cards is pointless."
   ]
  },
  {
   "cell_type": "code",
   "execution_count": 8,
   "metadata": {},
   "outputs": [],
   "source": [
    "class Deck:\n",
    "    # First create a list comprehension containing lists of every suit and value\n",
    "    def __init__(self):\n",
    "        self.cards = [Card(s, v) for s in [\"Spades\", \"Clubs\", \"Hearts\",\n",
    "                      \"Diamonds\"] for v in [\"A\", \"2\", \"3\", \"4\", \"5\", \"6\", \n",
    "                      \"7\", \"8\", \"9\", \"10\", \"J\", \"Q\", \"K\"]]\n",
    "\n",
    "    def shuffle(self):\n",
    "        # Check if deck has more than one card\n",
    "        if len(self.cards) > 1:\n",
    "            random.shuffle(self.cards)\n",
    "\n",
    "    def deal(self):\n",
    "        if len(self.cards) > 1:\n",
    "            return self.cards.pop(0)"
   ]
  },
  {
   "cell_type": "code",
   "execution_count": 9,
   "metadata": {},
   "outputs": [
    {
     "name": "stdout",
     "output_type": "stream",
     "text": [
      "10 of Hearts\n"
     ]
    }
   ],
   "source": [
    "deck2 = Deck()\n",
    "deck2.shuffle()\n",
    "my_card = deck2.deal()\n",
    "# print card instant using the card Class __str__.\n",
    "print(my_card)"
   ]
  },
  {
   "cell_type": "markdown",
   "metadata": {},
   "source": [
    "## Create the Hand Class\n",
    "A Hand class will need to contain cards just like the Deck class does. It will also be assigned a value by the rules of the game based on which cards it contains. Since the dealer's hand should only display one card, we also keep track of whether the Hand belongs to the dealer to accommodate this rule.\n",
    "-- If the card's value is numerical, we add its value to the value of this hand (self.value).\n",
    "-- If it is not numerical, we check to see whether the card is an ace. If it is, we add 11 to the hand's value and set the has_ace flag to True.\n",
    "-- If it is not an ace, we simply add 10 to the value of the hand."
   ]
  },
  {
   "cell_type": "code",
   "execution_count": 10,
   "metadata": {},
   "outputs": [],
   "source": [
    "class Hand:\n",
    "    def __init__(self, dealer=False):\n",
    "        self.dealer = dealer # check if this is dealer hand or player (dealer = 'True')\n",
    "        self.cards = []\n",
    "        self.value = 0\n",
    "\n",
    "    def add_card(self, card): # When we call this method we send a card\n",
    "        self.cards.append(card)\n",
    "\n",
    "    def calculate_value(self): # We need to calculate the value of each hand\n",
    "        self.value = 0\n",
    "        has_ace = False\n",
    "        for card in self.cards: # check all cards in hand\n",
    "            if card.value.isnumeric():\n",
    "                self.value += int(card.value)\n",
    "            else:               # non numeric  \n",
    "                if card.value == \"A\":\n",
    "                    has_ace = True\n",
    "                    self.value += 11\n",
    "                else:\n",
    "                    self.value += 10\n",
    "                    \n",
    "        # Check to see of the Ace brings the hand value above 21 if it does then set to 1 (-10)\n",
    "        if has_ace and self.value > 21: \n",
    "            self.value -= 10\n",
    "\n",
    "    def get_value(self):\n",
    "        self.calculate_value()\n",
    "        return self.value\n",
    "\n",
    "    def display(self):\n",
    "        if self.dealer: # If dealer value = True\n",
    "            print(\"hidden\") # Hide first card\n",
    "            print(self.cards[1]) #Show second card\n",
    "        else:\n",
    "            for card in self.cards:\n",
    "                print(card)\n",
    "            print(\"Value:\", self.get_value()) #Get value of two cards\n"
   ]
  },
  {
   "cell_type": "code",
   "execution_count": 11,
   "metadata": {
    "scrolled": false
   },
   "outputs": [
    {
     "name": "stdout",
     "output_type": "stream",
     "text": [
      "A of Clubs\n",
      "10 of Diamonds\n",
      "Value: 21\n",
      "None\n",
      "K of Hearts\n",
      "Value: 10\n",
      "None\n"
     ]
    }
   ],
   "source": [
    "my_deck = Deck()\n",
    "my_deck.shuffle()\n",
    "my_hand = Hand()\n",
    "dealer_hand = Hand()\n",
    "#Now we add a card to the hand using the add_card() method. uaing as a  parameter the my_deck.deal() method.\n",
    "my_hand.add_card(my_deck.deal())\n",
    "my_hand.add_card(my_deck.deal())\n",
    "\n",
    "\n",
    "dealer_hand.add_card(my_deck.deal())\n",
    "\n",
    "# Call the display method, which also calculates the hand value\n",
    "print(my_hand.display())\n",
    "print(dealer_hand.display())"
   ]
  },
  {
   "cell_type": "code",
   "execution_count": null,
   "metadata": {},
   "outputs": [],
   "source": []
  },
  {
   "cell_type": "markdown",
   "metadata": {},
   "source": [
    "## Create the Game Class\n",
    "We will define the game's main loop within its play method, so that to start a game, you will simply need to create an instance of the Game class and call .play() method:"
   ]
  },
  {
   "cell_type": "code",
   "execution_count": 26,
   "metadata": {},
   "outputs": [],
   "source": [
    "# The game itself is only a loop. No initilasation.\n",
    "class Game:\n",
    "    def __init__(self):\n",
    "        pass\n",
    "\n",
    "    def play(self):\n",
    "        playing = True\n",
    "        # while the playing boolien value is set to True (keep playing)\n",
    "        while playing:\n",
    "            self.deck = Deck() # Create a deck\n",
    "            self.deck.shuffle() # call the shuffle method\n",
    "\n",
    "            self.player_hand = Hand()   # Create a hand for the player\n",
    "            self.dealer_hand = Hand(dealer=True) # Create a hand for the dealer\n",
    "\n",
    "            for i in range(2): #two cards to each hand\n",
    "                self.player_hand.add_card(self.deck.deal())\n",
    "                self.dealer_hand.add_card(self.deck.deal())\n",
    "\n",
    "            print(\"Your hand is:\")\n",
    "            self.player_hand.display()\n",
    "            print()\n",
    "            print(\"Dealer's hand is:\")\n",
    "            self.dealer_hand.display()\n",
    "\n",
    "            #Set this variable\n",
    "            game_over = False\n",
    "\n",
    "            while not game_over:\n",
    "                player_has_blackjack, dealer_has_blackjack = self.check_for_blackjack()\n",
    "                \n",
    "                if player_has_blackjack or dealer_has_blackjack:\n",
    "                    game_over = True\n",
    "                    self.show_blackjack_results(player_has_blackjack, dealer_has_blackjack)\n",
    "                    continue\n",
    "\n",
    "                choice = input(\"Please choose [Hit / Stick] \").lower()\n",
    "                while choice not in [\"h\", \"s\", \"hit\", \"stick\"]: #Checks for all instances\n",
    "                    choice = input(\"Please enter 'hit' or 'stick' (or H/S) \").lower()\n",
    "                    \n",
    "                if choice in ['hit', 'h']: # Deal another hand\n",
    "                    self.player_hand.add_card(self.deck.deal())\n",
    "                    self.player_hand.display()\n",
    "                    if self.player_is_over():\n",
    "                        print(\"You have lost!\")\n",
    "                        game_over = True\n",
    "                        \n",
    "                else: # Player still in game\n",
    "                    player_hand_value = self.player_hand.get_value()\n",
    "                    dealer_hand_value = self.dealer_hand.get_value()\n",
    "\n",
    "                    print(\"Final Results\")\n",
    "                    print(\"Your hand:\", player_hand_value)\n",
    "                    print(\"Dealer's hand:\", dealer_hand_value)\n",
    "\n",
    "                    if player_hand_value > dealer_hand_value:\n",
    "                        print(\"You Win!\")\n",
    "                    elif player_hand_value == dealer_hand_value:\n",
    "                        print(\"Tie!\")\n",
    "                    else:\n",
    "                        print(\"Dealer Wins!\")\n",
    "                    game_over = True\n",
    "            \n",
    "            again = input(\"Play Again? [Y/N] \")\n",
    "            while again.lower() not in [\"y\", \"n\"]:\n",
    "                again = input(\"Please enter Y or N \")\n",
    "            if again.lower() == \"n\":\n",
    "                print(\"Thanks for playing!\")\n",
    "                playing = False\n",
    "            else:\n",
    "                game_over = False\n",
    "\n",
    "    def player_is_over(self):\n",
    "        return self.player_hand.get_value() > 21\n",
    "\n",
    "    def check_for_blackjack(self):\n",
    "        player = False\n",
    "        dealer = False\n",
    "        if self.player_hand.get_value() == 21:\n",
    "            player = True\n",
    "        if self.dealer_hand.get_value() == 21:\n",
    "            dealer = True\n",
    "\n",
    "        return player, dealer\n",
    "\n",
    "    def show_blackjack_results(self, player_has_blackjack, dealer_has_blackjack):\n",
    "        if player_has_blackjack and dealer_has_blackjack:\n",
    "            print(\"Both players have blackjack! Draw!\")\n",
    "\n",
    "        elif player_has_blackjack:\n",
    "            print(\"You have blackjack! You win!\")\n",
    "\n",
    "        elif dealer_has_blackjack:\n",
    "            print(\"Dealer has blackjack! Dealer wins!\")"
   ]
  },
  {
   "cell_type": "code",
   "execution_count": 27,
   "metadata": {},
   "outputs": [
    {
     "name": "stdout",
     "output_type": "stream",
     "text": [
      "Your hand is:\n",
      "8 of Clubs\n",
      "7 of Hearts\n",
      "Value: 15\n",
      "\n",
      "Dealer's hand is:\n",
      "hidden\n",
      "6 of Spades\n",
      "Please choose [Hit / Stick] s\n",
      "Final Results\n",
      "Your hand: 15\n",
      "Dealer's hand: 14\n",
      "You Win!\n",
      "Play Again? [Y/N] y\n",
      "Your hand is:\n",
      "3 of Diamonds\n",
      "K of Hearts\n",
      "Value: 13\n",
      "\n",
      "Dealer's hand is:\n",
      "hidden\n",
      "K of Clubs\n",
      "Please choose [Hit / Stick] h\n",
      "3 of Diamonds\n",
      "K of Hearts\n",
      "7 of Hearts\n",
      "Value: 20\n",
      "Please choose [Hit / Stick] s\n",
      "Final Results\n",
      "Your hand: 20\n",
      "Dealer's hand: 17\n",
      "You Win!\n",
      "Play Again? [Y/N] n\n",
      "Thanks for playing!\n"
     ]
    }
   ],
   "source": [
    "# if __name__ == \"__main__\":\n",
    "g = Game()\n",
    "g.play()"
   ]
  },
  {
   "cell_type": "code",
   "execution_count": null,
   "metadata": {},
   "outputs": [],
   "source": []
  }
 ],
 "metadata": {
  "hide_input": false,
  "kernelspec": {
   "display_name": "Python 3",
   "language": "python",
   "name": "python3"
  },
  "language_info": {
   "codemirror_mode": {
    "name": "ipython",
    "version": 3
   },
   "file_extension": ".py",
   "mimetype": "text/x-python",
   "name": "python",
   "nbconvert_exporter": "python",
   "pygments_lexer": "ipython3",
   "version": "3.7.6"
  },
  "toc": {
   "base_numbering": 1,
   "nav_menu": {},
   "number_sections": true,
   "sideBar": true,
   "skip_h1_title": false,
   "title_cell": "Table of Contents",
   "title_sidebar": "Contents",
   "toc_cell": false,
   "toc_position": {},
   "toc_section_display": true,
   "toc_window_display": false
  }
 },
 "nbformat": 4,
 "nbformat_minor": 4
}
