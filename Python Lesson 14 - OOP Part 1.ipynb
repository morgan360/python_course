{
 "cells": [
  {
   "cell_type": "raw",
   "metadata": {},
   "source": [
    "version 1.1"
   ]
  },
  {
   "cell_type": "markdown",
   "metadata": {},
   "source": [
    "# Python Object Oriented Programming (OOP)"
   ]
  },
  {
   "cell_type": "markdown",
   "metadata": {},
   "source": [
    "## Creating and Instantiating Simple Classes\n",
    "Classes allows us to logically group or data and functions in a way that they can be easily reused and  in a way they can be  expanded upon if necessary.\n",
    "\n",
    "When dealing with Classes we use **attributes** and **methods** instead of the terms data and functions. This is done to distinguish Classes from normal code.\n",
    "\n",
    "**attributes** are values/data associated with a class.\n",
    "**Method** is a function associated with a class.\n",
    "\n"
   ]
  },
  {
   "cell_type": "markdown",
   "metadata": {},
   "source": [
    "## Example of A Class -instance variables\n",
    "\n",
    "A Class can be thought of as a blueprint for creating instances. Take for example we wish to but a structure around our company employee date (We might want a handy way of creating employees and then storing them in a database.)\n",
    "\n",
    "First we create our blueprint. i.e. Class for employees. Our blueprint will define all the data associated with an employee, and also some methods associated with employees (e.g calculating their age from their DOB). When we have defined our blueprint then we can create instances of an employee from the blue print. Each employee will be an instance of the Employee class.\n",
    "### Defining the Class\n",
    "Creating a Class for an employee. \n",
    "Each employee will have attributes e.g. **email age, salary** etc and methods associated with them calculate their age. Creating a class is simple."
   ]
  },
  {
   "cell_type": "code",
   "execution_count": null,
   "metadata": {},
   "outputs": [],
   "source": [
    "#Creating a Class\n",
    "class Employee:\n",
    "    pass # empty"
   ]
  },
  {
   "cell_type": "markdown",
   "metadata": {},
   "source": [
    "A Class is a blueprint for creating instances. E.G. the Employee Class is used to create instances of employees. So each employee is a Instance of the class Employee. There are two types of variables associated with a Class:  **Class variables and Instance variables**."
   ]
  },
  {
   "cell_type": "code",
   "execution_count": null,
   "metadata": {},
   "outputs": [],
   "source": [
    "# Create two instances of the class Employee\n",
    "emp_1 = Employee() # Created instance 1\n",
    "emp_2 = Employee() # Created instance 2"
   ]
  },
  {
   "cell_type": "code",
   "execution_count": null,
   "metadata": {},
   "outputs": [],
   "source": [
    "# Locates at two different memory locations\n",
    "print(emp_1)\n",
    "print(emp_2)"
   ]
  },
  {
   "cell_type": "markdown",
   "metadata": {},
   "source": [
    "## Instance variables \n",
    "Instance variables apply only to that instance of the class."
   ]
  },
  {
   "cell_type": "code",
   "execution_count": null,
   "metadata": {},
   "outputs": [],
   "source": [
    "#Examples of instance variables\n",
    "emp_1.first ='Bert'\n",
    "emp_1.last ='Crady'\n",
    "emp_1.email ='Bert@acme.com'\n"
   ]
  },
  {
   "cell_type": "code",
   "execution_count": null,
   "metadata": {},
   "outputs": [],
   "source": [
    "#Examples of instance variables\n",
    "emp_2.first ='Orla'\n",
    "emp_2.last ='Brady'\n",
    "emp_2.email ='Orla@acme.com'"
   ]
  },
  {
   "cell_type": "code",
   "execution_count": null,
   "metadata": {},
   "outputs": [],
   "source": [
    "print(emp_2.email)\n",
    "print(emp_1.email)"
   ]
  },
  {
   "cell_type": "markdown",
   "metadata": {},
   "source": [
    "## Example of A Class - Init method\n",
    "It would be good if we could create these attributes when we create the employee instance. We do that with the __init__ method.( Initialise) - Other language it is called the constructor."
   ]
  },
  {
   "cell_type": "code",
   "execution_count": 9,
   "metadata": {},
   "outputs": [],
   "source": [
    "class Employee:\n",
    "\n",
    "    #Define the init method\n",
    "    def __init__(self, first, last, pay): # Self refers to the instance and is the first argument.\n",
    "        self.first = first\n",
    "        self.last = last\n",
    "        self.email = first + '.' + last + '@acme.ie'\n",
    "        self.pay = pay"
   ]
  },
  {
   "attachments": {
    "image.png": {
     "image/png": "[encoded data removed]"
    }
   },
   "cell_type": "markdown",
   "metadata": {},
   "source": [
    "The relationship between the class and the instance.\n",
    "![image.png](attachment:image.png)"
   ]
  },
  {
   "cell_type": "code",
   "execution_count": 10,
   "metadata": {},
   "outputs": [],
   "source": [
    "emp_1 = Employee('Colm','Ward',40000)\n",
    "emp_2 = Employee('Fidelma','Grady',60000)\n",
    "emp_3 = Employee('John','Moor',4000)"
   ]
  },
  {
   "cell_type": "code",
   "execution_count": 11,
   "metadata": {
    "scrolled": true
   },
   "outputs": [
    {
     "name": "stdout",
     "output_type": "stream",
     "text": [
      "Fidelma\n",
      "John.Moor@acme.ie\n"
     ]
    }
   ],
   "source": [
    "print(emp_2.first)\n",
    "print(emp_3.email)"
   ]
  },
  {
   "cell_type": "code",
   "execution_count": 12,
   "metadata": {},
   "outputs": [
    {
     "name": "stdout",
     "output_type": "stream",
     "text": [
      "Fidelma Grady\n"
     ]
    }
   ],
   "source": [
    "# Something we might want to do very often is to print full name.\n",
    "print('{} {}'. format(emp_2.first, emp_2.last))"
   ]
  },
  {
   "cell_type": "markdown",
   "metadata": {},
   "source": [
    "## Example of A Class - Create a method for the Class"
   ]
  },
  {
   "cell_type": "code",
   "execution_count": 13,
   "metadata": {},
   "outputs": [],
   "source": [
    "class Employee:\n",
    "\n",
    "    def __init__(self, first, last, pay):\n",
    "        self.first = first\n",
    "        self.last = last\n",
    "        self.email = first + '.' + last + '@acme.ie'\n",
    "        self.pay = pay\n",
    "\n",
    "    def fullname(self): # Definition of method. Self refers to the instance that calls the method\n",
    "        return '{} {}'.format(self.first, self.last) # {} placeholders\n"
   ]
  },
  {
   "cell_type": "code",
   "execution_count": 14,
   "metadata": {},
   "outputs": [],
   "source": [
    "emp_1 = Employee('Colm','Ward',40000)\n",
    "emp_2 = Employee('Fidelma','Grady',60000)"
   ]
  },
  {
   "cell_type": "code",
   "execution_count": 15,
   "metadata": {},
   "outputs": [
    {
     "name": "stdout",
     "output_type": "stream",
     "text": [
      "Fidelma\n",
      "Colm Ward\n"
     ]
    }
   ],
   "source": [
    "# Outputting attributes and calling a method.\n",
    "print(emp_2.first)\n",
    "print(emp_1.fullname())"
   ]
  },
  {
   "cell_type": "markdown",
   "metadata": {},
   "source": [
    "**Note** self is the instance (the actual employee) if we leave self out of the definition of the method then it will not know what data you are referring to. (run above without the self in the method definition and it says it is missing one argument, which is self."
   ]
  },
  {
   "cell_type": "code",
   "execution_count": 17,
   "metadata": {},
   "outputs": [
    {
     "name": "stdout",
     "output_type": "stream",
     "text": [
      "Colm Ward\n",
      "Colm Ward\n"
     ]
    }
   ],
   "source": [
    "#These are the same but when we use the class we must pass in the instance.\n",
    "fn1 = emp_1.fullname()\n",
    "fn2 = Employee.fullname(emp_1)\n",
    "\n",
    "print(fn1)\n",
    "print(fn2)"
   ]
  },
  {
   "cell_type": "code",
   "execution_count": null,
   "metadata": {},
   "outputs": [],
   "source": [
    "fn1 = emp_1.fullname()\n",
    "print(fn1)"
   ]
  },
  {
   "cell_type": "code",
   "execution_count": null,
   "metadata": {},
   "outputs": [],
   "source": [
    "fn2 = Employee.fullname(emp_1)\n",
    "print(fn2)"
   ]
  },
  {
   "cell_type": "markdown",
   "metadata": {},
   "source": [
    "## SAQ1 - Rectangles\n",
    "Create class Rectangle which has attributes length and width. Create two methods: one for calculating area of rectangle and another to calculate the perimeter of rectangle. Area is calculated by multiplying length by width. Perimeter is 2 times of (length + width).\n"
   ]
  },
  {
   "cell_type": "code",
   "execution_count": 18,
   "metadata": {},
   "outputs": [],
   "source": [
    "# Put Your Answer Here\n",
    "class Rectangle:\n",
    "    def __init__(self,lenght, width):\n",
    "        self.lenght = lenght\n",
    "        self.width = width\n"
   ]
  },
  {
   "cell_type": "code",
   "execution_count": 19,
   "metadata": {},
   "outputs": [],
   "source": [
    "rect_1 = Rectangle(5,5)"
   ]
  },
  {
   "cell_type": "code",
   "execution_count": 20,
   "metadata": {},
   "outputs": [
    {
     "name": "stdout",
     "output_type": "stream",
     "text": [
      "5\n"
     ]
    }
   ],
   "source": [
    "print(rect_1.lenght)"
   ]
  },
  {
   "cell_type": "markdown",
   "metadata": {},
   "source": [
    "## Class Variables\n",
    "Instance variables are unique to each instance, Class variables apply to all instances of a class. Example **Annual Raise**"
   ]
  },
  {
   "cell_type": "code",
   "execution_count": null,
   "metadata": {},
   "outputs": [],
   "source": [
    "# From above\n",
    "class Employee:\n",
    "\n",
    "   # Instance variables\n",
    "    def __init__(self, first, last, pay):\n",
    "        self.first = first\n",
    "        self.last = last\n",
    "        self.email = first + '.' + last + '@acme.ie'\n",
    "        self.pay = pay\n",
    "    \n",
    "    # fullname method \n",
    "    def fullname(self): # Definition of method. Self refers to the instance that calls the method\n",
    "        return '{} {}'.format(self.first, self.last) # {} placeholders"
   ]
  },
  {
   "cell_type": "markdown",
   "metadata": {},
   "source": [
    "First get the annual raise using a Method."
   ]
  },
  {
   "cell_type": "code",
   "execution_count": 21,
   "metadata": {},
   "outputs": [],
   "source": [
    "# Adding the raise method\n",
    "class Employee:\n",
    " \n",
    "    def __init__(self, first, last, pay):\n",
    "        self.first = first\n",
    "        self.last = last\n",
    "        self.email = first + '.' + last + '@acme.ie'\n",
    "        self.pay = pay\n",
    "\n",
    "    # fullname method   \n",
    "    def fullname(self): # Definition of method. Self refers to the instance that calls the method\n",
    "        return '{} {}'.format(self.first, self.last) # {} placeholders\n",
    "    # Raise method\n",
    "    def apply_raise(self):\n",
    "        self.pay = int(self.pay*1.04)  #Changes the Pay instance variable"
   ]
  },
  {
   "cell_type": "code",
   "execution_count": 22,
   "metadata": {},
   "outputs": [],
   "source": [
    "#Create the employees\n",
    "emp_1 = Employee('Colm','Ward',40000)\n",
    "emp_2 = Employee('Fidelma','Grady',60000)"
   ]
  },
  {
   "cell_type": "code",
   "execution_count": 23,
   "metadata": {},
   "outputs": [
    {
     "name": "stdout",
     "output_type": "stream",
     "text": [
      "40000\n"
     ]
    }
   ],
   "source": [
    "print(emp_1.pay)"
   ]
  },
  {
   "cell_type": "code",
   "execution_count": 24,
   "metadata": {},
   "outputs": [],
   "source": [
    "emp_1.apply_raise()"
   ]
  },
  {
   "cell_type": "code",
   "execution_count": 25,
   "metadata": {},
   "outputs": [
    {
     "name": "stdout",
     "output_type": "stream",
     "text": [
      "41600\n"
     ]
    }
   ],
   "source": [
    "print(emp_1.pay)"
   ]
  },
  {
   "cell_type": "code",
   "execution_count": 26,
   "metadata": {},
   "outputs": [
    {
     "name": "stdout",
     "output_type": "stream",
     "text": [
      "60000\n"
     ]
    }
   ],
   "source": [
    "print(emp_2.pay)"
   ]
  },
  {
   "cell_type": "markdown",
   "metadata": {},
   "source": [
    "**Note:** Using a method hides the actual raise amount and it is not easy to change the raise amount. A better way of approaching this would be to add a Class variable"
   ]
  },
  {
   "cell_type": "code",
   "execution_count": 30,
   "metadata": {},
   "outputs": [],
   "source": [
    "# Adding the raise method(2)\n",
    "class Employee:\n",
    "    raise_amount = 1.04 # Class Variable\n",
    "    def __init__(self, first, last, pay):\n",
    "        self.first = first\n",
    "        self.last = last\n",
    "        self.email = first + '.' + last + '@acme.ie'\n",
    "        self.pay = pay\n",
    "    # fullname method   \n",
    "    def fullname(self): # Definition of method. Self refers to the instance that calls the method\n",
    "        return '{} {}'.format(self.first, self.last) # {} placeholders\n",
    "    \n",
    "    # Raise method\n",
    "    def apply_raise(self):\n",
    "        # self.pay = int(self.pay*Employee.raise_amount)  #You might think that raise_amount would be sufficent\n",
    "        self.pay = int(self.pay*self.raise_amount)  #You can also use self.raise amount"
   ]
  },
  {
   "cell_type": "markdown",
   "metadata": {},
   "source": [
    "**Note:** When you use the self raise amount the Class will check to see if there is a instance variable called raise_amount before checking if there is a class variable raise_amount. This is usefull if you want to change the raise amount for an individual employee. If the instance variable is not there then it will check for the class variable."
   ]
  },
  {
   "cell_type": "code",
   "execution_count": 31,
   "metadata": {},
   "outputs": [],
   "source": [
    "#Create the employees\n",
    "emp_1 = Employee('Colm','Ward',40000)\n",
    "emp_2 = Employee('Fidelma','Grady',60000)"
   ]
  },
  {
   "cell_type": "code",
   "execution_count": 32,
   "metadata": {},
   "outputs": [
    {
     "name": "stdout",
     "output_type": "stream",
     "text": [
      "41600\n"
     ]
    }
   ],
   "source": [
    "emp_1.apply_raise()\n",
    "print(emp_1.pay)"
   ]
  },
  {
   "cell_type": "code",
   "execution_count": 33,
   "metadata": {},
   "outputs": [
    {
     "name": "stdout",
     "output_type": "stream",
     "text": [
      "1.04\n"
     ]
    }
   ],
   "source": [
    "print(Employee.raise_amount)"
   ]
  },
  {
   "cell_type": "code",
   "execution_count": 34,
   "metadata": {},
   "outputs": [
    {
     "name": "stdout",
     "output_type": "stream",
     "text": [
      "{'first': 'Fidelma', 'last': 'Grady', 'email': 'Fidelma.Grady@acme.ie', 'pay': 60000}\n"
     ]
    }
   ],
   "source": [
    "print(emp_2.__dict__)"
   ]
  },
  {
   "cell_type": "code",
   "execution_count": 35,
   "metadata": {},
   "outputs": [
    {
     "name": "stdout",
     "output_type": "stream",
     "text": [
      "{'__module__': '__main__', 'raise_amount': 1.04, '__init__': <function Employee.__init__ at 0x7fe62f84f5f0>, 'fullname': <function Employee.fullname at 0x7fe62f84f680>, 'apply_raise': <function Employee.apply_raise at 0x7fe62f84f710>, '__dict__': <attribute '__dict__' of 'Employee' objects>, '__weakref__': <attribute '__weakref__' of 'Employee' objects>, '__doc__': None}\n"
     ]
    }
   ],
   "source": [
    "print(Employee.__dict__)"
   ]
  },
  {
   "cell_type": "code",
   "execution_count": 36,
   "metadata": {},
   "outputs": [],
   "source": [
    "emp_2.raise_amount = 1.09"
   ]
  },
  {
   "cell_type": "code",
   "execution_count": 39,
   "metadata": {
    "scrolled": true
   },
   "outputs": [
    {
     "name": "stdout",
     "output_type": "stream",
     "text": [
      "1.04\n",
      "1.04\n",
      "1.09\n"
     ]
    }
   ],
   "source": [
    "print(Employee.raise_amount)\n",
    "print(emp_1.raise_amount)\n",
    "print(emp_2.raise_amount)"
   ]
  },
  {
   "cell_type": "code",
   "execution_count": 38,
   "metadata": {},
   "outputs": [
    {
     "name": "stdout",
     "output_type": "stream",
     "text": [
      "{'first': 'Colm', 'last': 'Ward', 'email': 'Colm.Ward@acme.ie', 'pay': 41600}\n"
     ]
    }
   ],
   "source": [
    "print(emp_1.__dict__)"
   ]
  },
  {
   "cell_type": "code",
   "execution_count": null,
   "metadata": {},
   "outputs": [],
   "source": [
    "print(Employee.__dict__)"
   ]
  },
  {
   "cell_type": "markdown",
   "metadata": {},
   "source": [
    "**Now:** If now we change the class definition so that we use the self.raise_amount in the apply_raise Method then we can set a different raise for employee 2. **Note:** Using self also allows sub-classes to override the raise_amount variable.\n",
    "\n"
   ]
  },
  {
   "cell_type": "code",
   "execution_count": 40,
   "metadata": {},
   "outputs": [
    {
     "name": "stdout",
     "output_type": "stream",
     "text": [
      "65400\n"
     ]
    }
   ],
   "source": [
    "emp_2.apply_raise()\n",
    "print(emp_2.pay)"
   ]
  },
  {
   "cell_type": "markdown",
   "metadata": {},
   "source": [
    "## Class variable independant of any instances"
   ]
  },
  {
   "cell_type": "code",
   "execution_count": 42,
   "metadata": {},
   "outputs": [],
   "source": [
    "# Adding the raise method(2)\n",
    "class Employee:\n",
    "    num_of_emp = 0\n",
    "    raise_amount = 1.04\n",
    "    def __init__(self, first, last, pay):\n",
    "        self.first = first\n",
    "        self.last = last\n",
    "        self.email = first + '.' + last + '@acme.ie'\n",
    "        self.pay = pay\n",
    "        #Every time you create an instance increase the  num_of_emp by 1.\n",
    "        Employee.num_of_emp += 1\n",
    "    # fullname method   \n",
    "    def fullname(self): # Definition of method. Self refers to the instance that calls the method\n",
    "        return '{} {}'.format(self.first, self.last) # {} placeholders\n",
    "    # Raise method\n",
    "    def apply_raise(self):\n",
    "        #self.pay = int(self.pay*Employee.raise_amount)  #You might think that raise_amount would be sufficent\n",
    "        self.pay = int(self.pay*self.raise_amount)  #You can also use self.raise amount"
   ]
  },
  {
   "cell_type": "code",
   "execution_count": 43,
   "metadata": {},
   "outputs": [
    {
     "name": "stdout",
     "output_type": "stream",
     "text": [
      "0\n"
     ]
    }
   ],
   "source": [
    "print(Employee.num_of_emp)"
   ]
  },
  {
   "cell_type": "code",
   "execution_count": 44,
   "metadata": {},
   "outputs": [],
   "source": [
    "#Create the employees\n",
    "emp_1 = Employee('Colm','Ward',40000)\n",
    "emp_2 = Employee('Fidelma','Grady',60000)"
   ]
  },
  {
   "cell_type": "code",
   "execution_count": 47,
   "metadata": {},
   "outputs": [
    {
     "name": "stdout",
     "output_type": "stream",
     "text": [
      "3\n"
     ]
    }
   ],
   "source": [
    "print(Employee.num_of_emp)"
   ]
  },
  {
   "cell_type": "code",
   "execution_count": 46,
   "metadata": {},
   "outputs": [],
   "source": [
    "emp_3 = Employee('Fred','Grady',60000)"
   ]
  },
  {
   "cell_type": "markdown",
   "metadata": {},
   "source": [
    "## SAQ 2 - Players\n",
    "Write a Python class named Sports Players with attributes: firstname, lastname, sport, dob, height in centimeters.\n",
    "with two methods which will compute the fullname of the player and the age of the player. \n",
    "\n",
    "Assign a class variable that holds the average height of the players."
   ]
  },
  {
   "cell_type": "markdown",
   "metadata": {},
   "source": [
    "Hint\n",
    "```python \n",
    "    def calculateAge(self):\n",
    "        days_in_year = 365.2425\n",
    "        age = int(((datetime.date.today() - self.dob).days)/days_in_year)\n",
    "        return age \n",
    "```  \n",
    "hint 2\n",
    "```python\n",
    "import datetime\n",
    "d1 = datetime.date(1980, 11, 4)\n",
    "ply_1 = Players('Morgan','Freeman', 'Rugby',117, d1 )\n",
    "d2 = datetime.date(2000, 11, 4)\n",
    "ply_2 = Players('Tiny','Tim', 'Tennis',127, d2 )\n",
    "```"
   ]
  },
  {
   "cell_type": "code",
   "execution_count": 55,
   "metadata": {},
   "outputs": [],
   "source": [
    "\n",
    "class Players:\n",
    "    num_players = 0\n",
    "    total_height =0\n",
    "    avg_height = 0\n",
    "    \n",
    "    def __init__(self, first, last, sport, height, dob):\n",
    "        self.first = first\n",
    "        self.last = last\n",
    "        self.email = first + '.' + last + '@acme.ie'\n",
    "        self.sport = sport\n",
    "        self.height = height\n",
    "        self.dob = dob\n",
    "        Players.num_players += 1\n",
    "        Players.total_height += self.height\n",
    "        Players.avg_height = Players.total_height/Players.num_players\n",
    "    \n",
    "    # fullname method   \n",
    "    def fullname(self): # Definition of method. Self refers to the instance that calls the method\n",
    "        return '{} {}'.format(self.first, self.last) # {} placeholders\n",
    "    \n",
    "    # Method to calculate age\n",
    "    def calculateAge(self):\n",
    "        days_in_year = 365.2425\n",
    "        age = int(((datetime.date.today() - self.dob).days)/days_in_year)\n",
    "        return age "
   ]
  },
  {
   "cell_type": "code",
   "execution_count": 56,
   "metadata": {},
   "outputs": [],
   "source": [
    "import datetime\n",
    "d1 = datetime.date(1980, 11, 4)\n",
    "ply_1 = Players('Morgan','Freeman', 'Rugby',117, d1 )\n",
    "d2 = datetime.date(2000, 11, 4)\n",
    "ply_2 = Players('Tiny','Tim', 'Tennis',127, d2 )"
   ]
  },
  {
   "cell_type": "code",
   "execution_count": 57,
   "metadata": {},
   "outputs": [
    {
     "data": {
      "text/plain": [
       "19"
      ]
     },
     "execution_count": 57,
     "metadata": {},
     "output_type": "execute_result"
    }
   ],
   "source": [
    "ply_2.calculateAge()"
   ]
  },
  {
   "cell_type": "code",
   "execution_count": 59,
   "metadata": {},
   "outputs": [
    {
     "name": "stdout",
     "output_type": "stream",
     "text": [
      "2\n",
      "244\n",
      "122.0\n"
     ]
    }
   ],
   "source": [
    "print(Players.num_players)\n",
    "print(Players.total_height)\n",
    "print(Players.avg_height)"
   ]
  },
  {
   "cell_type": "code",
   "execution_count": 60,
   "metadata": {},
   "outputs": [],
   "source": [
    "d3 = datetime.date(2009, 11, 4)\n",
    "ply_2 = Players('Larry','Lobster', 'Tennis',137, d3 )"
   ]
  },
  {
   "cell_type": "code",
   "execution_count": 61,
   "metadata": {},
   "outputs": [
    {
     "name": "stdout",
     "output_type": "stream",
     "text": [
      "3\n",
      "381\n",
      "127.0\n"
     ]
    }
   ],
   "source": [
    "print(Players.num_players)\n",
    "print(Players.total_height)\n",
    "print(Players.avg_height)"
   ]
  },
  {
   "cell_type": "code",
   "execution_count": null,
   "metadata": {},
   "outputs": [],
   "source": []
  },
  {
   "cell_type": "code",
   "execution_count": null,
   "metadata": {},
   "outputs": [],
   "source": []
  },
  {
   "cell_type": "code",
   "execution_count": null,
   "metadata": {},
   "outputs": [],
   "source": []
  },
  {
   "cell_type": "code",
   "execution_count": null,
   "metadata": {},
   "outputs": [],
   "source": []
  },
  {
   "cell_type": "code",
   "execution_count": null,
   "metadata": {},
   "outputs": [],
   "source": []
  }
 ],
 "metadata": {
  "hide_input": false,
  "kernelspec": {
   "display_name": "Python 3",
   "language": "python",
   "name": "python3"
  },
  "language_info": {
   "codemirror_mode": {
    "name": "ipython",
    "version": 3
   },
   "file_extension": ".py",
   "mimetype": "text/x-python",
   "name": "python",
   "nbconvert_exporter": "python",
   "pygments_lexer": "ipython3",
   "version": "3.7.6"
  },
  "toc": {
   "base_numbering": 1,
   "nav_menu": {},
   "number_sections": true,
   "sideBar": true,
   "skip_h1_title": false,
   "title_cell": "Table of Contents",
   "title_sidebar": "Contents",
   "toc_cell": false,
   "toc_position": {},
   "toc_section_display": true,
   "toc_window_display": false
  }
 },
 "nbformat": 4,
 "nbformat_minor": 4
}
