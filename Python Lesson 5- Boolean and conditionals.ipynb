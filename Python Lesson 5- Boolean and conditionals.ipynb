{
 "cells": [
  {
   "cell_type": "markdown",
   "metadata": {},
   "source": [
    "version 2.0"
   ]
  },
  {
   "cell_type": "markdown",
   "metadata": {},
   "source": [
    "# Booleans and Conditionals\n",
    "\n",
    "![Booleans](images/Boolean-Operators-in-Python.png)<br>\n",
    "\n",
    "\n",
    "\n",
    "\n",
    "\n",
    "The Python comparison operators are:\n",
    "\n",
    "<table style=\"border:1px solid black\" align =\"left\">\n",
    "    <thead>\n",
    "            <th>Operator</th>\n",
    "            <th>Description</th>\n",
    "    </thead>\n",
    "    <tbody>\n",
    "        <tr>\n",
    "            <td>==</td>\n",
    "            <td>equal to</td>\n",
    "        </tr>\n",
    "        <tr>\n",
    "            <td>!= </td>\n",
    "            <td>not equal</td>\n",
    "        </tr>\n",
    "        <tr>\n",
    "            <td> > </td>\n",
    "            <td>greater than</td>\n",
    "        </tr>\n",
    "        <tr>\n",
    "            <td> < </td>\n",
    "            <td>less than</td>\n",
    "        </tr>\n",
    "        <tr>\n",
    "            <td>>=</td>\n",
    "            <td>greater than or equal to</td>\n",
    "        </tr>\n",
    "        <tr>\n",
    "            <td><= </td>\n",
    "            <td>less than or equal to</td>\n",
    "        </tr>\n",
    "    </tbody>\n",
    "</table>\n",
    "<br CLEAR=left>"
   ]
  },
  {
   "cell_type": "markdown",
   "metadata": {},
   "source": [
    "## Booleans \n",
    "<blockquote>T'tis true,\n",
    "'tis true 'tis pity,\n",
    "And pity 'tis, 'tis true.<br>\n",
    "— Hamlet,”</blockquote> \n",
    "\n",
    "<img src=\"images/boolean.jpeg\" alt=\"Boolean Truth\">\n"
   ]
  },
  {
   "cell_type": "code",
   "execution_count": 4,
   "metadata": {},
   "outputs": [
    {
     "name": "stdout",
     "output_type": "stream",
     "text": [
      "True\n"
     ]
    }
   ],
   "source": [
    "# Is it True or False 1 or 0\n",
    "#y = False\n",
    "y = 3\n",
    "x = 4\n",
    "is_it = bool(y!=x)\n",
    "print(is_it)"
   ]
  },
  {
   "cell_type": "markdown",
   "metadata": {},
   "source": [
    "## If Statment\n",
    "<blockquote>\"If you can keep your head when all about you   \n",
    "    Are losing theirs and blaming it on you...\" </blockquote>\n",
    "    \n",
    " <img src=\"images/if.webp\" alt=\"If\" width = \"500px\">\n",
    "   "
   ]
  },
  {
   "cell_type": "code",
   "execution_count": 6,
   "metadata": {},
   "outputs": [
    {
     "name": "stdout",
     "output_type": "stream",
     "text": [
      "hello\n"
     ]
    }
   ],
   "source": [
    "if False:\n",
    "    print(\"Tis true. Tis true, ’tis pity, And pity ’tis ’tis true\")\n",
    "print(\"hello\")"
   ]
  },
  {
   "cell_type": "code",
   "execution_count": 7,
   "metadata": {},
   "outputs": [
    {
     "name": "stdout",
     "output_type": "stream",
     "text": [
      "hello\n"
     ]
    }
   ],
   "source": [
    "if False:\n",
    "    print(\"Tis true. Tis true, ’tis pity, And pity ’tis ’tis true\")\n",
    "print(\"hello\")"
   ]
  },
  {
   "cell_type": "code",
   "execution_count": 9,
   "metadata": {},
   "outputs": [
    {
     "name": "stdout",
     "output_type": "stream",
     "text": [
      "No\n"
     ]
    }
   ],
   "source": [
    "colour = 'pink'\n",
    "if colour == 'red':\n",
    "    print('Red')\n",
    "    print ('yes')\n",
    "print('No')"
   ]
  },
  {
   "cell_type": "code",
   "execution_count": 11,
   "metadata": {},
   "outputs": [
    {
     "name": "stdout",
     "output_type": "stream",
     "text": [
      "Not Red\n",
      "Continue\n"
     ]
    }
   ],
   "source": [
    "# if else statment\n",
    "colour = 'blue'\n",
    "if colour == 'red':\n",
    "    print('Red')\n",
    "else:\n",
    "     print('Not Red')\n",
    "# main program        \n",
    "print(\"Continue\")"
   ]
  },
  {
   "cell_type": "code",
   "execution_count": 15,
   "metadata": {},
   "outputs": [
    {
     "name": "stdout",
     "output_type": "stream",
     "text": [
      "I am colour blind\n",
      "Continue\n"
     ]
    }
   ],
   "source": [
    "# if, elif, else statments\n",
    "colour = 'Black'\n",
    "\n",
    "if colour == 'red':\n",
    "    print('It is Red')\n",
    "elif colour == 'blue':\n",
    "    print('It is blue') \n",
    "elif colour == 'yellow':\n",
    "    print('It is yellow')   \n",
    "else:          # if all elifs fail\n",
    "     print(\"I am colour blind\")\n",
    "        \n",
    "# main program        \n",
    "print(\"Continue\")"
   ]
  },
  {
   "cell_type": "markdown",
   "metadata": {},
   "source": [
    "## Range\n",
    "Used when you want to go through a loop a certain number of times"
   ]
  },
  {
   "cell_type": "code",
   "execution_count": 16,
   "metadata": {
    "scrolled": true
   },
   "outputs": [
    {
     "name": "stdout",
     "output_type": "stream",
     "text": [
      "0\n",
      "1\n",
      "2\n",
      "3\n",
      "4\n",
      "5\n",
      "6\n",
      "7\n",
      "8\n",
      "9\n"
     ]
    }
   ],
   "source": [
    "for num in range(10):\n",
    "    print(num)"
   ]
  },
  {
   "cell_type": "code",
   "execution_count": 23,
   "metadata": {},
   "outputs": [
    {
     "name": "stdout",
     "output_type": "stream",
     "text": [
      "2-4-6-8-10-12-14-16-18-20-22-24-26-28-"
     ]
    }
   ],
   "source": [
    "# Printing inclusive range\n",
    "start = 2\n",
    "stop  = 30 \n",
    "step  = 2\n",
    "#stop += 1 #now stop is 6\n",
    "\n",
    "for i in range(start, stop, step):\n",
    "    print(i, end='-')"
   ]
  },
  {
   "cell_type": "code",
   "execution_count": 25,
   "metadata": {},
   "outputs": [
    {
     "name": "stdout",
     "output_type": "stream",
     "text": [
      "2, 4, 6, 8, 10, "
     ]
    }
   ],
   "source": [
    "# Printing inclusive range\n",
    "start = 2\n",
    "stop  = 10 \n",
    "step  = 2\n",
    "#stop += step #now stop is 12\n",
    "\n",
    "for i in range(start, stop, step):\n",
    "    print(i, end=', ')"
   ]
  },
  {
   "cell_type": "code",
   "execution_count": 27,
   "metadata": {},
   "outputs": [
    {
     "name": "stdout",
     "output_type": "stream",
     "text": [
      "Negative number range\n",
      "-2, -1, 0, 1, 2, 3, 4, 5, 6, 7, 8, 9, "
     ]
    }
   ],
   "source": [
    "start = -2\n",
    "stop = 10\n",
    "step = 1\n",
    "print(\"Negative number range\")\n",
    "for number in range(start, stop, step):\n",
    "    print(number, end=', ')"
   ]
  },
  {
   "cell_type": "code",
   "execution_count": null,
   "metadata": {},
   "outputs": [],
   "source": [
    "# printing range from negative to positive\n",
    "for num in range(-2, 5, 1):\n",
    "    print(num, end=\", \")"
   ]
  },
  {
   "cell_type": "code",
   "execution_count": 28,
   "metadata": {},
   "outputs": [
    {
     "name": "stdout",
     "output_type": "stream",
     "text": [
      "Converting python range() to list\n",
      "printing list [2, 4, 6, 8, 10, 12, 14, 16, 18, 20, 22]\n"
     ]
    }
   ],
   "source": [
    "print(\"Converting python range() to list\")\n",
    "even_list = list( range(2, 24, 2))\n",
    "print(\"printing list\", even_list)"
   ]
  },
  {
   "cell_type": "markdown",
   "metadata": {},
   "source": [
    "## SAQ 1 - Good and Bad Days\n",
    "Create a list of Days of the week, and two empty lists weekday = [] and weekend = []. Pop and allocate each element in the **Days of the week** list and add it to the appropriate list:  weekday or on the weekend.\n",
    "Arrange the days in natural order.\n",
    "```Python\n",
    "['Mon', 'Tue', 'Wed', 'Thu', 'Fri']\n",
    "['Sat', 'Sun ']\n",
    "\n",
    "```\n",
    "**Hint:** use range () function"
   ]
  },
  {
   "cell_type": "code",
   "execution_count": 30,
   "metadata": {},
   "outputs": [
    {
     "name": "stdout",
     "output_type": "stream",
     "text": [
      "['Fri', 'Thu', 'Wed', 'Tue', 'Mon']\n",
      "['Sun', 'Sat']\n"
     ]
    }
   ],
   "source": [
    "# Add your answer here\n",
    "days = ['Mon', 'Tue', 'Wed', 'Thu', 'Fri', 'Sat', 'Sun'] \n",
    "weekdays = [] \n",
    "weekend = []\n",
    "for i in range(7):\n",
    "    day = days.pop()\n",
    "    if day == 'Sat':\n",
    "        weekend.append(day)\n",
    "    elif day == 'Sun':\n",
    "        weekend.append(day)\n",
    "    else: \n",
    "        weekdays.append(day) \n",
    "             \n",
    "print(weekdays)\n",
    "print(weekend) "
   ]
  },
  {
   "cell_type": "markdown",
   "metadata": {},
   "source": [
    "## Using Logical Operators in your if statement\n",
    "\n",
    "The Python logical operators are:\n",
    "\n",
    "<table style=\"border:1px solid black\" align =\"left\">\n",
    "    <thead>\n",
    "            <th>Operator</th>\n",
    "            <th>Description</th>\n",
    "    </thead>\n",
    "    <tbody>\n",
    "        <tr>\n",
    "            <td>and</td>\n",
    "            <td>Returns True if both statements are True</td>\n",
    "        </tr>\n",
    "        <tr>\n",
    "            <td>or</td>\n",
    "            <td>Returns True if one of the statements is True</td>\n",
    "        </tr>\n",
    "        <tr>\n",
    "            <td> not </td>\n",
    "            <td>Reverse the result, returns False if the result is True</td>\n",
    "        </tr>\n",
    "    </tbody>\n",
    "</table>\n",
    "<br CLEAR=left>\n"
   ]
  },
  {
   "cell_type": "code",
   "execution_count": 34,
   "metadata": {},
   "outputs": [
    {
     "name": "stdout",
     "output_type": "stream",
     "text": [
      "Take the day off!\n"
     ]
    }
   ],
   "source": [
    "# Checking for two conditions\n",
    "today = 'Friday'\n",
    "weather = 'raining'\n",
    "\n",
    "if today == 'Friday' and weather == 'raining':\n",
    "    print('Take the day off!')\n",
    "else:\n",
    "    print('keep working')\n"
   ]
  },
  {
   "cell_type": "code",
   "execution_count": null,
   "metadata": {},
   "outputs": [],
   "source": [
    "# Checking for two conditions with more options\n",
    "today = 'Friday'\n",
    "weather = 'raining'\n",
    "\n",
    "if today == 'Friday' and weather == 'sunny':\n",
    "    print('Take the day off!')\n",
    "elif today == 'Friday' and weather == 'raining':\n",
    "     print('Work until 6pm!')\n",
    "else:\n",
    "    print('Keep up the good work')"
   ]
  },
  {
   "cell_type": "markdown",
   "metadata": {},
   "source": [
    "## SAQ 2 - Acording to my Calculations\n",
    "Create a simple calculator that that takes in two values x and y and an operator (Multiplication '*\" or \"+\")\n",
    "and carries out the relevant calculation and prints the results.\n",
    "\n",
    "For example if the user puts in the values 3, 4 and the * sign the result will be  12."
   ]
  },
  {
   "cell_type": "code",
   "execution_count": 37,
   "metadata": {
    "scrolled": true
   },
   "outputs": [
    {
     "name": "stdout",
     "output_type": "stream",
     "text": [
      "input x value5\n",
      "input y value3\n",
      "input operator/\n",
      "1.6666666666666667\n"
     ]
    }
   ],
   "source": [
    "# Put your answer here           '2' int(x) = 2\n",
    "x = input('input x value')\n",
    "y = input('input y value')\n",
    "opr = input('input operator')\n",
    "\n",
    "x = int(x)\n",
    "y = int(y)\n",
    "\n",
    "if (opr == '+'):\n",
    "    z = x+y\n",
    "elif (opr == '*'):\n",
    "    z= x*y\n",
    "elif (opr == '/'):\n",
    "    z= x/y\n",
    "print(z)"
   ]
  },
  {
   "cell_type": "markdown",
   "metadata": {},
   "source": [
    "### What evaluates to False and what evaluates to True\n",
    "<div>\n",
    "<ol>\n",
    "    <li>False</li>\n",
    "    <li>None</li>\n",
    "    <li>Zero of any numeric type</li>\n",
    "    <li>Any empty sequence [ ], ( )</li>\n",
    "    <li>Any empty mapping(dictionary) {}</li>\n",
    "</ol>\n",
    "</div>\n",
    "\n",
    "The **None** keyword is used to define a null value, or no value at all. **None** is not the same as 0, False, or an empty string. None is a datatype of its own (NoneType) and only **None** can be **None**."
   ]
  },
  {
   "cell_type": "code",
   "execution_count": 39,
   "metadata": {},
   "outputs": [
    {
     "name": "stdout",
     "output_type": "stream",
     "text": [
      "False\n"
     ]
    }
   ],
   "source": [
    "condition = False\n",
    "if condition:\n",
    "    print('True')\n",
    "else:\n",
    "    print('False')"
   ]
  },
  {
   "cell_type": "code",
   "execution_count": 40,
   "metadata": {},
   "outputs": [
    {
     "name": "stdout",
     "output_type": "stream",
     "text": [
      "False\n"
     ]
    }
   ],
   "source": [
    "condition = None\n",
    "if condition:\n",
    "    print('True')\n",
    "else:\n",
    "    print('False')"
   ]
  },
  {
   "cell_type": "code",
   "execution_count": 43,
   "metadata": {},
   "outputs": [
    {
     "name": "stdout",
     "output_type": "stream",
     "text": [
      "True\n"
     ]
    }
   ],
   "source": [
    "condition = [1,2]\n",
    "if condition:\n",
    "    print('True')\n",
    "else:\n",
    "    print('False')"
   ]
  },
  {
   "cell_type": "markdown",
   "metadata": {},
   "source": [
    "<b>Note: </b>These conditions are useful to check if there are any values in your data. For example a function may be supposed to return a list of objects. You should check to see if the objects are there."
   ]
  },
  {
   "cell_type": "code",
   "execution_count": null,
   "metadata": {},
   "outputs": [],
   "source": [
    "# Everything else is true\n",
    "condition = 'Something'\n",
    "if condition:\n",
    "    print('True')\n",
    "else:\n",
    "    print('False')"
   ]
  },
  {
   "cell_type": "code",
   "execution_count": null,
   "metadata": {},
   "outputs": [],
   "source": [
    "x = [1]\n",
    "if x:\n",
    "    print('True')    "
   ]
  },
  {
   "cell_type": "markdown",
   "metadata": {},
   "source": [
    "# Loops and Iterations"
   ]
  },
  {
   "cell_type": "markdown",
   "metadata": {},
   "source": [
    "## Simple For Loop"
   ]
  },
  {
   "cell_type": "code",
   "execution_count": 44,
   "metadata": {},
   "outputs": [],
   "source": [
    "nums =[1,2,3,13,5,6]"
   ]
  },
  {
   "cell_type": "code",
   "execution_count": 46,
   "metadata": {},
   "outputs": [
    {
     "name": "stdout",
     "output_type": "stream",
     "text": [
      "1\n",
      "2\n",
      "3\n",
      "13\n",
      "5\n",
      "6\n"
     ]
    }
   ],
   "source": [
    "# Simple For statment\n",
    "for num in nums:\n",
    "    print(num)"
   ]
  },
  {
   "cell_type": "markdown",
   "metadata": {},
   "source": [
    "## Break and Continue"
   ]
  },
  {
   "cell_type": "code",
   "execution_count": 49,
   "metadata": {},
   "outputs": [
    {
     "name": "stdout",
     "output_type": "stream",
     "text": [
      "1\n",
      "2\n",
      "3\n",
      "4\n",
      "13\n",
      "5\n",
      "6\n",
      "end\n"
     ]
    }
   ],
   "source": [
    "# Simple For statment\n",
    "nums =[1,2,3,4,13,5,6]\n",
    "for num in nums:\n",
    "    if(num==7):\n",
    "        break\n",
    "    print(num)\n",
    "print('end')"
   ]
  },
  {
   "cell_type": "code",
   "execution_count": 50,
   "metadata": {},
   "outputs": [
    {
     "name": "stdout",
     "output_type": "stream",
     "text": [
      "1\n",
      "2\n",
      "3\n",
      "found\n",
      "4\n",
      "13\n",
      "5\n",
      "6\n"
     ]
    }
   ],
   "source": [
    "# Simple For statment\n",
    "for num in nums:\n",
    "    if(num==4):\n",
    "        print('found')\n",
    "    print(num)"
   ]
  },
  {
   "cell_type": "markdown",
   "metadata": {},
   "source": [
    "## Inner loops"
   ]
  },
  {
   "cell_type": "code",
   "execution_count": 51,
   "metadata": {},
   "outputs": [
    {
     "name": "stdout",
     "output_type": "stream",
     "text": [
      "Mon\n",
      "Tue\n",
      "Wed\n",
      "Thr\n",
      "Fri\n",
      "Sat\n",
      "Sun\n"
     ]
    }
   ],
   "source": [
    "#Loop 1\n",
    "days = ['Mon', 'Tue', 'Wed', 'Thr', 'Fri', 'Sat', 'Sun']\n",
    "for day in days:\n",
    "    print(day)"
   ]
  },
  {
   "cell_type": "code",
   "execution_count": 52,
   "metadata": {},
   "outputs": [
    {
     "name": "stdout",
     "output_type": "stream",
     "text": [
      "[0, 1, 2, 3]\n"
     ]
    }
   ],
   "source": [
    "hours =[]\n",
    "for h in range(4):\n",
    "    hours.append(h)\n",
    "\n",
    "print(hours)"
   ]
  },
  {
   "cell_type": "code",
   "execution_count": 53,
   "metadata": {},
   "outputs": [
    {
     "name": "stdout",
     "output_type": "stream",
     "text": [
      "['0:00', '1:00', '2:00', '3:00']\n"
     ]
    }
   ],
   "source": [
    "hours =[]\n",
    "for h in range(4):\n",
    "    hours.append(str(h) + ':00')\n",
    "print(hours)"
   ]
  },
  {
   "cell_type": "code",
   "execution_count": 59,
   "metadata": {},
   "outputs": [
    {
     "ename": "SyntaxError",
     "evalue": "f-string: empty expression not allowed (<ipython-input-59-0e486aca46a1>, line 13)",
     "output_type": "error",
     "traceback": [
      "\u001b[0;36m  File \u001b[0;32m\"<ipython-input-59-0e486aca46a1>\"\u001b[0;36m, line \u001b[0;32m13\u001b[0m\n\u001b[0;31m    print(f'{} starting at {}', day,hour)\u001b[0m\n\u001b[0m         ^\u001b[0m\n\u001b[0;31mSyntaxError\u001b[0m\u001b[0;31m:\u001b[0m f-string: empty expression not allowed\n"
     ]
    }
   ],
   "source": [
    "# create our two lists\n",
    "days = ['Mon', 'Tue', 'Wed', 'Thr', 'Fri', 'Sat', 'Sun']\n",
    "hours =[]\n",
    "for h in range(4):\n",
    "    hours.append(str(h) + ':00')\n",
    "\n",
    "# outer Loop    \n",
    "for day in days:\n",
    "    # inner Loop\n",
    "    for hour in hours:\n",
    "        #print(day,hour)\n",
    "        print('{} starting at {}'.format(day,hour))\n",
    "        print(f'{} starting at {}', day,hour) "
   ]
  },
  {
   "cell_type": "code",
   "execution_count": null,
   "metadata": {},
   "outputs": [],
   "source": [
    "for i in range(10):\n",
    "    print(i)"
   ]
  },
  {
   "cell_type": "code",
   "execution_count": null,
   "metadata": {},
   "outputs": [],
   "source": [
    "# Range between indices\n",
    "for i in range(1, 10, 2):\n",
    "    print(i)"
   ]
  },
  {
   "cell_type": "markdown",
   "metadata": {},
   "source": [
    "## While Loops\n",
    "While loops keep running until a condition is met or it meets a break statment."
   ]
  },
  {
   "cell_type": "code",
   "execution_count": null,
   "metadata": {},
   "outputs": [],
   "source": [
    "x = 0\n",
    "while x <= 10:\n",
    "    print(x)\n",
    "    x = x + 2"
   ]
  },
  {
   "cell_type": "code",
   "execution_count": 2,
   "metadata": {},
   "outputs": [
    {
     "name": "stdout",
     "output_type": "stream",
     "text": [
      "0\n",
      "1\n",
      "2\n",
      "3\n",
      "4\n",
      "5\n",
      "6\n"
     ]
    }
   ],
   "source": [
    "x= 0\n",
    "while x <= 10:\n",
    "    if x==7:\n",
    "        break\n",
    "    print(x)\n",
    "    x += 1"
   ]
  },
  {
   "cell_type": "code",
   "execution_count": null,
   "metadata": {},
   "outputs": [],
   "source": [
    "#End Parameter\n",
    "print('morgan', end = '@')"
   ]
  },
  {
   "cell_type": "markdown",
   "metadata": {},
   "source": [
    "## SAQ 3 - Not so Fast\n",
    "Write a loop that omits the letter s from the word \"fasting\".\n"
   ]
  },
  {
   "cell_type": "code",
   "execution_count": null,
   "metadata": {
    "scrolled": true
   },
   "outputs": [],
   "source": [
    "# SAQ 3 not so fast\n"
   ]
  },
  {
   "attachments": {
    "image.png": {
     "image/png": "[encoded data removed]"
    }
   },
   "cell_type": "markdown",
   "metadata": {},
   "source": [
    "## SAQ 4 Loop the Loop\n",
    "Using a loop within a loop print the following:\n",
    "\n",
    "![image.png](attachment:image.png)\n",
    "\n",
    "**Note** Use the following print statment\n",
    "```python\n",
    "print('* ', end=\"\")\n",
    "```\n",
    "\n"
   ]
  },
  {
   "cell_type": "code",
   "execution_count": null,
   "metadata": {},
   "outputs": [],
   "source": [
    "# Put your answer here\n",
    "\n",
    "\n",
    "\n",
    "  "
   ]
  },
  {
   "cell_type": "markdown",
   "metadata": {},
   "source": [
    "**Phew!** <div>\n",
    "<img src=\"images/the_end.png\" alt=\"The End\" width=\"300\" align=\"center\"/></div>"
   ]
  }
 ],
 "metadata": {
  "hide_input": false,
  "kernelspec": {
   "display_name": "Python 3",
   "language": "python",
   "name": "python3"
  },
  "language_info": {
   "codemirror_mode": {
    "name": "ipython",
    "version": 3
   },
   "file_extension": ".py",
   "mimetype": "text/x-python",
   "name": "python",
   "nbconvert_exporter": "python",
   "pygments_lexer": "ipython3",
   "version": "3.7.6"
  },
  "toc": {
   "base_numbering": 1,
   "nav_menu": {},
   "number_sections": true,
   "sideBar": true,
   "skip_h1_title": false,
   "title_cell": "Table of Contents",
   "title_sidebar": "Contents",
   "toc_cell": false,
   "toc_position": {
    "height": "calc(100% - 180px)",
    "left": "10px",
    "top": "150px",
    "width": "165px"
   },
   "toc_section_display": true,
   "toc_window_display": false
  }
 },
 "nbformat": 4,
 "nbformat_minor": 4
}
